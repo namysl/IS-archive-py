{
 "cells": [
  {
   "cell_type": "markdown",
   "id": "4ac3246a",
   "metadata": {},
   "source": [
    "## MATEMATYKA 2021-2022\n",
    "## Programowanie zaawansowane \n",
    "## III rok - licencjat\n",
    "## PRACA domowa 3"
   ]
  },
  {
   "cell_type": "markdown",
   "id": "460d2157",
   "metadata": {},
   "source": [
    "### Zadanie (20)\n",
    "Uwórz słownik polsko - angielski (dowolny). \n",
    "\n",
    "Funkcjonalnośc programu:\n",
    "- dodawanie słów wraz ze sprawdzenien czy takie słowo już jest w słowniku. Jeźeli słowo jest w słowniku wyświetlenie stosownej informacji"
   ]
  },
  {
   "cell_type": "code",
   "execution_count": 15,
   "id": "44f0aac3",
   "metadata": {},
   "outputs": [
    {
     "name": "stdout",
     "output_type": "stream",
     "text": [
      "Dodano słowo koszatniczka\n",
      "Słowo królik już znajduje się w słowniku\n",
      "Słowo koszatniczka już znajduje się w słowniku\n",
      "Dodano słowo stopa\n",
      "Dodano słowo czosnek\n",
      "Dodano słowo jad\n",
      "Dodano słowo pająk\n",
      "{'królik': 'rabbit', 'koszatniczka': 'degu', 'stopa': 'foot', 'czosnek': 'garlic', 'jad': 'venom', 'pająk': 'spider'}\n"
     ]
    }
   ],
   "source": [
    "pol_ang = {\"królik\":\"rabbit\"}\n",
    "\n",
    "def dodaj(slowo_pol, slowo_ang):\n",
    "    if slowo_pol in pol_ang:\n",
    "        print(\"Słowo\", slowo_pol, \"już znajduje się w słowniku\")\n",
    "    else:\n",
    "        pol_ang[slowo_pol] = slowo_ang\n",
    "        print(\"Dodano słowo\", slowo_pol)\n",
    "    \n",
    "dodaj(\"koszatniczka\", \"degu\")\n",
    "dodaj(\"królik\", \"rabbit\")\n",
    "dodaj(\"koszatniczka\", \"degu\")\n",
    "dodaj(\"stopa\", \"foot\")\n",
    "dodaj(\"czosnek\", \"garlic\")\n",
    "dodaj(\"jad\", \"venom\")\n",
    "dodaj(\"pająk\", \"spider\")\n",
    "\n",
    "print(pol_ang)"
   ]
  },
  {
   "cell_type": "markdown",
   "id": "7223fdd5",
   "metadata": {},
   "source": [
    "### Zadanie (10)\n",
    "Utwórz dwie listy.  Pierwsza zawiera 20 nazw miast , druga zawiera wartości int z przedziału [-3,8], Połącz je w słownik - wartości można interpretować jako określające temperaturę.\n",
    "\n",
    "- Wybierz najchłodniejsze miasto (miasta).\n"
   ]
  },
  {
   "cell_type": "code",
   "execution_count": 34,
   "id": "f834e551",
   "metadata": {},
   "outputs": [
    {
     "name": "stdout",
     "output_type": "stream",
     "text": [
      "20\n",
      "20\n",
      "{'Katowice': -2, 'Chorzów': -1, 'Tychy': 3, 'Kalisz': -1, 'Wrocław': -2, 'Bytom': 0, 'Opole': 5, 'Mikołów': 2, 'Gdańsk': 1, 'Poznań': -2, 'Ostrów Wielkopolski': 1, 'Inowrocław': 0, 'Świętochłowice': 6, 'Sandomierz': -1, 'Zakopane': -1, 'Racibórz': 8, 'Gniezno': 0, 'Bielsko-Biała': 4, 'Karpacz': -1, 'Jelenia Góra': 3}\n",
      "20\n",
      "-2\n",
      "Katowice -2\n",
      "Wrocław -2\n",
      "Poznań -2\n"
     ]
    }
   ],
   "source": [
    "miasta = [\"Katowice\", \"Chorzów\", \"Tychy\", \"Kalisz\", \"Wrocław\", \n",
    "          \"Bytom\", \"Opole\", \"Mikołów\", \"Gdańsk\", \"Poznań\", \n",
    "          \"Ostrów Wielkopolski\", \"Inowrocław\", \"Świętochłowice\", \"Sandomierz\", \"Zakopane\",\n",
    "          \"Racibórz\", \"Gniezno\", \"Bielsko-Biała\", \"Karpacz\", \"Jelenia Góra\"]\n",
    "\n",
    "print(len(miasta))\n",
    "\n",
    "temp = [-2, -1, 3, -1, -2, 0, 5, 2, 1, -2, 1, 0, 6, -1, -1, 8, 0, 4, -1, 3]\n",
    "\n",
    "print(len(temp))\n",
    "\n",
    "\n",
    "slownik = {}\n",
    "\n",
    "for i in range(len(miasta)):\n",
    "    slownik[miasta[i]] = temp[i]\n",
    "    \n",
    "print(slownik)\n",
    "print(len(slownik))\n",
    "\n",
    "minimum = temp[i]\n",
    "for i in temp:\n",
    "    if i <= minimum:\n",
    "        minimum = i\n",
    "\n",
    "print(minimum)\n",
    "\n",
    "for i in slownik:  #miasta\n",
    "    if slownik[i] == minimum:  #temp_miasta\n",
    "        print(i, slownik[i])"
   ]
  },
  {
   "cell_type": "markdown",
   "id": "37bdefa8",
   "metadata": {},
   "source": [
    "### Zadanie (10)\n",
    "Napisz funckję rozwiązującą  równanie kwadratowe. Pierwastki zwróc jako słownik."
   ]
  },
  {
   "cell_type": "code",
   "execution_count": 42,
   "id": "2dc5aa7d",
   "metadata": {},
   "outputs": [
    {
     "name": "stdout",
     "output_type": "stream",
     "text": [
      "-4.82842712474619 0.8284271247461903\n",
      "{'x1': -4.82842712474619, 'x2': 0.8284271247461903}\n"
     ]
    }
   ],
   "source": [
    "import math \n",
    "\n",
    "wynik = {}\n",
    "def funkcja_kwadratowa(a, b, c):\n",
    "    delta = b**2 - 4*a*c\n",
    "    \n",
    "    if delta < 0:\n",
    "        print(\"Brak rozwiązań\")\n",
    "    elif delta == 0:\n",
    "        x0 = -b / 2*a\n",
    "        print(x0)\n",
    "        wynik[\"x0\"] = x0\n",
    "    else: #delta > 0\n",
    "        x1 = (-b - math.sqrt(delta))/2*a\n",
    "        x2 = (-b + math.sqrt(delta))/2*a\n",
    "        print(x1, x2)\n",
    "        wynik[\"x1\"] = x1\n",
    "        wynik[\"x2\"] = x2\n",
    "        \n",
    "        \n",
    "funkcja_kwadratowa(1, 4, -4)\n",
    "print(wynik)"
   ]
  },
  {
   "cell_type": "code",
   "execution_count": null,
   "id": "09e8791a",
   "metadata": {},
   "outputs": [],
   "source": []
  }
 ],
 "metadata": {
  "kernelspec": {
   "display_name": "Python 3 (ipykernel)",
   "language": "python",
   "name": "python3"
  },
  "language_info": {
   "codemirror_mode": {
    "name": "ipython",
    "version": 3
   },
   "file_extension": ".py",
   "mimetype": "text/x-python",
   "name": "python",
   "nbconvert_exporter": "python",
   "pygments_lexer": "ipython3",
   "version": "3.9.5"
  }
 },
 "nbformat": 4,
 "nbformat_minor": 5
}
