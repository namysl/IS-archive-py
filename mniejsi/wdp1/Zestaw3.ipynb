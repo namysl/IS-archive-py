{
 "cells": [
  {
   "cell_type": "code",
   "execution_count": 1,
   "metadata": {},
   "outputs": [],
   "source": [
    "# Zadanie 1"
   ]
  },
  {
   "cell_type": "code",
   "execution_count": null,
   "metadata": {},
   "outputs": [
    {
     "name": "stdout",
     "output_type": "stream",
     "text": [
      "Podaj zakres przedziału [a, b]\n"
     ]
    }
   ],
   "source": [
    "print(\"Podaj zakres przedziału [a, b]\")\n",
    "\n",
    "a = int(input(\"a: \"))\n",
    "b = int(input(\"b: \"))\n",
    "\n",
    "for x in range(a, b + 1):\n",
    "    if x % 3 == 0:\n",
    "        print(x)"
   ]
  },
  {
   "cell_type": "code",
   "execution_count": null,
   "metadata": {},
   "outputs": [],
   "source": [
    "# Zadanie 2"
   ]
  },
  {
   "cell_type": "code",
   "execution_count": null,
   "metadata": {},
   "outputs": [],
   "source": [
    "oceny = 0\n",
    "\n",
    "for x in range(5):\n",
    "    q = int(input(\"Podaj ocenę numer {}:  \".format(x+1)))\n",
    "    oceny += q\n",
    "\n",
    "print(\"Średnia ocen: \", oceny/5)"
   ]
  },
  {
   "cell_type": "code",
   "execution_count": null,
   "metadata": {},
   "outputs": [],
   "source": [
    "# Zadanie 3"
   ]
  },
  {
   "cell_type": "code",
   "execution_count": null,
   "metadata": {},
   "outputs": [],
   "source": [
    "oceny = 0\n",
    "ilosc = 0\n",
    "\n",
    "while True:\n",
    "    q = int(input(\"Podaj ocenę numer {}:  \".format(ilosc + 1)))\n",
    "    ilosc += 1\n",
    "    oceny += q\n",
    "    if q == 0:\n",
    "        break\n",
    "        \n",
    "print(\"Średnia ocen: \", oceny/(ilosc - 1))"
   ]
  },
  {
   "cell_type": "code",
   "execution_count": null,
   "metadata": {},
   "outputs": [],
   "source": [
    "# Zadanie 4"
   ]
  },
  {
   "cell_type": "code",
   "execution_count": null,
   "metadata": {},
   "outputs": [],
   "source": [
    "n = int(input(\"Podaj n: \"))\n",
    "\n",
    "k = 0\n",
    "l = 1\n",
    "\n",
    "if n % 2 != 0:\n",
    "    k = 0\n",
    "    l = n\n",
    "    print('k = ', k, 'l = ', l)\n",
    "\n",
    "else:\n",
    "    # potegi dwojek\n",
    "    while 2**k <= n:\n",
    "        k += 1\n",
    "        if (2**k) * l == n:\n",
    "            print('k = ', k, 'l = ', l)\n",
    "            break\n",
    "\n",
    "    \n",
    "    # parzyste niebedace potegami dwojek\n",
    "    zmienna = n\n",
    "    while zmienna % 2 == 0:\n",
    "        zmienna = zmienna / 2\n",
    "\n",
    "    k = 0\n",
    "    \n",
    "    while (2**k) * zmienna <= n:\n",
    "        k += 1\n",
    "        if (2**k) * zmienna == n:\n",
    "            print('k = ', k, 'l = ', zmienna)\n",
    "            break"
   ]
  },
  {
   "cell_type": "code",
   "execution_count": null,
   "metadata": {},
   "outputs": [],
   "source": [
    "# Zadanie 5"
   ]
  },
  {
   "cell_type": "code",
   "execution_count": null,
   "metadata": {},
   "outputs": [],
   "source": [
    "suma = 0\n",
    "i = 0\n",
    "\n",
    "while True:\n",
    "    pln = float(input(\"Produkt {}:  \".format( i + 1)))\n",
    "    if pln <= 0:\n",
    "        break\n",
    "    else:\n",
    "        suma += pln\n",
    "        \n",
    "print(\"Do zapłaty: \", suma)\n",
    "print(\"Kwota, któą płacisz:\")\n",
    "\n",
    "x = float(input())\n",
    "\n",
    "if x >= suma:\n",
    "    reszta = x - suma\n",
    "    print(\"Reszta: \", reszta)\n",
    "\n",
    "else:\n",
    "    print(\"Niewystarczająca kwota.\")"
   ]
  },
  {
   "cell_type": "code",
   "execution_count": null,
   "metadata": {},
   "outputs": [],
   "source": [
    "# Zadanie 6"
   ]
  },
  {
   "cell_type": "code",
   "execution_count": null,
   "metadata": {},
   "outputs": [],
   "source": [
    "napis = \"w pustyni i w puszczy\"\n",
    "\n",
    "# 'W_Pustyni_I_W_Puszczy'\n",
    "\n",
    "napis1 = napis.replace(\" \", \"_\")\n",
    "napis1 = napis1.title()\n",
    "print(napis1)\n",
    "\n",
    "# 'W# #P#U#S#T#Y#N#I# #I# #W# #P#U#S#Z#C#Z#Y’\n",
    "\n",
    "napis2 = \"#\".join(napis)\n",
    "napis2 = napis2.upper()\n",
    "print(napis2)\n",
    "\n",
    "# 'WW pustyni i WW puszczy'\n",
    "\n",
    "napis3 = \"\"\n",
    "\n",
    "for znak in napis:\n",
    "    if znak == \"w\":\n",
    "        napis3 += \"WW\"\n",
    "    else:\n",
    "        napis3 += znak\n",
    "\n",
    "print(napis3)\n",
    "\n",
    "# 'PUSTYNI I W PUSZ'\n",
    "\n",
    "napis4 = napis.upper()\n",
    "napis4 = napis4[2:18]\n",
    "print(napis4)\n",
    "\n",
    "# '!W Puszczy I W Puszczy!W Puszczy I W Puszczy!'\n",
    "\n",
    "napis5 = napis.title()\n",
    "napis5 = napis5[12:] + napis5[9:]\n",
    "napis5 = napis5.join(\"!!!\")\n",
    "print(napis5)"
   ]
  }
 ],
 "metadata": {
  "kernelspec": {
   "display_name": "Python 3",
   "language": "python",
   "name": "python3"
  },
  "language_info": {
   "codemirror_mode": {
    "name": "ipython",
    "version": 3
   },
   "file_extension": ".py",
   "mimetype": "text/x-python",
   "name": "python",
   "nbconvert_exporter": "python",
   "pygments_lexer": "ipython3",
   "version": "3.6.7"
  }
 },
 "nbformat": 4,
 "nbformat_minor": 2
}
