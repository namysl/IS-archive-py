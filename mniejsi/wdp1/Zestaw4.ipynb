{
 "cells": [
  {
   "cell_type": "markdown",
   "metadata": {},
   "source": [
    "We wszystkich zadaniach proszę używać pętli `for` lub `while`."
   ]
  },
  {
   "cell_type": "markdown",
   "metadata": {},
   "source": [
    "#### 1.  \n",
    "Stwórz listę liczb naturalnych z przedziału $[10,25]$."
   ]
  },
  {
   "cell_type": "code",
   "execution_count": 1,
   "metadata": {},
   "outputs": [
    {
     "name": "stdout",
     "output_type": "stream",
     "text": [
      "[10, 11, 12, 13, 14, 15, 16, 17, 18, 19, 20, 21, 22, 23, 24, 25]\n"
     ]
    }
   ],
   "source": [
    "lista1 = []\n",
    "\n",
    "for x in range(10, 26):\n",
    "    lista1.append(x)\n",
    "    \n",
    "print(lista1)"
   ]
  },
  {
   "cell_type": "markdown",
   "metadata": {},
   "source": [
    "#### 2.\n",
    "Stwórz listę liczb parzystych z przedziału $[1,n], n\\in\\mathbb{N}$, $n$ - podaje użytkownik."
   ]
  },
  {
   "cell_type": "code",
   "execution_count": 5,
   "metadata": {},
   "outputs": [
    {
     "name": "stdout",
     "output_type": "stream",
     "text": [
      "Podaj liczbę naturalną n: \n",
      "[2, 4, 6, 8, 10]\n"
     ]
    }
   ],
   "source": [
    "lista2 = []\n",
    "print(\"Podaj liczbę naturalną n: \")\n",
    "n = int(input())\n",
    "\n",
    "for x in range(1, n + 1):\n",
    "    if x % 2 == 0:\n",
    "        lista2.append(x)\n",
    "    else:\n",
    "        continue\n",
    "    \n",
    "print(lista2)"
   ]
  },
  {
   "cell_type": "markdown",
   "metadata": {},
   "source": [
    "#### 3.\n",
    "Stwórz listę liczb naturalnych z przedziału $[1,100]$, następnie wybierz z nich liczby podzielne przez 7 i zapisz je w innej liście."
   ]
  },
  {
   "cell_type": "code",
   "execution_count": 9,
   "metadata": {},
   "outputs": [
    {
     "name": "stdout",
     "output_type": "stream",
     "text": [
      "[1, 2, 3, 4, 5, 6, 7, 8, 9, 10, 11, 12, 13, 14, 15, 16, 17, 18, 19, 20, 21, 22, 23, 24, 25, 26, 27, 28, 29, 30, 31, 32, 33, 34, 35, 36, 37, 38, 39, 40, 41, 42, 43, 44, 45, 46, 47, 48, 49, 50, 51, 52, 53, 54, 55, 56, 57, 58, 59, 60, 61, 62, 63, 64, 65, 66, 67, 68, 69, 70, 71, 72, 73, 74, 75, 76, 77, 78, 79, 80, 81, 82, 83, 84, 85, 86, 87, 88, 89, 90, 91, 92, 93, 94, 95, 96, 97, 98, 99, 100]\n",
      "[7, 14, 21, 28, 35, 42, 49, 56, 63, 70, 77, 84, 91, 98]\n"
     ]
    }
   ],
   "source": [
    "lista3A = []\n",
    "lista3B = []\n",
    "\n",
    "for x in range(1, 101):\n",
    "    lista3A.append(x)\n",
    "    \n",
    "for x in lista3A:\n",
    "    if x % 7 == 0:\n",
    "        lista3B.append(x)\n",
    "    else:\n",
    "        continue\n",
    "            \n",
    "print(lista3A)\n",
    "print(lista3B)"
   ]
  },
  {
   "cell_type": "markdown",
   "metadata": {},
   "source": [
    "#### 4.\n",
    "Dla dowolnej liczby $n\\in\\mathbb{N}$ stwórz listę postaci: $[n,n^2,n^3,n^4,n^5]$, np. dla 2 - `[2,4,8,16,32]`.\n"
   ]
  },
  {
   "cell_type": "code",
   "execution_count": 12,
   "metadata": {},
   "outputs": [
    {
     "name": "stdout",
     "output_type": "stream",
     "text": [
      "Podaj dowolną liczbę naturalną: \n",
      "[3, 9, 27, 81, 243]\n"
     ]
    }
   ],
   "source": [
    "lista4 = []\n",
    "print(\"Podaj dowolną liczbę naturalną: \")\n",
    "n = int(input())\n",
    "\n",
    "for x in range(1, 6):\n",
    "    lista4.append(n**x)\n",
    "    \n",
    "print(lista4)"
   ]
  },
  {
   "cell_type": "markdown",
   "metadata": {},
   "source": [
    "#### 5.\n",
    "Dla napisów mamy metodę `split`, która dzieli je na fragmenty według podanego separatora, np. \",\" czy spacji. Przetestuj poniższe polecenia:"
   ]
  },
  {
   "cell_type": "code",
   "execution_count": 14,
   "metadata": {},
   "outputs": [
    {
     "name": "stdout",
     "output_type": "stream",
     "text": [
      "['Ala ma kota', ' psa', ' rybki']\n",
      "['Al', ' m', ' kot', ', ps', ', rybki']\n"
     ]
    }
   ],
   "source": [
    "napis=\"Ala ma kota, psa, rybki\"\n",
    "N1=napis.split(\",\")\n",
    "N2=napis.split(\"a\")\n",
    "print(N1)\n",
    "print(N2)"
   ]
  },
  {
   "cell_type": "code",
   "execution_count": 11,
   "metadata": {},
   "outputs": [],
   "source": [
    "#przy braku separator - domyślnie jest to spacja\n",
    "N3=napis.split()"
   ]
  },
  {
   "cell_type": "markdown",
   "metadata": {},
   "source": [
    "Korzystając z funkcji `split`, napisz program, w którym obliczysz liczbę wystąpień samogłoski \"a\" w każdym słowie tekstu."
   ]
  },
  {
   "cell_type": "code",
   "execution_count": 23,
   "metadata": {},
   "outputs": [
    {
     "name": "stdout",
     "output_type": "stream",
     "text": [
      "Wpisz tekst: \n",
      "Litera a w slowie Ala wystapila 2 razy\n",
      "Litera a w slowie ma wystapila 1 razy\n",
      "Litera a w slowie kota, wystapila 1 razy\n",
      "Litera a w slowie psa, wystapila 1 razy\n",
      "Litera a w slowie rybki wystapila 0 razy\n"
     ]
    }
   ],
   "source": [
    "print(\"Wpisz tekst: \")\n",
    "tekst = input()\n",
    "\n",
    "lista_slow = tekst.split()\n",
    "\n",
    "#print(slowa_split)\n",
    "\n",
    "ile = []\n",
    "\n",
    "for slowo in lista_slow:\n",
    "    #print(slowo)\n",
    "    temp = 0\n",
    "    for znak in slowo:\n",
    "        #print(znak)\n",
    "        if znak == \"a\" or znak == \"A\":\n",
    "            temp += 1\n",
    "    ile.append(temp)\n",
    "    \n",
    "#print(ile)\n",
    "\n",
    "for x in range(len(lista_slow)):\n",
    "    print(\"Litera a w slowie\", lista_slow[x], \"wystapila\", ile[x], \"razy\")"
   ]
  },
  {
   "cell_type": "markdown",
   "metadata": {},
   "source": [
    "#### 6. \n",
    "Napisz program, w którym policzysz:\n",
    "* sumę elementów 10-elemetntowej listy liczb,\n",
    "* średnią geometryczną elementów tej listy,\n",
    "* średnią arytmetyczną tych elementów.\n",
    "\n",
    "Elementy listy mają być losowymi liczbami z przedziału [1,50]. Użyj modułu `random`."
   ]
  },
  {
   "cell_type": "code",
   "execution_count": 2,
   "metadata": {},
   "outputs": [],
   "source": [
    "import random\n",
    "x=random.randint(40,100) # losowa liczb z domkniętego przedziału [40,100]\n",
    "#print(x)"
   ]
  },
  {
   "cell_type": "code",
   "execution_count": 11,
   "metadata": {},
   "outputs": [
    {
     "name": "stdout",
     "output_type": "stream",
     "text": [
      "[37, 29, 10, 37, 3, 48, 22, 19, 48, 26]\n",
      "suma: 279\n",
      "srednia geometryczna: 22.25642882714906\n",
      "srednia arytmetyczna: 27.9\n"
     ]
    }
   ],
   "source": [
    "lista5 = []\n",
    "\n",
    "for x in range(0, 10):\n",
    "    lista5.append(random.randint(1, 50))\n",
    "\n",
    "print(lista5)\n",
    "\n",
    "suma = 0\n",
    "srednia_geom = 1\n",
    "\n",
    "for x in range(len(lista5)):\n",
    "    suma += lista5[x]\n",
    "    srednia_geom *= lista5[x]\n",
    "    \n",
    "print('suma:', suma)\n",
    "print('srednia geometryczna:', srednia_geom ** (1/len(lista_A)))\n",
    "print('srednia arytmetyczna:', suma/len(lista_A))"
   ]
  },
  {
   "cell_type": "markdown",
   "metadata": {},
   "source": [
    "#### 7.\n",
    "Stwórz 30-elementową listę losowych liczb z przedziału $[1,200]$, następnie usuń z niej wszystkie liczby, które nie są podzielne przez 3."
   ]
  },
  {
   "cell_type": "code",
   "execution_count": 37,
   "metadata": {},
   "outputs": [
    {
     "name": "stdout",
     "output_type": "stream",
     "text": [
      "[39, 123, 126, 21, 189, 54, 111, 27, 162, 96]\n"
     ]
    }
   ],
   "source": [
    "lista6 = []\n",
    "\n",
    "for x in range(30):\n",
    "    lista6.append(random.randint(1, 200))\n",
    "    \n",
    "#print('len:', len(lista6))\n",
    "#print(lista6)\n",
    "\n",
    "lista_pomocnicza = []\n",
    "\n",
    "for x in lista6:\n",
    "    if x % 3 != 0:\n",
    "        lista_pomocnicza.append(x)\n",
    "        \n",
    "#print(lista_pomocnicza)\n",
    "\n",
    "for x in lista_pomocnicza:\n",
    "    lista6.remove(x)\n",
    "    \n",
    "print(lista6)\n"
   ]
  },
  {
   "cell_type": "code",
   "execution_count": null,
   "metadata": {},
   "outputs": [],
   "source": []
  }
 ],
 "metadata": {
  "kernelspec": {
   "display_name": "Python 3",
   "language": "python",
   "name": "python3"
  },
  "language_info": {
   "codemirror_mode": {
    "name": "ipython",
    "version": 3
   },
   "file_extension": ".py",
   "mimetype": "text/x-python",
   "name": "python",
   "nbconvert_exporter": "python",
   "pygments_lexer": "ipython3",
   "version": "3.6.7"
  }
 },
 "nbformat": 4,
 "nbformat_minor": 2
}
