{
 "cells": [
  {
   "cell_type": "code",
   "execution_count": 2,
   "metadata": {},
   "outputs": [
    {
     "name": "stdout",
     "output_type": "stream",
     "text": [
      "sas Hej  da 2 4\n"
     ]
    }
   ],
   "source": [
    "a=\"Hej\"\n",
    "b=2\n",
    "c=4\n",
    "print(\"sas\", a,\" da\",b,c)"
   ]
  },
  {
   "cell_type": "code",
   "execution_count": 4,
   "metadata": {},
   "outputs": [
    {
     "name": "stdout",
     "output_type": "stream",
     "text": [
      "aaa Hej, bb 4 assa\n"
     ]
    }
   ],
   "source": [
    "print(\"aaa {}, bb {} assa\".format(a,c))"
   ]
  },
  {
   "cell_type": "code",
   "execution_count": 6,
   "metadata": {},
   "outputs": [
    {
     "name": "stdout",
     "output_type": "stream",
     "text": [
      "aaa 4, bb Hej assa\n"
     ]
    }
   ],
   "source": [
    "print(\"aaa {1}, bb {0} assa\".format(a,c))"
   ]
  },
  {
   "cell_type": "code",
   "execution_count": 12,
   "metadata": {},
   "outputs": [
    {
     "name": "stdout",
     "output_type": "stream",
     "text": [
      "cztery 4, dwa 2, i jeszcze raz 4 2 hej\n"
     ]
    }
   ],
   "source": [
    "print(\"cztery {0}, dwa {1}, i jeszcze raz {0} {1} {2}\".format(c,b,\"hej\"))"
   ]
  },
  {
   "cell_type": "code",
   "execution_count": 22,
   "metadata": {},
   "outputs": [],
   "source": [
    "x=2**0.5"
   ]
  },
  {
   "cell_type": "code",
   "execution_count": 24,
   "metadata": {},
   "outputs": [
    {
     "name": "stdout",
     "output_type": "stream",
     "text": [
      "pierwiastek: 1.4142135624\n"
     ]
    }
   ],
   "source": [
    "print(\"pierwiastek: {:.10f}\".format(x))"
   ]
  },
  {
   "cell_type": "code",
   "execution_count": 20,
   "metadata": {},
   "outputs": [],
   "source": [
    "#zaokrąglenie\n",
    "round(x,3)"
   ]
  },
  {
   "cell_type": "code",
   "execution_count": 27,
   "metadata": {},
   "outputs": [
    {
     "name": "stdout",
     "output_type": "stream",
     "text": [
      "liczba: 1.230000e+21\n"
     ]
    }
   ],
   "source": [
    "y=1230000000000000000000\n",
    "print(\"liczba: {:e}\".format(y)) #notacja wykladnicza"
   ]
  },
  {
   "cell_type": "code",
   "execution_count": 30,
   "metadata": {},
   "outputs": [
    {
     "name": "stdout",
     "output_type": "stream",
     "text": [
      "liczba: 1111\n"
     ]
    }
   ],
   "source": [
    "z=15\n",
    "print(\"liczba: {:b}\".format(z)) #system binarny"
   ]
  },
  {
   "cell_type": "code",
   "execution_count": 58,
   "metadata": {},
   "outputs": [
    {
     "name": "stdout",
     "output_type": "stream",
     "text": [
      "liczba 17\n"
     ]
    }
   ],
   "source": [
    "print(\"liczba {:o}\".format(z)) # s.ósemkowy"
   ]
  },
  {
   "cell_type": "code",
   "execution_count": 59,
   "metadata": {},
   "outputs": [
    {
     "name": "stdout",
     "output_type": "stream",
     "text": [
      "Kurs dolara wynosi 3.46\n"
     ]
    }
   ],
   "source": [
    "#zaokrąglanie liczb przy formatowaniu\n",
    "print(\"Kurs dolara wynosi {:.2f}\".format(3.45624))"
   ]
  },
  {
   "cell_type": "code",
   "execution_count": 60,
   "metadata": {},
   "outputs": [
    {
     "name": "stdout",
     "output_type": "stream",
     "text": [
      "Kurs dolara wynosi 0023.46\n"
     ]
    }
   ],
   "source": [
    "print(\"Kurs dolara wynosi {:07.2f}\".format(23.45624))"
   ]
  },
  {
   "cell_type": "code",
   "execution_count": 61,
   "metadata": {},
   "outputs": [
    {
     "name": "stdout",
     "output_type": "stream",
     "text": [
      "Cena to 23\n"
     ]
    }
   ],
   "source": [
    "print(\"Cena to {:d}\".format(23))"
   ]
  },
  {
   "cell_type": "code",
   "execution_count": 62,
   "metadata": {},
   "outputs": [
    {
     "name": "stdout",
     "output_type": "stream",
     "text": [
      "Cena to 00023012\n"
     ]
    }
   ],
   "source": [
    "print(\"Cena to {:08d}\".format(23012)) # 5 znaków"
   ]
  },
  {
   "cell_type": "code",
   "execution_count": 63,
   "metadata": {},
   "outputs": [
    {
     "name": "stdout",
     "output_type": "stream",
     "text": [
      "Ala mieszka w Katowicach                     od zawsze.\n"
     ]
    }
   ],
   "source": [
    "print(\"Ala mieszka w {:30} od zawsze.\".format(\"Katowicach\"))"
   ]
  },
  {
   "cell_type": "code",
   "execution_count": 64,
   "metadata": {},
   "outputs": [
    {
     "name": "stdout",
     "output_type": "stream",
     "text": [
      "Ala mieszka w Kato od zawsze.\n"
     ]
    }
   ],
   "source": [
    "print(\"Ala mieszka w {:.4} od zawsze.\".format(\"Katowicach\")) # gdy napis jest długi"
   ]
  },
  {
   "cell_type": "code",
   "execution_count": null,
   "metadata": {},
   "outputs": [],
   "source": []
  },
  {
   "cell_type": "code",
   "execution_count": 43,
   "metadata": {},
   "outputs": [
    {
     "name": "stdout",
     "output_type": "stream",
     "text": [
      "podaj rok ur\n",
      "1986\n",
      "masz 35 lat.\n",
      "jesteś pełnoletni\n",
      "masz przynajmniej 18 l\n",
      "nie jesteś emerytem\n"
     ]
    }
   ],
   "source": [
    "print(\"podaj rok ur\")\n",
    "rok=int(input())\n",
    "wiek=2021-rok\n",
    "print(\"masz {} lat.\".format(wiek))\n",
    "\n",
    "if wiek>=18:\n",
    "    print(\"jesteś pełnoletni\")\n",
    "    print(\"masz przynajmniej 18 l\")\n",
    "    if wiek>=65:\n",
    "        print(\"jestes emerytem\")\n",
    "    #print(\"zawsze\")\n",
    "    else:\n",
    "        print(\"nie jesteś emerytem\")\n",
    "else:\n",
    "    print(\"nie jesteś pełnoletni\")"
   ]
  },
  {
   "cell_type": "code",
   "execution_count": 57,
   "metadata": {},
   "outputs": [
    {
     "name": "stdout",
     "output_type": "stream",
     "text": [
      "dzieli się przez 2\n",
      "dzieli się przez 3\n"
     ]
    }
   ],
   "source": [
    "x=24\n",
    "if x%2==0:\n",
    "    print(\"dzieli się przez 2\")\n",
    "if x%3==0:\n",
    "    print(\"dzieli się przez 3\")"
   ]
  },
  {
   "cell_type": "code",
   "execution_count": 65,
   "metadata": {},
   "outputs": [
    {
     "name": "stdout",
     "output_type": "stream",
     "text": [
      "chodzisz do przedszkola\n"
     ]
    }
   ],
   "source": [
    "w=4\n",
    "if w>=19:\n",
    "    print(\"jesteś studentem\")\n",
    "elif w>=15:\n",
    "    print(\"chodzisz do liceum\")\n",
    "elif w>=7:\n",
    "    print(\"chodzisz do szkoły podstawowej\")\n",
    "else:\n",
    "    print(\"chodzisz do przedszkola\")"
   ]
  },
  {
   "cell_type": "code",
   "execution_count": 71,
   "metadata": {},
   "outputs": [
    {
     "name": "stdout",
     "output_type": "stream",
     "text": [
      "parzysta\n"
     ]
    }
   ],
   "source": [
    "#x>=0 parzysta czy nie\n",
    "#x<0 czy dzieli się przez 3\n",
    "x=-20\n",
    "if (x>=0 or x%2==0) and x%5==0:\n",
    "    print(\"parzysta\")"
   ]
  },
  {
   "cell_type": "code",
   "execution_count": 73,
   "metadata": {},
   "outputs": [
    {
     "name": "stdout",
     "output_type": "stream",
     "text": [
      "13\n"
     ]
    }
   ],
   "source": [
    "a=13\n",
    "b=3\n",
    "if a>b: print(a)"
   ]
  },
  {
   "cell_type": "code",
   "execution_count": 75,
   "metadata": {},
   "outputs": [
    {
     "name": "stdout",
     "output_type": "stream",
     "text": [
      "23\n"
     ]
    }
   ],
   "source": [
    "b=23\n",
    "print(a) if a>b else print(b)"
   ]
  },
  {
   "cell_type": "code",
   "execution_count": 76,
   "metadata": {},
   "outputs": [],
   "source": [
    "#a,b\n",
    "#ax+b=0\n",
    "# x=-b/a\n"
   ]
  },
  {
   "cell_type": "code",
   "execution_count": 84,
   "metadata": {},
   "outputs": [
    {
     "name": "stdout",
     "output_type": "stream",
     "text": [
      "podaj x\n",
      "13\n",
      "nie jest\n",
      "podaj x 2\n",
      "14\n",
      "parzysta\n",
      "podaj x 2\n",
      "130\n",
      "parzysta\n",
      "podaj x 2\n",
      "902\n",
      "parzysta\n",
      "podaj x 2\n",
      "-2\n"
     ]
    }
   ],
   "source": [
    "print(\"podaj x\")\n",
    "x=int(input())\n",
    "while x>=0:\n",
    "    if x%2==0:\n",
    "        print(\"parzysta\")\n",
    "    else:\n",
    "        print(\"nie jest\")\n",
    "    print(\"podaj x 2\")\n",
    "    x=int(input())\n"
   ]
  },
  {
   "cell_type": "code",
   "execution_count": null,
   "metadata": {},
   "outputs": [],
   "source": []
  }
 ],
 "metadata": {
  "kernelspec": {
   "display_name": "Python 3",
   "language": "python",
   "name": "python3"
  },
  "language_info": {
   "codemirror_mode": {
    "name": "ipython",
    "version": 3
   },
   "file_extension": ".py",
   "mimetype": "text/x-python",
   "name": "python",
   "nbconvert_exporter": "python",
   "pygments_lexer": "ipython3",
   "version": "3.6.7"
  }
 },
 "nbformat": 4,
 "nbformat_minor": 2
}
