{
 "cells": [
  {
   "cell_type": "markdown",
   "metadata": {},
   "source": [
    "Podaj wzór na liczbę wierszy i kolumn tablicy kwadratowej używanej do szyfrowania\n",
    "tekstu o długości d znaków i zapisz algorytm wyznaczania tej liczby w języku Python."
   ]
  },
  {
   "cell_type": "code",
   "execution_count": 1,
   "metadata": {},
   "outputs": [
    {
     "name": "stdout",
     "output_type": "stream",
     "text": [
      "(5.0, 5.0)\n",
      "(3.0, 3.0)\n"
     ]
    }
   ],
   "source": [
    "def liczba_wierszy_kolumn(tekst):\n",
    "    d = len(tekst)\n",
    "    \n",
    "    lista = [x**2 for x in range(100)]\n",
    "\n",
    "    for x in range(len(lista)):\n",
    "        if lista[x] < d and lista[x+1] > d:\n",
    "            bok = lista[x+1] ** (1/2)\n",
    "            return bok, bok\n",
    "        else:\n",
    "            continue\n",
    "    \n",
    "\n",
    "print(liczba_wierszy_kolumn('ALGORYTM_PRZESTAWIENIOWY'))\n",
    "print(liczba_wierszy_kolumn('Kamila'))"
   ]
  },
  {
   "cell_type": "markdown",
   "metadata": {},
   "source": [
    "Napisz funkcję, która szyfruje podany tekst wykorzystując szyfr Cezara."
   ]
  },
  {
   "cell_type": "code",
   "execution_count": 5,
   "metadata": {},
   "outputs": [
    {
     "name": "stdout",
     "output_type": "stream",
     "text": [
      "bcbcbd\n"
     ]
    }
   ],
   "source": [
    "def szyfruj(tekst, przesun):\n",
    "    zaszyfrowane = \"\"\n",
    " \n",
    "    for i in range(len(tekst)):\n",
    "        znak = tekst[i]\n",
    " \n",
    "        if (znak.isupper()):\n",
    "            zaszyfrowane += chr((ord(znak) + przesun - 65) % 26 + 65)\n",
    " \n",
    "        else:\n",
    "            zaszyfrowane += chr((ord(znak) + przesun - 97) % 26 + 97)\n",
    " \n",
    "    return zaszyfrowane\n",
    " \n",
    "\n",
    "print(szyfruj('ababac', 1))"
   ]
  }
 ],
 "metadata": {
  "kernelspec": {
   "display_name": "Python 3",
   "language": "python",
   "name": "python3"
  },
  "language_info": {
   "codemirror_mode": {
    "name": "ipython",
    "version": 3
   },
   "file_extension": ".py",
   "mimetype": "text/x-python",
   "name": "python",
   "nbconvert_exporter": "python",
   "pygments_lexer": "ipython3",
   "version": "3.6.7"
  }
 },
 "nbformat": 4,
 "nbformat_minor": 2
}
