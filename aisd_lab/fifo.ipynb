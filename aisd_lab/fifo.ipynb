{
 "cells": [
  {
   "cell_type": "code",
   "execution_count": 16,
   "metadata": {},
   "outputs": [],
   "source": [
    "## 1) Przykład z wykładu (po naszych uzupełnieniach i modyfikacjach)\n",
    "\n",
    "class Queue:\n",
    "    def __init__(self, n):  # zlozonosc O(n)\n",
    "        \"\"\"inicjalizacja\"\"\"\n",
    "        self.items = n * [None]\n",
    "        self.size = n\n",
    "        self.head = 0\n",
    "        self.tail = 0\n",
    "        \n",
    "\n",
    "    def isEmpty(self):  # zlozonosc O(1)\n",
    "        \"\"\"sprawdzenie czy kolejka FIFO jest pusta\"\"\"\n",
    "        return self.head == self.tail\n",
    "    \n",
    "    def isFull(self):\n",
    "        return (self.tail+1)%self.size==self.head\n",
    "    \n",
    "\n",
    "    def enqueue(self, item):  # zlozonosc O(1)\n",
    "        \"\"\"wstawienie elementu do kolejki FIFO\"\"\"\n",
    "        if (self.isFull()):\n",
    "            raise Exception(\"Queue is full\")\n",
    "        self.items[self.tail] = item\n",
    "        if self.tail == self.size - 1:\n",
    "            self.tail = 0\n",
    "        else:\n",
    "            self.tail += 1\n",
    "\n",
    "    def dequeue(self):  # zlozonosc O(1)\n",
    "        \"\"\"usuniecie elementu z kolejki FIFO\"\"\"\n",
    "        if (self.isEmpty()):\n",
    "            raise Exception(\"Queue is Empty\")\n",
    "        x = self.items[self.head]\n",
    "        if self.head == self.size - 1:\n",
    "            self.head = 0\n",
    "        else:\n",
    "            self.head += 1\n",
    "        return x\n",
    "    \n",
    "#     def dequeue(self):  # zlozonosc O(1)\n",
    "#         \"\"\"usuniecie elementu z kolejki FIFO\"\"\"\n",
    "#         # brak sprawdzenia, czy kolejka nie jest pusta!!!\n",
    "#         if self.head == self.size - 1:\n",
    "#             self.head = 0\n",
    "#         else:\n",
    "#             self.head += 1\n",
    "\n",
    "#     def first(self):  # zlozonosc O(1)\n",
    "#         \"\"\"zwrocenie pierwszego elementu z kolejki FIFO\"\"\"\n",
    "#         # brak sprawdzenia, czy kolejka nie jest pusta!!!\n",
    "#         return self.items[self.head]\n",
    "\n",
    "    "
   ]
  },
  {
   "cell_type": "code",
   "execution_count": 15,
   "metadata": {},
   "outputs": [
    {
     "data": {
      "text/plain": [
       "[2, None, None]"
      ]
     },
     "execution_count": 15,
     "metadata": {},
     "output_type": "execute_result"
    }
   ],
   "source": [
    "a=Queue(3)\n",
    "a\n",
    "a.enqueue(2)\n",
    "a.items"
   ]
  },
  {
   "cell_type": "code",
   "execution_count": 16,
   "metadata": {},
   "outputs": [
    {
     "data": {
      "text/plain": [
       "[2, 2, None]"
      ]
     },
     "execution_count": 16,
     "metadata": {},
     "output_type": "execute_result"
    }
   ],
   "source": [
    "a.enqueue(2)\n",
    "a.items"
   ]
  },
  {
   "cell_type": "code",
   "execution_count": 17,
   "metadata": {},
   "outputs": [
    {
     "ename": "Exception",
     "evalue": "Queue is full",
     "output_type": "error",
     "traceback": [
      "\u001b[0;31m---------------------------------------------------------------------------\u001b[0m",
      "\u001b[0;31mException\u001b[0m                                 Traceback (most recent call last)",
      "\u001b[0;32m<ipython-input-17-ecb8fe15fdf0>\u001b[0m in \u001b[0;36m<module>\u001b[0;34m\u001b[0m\n\u001b[0;32m----> 1\u001b[0;31m \u001b[0ma\u001b[0m\u001b[0;34m.\u001b[0m\u001b[0menqueue\u001b[0m\u001b[0;34m(\u001b[0m\u001b[0;36m2\u001b[0m\u001b[0;34m)\u001b[0m\u001b[0;34m\u001b[0m\u001b[0;34m\u001b[0m\u001b[0m\n\u001b[0m\u001b[1;32m      2\u001b[0m \u001b[0ma\u001b[0m\u001b[0;34m.\u001b[0m\u001b[0mitems\u001b[0m\u001b[0;34m\u001b[0m\u001b[0;34m\u001b[0m\u001b[0m\n",
      "\u001b[0;32m<ipython-input-14-467b72466f9b>\u001b[0m in \u001b[0;36menqueue\u001b[0;34m(self, item)\u001b[0m\n\u001b[1;32m     19\u001b[0m         \u001b[0;34m\"\"\"wstawienie elementu do kolejki FIFO\"\"\"\u001b[0m\u001b[0;34m\u001b[0m\u001b[0;34m\u001b[0m\u001b[0m\n\u001b[1;32m     20\u001b[0m         \u001b[0;32mif\u001b[0m \u001b[0;34m(\u001b[0m\u001b[0mself\u001b[0m\u001b[0;34m.\u001b[0m\u001b[0misFull\u001b[0m\u001b[0;34m(\u001b[0m\u001b[0;34m)\u001b[0m\u001b[0;34m)\u001b[0m\u001b[0;34m:\u001b[0m\u001b[0;34m\u001b[0m\u001b[0;34m\u001b[0m\u001b[0m\n\u001b[0;32m---> 21\u001b[0;31m             \u001b[0;32mraise\u001b[0m \u001b[0mException\u001b[0m\u001b[0;34m(\u001b[0m\u001b[0;34m\"Queue is full\"\u001b[0m\u001b[0;34m)\u001b[0m\u001b[0;34m\u001b[0m\u001b[0;34m\u001b[0m\u001b[0m\n\u001b[0m\u001b[1;32m     22\u001b[0m         \u001b[0mself\u001b[0m\u001b[0;34m.\u001b[0m\u001b[0mitems\u001b[0m\u001b[0;34m[\u001b[0m\u001b[0mself\u001b[0m\u001b[0;34m.\u001b[0m\u001b[0mtail\u001b[0m\u001b[0;34m]\u001b[0m \u001b[0;34m=\u001b[0m \u001b[0mitem\u001b[0m\u001b[0;34m\u001b[0m\u001b[0;34m\u001b[0m\u001b[0m\n\u001b[1;32m     23\u001b[0m         \u001b[0;32mif\u001b[0m \u001b[0mself\u001b[0m\u001b[0;34m.\u001b[0m\u001b[0mtail\u001b[0m \u001b[0;34m==\u001b[0m \u001b[0mself\u001b[0m\u001b[0;34m.\u001b[0m\u001b[0msize\u001b[0m \u001b[0;34m-\u001b[0m \u001b[0;36m1\u001b[0m\u001b[0;34m:\u001b[0m\u001b[0;34m\u001b[0m\u001b[0;34m\u001b[0m\u001b[0m\n",
      "\u001b[0;31mException\u001b[0m: Queue is full"
     ]
    }
   ],
   "source": [
    "a.enqueue(2)\n",
    "a.items"
   ]
  },
  {
   "cell_type": "code",
   "execution_count": 1,
   "metadata": {},
   "outputs": [],
   "source": [
    "# 2) Przykład ze zdefiniowaniem rozmiaru tablicy\n",
    "class Queue1:\n",
    "    def __init__(self, size):\n",
    "        self.start=0\n",
    "        self.end=0\n",
    "        self.n=size+1\n",
    "        self.tablica =[None for i in range(size+1)]\n",
    "    \n",
    "    def isFull(self):\n",
    "        return self.zwieksz(self.end)==self.start\n",
    "    \n",
    "    \n",
    "    def isEmpty(self):\n",
    "        return self.end==self.start\n",
    "    \n",
    "    def size(self):\n",
    "        if self(end)>=self.start:\n",
    "            return self.end-self.start\n",
    "        else:\n",
    "            self.n-self.start+self.end\n",
    "            \n",
    "            \n",
    "    def enqueue(self,a):\n",
    "        if (self.isFull()):\n",
    "            raise Exception(\"Queue is full\")\n",
    "        else:\n",
    "            self.tablica[self.end]=a\n",
    "            self.end=self.zwieksz(self.end)\n",
    "            \n",
    "    def dequeue(self):\n",
    "        if (self.isEmpty()):\n",
    "            raise Exception(\"Queue is Empty\")\n",
    "        else:\n",
    "            result=self.tablica[self.start]\n",
    "            self.start=self.zwieksz(self.start)\n",
    "            \n",
    "            return result\n",
    "        \n",
    "    def zwieksz(self,a):\n",
    "        return (a+1)%self.n"
   ]
  },
  {
   "cell_type": "code",
   "execution_count": 2,
   "metadata": {},
   "outputs": [],
   "source": [
    "a=Queue1(3)\n",
    "a\n",
    "a.enqueue(2)"
   ]
  },
  {
   "cell_type": "code",
   "execution_count": 3,
   "metadata": {},
   "outputs": [
    {
     "data": {
      "text/plain": [
       "[2, None, None, None]"
      ]
     },
     "execution_count": 3,
     "metadata": {},
     "output_type": "execute_result"
    }
   ],
   "source": [
    "a.tablica"
   ]
  },
  {
   "cell_type": "code",
   "execution_count": 4,
   "metadata": {},
   "outputs": [
    {
     "data": {
      "text/plain": [
       "[2, 2, None, None]"
      ]
     },
     "execution_count": 4,
     "metadata": {},
     "output_type": "execute_result"
    }
   ],
   "source": [
    "a.enqueue(2)\n",
    "a.tablica"
   ]
  },
  {
   "cell_type": "code",
   "execution_count": 5,
   "metadata": {},
   "outputs": [
    {
     "data": {
      "text/plain": [
       "[2, 2, 2, None]"
      ]
     },
     "execution_count": 5,
     "metadata": {},
     "output_type": "execute_result"
    }
   ],
   "source": [
    "a.enqueue(2)\n",
    "a.tablica"
   ]
  },
  {
   "cell_type": "code",
   "execution_count": 6,
   "metadata": {},
   "outputs": [
    {
     "ename": "Exception",
     "evalue": "Queue is full",
     "output_type": "error",
     "traceback": [
      "\u001b[0;31m---------------------------------------------------------------------------\u001b[0m",
      "\u001b[0;31mException\u001b[0m                                 Traceback (most recent call last)",
      "\u001b[0;32m<ipython-input-6-4ad87df56781>\u001b[0m in \u001b[0;36m<module>\u001b[0;34m\u001b[0m\n\u001b[0;32m----> 1\u001b[0;31m \u001b[0ma\u001b[0m\u001b[0;34m.\u001b[0m\u001b[0menqueue\u001b[0m\u001b[0;34m(\u001b[0m\u001b[0;36m2\u001b[0m\u001b[0;34m)\u001b[0m\u001b[0;34m\u001b[0m\u001b[0;34m\u001b[0m\u001b[0m\n\u001b[0m\u001b[1;32m      2\u001b[0m \u001b[0ma\u001b[0m\u001b[0;34m.\u001b[0m\u001b[0mtablica\u001b[0m\u001b[0;34m\u001b[0m\u001b[0;34m\u001b[0m\u001b[0m\n",
      "\u001b[0;32m<ipython-input-1-2bb5aa7b83f7>\u001b[0m in \u001b[0;36menqueue\u001b[0;34m(self, a)\u001b[0m\n\u001b[1;32m     23\u001b[0m     \u001b[0;32mdef\u001b[0m \u001b[0menqueue\u001b[0m\u001b[0;34m(\u001b[0m\u001b[0mself\u001b[0m\u001b[0;34m,\u001b[0m\u001b[0ma\u001b[0m\u001b[0;34m)\u001b[0m\u001b[0;34m:\u001b[0m\u001b[0;34m\u001b[0m\u001b[0;34m\u001b[0m\u001b[0m\n\u001b[1;32m     24\u001b[0m         \u001b[0;32mif\u001b[0m \u001b[0;34m(\u001b[0m\u001b[0mself\u001b[0m\u001b[0;34m.\u001b[0m\u001b[0misFull\u001b[0m\u001b[0;34m(\u001b[0m\u001b[0;34m)\u001b[0m\u001b[0;34m)\u001b[0m\u001b[0;34m:\u001b[0m\u001b[0;34m\u001b[0m\u001b[0;34m\u001b[0m\u001b[0m\n\u001b[0;32m---> 25\u001b[0;31m             \u001b[0;32mraise\u001b[0m \u001b[0mException\u001b[0m\u001b[0;34m(\u001b[0m\u001b[0;34m\"Queue is full\"\u001b[0m\u001b[0;34m)\u001b[0m\u001b[0;34m\u001b[0m\u001b[0;34m\u001b[0m\u001b[0m\n\u001b[0m\u001b[1;32m     26\u001b[0m         \u001b[0;32melse\u001b[0m\u001b[0;34m:\u001b[0m\u001b[0;34m\u001b[0m\u001b[0;34m\u001b[0m\u001b[0m\n\u001b[1;32m     27\u001b[0m             \u001b[0mself\u001b[0m\u001b[0;34m.\u001b[0m\u001b[0mtablica\u001b[0m\u001b[0;34m[\u001b[0m\u001b[0mself\u001b[0m\u001b[0;34m.\u001b[0m\u001b[0mend\u001b[0m\u001b[0;34m]\u001b[0m\u001b[0;34m=\u001b[0m\u001b[0ma\u001b[0m\u001b[0;34m\u001b[0m\u001b[0;34m\u001b[0m\u001b[0m\n",
      "\u001b[0;31mException\u001b[0m: Queue is full"
     ]
    }
   ],
   "source": [
    "a.enqueue(2)\n",
    "a.tablica"
   ]
  },
  {
   "cell_type": "code",
   "execution_count": 8,
   "metadata": {},
   "outputs": [
    {
     "data": {
      "text/plain": [
       "[2, None, None]"
      ]
     },
     "execution_count": 8,
     "metadata": {},
     "output_type": "execute_result"
    }
   ],
   "source": [
    "# 3) Przykład z flagami (rozwiązany problem wskaźnika zapisu i odczytu) \n",
    "\n",
    "class Queue3:\n",
    "    def __init__(self, n):  # zlozonosc O(n)\n",
    "        \"\"\"inicjalizacja\"\"\"\n",
    "        self.items = n * [None]\n",
    "        self.size = n\n",
    "        self.head = 0\n",
    "        self.tail = 0\n",
    "        self.empty=True\n",
    "        self.full=False\n",
    "        \n",
    "    def enqueue(self, item):  \n",
    "        if self.full:\n",
    "            raise Exception(\"Queue is full\")\n",
    "        else:\n",
    "            self.items[self.tail] = item\n",
    "            self.empty=False\n",
    "        if self.tail == self.size - 1:\n",
    "            self.tail = 0\n",
    "        else:\n",
    "            self.tail += 1\n",
    "           \n",
    "        if self.head == self.tail:\n",
    "            self.full=True\n",
    "            \n",
    "    def dequeue(self):  # zlozonosc O(1)\n",
    "        if self.empty:\n",
    "            raise Exception(\"Queue is Empty\")\n",
    "        else:\n",
    "            x=self.items[self.head]\n",
    "            self.full=False\n",
    "        if self.head == self.size - 1:\n",
    "            self.head = 0\n",
    "        else:\n",
    "            self.head += 1\n",
    "           \n",
    "        if self.head == self.tail:\n",
    "            self.empty=True\n",
    "            return x\n",
    "a=Queue3(3)\n",
    "a\n",
    "a.enqueue(2) \n",
    "a.items"
   ]
  },
  {
   "cell_type": "code",
   "execution_count": 9,
   "metadata": {},
   "outputs": [
    {
     "data": {
      "text/plain": [
       "[2, 2, None]"
      ]
     },
     "execution_count": 9,
     "metadata": {},
     "output_type": "execute_result"
    }
   ],
   "source": [
    "a.enqueue(2) \n",
    "a.items"
   ]
  },
  {
   "cell_type": "code",
   "execution_count": 10,
   "metadata": {},
   "outputs": [
    {
     "data": {
      "text/plain": [
       "[2, 2, 2]"
      ]
     },
     "execution_count": 10,
     "metadata": {},
     "output_type": "execute_result"
    }
   ],
   "source": [
    "a.enqueue(2) \n",
    "a.items"
   ]
  },
  {
   "cell_type": "code",
   "execution_count": 11,
   "metadata": {},
   "outputs": [
    {
     "ename": "Exception",
     "evalue": "Queue is full",
     "output_type": "error",
     "traceback": [
      "\u001b[0;31m---------------------------------------------------------------------------\u001b[0m",
      "\u001b[0;31mException\u001b[0m                                 Traceback (most recent call last)",
      "\u001b[0;32m<ipython-input-11-79ae12b8f8f2>\u001b[0m in \u001b[0;36m<module>\u001b[0;34m\u001b[0m\n\u001b[0;32m----> 1\u001b[0;31m \u001b[0ma\u001b[0m\u001b[0;34m.\u001b[0m\u001b[0menqueue\u001b[0m\u001b[0;34m(\u001b[0m\u001b[0;36m2\u001b[0m\u001b[0;34m)\u001b[0m\u001b[0;34m\u001b[0m\u001b[0;34m\u001b[0m\u001b[0m\n\u001b[0m\u001b[1;32m      2\u001b[0m \u001b[0ma\u001b[0m\u001b[0;34m.\u001b[0m\u001b[0mitems\u001b[0m\u001b[0;34m\u001b[0m\u001b[0;34m\u001b[0m\u001b[0m\n",
      "\u001b[0;32m<ipython-input-8-74fa457670a3>\u001b[0m in \u001b[0;36menqueue\u001b[0;34m(self, item)\u001b[0m\n\u001b[1;32m     13\u001b[0m     \u001b[0;32mdef\u001b[0m \u001b[0menqueue\u001b[0m\u001b[0;34m(\u001b[0m\u001b[0mself\u001b[0m\u001b[0;34m,\u001b[0m \u001b[0mitem\u001b[0m\u001b[0;34m)\u001b[0m\u001b[0;34m:\u001b[0m\u001b[0;34m\u001b[0m\u001b[0;34m\u001b[0m\u001b[0m\n\u001b[1;32m     14\u001b[0m         \u001b[0;32mif\u001b[0m \u001b[0mself\u001b[0m\u001b[0;34m.\u001b[0m\u001b[0mfull\u001b[0m\u001b[0;34m:\u001b[0m\u001b[0;34m\u001b[0m\u001b[0;34m\u001b[0m\u001b[0m\n\u001b[0;32m---> 15\u001b[0;31m             \u001b[0;32mraise\u001b[0m \u001b[0mException\u001b[0m\u001b[0;34m(\u001b[0m\u001b[0;34m\"Queue is full\"\u001b[0m\u001b[0;34m)\u001b[0m\u001b[0;34m\u001b[0m\u001b[0;34m\u001b[0m\u001b[0m\n\u001b[0m\u001b[1;32m     16\u001b[0m         \u001b[0;32melse\u001b[0m\u001b[0;34m:\u001b[0m\u001b[0;34m\u001b[0m\u001b[0;34m\u001b[0m\u001b[0m\n\u001b[1;32m     17\u001b[0m             \u001b[0mself\u001b[0m\u001b[0;34m.\u001b[0m\u001b[0mitems\u001b[0m\u001b[0;34m[\u001b[0m\u001b[0mself\u001b[0m\u001b[0;34m.\u001b[0m\u001b[0mtail\u001b[0m\u001b[0;34m]\u001b[0m \u001b[0;34m=\u001b[0m \u001b[0mitem\u001b[0m\u001b[0;34m\u001b[0m\u001b[0;34m\u001b[0m\u001b[0m\n",
      "\u001b[0;31mException\u001b[0m: Queue is full"
     ]
    }
   ],
   "source": [
    "a.enqueue(2) \n",
    "a.items"
   ]
  },
  {
   "cell_type": "code",
   "execution_count": 12,
   "metadata": {},
   "outputs": [
    {
     "data": {
      "text/plain": [
       "[2, None, None]"
      ]
     },
     "execution_count": 12,
     "metadata": {},
     "output_type": "execute_result"
    }
   ],
   "source": [
    "### Przykład z licznikiem \n",
    "class Queue4:\n",
    "    def __init__(self, n):\n",
    "        self.items = n * [None]\n",
    "        self.size = n\n",
    "        self._size = 0\n",
    "        self.head = 0\n",
    "        self.tail = 0\n",
    "\n",
    "    def isEmpty(self): \n",
    "        return self.head == self.tail\n",
    "    \n",
    "    def isFull(self):\n",
    "        return self._size == self.size\n",
    "\n",
    "    def enqueue(self, item):\n",
    "        if self.isFull():\n",
    "            raise ValueError(\"FIFO is full\")\n",
    "        self.items[self.tail] = item\n",
    "        self._size += 1\n",
    "        if self.tail == self.size - 1:\n",
    "            self.tail = 0\n",
    "        else:\n",
    "            self.tail += 1\n",
    "\n",
    "    def dequeue(self):\n",
    "        if self.isEmpty():\n",
    "            raise ValueError(\"FIFO is empty\")\n",
    "        self._size -= 1\n",
    "        if self.head == self.size - 1:\n",
    "            self.head = 0\n",
    "        else:\n",
    "            self.head += 1\n",
    "            \n",
    "    def first(self):\n",
    "        if self.isEmpty():\n",
    "            raise ValueError(\"FIFO is empty)\")\n",
    "        return self.items[self.head]\n",
    "\n",
    "a=Queue4(3)\n",
    "a\n",
    "a.enqueue(2)\n",
    "#a.enqueue(2)\n",
    "a.items\n"
   ]
  },
  {
   "cell_type": "code",
   "execution_count": 13,
   "metadata": {},
   "outputs": [
    {
     "data": {
      "text/plain": [
       "[2, 4, None]"
      ]
     },
     "execution_count": 13,
     "metadata": {},
     "output_type": "execute_result"
    }
   ],
   "source": [
    "a.enqueue(4)\n",
    "a.items"
   ]
  },
  {
   "cell_type": "code",
   "execution_count": 14,
   "metadata": {},
   "outputs": [
    {
     "data": {
      "text/plain": [
       "[2, 4, 4]"
      ]
     },
     "execution_count": 14,
     "metadata": {},
     "output_type": "execute_result"
    }
   ],
   "source": [
    "a.enqueue(4)\n",
    "a.items"
   ]
  },
  {
   "cell_type": "code",
   "execution_count": 15,
   "metadata": {},
   "outputs": [
    {
     "ename": "ValueError",
     "evalue": "FIFO is full",
     "output_type": "error",
     "traceback": [
      "\u001b[0;31m---------------------------------------------------------------------------\u001b[0m",
      "\u001b[0;31mValueError\u001b[0m                                Traceback (most recent call last)",
      "\u001b[0;32m<ipython-input-15-d7547bb223ea>\u001b[0m in \u001b[0;36m<module>\u001b[0;34m\u001b[0m\n\u001b[0;32m----> 1\u001b[0;31m \u001b[0ma\u001b[0m\u001b[0;34m.\u001b[0m\u001b[0menqueue\u001b[0m\u001b[0;34m(\u001b[0m\u001b[0;36m4\u001b[0m\u001b[0;34m)\u001b[0m\u001b[0;34m\u001b[0m\u001b[0;34m\u001b[0m\u001b[0m\n\u001b[0m\u001b[1;32m      2\u001b[0m \u001b[0ma\u001b[0m\u001b[0;34m.\u001b[0m\u001b[0mitems\u001b[0m\u001b[0;34m\u001b[0m\u001b[0;34m\u001b[0m\u001b[0m\n",
      "\u001b[0;32m<ipython-input-12-fbe5b9f5c049>\u001b[0m in \u001b[0;36menqueue\u001b[0;34m(self, item)\u001b[0m\n\u001b[1;32m     16\u001b[0m     \u001b[0;32mdef\u001b[0m \u001b[0menqueue\u001b[0m\u001b[0;34m(\u001b[0m\u001b[0mself\u001b[0m\u001b[0;34m,\u001b[0m \u001b[0mitem\u001b[0m\u001b[0;34m)\u001b[0m\u001b[0;34m:\u001b[0m\u001b[0;34m\u001b[0m\u001b[0;34m\u001b[0m\u001b[0m\n\u001b[1;32m     17\u001b[0m         \u001b[0;32mif\u001b[0m \u001b[0mself\u001b[0m\u001b[0;34m.\u001b[0m\u001b[0misFull\u001b[0m\u001b[0;34m(\u001b[0m\u001b[0;34m)\u001b[0m\u001b[0;34m:\u001b[0m\u001b[0;34m\u001b[0m\u001b[0;34m\u001b[0m\u001b[0m\n\u001b[0;32m---> 18\u001b[0;31m             \u001b[0;32mraise\u001b[0m \u001b[0mValueError\u001b[0m\u001b[0;34m(\u001b[0m\u001b[0;34m\"FIFO is full\"\u001b[0m\u001b[0;34m)\u001b[0m\u001b[0;34m\u001b[0m\u001b[0;34m\u001b[0m\u001b[0m\n\u001b[0m\u001b[1;32m     19\u001b[0m         \u001b[0mself\u001b[0m\u001b[0;34m.\u001b[0m\u001b[0mitems\u001b[0m\u001b[0;34m[\u001b[0m\u001b[0mself\u001b[0m\u001b[0;34m.\u001b[0m\u001b[0mtail\u001b[0m\u001b[0;34m]\u001b[0m \u001b[0;34m=\u001b[0m \u001b[0mitem\u001b[0m\u001b[0;34m\u001b[0m\u001b[0;34m\u001b[0m\u001b[0m\n\u001b[1;32m     20\u001b[0m         \u001b[0mself\u001b[0m\u001b[0;34m.\u001b[0m\u001b[0m_size\u001b[0m \u001b[0;34m+=\u001b[0m \u001b[0;36m1\u001b[0m\u001b[0;34m\u001b[0m\u001b[0;34m\u001b[0m\u001b[0m\n",
      "\u001b[0;31mValueError\u001b[0m: FIFO is full"
     ]
    }
   ],
   "source": [
    "a.enqueue(4)\n",
    "a.items"
   ]
  },
  {
   "cell_type": "code",
   "execution_count": null,
   "metadata": {},
   "outputs": [],
   "source": []
  }
 ],
 "metadata": {
  "kernelspec": {
   "display_name": "Python 3",
   "language": "python",
   "name": "python3"
  },
  "language_info": {
   "codemirror_mode": {
    "name": "ipython",
    "version": 3
   },
   "file_extension": ".py",
   "mimetype": "text/x-python",
   "name": "python",
   "nbconvert_exporter": "python",
   "pygments_lexer": "ipython3",
   "version": "3.6.7"
  }
 },
 "nbformat": 4,
 "nbformat_minor": 2
}
