{
 "cells": [
  {
   "cell_type": "markdown",
   "metadata": {},
   "source": [
    "# Podstawy Sztucznej Inteligencji 2020/2021\n"
   ]
  },
  {
   "cell_type": "markdown",
   "metadata": {},
   "source": [
    "Prosze uzupelnic kod tam gdzie znajduje napis `YOUR CODE HERE` lub 'YOUR ANSWER HERE'.\n",
    "\n",
    "Warto zresetowac 'kernel' i sprawdzic czy caly notatnik uruchamiany od poczatku nie daje bledow."
   ]
  },
  {
   "cell_type": "markdown",
   "metadata": {},
   "source": [
    "---"
   ]
  },
  {
   "cell_type": "markdown",
   "metadata": {
    "deletable": false,
    "editable": false,
    "lang": "pl",
    "nbgrader": {
     "cell_type": "markdown",
     "checksum": "42d554fb415cd26cec44414026119354",
     "grade": false,
     "grade_id": "cell-aa0086f63af5cff5",
     "locked": true,
     "schema_version": 3,
     "solution": false
    }
   },
   "source": [
    "# Backpropagation w zapisie tensorowym (z numpy)\n",
    "\n",
    "Mam sieć jak składającą się z trzech  warstw: \n",
    " - 3,4,2,3, \n",
    " - aktywacja - sigmoid, \n",
    " - funkcją straty jest błąd średniokwadratowy.\n",
    "\n",
    "Obliczymy pochodne po dowolnej wadze lub bias-ie w dwóch przypadkach:\n",
    "\n",
    " - pojedyńczego przykładu\n",
    " - wielu przykłdów (batch)"
   ]
  },
  {
   "cell_type": "code",
   "execution_count": 59,
   "metadata": {
    "deletable": false,
    "editable": false,
    "nbgrader": {
     "cell_type": "code",
     "checksum": "e8c8e77f46b38738f1b88075aa6379a5",
     "grade": false,
     "grade_id": "cell-d054a7d6cb01a5b9",
     "locked": true,
     "schema_version": 3,
     "solution": false
    }
   },
   "outputs": [],
   "source": [
    "import numpy as np \n",
    "\n",
    "W1,b1,W2,b2,W3,b3 = [np.array([[0.1, 0.1, 0.1, 0.1],\n",
    "        [-0.1, 0.1, 0.2, 0.1],\n",
    "        [0.1, 0.2, 0.1, 0.1]]),\n",
    " np.array([0.2, -0.2, 0.2, 0.2]),\n",
    " np.array([[-0.2, 0.2],\n",
    "        [0.2, 0.2],\n",
    "        [0.2, -0.2],\n",
    "        [0.12, 0.2]]),\n",
    " np.array([0.4, 0.4]),\n",
    " np.array([[-0.3, 0.3, 0.13],\n",
    "        [0.3, 0.3, 0.3]]),\n",
    " np.array([0.16, -0.6, 0.6] )]\n",
    "\n",
    "s = lambda x:1/(1+np.exp(-x))"
   ]
  },
  {
   "cell_type": "markdown",
   "metadata": {
    "deletable": false,
    "editable": false,
    "lang": "pl",
    "nbgrader": {
     "cell_type": "markdown",
     "checksum": "3547dcee0ce31d6e3ad54525eed5b342",
     "grade": false,
     "grade_id": "cell-48d27bf49393073b",
     "locked": true,
     "schema_version": 3,
     "solution": false
    }
   },
   "source": [
    "## 1. Przetwarzanie pojedyńczego przykładu"
   ]
  },
  {
   "cell_type": "code",
   "execution_count": 60,
   "metadata": {
    "deletable": false,
    "editable": false,
    "nbgrader": {
     "cell_type": "code",
     "checksum": "d3fd0f5da465fd58ab15b34a59a58359",
     "grade": false,
     "grade_id": "cell-60db762ac5baecb4",
     "locked": true,
     "schema_version": 3,
     "solution": false
    }
   },
   "outputs": [],
   "source": [
    "X = np.array([1,.3,.2])\n",
    "y_ = np.array([.1,.2,.1])"
   ]
  },
  {
   "cell_type": "markdown",
   "metadata": {
    "deletable": false,
    "editable": false,
    "lang": "pl",
    "nbgrader": {
     "cell_type": "markdown",
     "checksum": "f4c89e7fa699e3468e8e080a95e927c7",
     "grade": false,
     "grade_id": "cell-ac3b3cfcdca63b89",
     "locked": true,
     "schema_version": 3,
     "solution": false
    }
   },
   "source": [
    "### Forward pass\n",
    "\n",
    "$$\n",
    "z^1 = X^1 \\cdot W^1 + b^1\\\\\n",
    "y^1 = \\sigma(z^1)\n",
    "$$\n",
    "\n",
    "$$\n",
    "z^2 = y^1\\cdot W^2 + b^2\\\\\n",
    "y^2 = \\sigma(z^2)\n",
    "$$\n",
    "\n",
    "$$\n",
    "z^3 = y^2\\cdot W^3 + b^3\\\\\n",
    "y^3 = \\sigma(z^3)\n",
    "$$\n"
   ]
  },
  {
   "cell_type": "code",
   "execution_count": 61,
   "metadata": {
    "deletable": false,
    "editable": false,
    "nbgrader": {
     "cell_type": "code",
     "checksum": "a24ff9284b71d6ece17a70f2539daa4c",
     "grade": false,
     "grade_id": "cell-f1fb99134caee143",
     "locked": true,
     "schema_version": 3,
     "solution": false
    }
   },
   "outputs": [
    {
     "data": {
      "text/plain": [
       "array([0.54056717, 0.44678642, 0.70632849])"
      ]
     },
     "execution_count": 61,
     "metadata": {},
     "output_type": "execute_result"
    }
   ],
   "source": [
    "z1 = X.dot(W1) + b1\n",
    "y1 = s(z1)\n",
    "\n",
    "z2 = y1.dot(W2) + b2\n",
    "y2 = s(z2)\n",
    "\n",
    "z3 = y2.dot(W3) + b3\n",
    "y3 = s(z3)\n",
    "\n",
    "y3"
   ]
  },
  {
   "cell_type": "markdown",
   "metadata": {
    "deletable": false,
    "editable": false,
    "lang": "pl",
    "nbgrader": {
     "cell_type": "markdown",
     "checksum": "6c04c1d914d9979acf92aa44bfc7b34e",
     "grade": false,
     "grade_id": "cell-3fa9e0ec7421cdf6",
     "locked": true,
     "schema_version": 3,
     "solution": false
    }
   },
   "source": [
    "### Backward pass\n",
    "\n",
    "Propagujemy błąd (czułość) od ostatniej warstwy do pierwszej.\n",
    "\n",
    "Przypuśćmy, że chcemy obliczyć:\n",
    "\n",
    "$$\\frac{\\partial L}{\\partial \\mathbf{w^1}}$$\n",
    "\n",
    "\n",
    "\n",
    "$$\\frac{\\partial L}{\\partial w^1_{\\alpha\\beta}}=\n",
    "\\underbrace{\\frac{2}{N^3}(y^3_i-\\hat y_i) \n",
    "\\frac{\\partial y^3_i}{\\partial z^3_i}  \\frac{\\partial z^3_i}{\\partial y^2_j}\\cdot\n",
    "\\frac{\\partial y^2_j}{\\partial z^2_j}  \\frac{\\partial z^2_j}{\\partial y^1_k}\\cdot\n",
    "  }_{\\Delta^1_k}\\frac{\\partial y^1_k}{\\partial z^1_k} x^1_{\\alpha} \\delta_{k\\beta}  \n",
    "$$\n",
    "\n",
    "$$\\frac{\\partial L}{\\partial w^1_{\\alpha\\beta}}=\n",
    " \\sum_k \\Delta^1_k \\frac{\\partial y^1_k}{\\partial z^1_k}  x^1_{\\alpha} \\delta_{k\\beta}   = x^1_{\\alpha} \\frac{\\partial y^1_\\beta}{\\partial z^1_\\beta}  \\Delta^1_\\beta \n",
    "$$\n",
    "\n",
    "$$\\frac{\\partial L}{\\partial \\mathbf{w^1}}= \\underbrace{\\mathbf{x^1}}_{n^1}\\otimes \\underbrace{\\mathbf{\\Delta^1  \\mathbf{\\sigma'}}}_{n^1}\n",
    "$$\n",
    "\n",
    "\n",
    "\n",
    "1.  Obliczamy czułość wyniku na aktywację ostatniej warstwy:\n",
    "$$\n",
    "\\mathrm{error_i} =\\frac{2}{N^3}(y^3_i-\\hat y_i)  \n",
    "$$\n",
    "\n",
    "\n",
    "\n"
   ]
  },
  {
   "cell_type": "code",
   "execution_count": 62,
   "metadata": {
    "deletable": false,
    "nbgrader": {
     "cell_type": "code",
     "checksum": "7c9ce8fcaa11b104f62accf580f0dcf5",
     "grade": false,
     "grade_id": "cell-41e55da2829a1cc1",
     "locked": false,
     "schema_version": 3,
     "solution": true
    }
   },
   "outputs": [
    {
     "data": {
      "text/plain": [
       "array([0.29371145, 0.16452428, 0.40421899])"
      ]
     },
     "execution_count": 62,
     "metadata": {},
     "output_type": "execute_result"
    }
   ],
   "source": [
    "error = 2/(y3.shape[-1])*(y3-y_)\n",
    "error"
   ]
  },
  {
   "cell_type": "code",
   "execution_count": 63,
   "metadata": {},
   "outputs": [
    {
     "data": {
      "text/plain": [
       "3"
      ]
     },
     "execution_count": 63,
     "metadata": {},
     "output_type": "execute_result"
    }
   ],
   "source": [
    "y3.shape[-1]"
   ]
  },
  {
   "cell_type": "markdown",
   "metadata": {
    "deletable": false,
    "editable": false,
    "nbgrader": {
     "cell_type": "markdown",
     "checksum": "e880ad6840508aaed57f6345b4a67e3c",
     "grade": false,
     "grade_id": "cell-42b44744b3c79db9",
     "locked": true,
     "schema_version": 3,
     "solution": false,
     "task": false
    }
   },
   "source": [
    "$$\n",
    "\\mathrm{error_j} \\to \\underbrace{\\frac{2}{N^3}(y^3_i-\\hat y_i)}_{\\mathrm{error_i}}  \n",
    "\\underbrace{\\frac{\\partial y^3_i}{\\partial z^3_i}  \\frac{\\partial z^3_i}{\\partial y^2_j}}_{M(n_3\\times n_2)}= \\mathrm{error_i}\\frac{\\partial y^3_i}{\\partial z^3_i} \\cdot\n",
    "(w^{3\\,T})_{ij}$$\n",
    "$$\n",
    "\\frac{\\partial z^3_i}{\\partial y^2_j} =  w^3_{ji} = (w^{3\\,T})_{ij}\n",
    "$$"
   ]
  },
  {
   "cell_type": "markdown",
   "metadata": {
    "deletable": false,
    "editable": false,
    "lang": "pl",
    "nbgrader": {
     "cell_type": "markdown",
     "checksum": "caa0420f3514be187d299d59ff16956e",
     "grade": false,
     "grade_id": "cell-d5d455e528f22b2c",
     "locked": true,
     "schema_version": 3,
     "solution": false,
     "task": false
    }
   },
   "source": [
    "błąd z wyjscia warstwy 3 propagujemy wejscia warstwy 3"
   ]
  },
  {
   "cell_type": "code",
   "execution_count": 64,
   "metadata": {
    "deletable": false,
    "nbgrader": {
     "cell_type": "code",
     "checksum": "2726d5a445b57e2c3b4f8a25badc5b3b",
     "grade": false,
     "grade_id": "cell-03f50c315b29215a",
     "locked": false,
     "schema_version": 3,
     "solution": true
    }
   },
   "outputs": [
    {
     "data": {
      "text/plain": [
       "array([0.00121626, 0.05923688])"
      ]
     },
     "execution_count": 64,
     "metadata": {},
     "output_type": "execute_result"
    }
   ],
   "source": [
    "error = (y3*(1-y3)*error).dot(W3.T)\n",
    "error"
   ]
  },
  {
   "cell_type": "markdown",
   "metadata": {
    "deletable": false,
    "editable": false,
    "lang": "pl",
    "nbgrader": {
     "cell_type": "markdown",
     "checksum": "e454f1ac94117044c006628fb25ec4d7",
     "grade": false,
     "grade_id": "cell-2a0ec182142e1036",
     "locked": true,
     "schema_version": 3,
     "solution": false,
     "task": false
    }
   },
   "source": [
    "\n",
    "$$\n",
    "\\mathrm{error_j} \\to   \n",
    "= \\mathrm{error_i}\\frac{\\partial y^2_i}{\\partial z^2_i} \\cdot\n",
    "(w^{2\\,T})_{ij}$$\n",
    "\n",
    "błąd z wyjscia warstwy 2 propagujemy wejscia warstwy 1\n"
   ]
  },
  {
   "cell_type": "code",
   "execution_count": 65,
   "metadata": {
    "deletable": false,
    "nbgrader": {
     "cell_type": "code",
     "checksum": "01644b0760be55c2b7dbc451fcb7fa05",
     "grade": false,
     "grade_id": "cell-1deb0fa662398a70",
     "locked": false,
     "schema_version": 3,
     "solution": true
    }
   },
   "outputs": [
    {
     "data": {
      "text/plain": [
       "array([ 0.00264531,  0.00275747, -0.00264531,  0.00273503])"
      ]
     },
     "execution_count": 65,
     "metadata": {},
     "output_type": "execute_result"
    }
   ],
   "source": [
    "error = (y2*(1-y2)*error).dot(W2.T)\n",
    "error"
   ]
  },
  {
   "cell_type": "markdown",
   "metadata": {
    "deletable": false,
    "editable": false,
    "lang": "pl",
    "nbgrader": {
     "cell_type": "markdown",
     "checksum": "95a262296a624573f8b87375d64807f1",
     "grade": false,
     "grade_id": "cell-9e6849b3e4b0076d",
     "locked": true,
     "schema_version": 3,
     "solution": false,
     "task": false
    }
   },
   "source": [
    "Obliczamy pochodną po wagach  warstwy 3 jako iloczyn zewnętrzny wektora \n",
    "$$x^1_j$$\n",
    " oraz $$\\mathrm{error_i} \\frac{\\partial y^1_i}{\\partial z^1_i}$$\n",
    "\n"
   ]
  },
  {
   "cell_type": "code",
   "execution_count": 66,
   "metadata": {
    "deletable": false,
    "nbgrader": {
     "cell_type": "code",
     "checksum": "8eef020f2eae40e4b3d1fa4f10c7a02a",
     "grade": false,
     "grade_id": "cell-9aa0371019b00098",
     "locked": false,
     "schema_version": 3,
     "solution": true
    }
   },
   "outputs": [
    {
     "data": {
      "text/plain": [
       "array([[ 0.00064762,  0.00068921, -0.00063802,  0.00066324],\n",
       "       [ 0.00019428,  0.00020676, -0.0001914 ,  0.00019897],\n",
       "       [ 0.00012952,  0.00013784, -0.0001276 ,  0.00013265]])"
      ]
     },
     "execution_count": 66,
     "metadata": {},
     "output_type": "execute_result"
    }
   ],
   "source": [
    "dw1 = np.outer(X, error*(y1*(1-y1)))\n",
    "# dw1 = X[:,None] * (error*(y1*(1-y1)))[None, :]\n",
    "dw1"
   ]
  },
  {
   "cell_type": "code",
   "execution_count": 67,
   "metadata": {
    "deletable": false,
    "editable": false,
    "nbgrader": {
     "cell_type": "code",
     "checksum": "e177cb78764df37bdf930746ac76fdd4",
     "grade": true,
     "grade_id": "cell-149c7afa1b3bf02f",
     "locked": true,
     "points": 2,
     "schema_version": 3,
     "solution": false
    }
   },
   "outputs": [],
   "source": [
    "np.testing.assert_allclose(dw1,[[0.0006476156413555145,\n",
    "  0.0006892113015055656,\n",
    "  -0.0006380165577866137,\n",
    "  0.0006632386357523501],\n",
    " [0.0001942847011378035,\n",
    "  0.00020676340500358492,\n",
    "  -0.0001914049789775163,\n",
    "  0.00019897159654647112],\n",
    " [0.000129523134091869,\n",
    "  0.00013784226030111313,\n",
    "  -0.00012760331446770579,\n",
    "  0.00013264773588161916]] ,rtol=1e-3)"
   ]
  },
  {
   "cell_type": "markdown",
   "metadata": {
    "deletable": false,
    "editable": false,
    "lang": "pl",
    "nbgrader": {
     "cell_type": "markdown",
     "checksum": "17caf6cae62e5b9645dd40b96c1c7d1e",
     "grade": false,
     "grade_id": "cell-f9d239e8115759e6",
     "locked": true,
     "schema_version": 3,
     "solution": false
    }
   },
   "source": [
    "Pochodna po bias-ie wynosi:\n",
    "\n",
    "$$\\mathrm{error_i} \\frac{\\partial y^1_i}{\\partial z^1_i}$$"
   ]
  },
  {
   "cell_type": "code",
   "execution_count": 69,
   "metadata": {
    "deletable": false,
    "nbgrader": {
     "cell_type": "code",
     "checksum": "aec78215558665b15ba2e873d17de420",
     "grade": false,
     "grade_id": "cell-440ca04b0181a05f",
     "locked": false,
     "schema_version": 3,
     "solution": true
    }
   },
   "outputs": [
    {
     "data": {
      "text/plain": [
       "array([ 0.00064762,  0.00068921, -0.00063802,  0.00066324])"
      ]
     },
     "execution_count": 69,
     "metadata": {},
     "output_type": "execute_result"
    }
   ],
   "source": [
    "db1 = error*(y1*(1-y1))\n",
    "db1"
   ]
  },
  {
   "cell_type": "code",
   "execution_count": 70,
   "metadata": {
    "deletable": false,
    "editable": false,
    "nbgrader": {
     "cell_type": "code",
     "checksum": "ae40312577eba24b181da067ca1fe3ea",
     "grade": true,
     "grade_id": "cell-a78eb2054a41633f",
     "locked": true,
     "points": 1,
     "schema_version": 3,
     "solution": false
    }
   },
   "outputs": [],
   "source": [
    "np.testing.assert_allclose(db1,[0.0006476156413555145,\n",
    " 0.0006892113015055656,\n",
    " -0.0006380165577866137,\n",
    " 0.0006632386357523501], rtol=1e-3)"
   ]
  },
  {
   "cell_type": "markdown",
   "metadata": {
    "deletable": false,
    "editable": false,
    "lang": "pl",
    "nbgrader": {
     "cell_type": "markdown",
     "checksum": "8d7b5c2f3558a713fad5bdb24c292c1f",
     "grade": false,
     "grade_id": "cell-4e2547d87d7e7b2d",
     "locked": true,
     "schema_version": 3,
     "solution": false
    }
   },
   "source": [
    "## 2. Batch processing\n",
    "\n",
    "Co jeśli mamy wiele przykładów?"
   ]
  },
  {
   "cell_type": "code",
   "execution_count": 71,
   "metadata": {
    "deletable": false,
    "editable": false,
    "nbgrader": {
     "cell_type": "code",
     "checksum": "54d1672fb28cf26ddc3db0f8abd72eec",
     "grade": false,
     "grade_id": "cell-52bcd6345a5164d5",
     "locked": true,
     "schema_version": 3,
     "solution": false
    }
   },
   "outputs": [],
   "source": [
    "X = np.array([[1,.3,.2],\n",
    "              [.1,.2,.1]])\n",
    "y_ = np.array([[.1,.2,.1],\n",
    "               [.2,.1,.2]])\n",
    "\n"
   ]
  },
  {
   "cell_type": "markdown",
   "metadata": {
    "deletable": false,
    "editable": false,
    "lang": "pl",
    "nbgrader": {
     "cell_type": "markdown",
     "checksum": "1c12f95a92ccd0ae8f08c21105c17607",
     "grade": false,
     "grade_id": "cell-5696417ac918d419",
     "locked": true,
     "schema_version": 3,
     "solution": false
    }
   },
   "source": [
    "### Forward pass\n",
    "\n",
    "Zastosujmy te same wzory:"
   ]
  },
  {
   "cell_type": "code",
   "execution_count": 72,
   "metadata": {
    "deletable": false,
    "editable": false,
    "nbgrader": {
     "cell_type": "code",
     "checksum": "e4c72b997c67b0abe4aaae4e3042a3ea",
     "grade": false,
     "grade_id": "cell-0b9e37e48fcffe6c",
     "locked": true,
     "schema_version": 3,
     "solution": false
    }
   },
   "outputs": [
    {
     "data": {
      "text/plain": [
       "array([[0.54056717, 0.44678642, 0.70632849],\n",
       "       [0.54058069, 0.44643596, 0.70612085]])"
      ]
     },
     "execution_count": 72,
     "metadata": {},
     "output_type": "execute_result"
    }
   ],
   "source": [
    "z1 = X.dot(W1) + b1\n",
    "y1 = s(z1)\n",
    "\n",
    "z2 = y1.dot(W2) + b2\n",
    "y2 = s(z2)\n",
    "\n",
    "z3 = y2.dot(W3) + b3\n",
    "y3 = s(z3)\n",
    "\n",
    "y3"
   ]
  },
  {
   "cell_type": "markdown",
   "metadata": {
    "deletable": false,
    "editable": false,
    "lang": "pl",
    "nbgrader": {
     "cell_type": "markdown",
     "checksum": "94bb6e5bc0edb86846090829395e67f7",
     "grade": false,
     "grade_id": "cell-36e8ed9dc7195239",
     "locked": true,
     "schema_version": 3,
     "solution": false
    }
   },
   "source": [
    "### Backward pass"
   ]
  },
  {
   "cell_type": "code",
   "execution_count": 73,
   "metadata": {
    "deletable": false,
    "nbgrader": {
     "cell_type": "code",
     "checksum": "d8eba25afddb05fb72c9c54746a95dfb",
     "grade": false,
     "grade_id": "cell-43a583e078637c39",
     "locked": false,
     "schema_version": 3,
     "solution": true
    }
   },
   "outputs": [
    {
     "data": {
      "text/plain": [
       "array([[0.29371145, 0.16452428, 0.40421899],\n",
       "       [0.2270538 , 0.23095731, 0.3374139 ]])"
      ]
     },
     "execution_count": 73,
     "metadata": {},
     "output_type": "execute_result"
    }
   ],
   "source": [
    "error = 2/(y3.shape[-1])*(y3-y_)\n",
    "error"
   ]
  },
  {
   "cell_type": "markdown",
   "metadata": {
    "deletable": false,
    "editable": false,
    "nbgrader": {
     "cell_type": "markdown",
     "checksum": "43bc80a6d6d31364290498f0c5eeabec",
     "grade": false,
     "grade_id": "cell-1029ee11694a3aad",
     "locked": true,
     "schema_version": 3,
     "solution": false
    }
   },
   "source": [
    "$$\n",
    "\\mathrm{error_j} \\to \\underbrace{\\frac{2}{N^3}(y^3_i-\\hat y_i)}_{\\mathrm{error_i}}  \n",
    "\\underbrace{\\frac{\\partial y^3_i}{\\partial z^3_i}  \\frac{\\partial z^3_i}{\\partial y^2_j}}_{M(n_3\\times n_2)}= \\mathrm{error_i}\\frac{\\partial y^3_i}{\\partial z^3_i} \\cdot\n",
    "(w^{3\\,T})_{ij}$$\n",
    "$$\n",
    "\\frac{\\partial z^3_i}{\\partial y^2_j} =  w^3_{ji} = (w^{3\\,T})_{ij}\n",
    "$$"
   ]
  },
  {
   "cell_type": "markdown",
   "metadata": {
    "deletable": false,
    "editable": false,
    "lang": "pl",
    "nbgrader": {
     "cell_type": "markdown",
     "checksum": "bfada771724ef4196bd98b90da7447c8",
     "grade": false,
     "grade_id": "cell-2a7b09365bd94c73",
     "locked": true,
     "schema_version": 3,
     "solution": false,
     "task": false
    }
   },
   "source": [
    "błąd z wyjscia warstwy 3 propagujemy wejscia warstwy 3\n"
   ]
  },
  {
   "cell_type": "code",
   "execution_count": 74,
   "metadata": {
    "deletable": false,
    "nbgrader": {
     "cell_type": "code",
     "checksum": "d298a88f4ba6caf13ef4d1b9647ad75c",
     "grade": false,
     "grade_id": "cell-ef355b32c1fe083a",
     "locked": false,
     "schema_version": 3,
     "solution": true
    }
   },
   "outputs": [
    {
     "data": {
      "text/plain": [
       "array([[0.00121626, 0.05923688],\n",
       "       [0.00930851, 0.05504532]])"
      ]
     },
     "execution_count": 74,
     "metadata": {},
     "output_type": "execute_result"
    }
   ],
   "source": [
    "error = (y3 * (1-y3) * error).dot(W3.T)\n",
    "error"
   ]
  },
  {
   "cell_type": "markdown",
   "metadata": {
    "deletable": false,
    "editable": false,
    "lang": "pl",
    "nbgrader": {
     "cell_type": "markdown",
     "checksum": "433f98572d1ded8d05df625508c2a58a",
     "grade": false,
     "grade_id": "cell-775cfabda4d086b5",
     "locked": true,
     "schema_version": 3,
     "solution": false
    }
   },
   "source": [
    "\n",
    "$$\n",
    "\\mathrm{error_j} \\to   \n",
    "= \\mathrm{error_i}\\frac{\\partial y^2_i}{\\partial z^2_i} \\cdot\n",
    "(w^{2\\,T})_{ij}$$\n",
    "\n",
    " error z wyjscia warstwy 2 propagujemy wejscia warsty 1"
   ]
  },
  {
   "cell_type": "code",
   "execution_count": 75,
   "metadata": {
    "deletable": false,
    "nbgrader": {
     "cell_type": "code",
     "checksum": "abec23c8e98903b49cb57321aa4b7adf",
     "grade": false,
     "grade_id": "cell-0bf7d97c0f2394ea",
     "locked": false,
     "schema_version": 3,
     "solution": true
    }
   },
   "outputs": [
    {
     "data": {
      "text/plain": [
       "array([[ 0.00264531,  0.00275747, -0.00264531,  0.00273503],\n",
       "       [ 0.00208715,  0.00294805, -0.00208715,  0.00277587]])"
      ]
     },
     "execution_count": 75,
     "metadata": {},
     "output_type": "execute_result"
    }
   ],
   "source": [
    "error = (y2 * (1-y2) * error).dot(W2.T)\n",
    "error"
   ]
  },
  {
   "cell_type": "markdown",
   "metadata": {
    "deletable": false,
    "editable": false,
    "lang": "pl",
    "nbgrader": {
     "cell_type": "markdown",
     "checksum": "e496c911a0da052957afc26be4f998b6",
     "grade": false,
     "grade_id": "cell-74fd3739a0b9125a",
     "locked": true,
     "schema_version": 3,
     "solution": false,
     "task": false
    }
   },
   "source": [
    "Obliczamy pochodną po wagach  warstwy 3 jako iloczyn zewnętrzny wektora \n",
    "$$x^1_j$$\n",
    " oraz $$\\mathrm{error_i} \\frac{\\partial y^1_i}{\\partial z^1_i}$$\n",
    "\n",
    "Jeśli zastosujemy reguły boadcastingu do obliczania iloczynu zewnętrzego, to otrzymamy wartości dla każdego przykładu z osobna:\n"
   ]
  },
  {
   "cell_type": "code",
   "execution_count": 76,
   "metadata": {},
   "outputs": [
    {
     "data": {
      "text/plain": [
       "(2, 3, 4)"
      ]
     },
     "execution_count": 76,
     "metadata": {},
     "output_type": "execute_result"
    }
   ],
   "source": [
    "dw1 = X[:,:,None]*( error*(y1*(1-y1)) )[:,None,:]\n",
    "dw1.shape"
   ]
  },
  {
   "cell_type": "markdown",
   "metadata": {
    "deletable": false,
    "editable": false,
    "lang": "pl",
    "nbgrader": {
     "cell_type": "markdown",
     "checksum": "f9d4281103952372aa917f359b2bb4ce",
     "grade": false,
     "grade_id": "cell-ab46501a122ba2bb",
     "locked": true,
     "schema_version": 3,
     "solution": false,
     "task": false
    }
   },
   "source": [
    "Aby uzystać pochodną po wszytkich wartościach wag w tej warstwie należy uśrednić wynik po przykładach (czyli osi zerowej)."
   ]
  },
  {
   "cell_type": "code",
   "execution_count": 77,
   "metadata": {
    "deletable": false,
    "nbgrader": {
     "cell_type": "code",
     "checksum": "328112429ade6db88965383340e13d33",
     "grade": false,
     "grade_id": "cell-1a528652a2db56be",
     "locked": false,
     "schema_version": 3,
     "solution": true
    }
   },
   "outputs": [
    {
     "data": {
      "text/plain": [
       "array([[ 3.49637974e-04,  3.81249771e-04, -3.44661610e-04,\n",
       "         3.65822827e-04],\n",
       "       [ 1.48802762e-04,  1.76669974e-04, -1.47009249e-04,\n",
       "         1.67892797e-04],\n",
       "       [ 9.05917690e-05,  1.05565268e-04, -8.94550355e-05,\n",
       "         1.00527365e-04]])"
      ]
     },
     "execution_count": 77,
     "metadata": {},
     "output_type": "execute_result"
    }
   ],
   "source": [
    "dw1 = np.mean(dw1, axis=0)\n",
    "dw1"
   ]
  },
  {
   "cell_type": "code",
   "execution_count": 78,
   "metadata": {
    "deletable": false,
    "editable": false,
    "nbgrader": {
     "cell_type": "code",
     "checksum": "3988f31593515f95e663ed4e5d43313e",
     "grade": true,
     "grade_id": "cell-a0e86e4df78950f0",
     "locked": true,
     "points": 1,
     "schema_version": 3,
     "solution": false
    }
   },
   "outputs": [],
   "source": [
    "np.testing.assert_allclose(dw1,[[0.0003496380231808871,\n",
    "   0.00038124978891573846,\n",
    "   -0.0003446616174187511,\n",
    "   0.00036582283792085946],\n",
    "  [0.0001488027919549495,\n",
    "   0.00017666998610366136,\n",
    "   -0.00014700925385113806,\n",
    "   0.00016789280925877392],\n",
    "  [9.059178410097957e-05,\n",
    "   0.0001055652683135122,\n",
    "   -8.945503941504285e-05,\n",
    "   0.00010052736615762115]] ,rtol=1e-3)"
   ]
  },
  {
   "cell_type": "markdown",
   "metadata": {
    "deletable": false,
    "editable": false,
    "lang": "pl",
    "nbgrader": {
     "cell_type": "markdown",
     "checksum": "18a8ee34634a9e9c1d19d6dafceca7fb",
     "grade": false,
     "grade_id": "cell-43159f13048522ff",
     "locked": true,
     "schema_version": 3,
     "solution": false,
     "task": false
    }
   },
   "source": [
    "Pochodna po bias-ie wynosi:\n",
    "\n",
    "$$\\mathrm{error_i} \\frac{\\partial y^1_i}{\\partial z^1_i}$$"
   ]
  },
  {
   "cell_type": "code",
   "execution_count": 79,
   "metadata": {
    "deletable": false,
    "nbgrader": {
     "cell_type": "code",
     "checksum": "f867836909c360b9acb52e893692b895",
     "grade": false,
     "grade_id": "cell-bed2259cbbb7a657",
     "locked": false,
     "schema_version": 3,
     "solution": true
    }
   },
   "outputs": [
    {
     "data": {
      "text/plain": [
       "array([ 0.00058211,  0.00071105, -0.00057554,  0.00067365])"
      ]
     },
     "execution_count": 79,
     "metadata": {},
     "output_type": "execute_result"
    }
   ],
   "source": [
    "db1 = error*(y1*(1-y1))\n",
    "db1 = np.mean(db1, axis=0)\n",
    "db1"
   ]
  },
  {
   "cell_type": "code",
   "execution_count": 80,
   "metadata": {
    "deletable": false,
    "editable": false,
    "nbgrader": {
     "cell_type": "code",
     "checksum": "a38352f77c74bd3729d60fe782c7ec42",
     "grade": true,
     "grade_id": "cell-c865e27049eb0132",
     "locked": true,
     "points": 1,
     "schema_version": 3,
     "solution": false
    }
   },
   "outputs": [],
   "source": [
    "np.testing.assert_allclose(db1,[0.0005821100203320384,\n",
    "  0.0007110470905900002,\n",
    "  -0.0005755421589128673,\n",
    "  0.0006736543728038669], rtol=1e-3)"
   ]
  },
  {
   "cell_type": "markdown",
   "metadata": {
    "deletable": false,
    "editable": false,
    "lang": "pl",
    "nbgrader": {
     "cell_type": "markdown",
     "checksum": "114bbcf9e7ad7ff0eddfb94beee4cd2f",
     "grade": false,
     "grade_id": "cell-778a6af96d9b4154",
     "locked": true,
     "schema_version": 3,
     "solution": false,
     "task": false
    }
   },
   "source": [
    "## Dodatek iloczyn zewnętrzny\n",
    "\n",
    "$$P_{ij} =  a_i b_j$$"
   ]
  },
  {
   "cell_type": "code",
   "execution_count": 81,
   "metadata": {},
   "outputs": [],
   "source": [
    "a = np.array([1,2,3])\n",
    "b = np.array([5,4])"
   ]
  },
  {
   "cell_type": "code",
   "execution_count": 82,
   "metadata": {},
   "outputs": [
    {
     "data": {
      "text/plain": [
       "array([[ 5,  4],\n",
       "       [10,  8],\n",
       "       [15, 12]])"
      ]
     },
     "execution_count": 82,
     "metadata": {},
     "output_type": "execute_result"
    }
   ],
   "source": [
    "np.outer(a,b)"
   ]
  },
  {
   "cell_type": "code",
   "execution_count": 83,
   "metadata": {},
   "outputs": [
    {
     "data": {
      "text/plain": [
       "array([[ 5,  4],\n",
       "       [10,  8],\n",
       "       [15, 12]])"
      ]
     },
     "execution_count": 83,
     "metadata": {},
     "output_type": "execute_result"
    }
   ],
   "source": [
    "a[:,None]*b[None,:]"
   ]
  },
  {
   "cell_type": "code",
   "execution_count": 28,
   "metadata": {},
   "outputs": [
    {
     "data": {
      "text/plain": [
       "[[5, 4], [10, 8], [15, 12]]"
      ]
     },
     "execution_count": 28,
     "metadata": {},
     "output_type": "execute_result"
    }
   ],
   "source": [
    "[[a[i]*b[j] for j in range(b.shape[0])] for i in range(a.shape[0])] "
   ]
  },
  {
   "cell_type": "code",
   "execution_count": null,
   "metadata": {},
   "outputs": [],
   "source": []
  }
 ],
 "metadata": {
  "kernelspec": {
   "display_name": "Python 3",
   "language": "python",
   "name": "python3"
  },
  "language_info": {
   "codemirror_mode": {
    "name": "ipython",
    "version": 3
   },
   "file_extension": ".py",
   "mimetype": "text/x-python",
   "name": "python",
   "nbconvert_exporter": "python",
   "pygments_lexer": "ipython3",
   "version": "3.7.4"
  },
  "latex_envs": {
   "LaTeX_envs_menu_present": true,
   "autoclose": false,
   "autocomplete": true,
   "bibliofile": "biblio.bib",
   "cite_by": "apalike",
   "current_citInitial": 1,
   "eqLabelWithNumbers": true,
   "eqNumInitial": 1,
   "hotkeys": {
    "equation": "Ctrl-E",
    "itemize": "Ctrl-I"
   },
   "labels_anchors": false,
   "latex_user_defs": false,
   "report_style_numbering": false,
   "user_envs_cfg": false
  },
  "nbTranslate": {
   "displayLangs": [
    "pl",
    "en"
   ],
   "hotkey": "alt-t",
   "langInMainMenu": true,
   "sourceLang": "pl",
   "targetLang": "en",
   "useGoogleTranslate": true
  }
 },
 "nbformat": 4,
 "nbformat_minor": 2
}
