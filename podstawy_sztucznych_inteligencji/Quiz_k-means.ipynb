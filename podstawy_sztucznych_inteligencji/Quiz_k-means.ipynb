{
 "cells": [
  {
   "cell_type": "markdown",
   "metadata": {},
   "source": [
    "# Podstawy Sztucznej Inteligencji 2020/2021\n"
   ]
  },
  {
   "cell_type": "markdown",
   "metadata": {},
   "source": [
    "Prosze uzupelnic kod tam gdzie znajduje napis `YOUR CODE HERE` lub 'YOUR ANSWER HERE'.\n",
    "\n",
    "Warto zresetowac 'kernel' i sprawdzic czy caly notatnik uruchamiany od poczatku nie daje bledow."
   ]
  },
  {
   "cell_type": "markdown",
   "metadata": {},
   "source": [
    "---"
   ]
  },
  {
   "cell_type": "markdown",
   "metadata": {
    "deletable": false,
    "editable": false,
    "lang": "pl",
    "nbgrader": {
     "cell_type": "markdown",
     "checksum": "d73c1098363081634fd78becea76f993",
     "grade": false,
     "grade_id": "cell-f5dec389a3da43d7",
     "locked": true,
     "schema_version": 3,
     "solution": false
    }
   },
   "source": [
    "# k-means"
   ]
  },
  {
   "cell_type": "code",
   "execution_count": 1,
   "metadata": {
    "deletable": false,
    "editable": false,
    "nbgrader": {
     "cell_type": "code",
     "checksum": "e1db8e83d8fe372df59d366b3237f1b4",
     "grade": false,
     "grade_id": "cell-6ba4c01cf4df60bf",
     "locked": true,
     "schema_version": 3,
     "solution": false
    }
   },
   "outputs": [],
   "source": [
    "from sklearn.datasets import make_blobs\n",
    "import matplotlib.pyplot as plt\n",
    "import numpy as np"
   ]
  },
  {
   "cell_type": "code",
   "execution_count": 2,
   "metadata": {
    "deletable": false,
    "editable": false,
    "nbgrader": {
     "cell_type": "code",
     "checksum": "cc9b59f5ca85b838abd3f12577ef6664",
     "grade": false,
     "grade_id": "cell-f223adb03e5f3aed",
     "locked": true,
     "schema_version": 3,
     "solution": false
    }
   },
   "outputs": [],
   "source": [
    "X, y = make_blobs(n_samples=150,\n",
    "         n_features=2,\n",
    "         centers=3,\n",
    "         cluster_std=.5,\n",
    "         shuffle=True,\n",
    "         random_state=345)"
   ]
  },
  {
   "cell_type": "code",
   "execution_count": 3,
   "metadata": {},
   "outputs": [
    {
     "data": {
      "text/plain": [
       "<matplotlib.collections.PathCollection at 0x7fa1143b0750>"
      ]
     },
     "execution_count": 3,
     "metadata": {},
     "output_type": "execute_result"
    },
    {
     "data": {
      "image/png": "[encoded data removed]",
      "text/plain": [
       "<Figure size 432x288 with 1 Axes>"
      ]
     },
     "metadata": {
      "needs_background": "light"
     },
     "output_type": "display_data"
    }
   ],
   "source": [
    "plt.scatter(X[:,0],X[:,1],c=y)"
   ]
  },
  {
   "cell_type": "code",
   "execution_count": 4,
   "metadata": {
    "deletable": false,
    "editable": false,
    "nbgrader": {
     "cell_type": "code",
     "checksum": "5da2a7a235fcb517af7315e6af10ff37",
     "grade": false,
     "grade_id": "cell-8e3caa0126430fdb",
     "locked": true,
     "schema_version": 3,
     "solution": false
    }
   },
   "outputs": [],
   "source": [
    "n_clusters = 3"
   ]
  },
  {
   "cell_type": "markdown",
   "metadata": {
    "deletable": false,
    "editable": false,
    "lang": "pl",
    "nbgrader": {
     "cell_type": "markdown",
     "checksum": "1f4330f23d2e53490b9f3b1a8b1b0c93",
     "grade": false,
     "grade_id": "cell-a8bbe0d145d80ac6",
     "locked": true,
     "schema_version": 3,
     "solution": false
    }
   },
   "source": [
    "Niech centra będą reprezentowane przez macierz $C$, gdzie pierwszy indeks numeruje centrum a drugi współrzędne. Wybierzmy jako centra kilka punktów z danych np.:"
   ]
  },
  {
   "cell_type": "code",
   "execution_count": 5,
   "metadata": {
    "deletable": false,
    "editable": false,
    "nbgrader": {
     "cell_type": "code",
     "checksum": "422d33ac2de30423d55e5fbb478a104c",
     "grade": false,
     "grade_id": "cell-278eb55df96dac0b",
     "locked": true,
     "schema_version": 3,
     "solution": false
    }
   },
   "outputs": [],
   "source": [
    "c = X[[1,2,3],:]\n"
   ]
  },
  {
   "cell_type": "markdown",
   "metadata": {
    "deletable": false,
    "editable": false,
    "lang": "pl",
    "nbgrader": {
     "cell_type": "markdown",
     "checksum": "1a1e8d2a3a02a6e225932ddf91636b6c",
     "grade": false,
     "grade_id": "cell-c07cc7805cb5ce89",
     "locked": true,
     "schema_version": 3,
     "solution": false
    }
   },
   "source": [
    "### Pogrupuj wg. centrów\n",
    "\n",
    "\n",
    "Mając centra możemy przypisac każdy punkt ze zbioru danych do klasy o numerze  najbliższego mu centrum\n",
    "\n"
   ]
  },
  {
   "cell_type": "code",
   "execution_count": 6,
   "metadata": {
    "deletable": false,
    "nbgrader": {
     "cell_type": "code",
     "checksum": "df4d4b42e96aea14d92869d73d9758ff",
     "grade": false,
     "grade_id": "cell-84f9f12f74781940",
     "locked": false,
     "schema_version": 3,
     "solution": true
    }
   },
   "outputs": [],
   "source": [
    "km = []\n",
    "for x_ in X:\n",
    "    km.append(np.argmin([np.sum((x_ - c_)**2) for c_ in c]))\n",
    "    \n",
    "# km = 0\n",
    "# for x_ in X:\n",
    "#     km.append(np.argmin(np.sum((x_ - c)**2, axis=1)))"
   ]
  },
  {
   "cell_type": "code",
   "execution_count": 7,
   "metadata": {
    "deletable": false,
    "editable": false,
    "nbgrader": {
     "cell_type": "code",
     "checksum": "c0da2076f8d80af4fd5fa4ed560a7636",
     "grade": true,
     "grade_id": "cell-5fe942012839bcbf",
     "locked": true,
     "points": 2,
     "schema_version": 3,
     "solution": false
    }
   },
   "outputs": [],
   "source": [
    "np.testing.assert_allclose(km[:17],[2, 0, 1, 2, 2, 2, 1, 2, 1, 2, 2, 1, 2, 2, 1, 2, 2])"
   ]
  },
  {
   "cell_type": "markdown",
   "metadata": {
    "lang": "pl"
   },
   "source": [
    "Zobaczmy jaki otrzymalismy wynik:"
   ]
  },
  {
   "cell_type": "code",
   "execution_count": 8,
   "metadata": {},
   "outputs": [
    {
     "data": {
      "text/plain": [
       "<matplotlib.collections.PathCollection at 0x7fa1143b0490>"
      ]
     },
     "execution_count": 8,
     "metadata": {},
     "output_type": "execute_result"
    },
    {
     "data": {
      "image/png": "[encoded data removed]",
      "text/plain": [
       "<Figure size 432x288 with 1 Axes>"
      ]
     },
     "metadata": {
      "needs_background": "light"
     },
     "output_type": "display_data"
    }
   ],
   "source": [
    "plt.scatter(X[:,0],X[:,1],c=km)"
   ]
  },
  {
   "cell_type": "markdown",
   "metadata": {
    "lang": "pl"
   },
   "source": [
    "### Aktualiza centrów\n",
    "\n",
    "Mając poklasyfikowane (wstępnie) dane można policzych ich centra po klasach "
   ]
  },
  {
   "cell_type": "code",
   "execution_count": 9,
   "metadata": {
    "deletable": false,
    "nbgrader": {
     "cell_type": "code",
     "checksum": "49eae152e926e49320b51a9a88a99984",
     "grade": false,
     "grade_id": "cell-c1695e90f0a05ac3",
     "locked": false,
     "schema_version": 3,
     "solution": true
    }
   },
   "outputs": [],
   "source": [
    "km = np.array(km)\n",
    "\n",
    "c = np.stack([np.mean(X[km==i], axis=0) for i in range(n_clusters)])"
   ]
  },
  {
   "cell_type": "code",
   "execution_count": 10,
   "metadata": {
    "deletable": false,
    "editable": false,
    "nbgrader": {
     "cell_type": "code",
     "checksum": "5542b0782e7fb76bcd8be4905d3dc879",
     "grade": true,
     "grade_id": "cell-114980e0a21b3bd6",
     "locked": true,
     "points": 1,
     "schema_version": 3,
     "solution": false
    }
   },
   "outputs": [],
   "source": [
    "assert c.shape == (n_clusters, 2)\n",
    "np.testing.assert_allclose(c,[[-4.22834853,  1.44810254],\n",
    "       [-5.1174013 , -0.34387858],\n",
    "       [-1.27885324,  2.68624462]], rtol=1e-3)"
   ]
  },
  {
   "cell_type": "markdown",
   "metadata": {
    "lang": "pl"
   },
   "source": [
    "### Oblicz SSE \n",
    "\n",
    "Suma kwadratów odchyleń od średniej wewnątrz klastra:\n",
    "\n",
    "$$\n",
    "   SSE = \\sum_c  \\sigma^2_c\n",
    "$$\n",
    "\n",
    " - $\\sigma^2_c$ - wariancja  klastra $c$\n",
    "\n",
    " \n"
   ]
  },
  {
   "cell_type": "code",
   "execution_count": 11,
   "metadata": {},
   "outputs": [],
   "source": [
    "var = [np.var(X[km==i]) for i in range(n_clusters)]"
   ]
  },
  {
   "cell_type": "code",
   "execution_count": 12,
   "metadata": {
    "deletable": false,
    "lang": "pl",
    "nbgrader": {
     "cell_type": "code",
     "checksum": "f8ced6dff54a8ddb024f786669d7d9ed",
     "grade": false,
     "grade_id": "cell-cc114b17fffe00c3",
     "locked": false,
     "schema_version": 3,
     "solution": true
    }
   },
   "outputs": [
    {
     "data": {
      "text/plain": [
       "20.179479083179757"
      ]
     },
     "execution_count": 12,
     "metadata": {},
     "output_type": "execute_result"
    }
   ],
   "source": [
    "SSE = np.sum(var)\n",
    "SSE"
   ]
  },
  {
   "cell_type": "code",
   "execution_count": 13,
   "metadata": {
    "deletable": false,
    "editable": false,
    "nbgrader": {
     "cell_type": "code",
     "checksum": "7dbf8d6d3da00fcbf1a7215b3403cf57",
     "grade": true,
     "grade_id": "cell-4283cb84b65ad565",
     "locked": true,
     "points": 1,
     "schema_version": 3,
     "solution": false
    }
   },
   "outputs": [],
   "source": [
    "np.testing.assert_allclose(SSE, 20.1794,rtol=1e-3)"
   ]
  },
  {
   "cell_type": "markdown",
   "metadata": {
    "lang": "pl"
   },
   "source": [
    "### Zaimplementuj algorytm k-means\n",
    "\n",
    "Startując z począktowego przypisania średnich (centrów):\n",
    "\n",
    " 1. Dla każdej klasy obliczamy średnią.\n",
    " 2. Przypisujemy danym nowe klasy kierując się minimalną odległością od średniej\n",
    " 3. Powtarzamy 1 i 2 aż podział nie będzie się zmieniał.\n",
    " \n",
    "Algorytm można monitorować za pomocą wartości SSE.\n",
    "\n",
    "**Note:** wystarczy kilka iteracji. \n"
   ]
  },
  {
   "cell_type": "code",
   "execution_count": 20,
   "metadata": {
    "deletable": false,
    "nbgrader": {
     "cell_type": "code",
     "checksum": "d4b8c92138e72ba72e17d66adab0d169",
     "grade": false,
     "grade_id": "cell-20c3459a13dc1dac",
     "locked": false,
     "schema_version": 3,
     "solution": true
    }
   },
   "outputs": [
    {
     "name": "stdout",
     "output_type": "stream",
     "text": [
      "20.179479083179757\n",
      "22.053691002983953\n",
      "18.575450514419433\n",
      "16.642698369278524\n",
      "16.492575727998783\n",
      "16.492575727998783\n",
      "16.492575727998783\n",
      "16.492575727998783\n",
      "16.492575727998783\n",
      "16.492575727998783\n"
     ]
    }
   ],
   "source": [
    "c = X[[1,2,3],:]\n",
    "\n",
    "#c = X[[1,2],:]\n",
    "#n_clusters = c.shape[0]\n",
    "\n",
    "for i in range(10):\n",
    "    km = []\n",
    "    for x_ in X:\n",
    "        km.append(np.argmin([np.sum((x_ - c_)**2) for c_ in c]))\n",
    "    \n",
    "    km = np.array(km)\n",
    "\n",
    "    c = np.stack([np.mean(X[km==i], axis=0) for i in range(n_clusters)])\n",
    "    \n",
    "    var = [np.var(X[km==i]) for i in range(n_clusters)]\n",
    "    \n",
    "    SSE = np.sum(var)\n",
    "    \n",
    "    print(SSE)"
   ]
  },
  {
   "cell_type": "code",
   "execution_count": 21,
   "metadata": {
    "deletable": false,
    "editable": false,
    "nbgrader": {
     "cell_type": "code",
     "checksum": "3a10ac432f8e3639372996026f25cdba",
     "grade": true,
     "grade_id": "cell-e64c01bc5acc647e",
     "locked": true,
     "points": 1,
     "schema_version": 3,
     "solution": false
    }
   },
   "outputs": [],
   "source": [
    "np.testing.assert_allclose(np.sort(np.bincount(km)), [49, 50, 51])"
   ]
  },
  {
   "cell_type": "code",
   "execution_count": 24,
   "metadata": {},
   "outputs": [
    {
     "data": {
      "text/plain": [
       "<matplotlib.collections.PathCollection at 0x7fa113153990>"
      ]
     },
     "execution_count": 24,
     "metadata": {},
     "output_type": "execute_result"
    },
    {
     "data": {
      "image/png": "[encoded data removed]",
      "text/plain": [
       "<Figure size 432x288 with 1 Axes>"
      ]
     },
     "metadata": {
      "needs_background": "light"
     },
     "output_type": "display_data"
    }
   ],
   "source": [
    "plt.scatter(X[:,0],X[:,1],c=km)\n",
    "plt.scatter(c[:,0],c[:,1])"
   ]
  },
  {
   "cell_type": "markdown",
   "metadata": {
    "lang": "pl"
   },
   "source": [
    "## implementacja w sklearn"
   ]
  },
  {
   "cell_type": "code",
   "execution_count": 17,
   "metadata": {},
   "outputs": [],
   "source": [
    "from sklearn.cluster import KMeans\n",
    "km = KMeans(n_clusters=3,\n",
    "            init='random',\n",
    "            n_init=10,\n",
    "            max_iter=300,\n",
    "            tol=1e-04,\n",
    "            )\n",
    "y_km = km.fit_predict(X)\n"
   ]
  },
  {
   "cell_type": "code",
   "execution_count": 18,
   "metadata": {},
   "outputs": [
    {
     "data": {
      "text/plain": [
       "<matplotlib.collections.PathCollection at 0x7fa1142692d0>"
      ]
     },
     "execution_count": 18,
     "metadata": {},
     "output_type": "execute_result"
    },
    {
     "data": {
      "image/png": "[encoded data removed]",
      "text/plain": [
       "<Figure size 432x288 with 1 Axes>"
      ]
     },
     "metadata": {
      "needs_background": "light"
     },
     "output_type": "display_data"
    }
   ],
   "source": [
    "plt.scatter(X[:,0],X[:,1],c=y_km)"
   ]
  },
  {
   "cell_type": "code",
   "execution_count": 19,
   "metadata": {},
   "outputs": [
    {
     "data": {
      "text/plain": [
       "array([51, 49, 50])"
      ]
     },
     "execution_count": 19,
     "metadata": {},
     "output_type": "execute_result"
    }
   ],
   "source": [
    "np.bincount(y_km)"
   ]
  },
  {
   "cell_type": "code",
   "execution_count": null,
   "metadata": {},
   "outputs": [],
   "source": []
  }
 ],
 "metadata": {
  "kernelspec": {
   "display_name": "Python 3",
   "language": "python",
   "name": "python3"
  },
  "language_info": {
   "codemirror_mode": {
    "name": "ipython",
    "version": 3
   },
   "file_extension": ".py",
   "mimetype": "text/x-python",
   "name": "python",
   "nbconvert_exporter": "python",
   "pygments_lexer": "ipython3",
   "version": "3.7.4"
  },
  "latex_envs": {
   "LaTeX_envs_menu_present": true,
   "autoclose": false,
   "autocomplete": true,
   "bibliofile": "biblio.bib",
   "cite_by": "apalike",
   "current_citInitial": 1,
   "eqLabelWithNumbers": true,
   "eqNumInitial": 1,
   "hotkeys": {
    "equation": "Ctrl-E",
    "itemize": "Ctrl-I"
   },
   "labels_anchors": false,
   "latex_user_defs": false,
   "report_style_numbering": false,
   "user_envs_cfg": false
  },
  "nbTranslate": {
   "displayLangs": [
    "pl",
    "en"
   ],
   "hotkey": "alt-t",
   "langInMainMenu": true,
   "sourceLang": "pl",
   "targetLang": "en",
   "useGoogleTranslate": true
  }
 },
 "nbformat": 4,
 "nbformat_minor": 2
}
