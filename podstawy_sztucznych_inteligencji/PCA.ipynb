{
 "cells": [
  {
   "cell_type": "markdown",
   "metadata": {},
   "source": [
    "# Podstawy Sztucznej Inteligencji 2020/2021\n"
   ]
  },
  {
   "cell_type": "markdown",
   "metadata": {},
   "source": [
    "Prosze uzupelnic kod tam gdzie znajduje napis `YOUR CODE HERE` lub 'YOUR ANSWER HERE'.\n",
    "\n",
    "Warto zresetowac 'kernel' i sprawdzic czy caly notatnik uruchamiany od poczatku nie daje bledow."
   ]
  },
  {
   "cell_type": "markdown",
   "metadata": {},
   "source": [
    "---"
   ]
  },
  {
   "cell_type": "markdown",
   "metadata": {
    "deletable": false,
    "editable": false,
    "lang": "pl",
    "nbgrader": {
     "cell_type": "markdown",
     "checksum": "b5f52269b46a1e5118ab799d4cb391ab",
     "grade": false,
     "grade_id": "cell-99d1a655ce596662",
     "locked": true,
     "schema_version": 3,
     "solution": false,
     "task": false
    }
   },
   "source": [
    "# Analiza głównych składowyn (PCA)"
   ]
  },
  {
   "cell_type": "code",
   "execution_count": 1,
   "metadata": {
    "deletable": false,
    "editable": false,
    "nbgrader": {
     "cell_type": "code",
     "checksum": "186733ef2017c87afbe73546573d0444",
     "grade": false,
     "grade_id": "cell-fbf5b2acf094e844",
     "locked": true,
     "schema_version": 3,
     "solution": false
    }
   },
   "outputs": [],
   "source": [
    "%matplotlib inline \n",
    "import numpy as np\n",
    "import matplotlib.pyplot as plt"
   ]
  },
  {
   "cell_type": "markdown",
   "metadata": {
    "deletable": false,
    "editable": false,
    "lang": "pl",
    "nbgrader": {
     "cell_type": "markdown",
     "checksum": "6e742dad174253121b7a0eae3cd851be",
     "grade": false,
     "grade_id": "cell-629ae932ee37074c",
     "locked": true,
     "schema_version": 3,
     "solution": false
    }
   },
   "source": [
    "Mamy zestaw danych będący 40 punktami na płaszczyźnie $(x_i,y_i).$"
   ]
  },
  {
   "cell_type": "code",
   "execution_count": 2,
   "metadata": {
    "deletable": false,
    "editable": false,
    "nbgrader": {
     "cell_type": "code",
     "checksum": "a63c82bafdca88afe49ddf685999b98f",
     "grade": false,
     "grade_id": "cell-6835d8a06ea52b92",
     "locked": true,
     "schema_version": 3,
     "solution": false
    }
   },
   "outputs": [
    {
     "name": "stdout",
     "output_type": "stream",
     "text": [
      "[[-0.85075555 -0.99418141]\n",
      " [-0.98000732 -1.24290939]\n",
      " [-0.96064166 -0.86958985]\n",
      " [-0.8494254  -1.133097  ]\n",
      " [-0.78744277 -0.84024224]\n",
      " [-0.76798466 -0.85879719]\n",
      " [-0.79972583 -1.02968848]\n",
      " [-0.61448034 -0.52103541]\n",
      " [-0.48632324 -0.37304502]\n",
      " [-0.64041113 -0.43833019]\n",
      " [-0.37836037 -0.58917565]\n",
      " [-0.39983877 -0.24395697]\n",
      " [-0.30487403 -0.33251785]\n",
      " [-0.22818184 -0.05131717]\n",
      " [-0.27801266 -0.1918239 ]\n",
      " [-0.33218623 -0.4287052 ]\n",
      " [-0.01111356 -0.14426692]\n",
      " [-0.11470669  0.11235247]\n",
      " [-0.11880484 -0.20711856]\n",
      " [-0.01996558  0.11546462]\n",
      " [ 0.07814043  0.26421061]\n",
      " [-0.01821025 -0.01558863]\n",
      " [ 0.35063363  0.31622483]\n",
      " [ 0.23585704  0.24948073]\n",
      " [ 0.05726806 -0.17664163]\n",
      " [ 0.35481634  0.30953593]\n",
      " [ 0.38081442 -0.06481417]\n",
      " [ 0.26862701  0.10078762]\n",
      " [ 0.43200205  0.36641648]\n",
      " [ 0.45386189  0.36282426]\n",
      " [ 0.54297023  0.20700735]\n",
      " [ 0.55827171  0.90501326]\n",
      " [ 0.54735582  0.48603539]\n",
      " [ 0.81363884  0.75005383]\n",
      " [ 0.72651125  0.90038497]\n",
      " [ 0.58466515  0.7658047 ]\n",
      " [ 0.51583227  0.62795563]\n",
      " [ 0.99732981  0.74303396]\n",
      " [ 0.91188474  1.13315607]\n",
      " [ 0.93485129  0.91219432]]\n"
     ]
    }
   ],
   "source": [
    "X = np.empty((40,2))\n",
    "X[:,0] = np.linspace(-1,1,40)+ np.random.randn(40)*0.1\n",
    "X[:,1] = 1.1*X[:,0] + np.random.randn(40)*0.2\n",
    "print(X)"
   ]
  },
  {
   "cell_type": "markdown",
   "metadata": {
    "lang": "pl"
   },
   "source": [
    "## Wstęp\n"
   ]
  },
  {
   "cell_type": "markdown",
   "metadata": {
    "deletable": false,
    "editable": false,
    "lang": "pl",
    "nbgrader": {
     "cell_type": "markdown",
     "checksum": "b2a1c15e5e9554e7723ab6746333d8e1",
     "grade": false,
     "grade_id": "cell-0f4b9ea8240fbdab",
     "locked": true,
     "schema_version": 3,
     "solution": false
    }
   },
   "source": [
    "### Macierz kowariancji\n",
    "\n",
    "  $$ C_{ij} = \\frac{1}{N-1}\\sum_{k=1}^N{ X_{ki} X_{kj}}$$"
   ]
  },
  {
   "cell_type": "markdown",
   "metadata": {
    "deletable": false,
    "editable": false,
    "lang": "pl",
    "nbgrader": {
     "cell_type": "markdown",
     "checksum": "06c951ad870b20a599e6425bc895ac43",
     "grade": false,
     "grade_id": "cell-2e9ee249502cbdf6",
     "locked": true,
     "schema_version": 3,
     "solution": false
    }
   },
   "source": [
    "###  Oblicz macierz kowariancji z danych zawartych w  `X` korzystając z funkcji `np.cov`."
   ]
  },
  {
   "cell_type": "code",
   "execution_count": 3,
   "metadata": {
    "deletable": false,
    "nbgrader": {
     "cell_type": "code",
     "checksum": "60a5fbe33aa2097b017989cdcbf2f8c4",
     "grade": false,
     "grade_id": "cell-add35ffd7ec859cc",
     "locked": false,
     "schema_version": 3,
     "solution": true
    }
   },
   "outputs": [
    {
     "data": {
      "text/plain": [
       "array([[0.33827369, 0.34836091],\n",
       "       [0.34836091, 0.3907354 ]])"
      ]
     },
     "execution_count": 3,
     "metadata": {},
     "output_type": "execute_result"
    }
   ],
   "source": [
    "C = np.cov(X.T)\n",
    "C"
   ]
  },
  {
   "cell_type": "code",
   "execution_count": 4,
   "metadata": {
    "deletable": false,
    "editable": false,
    "nbgrader": {
     "cell_type": "code",
     "checksum": "de625b2a4cd03994eedb7afc22ab4caf",
     "grade": true,
     "grade_id": "cell-63d94d686cd4a6e9",
     "locked": true,
     "points": 1,
     "schema_version": 3,
     "solution": false
    }
   },
   "outputs": [],
   "source": [
    "assert C.shape == (2,2)\n"
   ]
  },
  {
   "cell_type": "markdown",
   "metadata": {
    "deletable": false,
    "editable": false,
    "lang": "pl",
    "nbgrader": {
     "cell_type": "markdown",
     "checksum": "34a7d4fca8252b432923c5052fbe3d68",
     "grade": false,
     "grade_id": "cell-2c7cc935dbe5805f",
     "locked": true,
     "schema_version": 3,
     "solution": false
    }
   },
   "source": [
    "###  Oblicz macierz kowariancji z danych zawartych w  `X` korzystając z funkcji `np.mean` `np.sum`"
   ]
  },
  {
   "cell_type": "code",
   "execution_count": 84,
   "metadata": {
    "deletable": false,
    "nbgrader": {
     "cell_type": "code",
     "checksum": "62668f74ad90529d867e5720f147b067",
     "grade": false,
     "grade_id": "cell-5572e79c5905082c",
     "locked": false,
     "schema_version": 3,
     "solution": true
    }
   },
   "outputs": [],
   "source": [
    "# def kowariancja(X):\n",
    "#     N = X.shape[0]\n",
    "#     m = np.mean(X, axis=0)\n",
    "#     return (1/N-1) * (np.dot((X - m).T, X - m))\n",
    "\n",
    "def kowariancja(X):\n",
    "    m = np.mean(X, axis=0)\n",
    "    C = 1/(X.shape[0] - 1) * np.dot((X - m).T, X - m)\n",
    "    return C"
   ]
  },
  {
   "cell_type": "code",
   "execution_count": 85,
   "metadata": {
    "deletable": false,
    "editable": false,
    "nbgrader": {
     "cell_type": "code",
     "checksum": "31aaefd90c597104ecdb13fecab9525e",
     "grade": true,
     "grade_id": "cell-eed226ef2ec8cc51",
     "locked": true,
     "points": 2,
     "schema_version": 3,
     "solution": false
    }
   },
   "outputs": [],
   "source": [
    "np.testing.assert_almost_equal(kowariancja(X), np.cov(X.T))\n",
    "\n",
    "import inspect\n",
    "blacklist = [\"cov\",\"corrcoef\"]\n",
    "assert all([ not keyword  in inspect.getsource(kowariancja) for keyword in blacklist])"
   ]
  },
  {
   "cell_type": "markdown",
   "metadata": {
    "deletable": false,
    "editable": false,
    "lang": "pl",
    "nbgrader": {
     "cell_type": "markdown",
     "checksum": "67f471be078f3da1cc70fdc0d216cd94",
     "grade": false,
     "grade_id": "cell-0fd687b0881e8201",
     "locked": true,
     "schema_version": 3,
     "solution": false
    }
   },
   "source": [
    "### Wartości i wektory własne\n",
    "\n",
    "Narysujmy dane\n"
   ]
  },
  {
   "cell_type": "code",
   "execution_count": 7,
   "metadata": {},
   "outputs": [
    {
     "data": {
      "text/plain": [
       "<matplotlib.collections.PathCollection at 0x7feb7025ab10>"
      ]
     },
     "execution_count": 7,
     "metadata": {},
     "output_type": "execute_result"
    },
    {
     "data": {
      "image/png": "[encoded data removed]",
      "text/plain": [
       "<Figure size 432x288 with 1 Axes>"
      ]
     },
     "metadata": {
      "needs_background": "light"
     },
     "output_type": "display_data"
    }
   ],
   "source": [
    "plt.figure()\n",
    "plt.axes().set_aspect('equal', 'datalim')\n",
    "plt.scatter(X[:,0],X[:,1])"
   ]
  },
  {
   "cell_type": "markdown",
   "metadata": {
    "deletable": false,
    "editable": false,
    "lang": "pl",
    "nbgrader": {
     "cell_type": "markdown",
     "checksum": "a72ae8cb6c6e2c72203c0df271a4ed46",
     "grade": false,
     "grade_id": "cell-114affa9a91b5409",
     "locked": true,
     "schema_version": 3,
     "solution": false
    }
   },
   "source": [
    "### Zagadnienie własne\n",
    "\n",
    "Szukamy takich liczb $\\lambda_i$ i wektorów $x_i$ by zachodziło:\n",
    "$$ C x_i = \\lambda_i x_i $$\n",
    "\n",
    "\n",
    "W numpy mamy gotową funkcję obliczającą liczby $\\lambda_i$ i wektory $x_i$:"
   ]
  },
  {
   "cell_type": "code",
   "execution_count": 8,
   "metadata": {
    "deletable": false,
    "editable": false,
    "nbgrader": {
     "cell_type": "code",
     "checksum": "15066344a69bf8b0682cd1c7194e35dc",
     "grade": false,
     "grade_id": "cell-547f58594c7c6174",
     "locked": true,
     "schema_version": 3,
     "solution": false
    }
   },
   "outputs": [],
   "source": [
    "val, ev =  np.linalg.eig(C)"
   ]
  },
  {
   "cell_type": "markdown",
   "metadata": {
    "deletable": false,
    "editable": false,
    "lang": "pl",
    "nbgrader": {
     "cell_type": "markdown",
     "checksum": "cd263f65580b37f6d0f9da8c8b585c59",
     "grade": false,
     "grade_id": "cell-eefdbf4462a10001",
     "locked": true,
     "schema_version": 3,
     "solution": false
    }
   },
   "source": [
    "\n",
    "### Sprawdźmy rachunkiem równanie własne:\n",
    "\n",
    "Niech `lam` będzie wartością własną a `vec` wektorem:"
   ]
  },
  {
   "cell_type": "code",
   "execution_count": 19,
   "metadata": {
    "deletable": false,
    "nbgrader": {
     "cell_type": "code",
     "checksum": "ef90b1e655f0395fe4cb2f2bdcee09bb",
     "grade": false,
     "grade_id": "cell-bbf5d951c0e331ef",
     "locked": false,
     "schema_version": 3,
     "solution": true
    }
   },
   "outputs": [],
   "source": [
    "lam = val[1]\n",
    "vec = ev[:,1]"
   ]
  },
  {
   "cell_type": "markdown",
   "metadata": {
    "deletable": false,
    "editable": false,
    "lang": "pl",
    "nbgrader": {
     "cell_type": "markdown",
     "checksum": "b55c099e62f48fe691159493f1e80efa",
     "grade": false,
     "grade_id": "cell-ac3dadf288acae1e",
     "locked": true,
     "schema_version": 3,
     "solution": false
    }
   },
   "source": [
    "To zachodzi:\n",
    "    \n",
    "`np.dot(C,vec) == lam*vec`"
   ]
  },
  {
   "cell_type": "code",
   "execution_count": 20,
   "metadata": {
    "deletable": false,
    "editable": false,
    "nbgrader": {
     "cell_type": "code",
     "checksum": "e08cfda6b2f3187fbe1f575c4854168d",
     "grade": true,
     "grade_id": "cell-081658f3d63fef34",
     "locked": true,
     "points": 1,
     "schema_version": 3,
     "solution": false
    }
   },
   "outputs": [],
   "source": [
    "np.testing.assert_allclose(np.dot(C,vec), lam*vec)\n",
    "assert abs(lam)>1e-6"
   ]
  },
  {
   "cell_type": "markdown",
   "metadata": {
    "deletable": false,
    "editable": false,
    "lang": "pl",
    "nbgrader": {
     "cell_type": "markdown",
     "checksum": "7ddb4fd680701a78784da07e7d1dbefb",
     "grade": false,
     "grade_id": "cell-eaa57c6ef6ea94c0",
     "locked": true,
     "schema_version": 3,
     "solution": false
    }
   },
   "source": [
    "Dodajmy na rysunku wektory własne:"
   ]
  },
  {
   "cell_type": "code",
   "execution_count": 22,
   "metadata": {
    "deletable": false,
    "editable": false,
    "nbgrader": {
     "cell_type": "code",
     "checksum": "b3ea6dd94c0bf57bdfeecdbcc3458bd9",
     "grade": false,
     "grade_id": "cell-a338212765615b63",
     "locked": true,
     "schema_version": 3,
     "solution": false
    }
   },
   "outputs": [
    {
     "data": {
      "text/plain": [
       "<matplotlib.patches.FancyArrow at 0x7feb61740690>"
      ]
     },
     "execution_count": 22,
     "metadata": {},
     "output_type": "execute_result"
    },
    {
     "data": {
      "image/png": "[encoded data removed]",
      "text/plain": [
       "<Figure size 432x288 with 1 Axes>"
      ]
     },
     "metadata": {
      "needs_background": "light"
     },
     "output_type": "display_data"
    }
   ],
   "source": [
    "plt.figure()\n",
    "plt.axes().set_aspect('equal', 'datalim')\n",
    "plt.scatter(X[:,0],X[:,1])\n",
    "\n",
    "plt.arrow(0,0,ev[0,0],ev[1,0],color='r')\n",
    "plt.arrow(0,0,ev[0,1],ev[1,1],color='b')"
   ]
  },
  {
   "cell_type": "markdown",
   "metadata": {
    "deletable": false,
    "editable": false,
    "lang": "pl",
    "nbgrader": {
     "cell_type": "markdown",
     "checksum": "7824a4585ae0254116068410e38c06c1",
     "grade": false,
     "grade_id": "cell-91c194fb81fe34aa",
     "locked": true,
     "schema_version": 3,
     "solution": false
    }
   },
   "source": [
    "Sprawdźmy jeszcze,  że wektory własne odpowiadające różnym wartościom własnym są ortogonalne.\n",
    "    \n",
    "    "
   ]
  },
  {
   "cell_type": "code",
   "execution_count": 23,
   "metadata": {
    "deletable": false,
    "editable": false,
    "nbgrader": {
     "cell_type": "code",
     "checksum": "974e3a6bca351ba437c150d067c3f1d1",
     "grade": false,
     "grade_id": "cell-2f54b31f1c0932e4",
     "locked": true,
     "schema_version": 3,
     "solution": false
    }
   },
   "outputs": [],
   "source": [
    "np.testing.assert_approx_equal( np.dot(ev[:,0],ev[:,0]), 1)\n",
    "np.testing.assert_approx_equal( np.dot(ev[:,0],ev[:,1]), 0)"
   ]
  },
  {
   "cell_type": "markdown",
   "metadata": {
    "deletable": false,
    "editable": false,
    "lang": "pl",
    "nbgrader": {
     "cell_type": "markdown",
     "checksum": "af21a94c84940e8f0b33447bc9e6331c",
     "grade": false,
     "grade_id": "cell-c38cc5c54b3b68f0",
     "locked": true,
     "schema_version": 3,
     "solution": false
    }
   },
   "source": [
    "## Implementacja PCA krok po kroku\n",
    "\n",
    "Wykonamy redukcję PCA 13 wymiarowego  zestawu do przestrzeni 3d\n",
    "\n",
    "\n",
    "Referencyjną implementacją będzie `sklearn.decomposition.PCA`.\n",
    "\n",
    "Niech:\n",
    "\n",
    "  - `Xorig`  - dane orginalne (przed PCA)\n",
    "  - `X` - dane w zredukowanej przestrzeni\n",
    "\n",
    "Zaimplementujemy taką samą operację konstruując operator rzutowania z 13 do 3 wymiarów z trzech wektorów własnych macierzy kowariancji. Wektory wybierzemy kierując się tym by odpowiadały one największym wartościom własnym.\n",
    "\n"
   ]
  },
  {
   "cell_type": "code",
   "execution_count": 24,
   "metadata": {
    "deletable": false,
    "editable": false,
    "nbgrader": {
     "cell_type": "code",
     "checksum": "56d81b8f37c5bc55575907779d8904f3",
     "grade": false,
     "grade_id": "cell-a843a816f66e18fa",
     "locked": true,
     "schema_version": 3,
     "solution": false
    }
   },
   "outputs": [],
   "source": [
    "from sklearn import decomposition\n",
    "from sklearn import datasets\n",
    "from sklearn.preprocessing import StandardScaler\n",
    "\n",
    "X,y  = datasets.load_wine(return_X_y=True)\n",
    "scaler = StandardScaler()\n",
    "scaler.fit(X)\n",
    "X = scaler.transform(X)\n",
    "\n",
    "pca = decomposition.PCA(n_components=3)\n",
    "pca.fit(X)\n",
    "\n",
    "Xorig = X.copy()\n",
    "X = pca.transform(X)"
   ]
  },
  {
   "cell_type": "code",
   "execution_count": 25,
   "metadata": {},
   "outputs": [
    {
     "data": {
      "text/plain": [
       "((178, 13), '->', (178, 3))"
      ]
     },
     "execution_count": 25,
     "metadata": {},
     "output_type": "execute_result"
    }
   ],
   "source": [
    "Xorig.shape,\"->\", X.shape"
   ]
  },
  {
   "cell_type": "markdown",
   "metadata": {
    "deletable": false,
    "editable": false,
    "lang": "pl",
    "nbgrader": {
     "cell_type": "markdown",
     "checksum": "26c4dd97ce01b5c8de8f014eaeac3373",
     "grade": false,
     "grade_id": "cell-4c018530abfe79f3",
     "locked": true,
     "schema_version": 3,
     "solution": false
    }
   },
   "source": [
    "### Krok 1: oblicz macierz kowariancji"
   ]
  },
  {
   "cell_type": "code",
   "execution_count": 65,
   "metadata": {
    "deletable": false,
    "nbgrader": {
     "cell_type": "code",
     "checksum": "f73eb8674b6bcb8c9f4e1bea165aa63f",
     "grade": false,
     "grade_id": "cell-723f1c3f1b126c56",
     "locked": false,
     "schema_version": 3,
     "solution": true
    }
   },
   "outputs": [],
   "source": [
    "C = np.cov(Xorig.T)"
   ]
  },
  {
   "cell_type": "code",
   "execution_count": 66,
   "metadata": {
    "deletable": false,
    "editable": false,
    "nbgrader": {
     "cell_type": "code",
     "checksum": "372aa4ed17faa96269bd34c72574cbee",
     "grade": true,
     "grade_id": "cell-75b1778047492040",
     "locked": true,
     "points": 1,
     "schema_version": 3,
     "solution": false
    }
   },
   "outputs": [],
   "source": [
    "np.testing.assert_approx_equal(C[11,2],0.0039333279)\n",
    "np.testing.assert_almost_equal(C,np.cov(Xorig.T))"
   ]
  },
  {
   "cell_type": "markdown",
   "metadata": {
    "deletable": false,
    "editable": false,
    "lang": "pl",
    "nbgrader": {
     "cell_type": "markdown",
     "checksum": "df3d4e98cbb22a87ea5e8a2a9a62966b",
     "grade": false,
     "grade_id": "cell-e113423af3a1f1dd",
     "locked": true,
     "schema_version": 3,
     "solution": false
    }
   },
   "source": [
    "### Krok 2:  Wektory i wartości własne macierzy kowariancji. \n",
    "\n",
    "Rozwiązujemy numerycznie zagadnienie własne macierzy $C$:"
   ]
  },
  {
   "cell_type": "code",
   "execution_count": 67,
   "metadata": {
    "deletable": false,
    "editable": false,
    "nbgrader": {
     "cell_type": "code",
     "checksum": "32f1fe7cc66799400a29473ce71d1212",
     "grade": false,
     "grade_id": "cell-75f533b0fe2a0c44",
     "locked": true,
     "schema_version": 3,
     "solution": false
    }
   },
   "outputs": [],
   "source": [
    "val, ev =  np.linalg.eig(C)"
   ]
  },
  {
   "cell_type": "markdown",
   "metadata": {
    "deletable": false,
    "editable": false,
    "lang": "pl",
    "nbgrader": {
     "cell_type": "markdown",
     "checksum": "b5a743aebbb029778e4cf3549246bc7e",
     "grade": false,
     "grade_id": "cell-487618b654281922",
     "locked": true,
     "schema_version": 3,
     "solution": false
    }
   },
   "source": [
    "**Posortuj** wartości i odpowiadające im wektory własne od największej do najmniejszej wartości własnej.\n",
    "\n",
    "*warto rozważyć zastosowanie* `np.argsort`."
   ]
  },
  {
   "cell_type": "code",
   "execution_count": 68,
   "metadata": {
    "deletable": false,
    "nbgrader": {
     "cell_type": "code",
     "checksum": "4f7c37cec77228907460e28b8a33a869",
     "grade": false,
     "grade_id": "cell-ea0789ef1b113d84",
     "locked": false,
     "schema_version": 3,
     "solution": true
    }
   },
   "outputs": [],
   "source": [
    "sort_idx = np.argsort(val)[::-1]\n",
    "val = val[sort_idx]\n",
    "ev = ev[:, sort_idx]"
   ]
  },
  {
   "cell_type": "markdown",
   "metadata": {
    "deletable": false,
    "editable": false,
    "nbgrader": {
     "cell_type": "markdown",
     "checksum": "df4f91dbaf89aa3a60107b800dd4dd53",
     "grade": false,
     "grade_id": "cell-1341079979987ed2",
     "locked": true,
     "schema_version": 3,
     "solution": false
    }
   },
   "source": [
    "Pierwsze trzy wartości własne powinny być takie same jak liczby w atrybucie `pca.explained_variance_`"
   ]
  },
  {
   "cell_type": "code",
   "execution_count": 69,
   "metadata": {
    "deletable": false,
    "editable": false,
    "nbgrader": {
     "cell_type": "code",
     "checksum": "5429681e7bf36816f0de204cb743f46a",
     "grade": true,
     "grade_id": "cell-5db6db8003368745",
     "locked": true,
     "points": 1,
     "schema_version": 3,
     "solution": false
    }
   },
   "outputs": [],
   "source": [
    "np.testing.assert_allclose(val[-1],0.1039619918207, rtol=1e-5)\n",
    "np.testing.assert_allclose(pca.explained_variance_, val[:3], rtol=1e-5)"
   ]
  },
  {
   "cell_type": "markdown",
   "metadata": {
    "deletable": false,
    "editable": false,
    "lang": "pl",
    "nbgrader": {
     "cell_type": "markdown",
     "checksum": "d95b8899e61dd0508c3e77ef63bec6e1",
     "grade": false,
     "grade_id": "cell-6159cdea4defeed4",
     "locked": true,
     "schema_version": 3,
     "solution": false
    }
   },
   "source": [
    "### Krok 3: Stwórz macierz operatora rzutowania z przestrzeni 13d w  3d\n",
    "\n",
    "Mając jeden znormalizowany wektor własny (13 liczb), iloczyn skalarny tego wektora przez dowolny inny wektor tej samej przestrzeni (13d) można zinterpretować jako rzutowanie. Chcemy rzutować na pierwsze trzy wektory własne - można więc przedstawić to jako operację liniową z macierzą $(13,3)$\n",
    "\n",
    "\n",
    "Macierz taka składa się z trzech 13 elementowych kolumn, będących wartościami własnymi macierzy kowariancji."
   ]
  },
  {
   "cell_type": "code",
   "execution_count": 70,
   "metadata": {
    "deletable": false,
    "nbgrader": {
     "cell_type": "code",
     "checksum": "3cf898139abd6f58af1ed42a27a210d2",
     "grade": false,
     "grade_id": "cell-8c31bc7da5ea62f0",
     "locked": false,
     "schema_version": 3,
     "solution": true
    }
   },
   "outputs": [],
   "source": [
    "P = ev[:, :3]"
   ]
  },
  {
   "cell_type": "code",
   "execution_count": 71,
   "metadata": {},
   "outputs": [
    {
     "data": {
      "text/plain": [
       "(13, 3)"
      ]
     },
     "execution_count": 71,
     "metadata": {},
     "output_type": "execute_result"
    }
   ],
   "source": [
    "P.shape"
   ]
  },
  {
   "cell_type": "markdown",
   "metadata": {
    "deletable": false,
    "editable": false,
    "lang": "pl",
    "nbgrader": {
     "cell_type": "markdown",
     "checksum": "388ccefbaa86647c3439e4dee2c56a74",
     "grade": false,
     "grade_id": "cell-66cfb3f3d5dbeaac",
     "locked": true,
     "schema_version": 3,
     "solution": false
    }
   },
   "source": [
    "W sklearn mamy taką macierz w atrybucie `pca.components_`:"
   ]
  },
  {
   "cell_type": "code",
   "execution_count": 72,
   "metadata": {},
   "outputs": [
    {
     "data": {
      "text/plain": [
       "array([[ 0.1443294 , -0.24518758, -0.00205106, -0.23932041,  0.14199204,\n",
       "         0.39466085,  0.4229343 , -0.2985331 ,  0.31342949, -0.0886167 ,\n",
       "         0.29671456,  0.37616741,  0.28675223],\n",
       "       [-0.48365155, -0.22493093, -0.31606881,  0.0105905 , -0.299634  ,\n",
       "        -0.06503951,  0.00335981, -0.02877949, -0.03930172, -0.52999567,\n",
       "         0.27923515,  0.16449619, -0.36490283],\n",
       "       [-0.20738262,  0.08901289,  0.6262239 ,  0.61208035,  0.13075693,\n",
       "         0.14617896,  0.1506819 ,  0.17036816,  0.14945431, -0.13730621,\n",
       "         0.08522192,  0.16600459, -0.12674592]])"
      ]
     },
     "execution_count": 72,
     "metadata": {},
     "output_type": "execute_result"
    }
   ],
   "source": [
    "pca.components_"
   ]
  },
  {
   "cell_type": "markdown",
   "metadata": {
    "deletable": false,
    "editable": false,
    "lang": "pl",
    "nbgrader": {
     "cell_type": "markdown",
     "checksum": "4a762924168bd673f0fc362c5284dbe4",
     "grade": false,
     "grade_id": "cell-60072e2505cd8a72",
     "locked": true,
     "schema_version": 3,
     "solution": false
    }
   },
   "source": [
    "Sprawdźmy czy otrzymamy te same wyniki:"
   ]
  },
  {
   "cell_type": "code",
   "execution_count": 76,
   "metadata": {
    "deletable": false,
    "editable": false,
    "nbgrader": {
     "cell_type": "code",
     "checksum": "ea26def37f236d26080e6b8443ab7c70",
     "grade": true,
     "grade_id": "cell-d752cd81fb2aa292",
     "locked": true,
     "points": 1,
     "schema_version": 3,
     "solution": false
    }
   },
   "outputs": [],
   "source": [
    "np.testing.assert_almost_equal(np.abs(P.T),np.abs(pca.components_))"
   ]
  },
  {
   "cell_type": "markdown",
   "metadata": {
    "deletable": false,
    "editable": false,
    "lang": "pl",
    "nbgrader": {
     "cell_type": "markdown",
     "checksum": "6ea08b3fc26820e2e9e8b0fbb8718851",
     "grade": false,
     "grade_id": "cell-3db805b5ebdcd2b1",
     "locked": true,
     "schema_version": 3,
     "solution": false
    }
   },
   "source": [
    "### Krok 4: Wykonaj rzutowanie wszytkich  danych z 13d do 3d.\n",
    "\n",
    "Najpierw dla sprawdzenia wykonamy rzutowanie jeden punkt z 13d do 3d (np. z indeksem  12)"
   ]
  },
  {
   "cell_type": "code",
   "execution_count": 77,
   "metadata": {},
   "outputs": [
    {
     "name": "stdout",
     "output_type": "stream",
     "text": [
      "[ 0.92568536 -0.54429654  0.15894572 -1.04947918 -0.75420173  0.48853108\n",
      "  0.73362894 -0.57898505  0.3838836   0.23441405  0.84478453  0.40722789\n",
      "  1.82505483]\n"
     ]
    }
   ],
   "source": [
    "print(Xorig[12])"
   ]
  },
  {
   "cell_type": "code",
   "execution_count": 78,
   "metadata": {
    "deletable": false,
    "nbgrader": {
     "cell_type": "code",
     "checksum": "e22e62456012f6dba326a381d3829fb2",
     "grade": false,
     "grade_id": "cell-e8f95478dfb4213c",
     "locked": false,
     "schema_version": 3,
     "solution": true
    }
   },
   "outputs": [],
   "source": [
    "x12 = np.dot(Xorig[12], P)"
   ]
  },
  {
   "cell_type": "code",
   "execution_count": 79,
   "metadata": {},
   "outputs": [
    {
     "name": "stdout",
     "output_type": "stream",
     "text": [
      "[-2.11346234  0.67570634  0.86508643]\n"
     ]
    }
   ],
   "source": [
    "print(x12)"
   ]
  },
  {
   "cell_type": "code",
   "execution_count": 80,
   "metadata": {
    "deletable": false,
    "editable": false,
    "nbgrader": {
     "cell_type": "code",
     "checksum": "3957e7c3033200d42433c90c3a85a293",
     "grade": true,
     "grade_id": "cell-43724c753f69bb6e",
     "locked": true,
     "points": 1,
     "schema_version": 3,
     "solution": false
    }
   },
   "outputs": [],
   "source": [
    "x12.shape = (3,)\n",
    "np.testing.assert_almost_equal(np.abs(x12), np.abs([-2.11346234,  0.67570634, -0.86508643]))"
   ]
  },
  {
   "cell_type": "markdown",
   "metadata": {
    "deletable": false,
    "editable": false,
    "lang": "pl",
    "nbgrader": {
     "cell_type": "markdown",
     "checksum": "29cfec8bfd2f6ccf11a1bbf0f524e96d",
     "grade": false,
     "grade_id": "cell-f19382c6bd6d2241",
     "locked": true,
     "schema_version": 3,
     "solution": false,
     "task": false
    }
   },
   "source": [
    "Możemy teraz wykonać rzutowanie dla wszystkich danych. "
   ]
  },
  {
   "cell_type": "code",
   "execution_count": 81,
   "metadata": {
    "deletable": false,
    "nbgrader": {
     "cell_type": "code",
     "checksum": "34a0115b640d91ef68ac3bb372f054fb",
     "grade": false,
     "grade_id": "cell-590459a28a67266d",
     "locked": false,
     "schema_version": 3,
     "solution": true
    }
   },
   "outputs": [],
   "source": [
    "X_3d = np.dot(Xorig, P)"
   ]
  },
  {
   "cell_type": "code",
   "execution_count": 82,
   "metadata": {
    "deletable": false,
    "editable": false,
    "nbgrader": {
     "cell_type": "code",
     "checksum": "cc97c3813ab2a00f15e26064b4915f4f",
     "grade": true,
     "grade_id": "cell-189b1b2314f3c4a3",
     "locked": true,
     "points": 1,
     "schema_version": 3,
     "solution": false
    }
   },
   "outputs": [],
   "source": [
    "X_3d.shape  == (Xorig.shape[0],3)\n",
    "\n",
    "np.testing.assert_allclose(np.abs(X_3d[:4]),np.abs([[-3.31675081e+00,  1.44346263e+00, -1.65739045e-01],\n",
    "       [-2.20946492e+00, -3.33392887e-01, -2.02645737e+00],\n",
    "       [-2.51674015e+00,  1.03115130e+00,  9.82818670e-01],\n",
    "       [-3.75706561e+00,  2.75637191e+00, -1.76191842e-01]]), rtol=1e-5 )"
   ]
  },
  {
   "cell_type": "markdown",
   "metadata": {
    "deletable": false,
    "editable": false,
    "lang": "pl",
    "nbgrader": {
     "cell_type": "markdown",
     "checksum": "374eaeaa771e026fa3cdb1fb94b3ec5c",
     "grade": false,
     "grade_id": "cell-609040f986ce8cf8",
     "locked": true,
     "schema_version": 3,
     "solution": false
    }
   },
   "source": [
    "Ostatecznie wektor w zredukowanej przestrzeni obliczony przez nas i wektor obliczony przez sklear są takie same."
   ]
  },
  {
   "cell_type": "code",
   "execution_count": 83,
   "metadata": {
    "deletable": false,
    "editable": false,
    "nbgrader": {
     "cell_type": "code",
     "checksum": "41313f9cc94363e829e9e4afe57a2d74",
     "grade": true,
     "grade_id": "cell-b01db129a7569b33",
     "locked": true,
     "points": 1,
     "schema_version": 3,
     "solution": false
    }
   },
   "outputs": [],
   "source": [
    "np.testing.assert_allclose(np.abs(X_3d),np.abs(X), rtol=1e-5)"
   ]
  }
 ],
 "metadata": {
  "kernelspec": {
   "display_name": "Python 3",
   "language": "python",
   "name": "python3"
  },
  "language_info": {
   "codemirror_mode": {
    "name": "ipython",
    "version": 3
   },
   "file_extension": ".py",
   "mimetype": "text/x-python",
   "name": "python",
   "nbconvert_exporter": "python",
   "pygments_lexer": "ipython3",
   "version": "3.7.4"
  },
  "latex_envs": {
   "LaTeX_envs_menu_present": true,
   "autoclose": false,
   "autocomplete": true,
   "bibliofile": "biblio.bib",
   "cite_by": "apalike",
   "current_citInitial": 1,
   "eqLabelWithNumbers": true,
   "eqNumInitial": 1,
   "hotkeys": {
    "equation": "Ctrl-E",
    "itemize": "Ctrl-I"
   },
   "labels_anchors": false,
   "latex_user_defs": false,
   "report_style_numbering": false,
   "user_envs_cfg": false
  },
  "nbTranslate": {
   "displayLangs": [
    "pl",
    "en"
   ],
   "hotkey": "alt-t",
   "langInMainMenu": true,
   "sourceLang": "pl",
   "targetLang": "en",
   "useGoogleTranslate": true
  }
 },
 "nbformat": 4,
 "nbformat_minor": 2
}
