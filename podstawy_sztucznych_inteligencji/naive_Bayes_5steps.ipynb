{
 "cells": [
  {
   "cell_type": "markdown",
   "metadata": {},
   "source": [
    "# Podstawy Sztucznej Inteligencji 2020/2021\n"
   ]
  },
  {
   "cell_type": "markdown",
   "metadata": {},
   "source": [
    "Prosze uzupelnic kod tam gdzie znajduje napis `YOUR CODE HERE` lub 'YOUR ANSWER HERE'.\n",
    "\n",
    "Warto zresetowac 'kernel' i sprawdzic czy caly notatnik uruchamiany od poczatku nie daje bledow."
   ]
  },
  {
   "cell_type": "markdown",
   "metadata": {},
   "source": [
    "---"
   ]
  },
  {
   "cell_type": "markdown",
   "metadata": {
    "deletable": false,
    "editable": false,
    "lang": "pl",
    "nbgrader": {
     "cell_type": "markdown",
     "checksum": "47537b56394856fc874cd487d32eedd7",
     "grade": false,
     "grade_id": "cell-7278314649f478d4",
     "locked": true,
     "schema_version": 3,
     "solution": false
    }
   },
   "source": [
    "# Naiwny Bayes\n",
    "\n",
    "Notatnik ten zawiera implementacją naiwnego klasyfikatowa Bayesa wykorzystując bibliotekę `numpy`. Działanie klasyfikatora jest porównane implementacja ``GaussianNB`` w bibliotece `sklearn`."
   ]
  },
  {
   "cell_type": "markdown",
   "metadata": {
    "deletable": false,
    "editable": false,
    "lang": "pl",
    "nbgrader": {
     "cell_type": "markdown",
     "checksum": "8ce1e0d280742ff64fc8e36c0430c488",
     "grade": false,
     "grade_id": "cell-d274df2afba0412f",
     "locked": true,
     "schema_version": 3,
     "solution": false
    }
   },
   "source": [
    "Z twierdzenia Bayesa mamy:\n",
    "\n",
    "$$P(J=j|X=x)=\\frac{P(X=x|J=j)P(J=j)}{\\sum_{j\\in\\{1,\\ldots L\\}}P(X=x|J=j)P(J=j)}$$\n",
    "\n",
    "$$ p_j(x)=\\frac{p_jf_j(x)}{f(x)} $$\n",
    "\n",
    "Wykorzystamy te formuły w budowie klasyfikatora [Bayesa](http://books.icse.us.edu.pl/runestone/static/ai/KlasyfikacjaWOparciuPodobienstwoDoWzorca/OptymalnyKlasyfikatorStatystyczny.html)."
   ]
  },
  {
   "cell_type": "code",
   "execution_count": 4,
   "metadata": {
    "deletable": false,
    "editable": false,
    "lang": "pl",
    "nbgrader": {
     "cell_type": "code",
     "checksum": "942fafb1dd6a85c372864507fc3c67f1",
     "grade": false,
     "grade_id": "cell-e24ef649f8ceeaea",
     "locked": true,
     "schema_version": 3,
     "solution": false
    }
   },
   "outputs": [],
   "source": [
    "import numpy as np \n",
    "from sklearn.naive_bayes import GaussianNB\n",
    "\n",
    "from sklearn.model_selection import train_test_split\n",
    "from sklearn import datasets \n",
    "# dataset import \n",
    "iris = datasets.load_iris()\n",
    "\n",
    "gnb = GaussianNB()\n",
    "\n",
    "X = iris.data\n",
    "\n",
    "y = iris.target\n",
    "y = np.array(y)\n",
    "\n",
    "train, test, train_targets, test_targets = \\\n",
    "   train_test_split(X, y, test_size=0.31)\n",
    "\n",
    "# train \n",
    "clf = gnb.fit(train, train_targets)\n",
    "\n",
    "# Test\n",
    "Z = clf.predict(test)"
   ]
  },
  {
   "cell_type": "code",
   "execution_count": 5,
   "metadata": {
    "deletable": false,
    "editable": false,
    "nbgrader": {
     "cell_type": "code",
     "checksum": "52c97d4d7605f5d9a127ec82e6ace452",
     "grade": false,
     "grade_id": "cell-209959db55a51ec8",
     "locked": true,
     "schema_version": 3,
     "solution": false
    }
   },
   "outputs": [
    {
     "data": {
      "text/plain": [
       "((103, 4), (47, 4))"
      ]
     },
     "execution_count": 5,
     "metadata": {},
     "output_type": "execute_result"
    }
   ],
   "source": [
    "train.shape,test.shape"
   ]
  },
  {
   "cell_type": "markdown",
   "metadata": {
    "deletable": false,
    "editable": false,
    "lang": "pl",
    "nbgrader": {
     "cell_type": "markdown",
     "checksum": "9ad5b4761531e2ec932f46e75024296f",
     "grade": false,
     "grade_id": "cell-2f7a775c0c09cef3",
     "locked": true,
     "schema_version": 3,
     "solution": false
    }
   },
   "source": [
    "### Wyznacz unikalne klasy na zbiorze trenującym."
   ]
  },
  {
   "cell_type": "code",
   "execution_count": 6,
   "metadata": {
    "deletable": false,
    "nbgrader": {
     "cell_type": "code",
     "checksum": "afc82c851ccab7c38491d5225ff07559",
     "grade": false,
     "grade_id": "cell-5dc805642a59d6d9",
     "locked": false,
     "schema_version": 3,
     "solution": true
    }
   },
   "outputs": [],
   "source": [
    "Nlabels = np.unique(train_targets)"
   ]
  },
  {
   "cell_type": "code",
   "execution_count": null,
   "metadata": {
    "deletable": false,
    "editable": false,
    "nbgrader": {
     "cell_type": "code",
     "checksum": "3b430ee0c44c98d38cd591e5cd799e38",
     "grade": true,
     "grade_id": "cell-74b49f95665f4f84",
     "locked": true,
     "points": 1,
     "schema_version": 3,
     "solution": false
    }
   },
   "outputs": [],
   "source": [
    "np.testing.assert_array_equal(Nlabels,np.array([0, 1, 2]))"
   ]
  },
  {
   "cell_type": "markdown",
   "metadata": {
    "deletable": false,
    "editable": false,
    "lang": "pl",
    "nbgrader": {
     "cell_type": "markdown",
     "checksum": "e5e701fecb80ec8674dd53b24a8cf337",
     "grade": false,
     "grade_id": "cell-a4e2f30a51821e47",
     "locked": true,
     "schema_version": 3,
     "solution": false
    }
   },
   "source": [
    "### Jaki jest procent poprawych odpowiedzi?\n",
    "\n",
    "Implementacja ``GaussianNB`` daje tę odpowiedź w następujący sposób. Spróbuj otrzymać tą liczbę korzystając wyłącznie z funkcjonalności ``numpy`` i/lub języka Python."
   ]
  },
  {
   "cell_type": "code",
   "execution_count": 7,
   "metadata": {
    "deletable": false,
    "editable": false,
    "nbgrader": {
     "cell_type": "code",
     "checksum": "466e482e9ae76aae43c4f78e4546c6d0",
     "grade": false,
     "grade_id": "cell-50a2f56b2b152a3b",
     "locked": true,
     "schema_version": 3,
     "solution": false
    }
   },
   "outputs": [
    {
     "data": {
      "text/plain": [
       "0.9787234042553191"
      ]
     },
     "execution_count": 7,
     "metadata": {},
     "output_type": "execute_result"
    }
   ],
   "source": [
    "clf.score(test,test_targets)"
   ]
  },
  {
   "cell_type": "code",
   "execution_count": 8,
   "metadata": {
    "deletable": false,
    "nbgrader": {
     "cell_type": "code",
     "checksum": "b91f50da8abb78149914705d49c7c380",
     "grade": false,
     "grade_id": "cell-9e002553d865b165",
     "locked": false,
     "schema_version": 3,
     "solution": true
    }
   },
   "outputs": [],
   "source": [
    "a = np.sum(test_targets == Z)\n",
    "b = np.size(Z)\n",
    "correct = a/b"
   ]
  },
  {
   "cell_type": "code",
   "execution_count": 9,
   "metadata": {
    "deletable": false,
    "editable": false,
    "nbgrader": {
     "cell_type": "code",
     "checksum": "75672d1bab34b61712ba9a245c613e87",
     "grade": true,
     "grade_id": "cell-c05e0f08e67034cc",
     "locked": true,
     "points": 1,
     "schema_version": 3,
     "solution": false
    }
   },
   "outputs": [],
   "source": [
    "assert correct==clf.score(test,test_targets)"
   ]
  },
  {
   "cell_type": "markdown",
   "metadata": {
    "deletable": false,
    "editable": false,
    "lang": "pl",
    "nbgrader": {
     "cell_type": "markdown",
     "checksum": "9f664d5770d8970f714eda00c6ca3277",
     "grade": false,
     "grade_id": "cell-ade44a6833cad3e1",
     "locked": true,
     "schema_version": 3,
     "solution": false
    }
   },
   "source": [
    "### Które odpowiedzi są złe:"
   ]
  },
  {
   "cell_type": "code",
   "execution_count": 10,
   "metadata": {
    "deletable": false,
    "editable": false,
    "nbgrader": {
     "cell_type": "code",
     "checksum": "964e5fe505eb5fec2b6ef7c497edfe62",
     "grade": false,
     "grade_id": "cell-9eec1c682141be83",
     "locked": true,
     "schema_version": 3,
     "solution": false
    }
   },
   "outputs": [
    {
     "data": {
      "text/plain": [
       "(array([27]),)"
      ]
     },
     "execution_count": 10,
     "metadata": {},
     "output_type": "execute_result"
    }
   ],
   "source": [
    "bad_idx = np.where(Z!=test_targets)\n",
    "bad_idx"
   ]
  },
  {
   "cell_type": "markdown",
   "metadata": {
    "deletable": false,
    "editable": false,
    "lang": "pl",
    "nbgrader": {
     "cell_type": "markdown",
     "checksum": "9ebb26363478be1183551910f7f668d1",
     "grade": false,
     "grade_id": "cell-ccc194e47716387d",
     "locked": true,
     "schema_version": 3,
     "solution": false
    }
   },
   "source": [
    "### Parametry klasyfikatora"
   ]
  },
  {
   "cell_type": "code",
   "execution_count": 11,
   "metadata": {
    "deletable": false,
    "editable": false,
    "nbgrader": {
     "cell_type": "code",
     "checksum": "1f6969e4b4c868ee8919b3df136e05e0",
     "grade": false,
     "grade_id": "cell-579a18cfb3e2077d",
     "locked": true,
     "schema_version": 3,
     "solution": false
    }
   },
   "outputs": [
    {
     "data": {
      "text/plain": [
       "array([[5.01      , 3.42      , 1.48333333, 0.24      ],\n",
       "       [5.9025    , 2.77      , 4.2425    , 1.3275    ],\n",
       "       [6.41212121, 2.93939394, 5.4030303 , 2.0030303 ]])"
      ]
     },
     "execution_count": 11,
     "metadata": {},
     "output_type": "execute_result"
    }
   ],
   "source": [
    "clf.theta_"
   ]
  },
  {
   "cell_type": "code",
   "execution_count": 12,
   "metadata": {
    "deletable": false,
    "editable": false,
    "nbgrader": {
     "cell_type": "code",
     "checksum": "baa69066109523fceed653994fba7ecf",
     "grade": false,
     "grade_id": "cell-d0e1f4ada64f42cf",
     "locked": true,
     "schema_version": 3,
     "solution": false
    }
   },
   "outputs": [
    {
     "data": {
      "text/plain": [
       "array([[0.12756667, 0.13493334, 0.02405556, 0.01306667],\n",
       "       [0.23424375, 0.0871    , 0.22694375, 0.03749375],\n",
       "       [0.34045914, 0.08541782, 0.24150597, 0.08271809]])"
      ]
     },
     "execution_count": 12,
     "metadata": {},
     "output_type": "execute_result"
    }
   ],
   "source": [
    "clf.sigma_"
   ]
  },
  {
   "cell_type": "code",
   "execution_count": 13,
   "metadata": {
    "deletable": false,
    "editable": false,
    "nbgrader": {
     "cell_type": "code",
     "checksum": "2e5079ab071112e1f9edb4458e9ff512",
     "grade": false,
     "grade_id": "cell-a7c54726993462c0",
     "locked": true,
     "schema_version": 3,
     "solution": false
    }
   },
   "outputs": [
    {
     "data": {
      "text/plain": [
       "array([6.41212121, 2.93939394, 5.4030303 , 2.0030303 ])"
      ]
     },
     "execution_count": 13,
     "metadata": {},
     "output_type": "execute_result"
    }
   ],
   "source": [
    "ith = 2\n",
    "np.mean(train[train_targets == ith],axis=0)"
   ]
  },
  {
   "cell_type": "code",
   "execution_count": 14,
   "metadata": {
    "deletable": false,
    "editable": false,
    "nbgrader": {
     "cell_type": "code",
     "checksum": "ec56c8bb70df01b33a36db74b3e8367e",
     "grade": false,
     "grade_id": "cell-b15272a3365cbba1",
     "locked": true,
     "schema_version": 3,
     "solution": false
    }
   },
   "outputs": [
    {
     "data": {
      "text/plain": [
       "array([0.34045914, 0.08541781, 0.24150597, 0.08271809])"
      ]
     },
     "execution_count": 14,
     "metadata": {},
     "output_type": "execute_result"
    }
   ],
   "source": [
    "np.var(train[train_targets == ith],axis=0)"
   ]
  },
  {
   "cell_type": "markdown",
   "metadata": {
    "deletable": false,
    "editable": false,
    "lang": "pl",
    "nbgrader": {
     "cell_type": "markdown",
     "checksum": "26dfc520d43f2456dd206080b3ba3bf3",
     "grade": false,
     "grade_id": "cell-b29360c6e4751399",
     "locked": true,
     "schema_version": 3,
     "solution": false
    }
   },
   "source": [
    "## Implementacja naiwnego klasyfikatora Bayesa\n",
    "\n",
    "**1\\. Oblicz częstość występowania poszczególnych klasy $j$ w zbiorze treningowym $p_{j}$**\n",
    "\n",
    "Jest to prawdopodobieństwo *a priori*."
   ]
  },
  {
   "cell_type": "code",
   "execution_count": 15,
   "metadata": {
    "deletable": false,
    "nbgrader": {
     "cell_type": "code",
     "checksum": "521fadca7c5ed9d92242784f7bb451ea",
     "grade": false,
     "grade_id": "cell-05c1a043d5112990",
     "locked": false,
     "schema_version": 3,
     "solution": true
    }
   },
   "outputs": [],
   "source": [
    "p = np.unique(train_targets, return_counts = True)[1]/train_targets.shape[0]\n",
    "#druga metoda:\n",
    "#p = [np.sum(train_targets == ith)/train_targets.shape[0] for ith in range(3)]"
   ]
  },
  {
   "cell_type": "code",
   "execution_count": 16,
   "metadata": {
    "deletable": false,
    "editable": false,
    "nbgrader": {
     "cell_type": "code",
     "checksum": "522dfdb83f38b219ce623eb83ac5632b",
     "grade": true,
     "grade_id": "cell-c380329820017a6d",
     "locked": true,
     "points": 2,
     "schema_version": 3,
     "solution": false
    }
   },
   "outputs": [],
   "source": [
    "np.testing.assert_allclose(p,clf.class_prior_)"
   ]
  },
  {
   "cell_type": "markdown",
   "metadata": {
    "deletable": false,
    "editable": false,
    "lang": "pl",
    "nbgrader": {
     "cell_type": "markdown",
     "checksum": "669e4d12ec6669a8e6fb399423f31550",
     "grade": false,
     "grade_id": "cell-15c3cbe9d927bdc9",
     "locked": true,
     "schema_version": 3,
     "solution": false
    }
   },
   "source": [
    "**2\\. Oblicz wartość średnią dla każdej cechy z każdej klasy.**\n",
    "\n",
    "Niech $\\mu_{ij}$ oznacza  wartość średnią dla $j$-tej zmiennej w $i$-tej klasie, wtedy:\n",
    "   \n",
    "$$ \\mu_{ij} =  \\langle x_j \\rangle_{ \\forall x_j \\in \\;\\mathrm{label} \\;\n",
    "i } $$"
   ]
  },
  {
   "cell_type": "code",
   "execution_count": 17,
   "metadata": {
    "deletable": false,
    "nbgrader": {
     "cell_type": "code",
     "checksum": "3f4738a7027f300b00e1320e8d6169c8",
     "grade": false,
     "grade_id": "cell-19b53a82e4d25284",
     "locked": false,
     "schema_version": 3,
     "solution": true
    }
   },
   "outputs": [],
   "source": [
    "mu = np.stack([np.mean(train[train_targets == ith], axis=0) for ith in range(3)])"
   ]
  },
  {
   "cell_type": "code",
   "execution_count": 18,
   "metadata": {
    "deletable": false,
    "editable": false,
    "nbgrader": {
     "cell_type": "code",
     "checksum": "c1641053245a15ac128b487817f09cc0",
     "grade": true,
     "grade_id": "cell-cb6b4c5d617d34cd",
     "locked": true,
     "points": 2,
     "schema_version": 3,
     "solution": false
    }
   },
   "outputs": [],
   "source": [
    "np.testing.assert_allclose(mu,clf.theta_)"
   ]
  },
  {
   "cell_type": "code",
   "execution_count": 19,
   "metadata": {},
   "outputs": [
    {
     "data": {
      "text/plain": [
       "(3, 4)"
      ]
     },
     "execution_count": 19,
     "metadata": {},
     "output_type": "execute_result"
    }
   ],
   "source": [
    "mu.shape"
   ]
  },
  {
   "cell_type": "markdown",
   "metadata": {
    "deletable": false,
    "editable": false,
    "lang": "pl",
    "nbgrader": {
     "cell_type": "markdown",
     "checksum": "b5572d4c1a93abe5f8f740e630acd9f9",
     "grade": false,
     "grade_id": "cell-92d9cfb4e6218dcf",
     "locked": true,
     "schema_version": 3,
     "solution": false
    }
   },
   "source": [
    "**3\\. Oblicz wariancję $j$-tej zmiennej w $i$-tej klasie.**\n",
    "\n",
    "   $$ \\sigma_{ij}^2 = \\mathrm{Var} [x_j] _ {\\;\\;{ \\forall x_j \\in \\mathrm{class}\\; i}} $$"
   ]
  },
  {
   "cell_type": "code",
   "execution_count": 38,
   "metadata": {
    "deletable": false,
    "nbgrader": {
     "cell_type": "code",
     "checksum": "12c1060a60f72f57629d24fcd2639518",
     "grade": false,
     "grade_id": "cell-44ba370db5358650",
     "locked": false,
     "schema_version": 3,
     "solution": true
    }
   },
   "outputs": [],
   "source": [
    "sigma2 = np.stack([np.var(train[train_targets == ith], axis=0) for ith in range(3)])"
   ]
  },
  {
   "cell_type": "code",
   "execution_count": 39,
   "metadata": {
    "deletable": false,
    "editable": false,
    "nbgrader": {
     "cell_type": "code",
     "checksum": "d4b4452f126df5a071b3649124ca1790",
     "grade": true,
     "grade_id": "cell-2d5307ed0a70d2fd",
     "locked": true,
     "points": 2,
     "schema_version": 3,
     "solution": false
    }
   },
   "outputs": [],
   "source": [
    "np.testing.assert_almost_equal(sigma2,clf.sigma_)"
   ]
  },
  {
   "cell_type": "markdown",
   "metadata": {
    "deletable": false,
    "editable": false,
    "lang": "pl",
    "nbgrader": {
     "cell_type": "markdown",
     "checksum": "843b20e666af6cc921653d2c6b7b01f8",
     "grade": false,
     "grade_id": "cell-aa5aa9b8e9609672",
     "locked": true,
     "schema_version": 3,
     "solution": false
    }
   },
   "source": [
    "**4\\. Oblicz prawdopodobieństwo *a posteriori* klasy $i$ dla danego wektora zmiennych  $\\mathbf{x}$.**\n",
    "\n",
    "Niech $k$ oznacza liczbę cech (zmiennych). W naszym przypadku mamy $k=4$.\n",
    "\n",
    "Dla $i$-tej klasy mamy:\n",
    "\n",
    "\n",
    "$$ P_i(\\mathbf{x}) \\simeq p_i f_i = p_i \\frac{1}{\\sqrt{(2\\pi)^k\\Pi_{j=1}^k\\sigma_{ij}^2} } e^{ -\\displaystyle\\sum_{j=1}^{k}\\frac{(x_j-\\mu_{ij})^2}{2\\sigma_{ij}^2} }\n",
    " $$\n",
    " \n",
    "By otrzymać prawdopodobieństwa należy unormować $P_i$ dla każdego przypadku tak by suma $\\sum_i P_i(\\mathbf{x})=1$"
   ]
  },
  {
   "cell_type": "code",
   "execution_count": 47,
   "metadata": {
    "deletable": false,
    "nbgrader": {
     "cell_type": "code",
     "checksum": "5cfb3d3ab217ddbe2dfb1f02faf11dfd",
     "grade": false,
     "grade_id": "cell-d5a9a351f9292775",
     "locked": false,
     "schema_version": 3,
     "solution": true
    }
   },
   "outputs": [
    {
     "name": "stdout",
     "output_type": "stream",
     "text": [
      "number of features: k= 4\n"
     ]
    }
   ],
   "source": [
    "x  = test\n",
    "P = None\n",
    "k = test.shape[1] \n",
    "\n",
    "print ('number of features: k=',k)\n",
    "#OK!!!\n",
    "P = np.stack([p[i]*(1/(np.sqrt((2*np.pi)**k*np.prod(sigma2[i]))))*np.exp(-1/2.0*np.sum((x-mu[i])*(x-mu[i])/sigma2[i], axis=1)) for i in range(3)]).T\n",
    "P = P/np.sum(P, axis = 1)[:, np.newaxis]\n",
    "\n",
    "#???\n",
    "#P = p/np.sqrt((2*np.pi)**k * np.prod(sigma2[i], axis=1))*np.exp(-0.5*np.sum(x[:, np.newaxis, :] - mu[np.newaxis, :, :])**2/sigma2[np.newaxis, :, :], axis=2)\n",
    "#P = P/np.sum(P, axis=1)[:,newaxis]\n"
   ]
  },
  {
   "cell_type": "code",
   "execution_count": 48,
   "metadata": {},
   "outputs": [
    {
     "data": {
      "text/plain": [
       "((3, 4), (47, 4), (47, 3), array([0, 1, 2]))"
      ]
     },
     "execution_count": 48,
     "metadata": {},
     "output_type": "execute_result"
    }
   ],
   "source": [
    "sigma2.shape,x.shape,P.shape,np.unique(test_targets)"
   ]
  },
  {
   "cell_type": "code",
   "execution_count": 49,
   "metadata": {
    "deletable": false,
    "editable": false,
    "nbgrader": {
     "cell_type": "code",
     "checksum": "6a3ddd8477975546db9d6fd21bcbbb0b",
     "grade": true,
     "grade_id": "cell-8890f9bbc94e3376",
     "locked": true,
     "points": 4,
     "schema_version": 3,
     "solution": false
    }
   },
   "outputs": [],
   "source": [
    "np.testing.assert_almost_equal(P,clf.predict_proba(x))"
   ]
  },
  {
   "cell_type": "markdown",
   "metadata": {
    "deletable": false,
    "editable": false,
    "lang": "pl",
    "nbgrader": {
     "cell_type": "markdown",
     "checksum": "faa6cc7915e990e9199962313f15188b",
     "grade": false,
     "grade_id": "cell-b351fae0fb4da98e",
     "locked": true,
     "schema_version": 3,
     "solution": false
    }
   },
   "source": [
    "**5\\. Wyznacz klasę dla której prawdopodobieństwo *a posteriori* jest największe** \n",
    "\n",
    " $i$ : $\\quad\\textrm{ gdy } P_i(x)=\\max_{1\\leq j\\leq L} P_j(x)$\n"
   ]
  },
  {
   "cell_type": "code",
   "execution_count": 56,
   "metadata": {
    "deletable": false,
    "nbgrader": {
     "cell_type": "code",
     "checksum": "29fbd7d3999ed0b4d64e5b4155943a39",
     "grade": false,
     "grade_id": "cell-c19c296ed9d5d9be",
     "locked": false,
     "schema_version": 3,
     "solution": true
    }
   },
   "outputs": [],
   "source": [
    "prediction = np.argmax(P, axis=1)"
   ]
  },
  {
   "cell_type": "code",
   "execution_count": 57,
   "metadata": {
    "deletable": false,
    "editable": false,
    "nbgrader": {
     "cell_type": "code",
     "checksum": "9f05224b70b541b0eca47e592b3f0aa7",
     "grade": true,
     "grade_id": "cell-8cfa7cdc5a2ae1d9",
     "locked": true,
     "points": 3,
     "schema_version": 3,
     "solution": false
    }
   },
   "outputs": [],
   "source": [
    "np.testing.assert_equal( prediction, clf.predict(test))"
   ]
  },
  {
   "cell_type": "code",
   "execution_count": 58,
   "metadata": {
    "deletable": false,
    "editable": false,
    "nbgrader": {
     "cell_type": "code",
     "checksum": "1bcfe4b7889550374dd0976262645233",
     "grade": false,
     "grade_id": "cell-972fc5023d20f3f2",
     "locked": true,
     "schema_version": 3,
     "solution": false
    }
   },
   "outputs": [
    {
     "name": "stdout",
     "output_type": "stream",
     "text": [
      "[1 0 2 2 0 0 0 0 2 0 0 2 0 2 2 0 2 2 0 2 0 0 2 2 1 0 1 2 2 0 1 1 1 2 1 0 2\n",
      " 0 0 0 1 0 1 0 2 2 2]\n",
      "[1 0 2 2 0 0 0 0 2 0 0 2 0 2 2 0 2 2 0 2 0 0 2 2 1 0 1 2 2 0 1 1 1 2 1 0 2\n",
      " 0 0 0 1 0 1 0 2 2 2]\n"
     ]
    }
   ],
   "source": [
    "print(clf.predict(test) )\n",
    "print(prediction)"
   ]
  },
  {
   "cell_type": "code",
   "execution_count": 59,
   "metadata": {},
   "outputs": [
    {
     "data": {
      "text/plain": [
       "0.9787234042553191"
      ]
     },
     "execution_count": 59,
     "metadata": {},
     "output_type": "execute_result"
    }
   ],
   "source": [
    "clf.score(test,test_targets)"
   ]
  },
  {
   "cell_type": "code",
   "execution_count": 60,
   "metadata": {},
   "outputs": [
    {
     "data": {
      "text/plain": [
       "array([ True,  True,  True,  True,  True,  True,  True,  True,  True,\n",
       "        True,  True,  True,  True,  True,  True,  True,  True,  True,\n",
       "        True,  True,  True,  True,  True,  True,  True,  True,  True,\n",
       "        True,  True,  True,  True,  True,  True,  True,  True,  True,\n",
       "        True,  True,  True,  True,  True,  True,  True,  True,  True,\n",
       "        True,  True])"
      ]
     },
     "execution_count": 60,
     "metadata": {},
     "output_type": "execute_result"
    }
   ],
   "source": [
    "clf.predict(test) == prediction"
   ]
  },
  {
   "cell_type": "code",
   "execution_count": null,
   "metadata": {},
   "outputs": [],
   "source": []
  }
 ],
 "metadata": {
  "kernelspec": {
   "display_name": "Python 3",
   "language": "python",
   "name": "python3"
  },
  "language_info": {
   "codemirror_mode": {
    "name": "ipython",
    "version": 3
   },
   "file_extension": ".py",
   "mimetype": "text/x-python",
   "name": "python",
   "nbconvert_exporter": "python",
   "pygments_lexer": "ipython3",
   "version": "3.7.4"
  },
  "latex_envs": {
   "LaTeX_envs_menu_present": true,
   "autoclose": false,
   "autocomplete": true,
   "bibliofile": "biblio.bib",
   "cite_by": "apalike",
   "current_citInitial": 1,
   "eqLabelWithNumbers": true,
   "eqNumInitial": 1,
   "hotkeys": {
    "equation": "Ctrl-E",
    "itemize": "Ctrl-I"
   },
   "labels_anchors": false,
   "latex_user_defs": false,
   "report_style_numbering": false,
   "user_envs_cfg": false
  },
  "nbTranslate": {
   "displayLangs": [
    "pl",
    "en"
   ],
   "hotkey": "alt-t",
   "langInMainMenu": true,
   "sourceLang": "pl",
   "targetLang": "en",
   "useGoogleTranslate": true
  }
 },
 "nbformat": 4,
 "nbformat_minor": 2
}
