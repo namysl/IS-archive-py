{
 "cells": [
  {
   "cell_type": "code",
   "execution_count": 2,
   "metadata": {},
   "outputs": [],
   "source": [
    "import math\n",
    "import numpy as np\n",
    "import matplotlib.pyplot as plt"
   ]
  },
  {
   "cell_type": "code",
   "execution_count": 3,
   "metadata": {},
   "outputs": [],
   "source": [
    "def elipse(n, m, O, a, b, fill = 1):\n",
    "    assert isinstance(n, int)\n",
    "    assert isinstance(m, int)\n",
    "    assert n > 0 and m > 0\n",
    "    assert isinstance(O, (list, tuple))\n",
    "    assert O[0] < m and O[0] > 0\n",
    "    assert O[1] < n and O[1] > 0\n",
    "    assert isinstance(a, int)\n",
    "    assert isinstance(b, int)\n",
    "#     assert O[0] + b < m, \"b value is too big to fit the canvas\"\n",
    "#     assert O[0] - b > 0, \"b value is too big to fit the canvas\"\n",
    "#     assert O[1] - a > 0, \"a value is too big to fit the canvas\"\n",
    "#     assert O[1] + a < n, \"a value is too big to fit the canvas\"\n",
    "\n",
    "    RGB=np.zeros((n, m, 3), dtype = np.uint8)\n",
    "    RGB[:,:] = 255\n",
    "    \n",
    "    x0 = O[0]\n",
    "    y0 = O[1]\n",
    "    \n",
    "    if (a == b):  # okrag\n",
    "        RGB = circleBresenham(x0, y0, a, RGB)\n",
    "    else:\n",
    "        RGB = calculate(x0, y0, a, b, RGB)\n",
    "    \n",
    "    if fill == 1:\n",
    "        RGB = fill_it(x0, y0, a, b, RGB)\n",
    "    \n",
    "    return RGB\n",
    "\n",
    "\n",
    "def circleBresenham(x0, y0, r, RGB):\n",
    "    # recycling z zajec\n",
    "\n",
    "    d = 5.0-4*r\n",
    "    x = 0\n",
    "    y = r\n",
    "\n",
    "    deltaA = (-2*r+5)*4\n",
    "    deltaB = 3*4\n",
    "    while (x <= y):\n",
    "        RGB = circle_points(x0, y0, x, y, RGB)\n",
    "        if d > 0:\n",
    "            d += deltaA\n",
    "            y -= 1\n",
    "            x += 1\n",
    "            deltaA += 4*4\n",
    "            deltaB += 2*4\n",
    "\n",
    "        else:\n",
    "            d += deltaB\n",
    "            x += 1\n",
    "            deltaA += 2*4\n",
    "            deltaB += 2*4\n",
    "\n",
    "    return RGB\n",
    "\n",
    "\n",
    "def circle_points(x0, y0, x, y, RGB):\n",
    "    # recycling z zajec\n",
    "        \n",
    "    RGB[y0-y, x0-x] = 0\n",
    "    RGB[y0+y, x0-x] = 0\n",
    "    RGB[y0-y, x0+x] = 0\n",
    "    RGB[y0+y, x0+x] = 0\n",
    "    RGB[y0-x, x0-y] = 0\n",
    "    RGB[y0+x, x0-y] = 0\n",
    "    RGB[y0-x, x0+y] = 0\n",
    "    RGB[y0+x, x0+y] = 0\n",
    "    \n",
    "    return RGB\n",
    "\n",
    "    \n",
    "def fill_it(x0, y0, a, b, RGB):\n",
    "    for x in range(-b, b+1):\n",
    "        dy = int(math.sqrt(a**2 * (1 - (x**2)/(b**2))))\n",
    "        for y in range(-dy, dy+1):\n",
    "            RGB[y0+y, x0+x] = 0\n",
    "\n",
    "    return RGB\n",
    "\n",
    "\n",
    "def calculate(x0, y0, a, b, RGB):\n",
    "    RGB[y0+a, x0] = 0\n",
    "    RGB[y0-a, x0] = 0\n",
    "    RGB[y0, x0+b] = 0\n",
    "    RGB[y0, x0-b] = 0\n",
    "\n",
    "    y = 0\n",
    "    for x in range(1, b):\n",
    "        y = int(math.sqrt(a**2 * (1 - (x**2)/(b**2))))\n",
    "        \n",
    "        if -a * x / (b * math.sqrt(b**2 - x**2)) < -1:\n",
    "            break\n",
    "\n",
    "        RGB[y0+y, x0+x] = 0\n",
    "        RGB[y0+y, x0-x] = 0\n",
    "        RGB[y0-y, x0+x] = 0\n",
    "        RGB[y0-y, x0-x] = 0\n",
    "\n",
    "    for dy in range(1, y+1):\n",
    "        dx = int(math.sqrt(b**2 *(1 - (dy**2)/(a**2))))\n",
    "        \n",
    "        RGB[y0+dy, x0+dx] = 0\n",
    "        RGB[y0+dy, x0-dx] = 0\n",
    "        RGB[y0-dy, x0+dx] = 0\n",
    "        RGB[y0-dy, x0-dx] = 0\n",
    "    \n",
    "    return RGB\n",
    "\n",
    "\n",
    "def plotted(data, filename, show=True):\n",
    "    assert isinstance(filename, str)\n",
    "    \n",
    "    plt.imshow(data, interpolation='none')\n",
    "    plt.imsave(filename, data, format='png')\n",
    "\n",
    "    if show:\n",
    "        plt.show()"
   ]
  },
  {
   "cell_type": "code",
   "execution_count": 4,
   "metadata": {},
   "outputs": [
    {
     "data": {
      "image/png": "[encoded data removed]",
      "text/plain": [
       "<Figure size 432x288 with 1 Axes>"
      ]
     },
     "metadata": {},
     "output_type": "display_data"
    }
   ],
   "source": [
    "data1 = elipse(300, 300, [100, 100], 40, 60, 0)\n",
    "plotted(data1, 'data1.png')"
   ]
  },
  {
   "cell_type": "code",
   "execution_count": 10,
   "metadata": {},
   "outputs": [
    {
     "data": {
      "image/png": "[encoded data removed]",
      "text/plain": [
       "<Figure size 432x288 with 1 Axes>"
      ]
     },
     "metadata": {},
     "output_type": "display_data"
    }
   ],
   "source": [
    "data2 = elipse(300, 300, [150, 150], 50, 50, 1)\n",
    "plotted(data2, 'data2.png')"
   ]
  },
  {
   "cell_type": "code",
   "execution_count": 6,
   "metadata": {},
   "outputs": [
    {
     "data": {
      "image/png": "[encoded data removed]",
      "text/plain": [
       "<Figure size 432x288 with 1 Axes>"
      ]
     },
     "metadata": {},
     "output_type": "display_data"
    }
   ],
   "source": [
    "data3 = elipse(200, 200, [100, 100], 80, 20, 1)\n",
    "plotted(data3, 'data3.png')"
   ]
  },
  {
   "cell_type": "code",
   "execution_count": 7,
   "metadata": {},
   "outputs": [
    {
     "data": {
      "image/png": "[encoded data removed]",
      "text/plain": [
       "<Figure size 432x288 with 1 Axes>"
      ]
     },
     "metadata": {},
     "output_type": "display_data"
    }
   ],
   "source": [
    "data4 = elipse(200, 200, [100, 100], 20, 80, 0)\n",
    "plotted(data4, 'data4.png')"
   ]
  },
  {
   "cell_type": "code",
   "execution_count": 8,
   "metadata": {},
   "outputs": [
    {
     "data": {
      "image/png": "[encoded data removed]",
      "text/plain": [
       "<Figure size 432x288 with 1 Axes>"
      ]
     },
     "metadata": {},
     "output_type": "display_data"
    }
   ],
   "source": [
    "data5 = elipse(800, 400, [369, 499], 300, 30, 1)\n",
    "plotted(data5, 'data5.png')"
   ]
  },
  {
   "cell_type": "code",
   "execution_count": 9,
   "metadata": {},
   "outputs": [
    {
     "data": {
      "image/png": "[encoded data removed]",
      "text/plain": [
       "<Figure size 432x288 with 1 Axes>"
      ]
     },
     "metadata": {},
     "output_type": "display_data"
    }
   ],
   "source": [
    "data6 = elipse(100, 100, [20, 10], 10, 19, 0)\n",
    "plotted(data6, 'data6.png')"
   ]
  },
  {
   "cell_type": "code",
   "execution_count": null,
   "metadata": {},
   "outputs": [],
   "source": []
  }
 ],
 "metadata": {
  "kernelspec": {
   "display_name": "Python 3",
   "language": "python",
   "name": "python3"
  },
  "language_info": {
   "codemirror_mode": {
    "name": "ipython",
    "version": 3
   },
   "file_extension": ".py",
   "mimetype": "text/x-python",
   "name": "python",
   "nbconvert_exporter": "python",
   "pygments_lexer": "ipython3",
   "version": "3.6.7"
  }
 },
 "nbformat": 4,
 "nbformat_minor": 2
}
