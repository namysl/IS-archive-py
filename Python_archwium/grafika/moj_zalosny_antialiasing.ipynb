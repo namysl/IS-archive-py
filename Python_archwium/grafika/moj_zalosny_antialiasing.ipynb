{
 "cells": [
  {
   "cell_type": "code",
   "execution_count": 153,
   "metadata": {},
   "outputs": [],
   "source": [
    "import math\n",
    "import numpy as np\n",
    "import matplotlib.pyplot as plt\n",
    "\n",
    "def lineAColor(x1, y1, x2, y2, rysowac=False, kolor_linii=[0, 0, 0], kolor_tla=[255, 255, 255]):\n",
    "    assert isinstance(kolor_linii, list)\n",
    "    assert x1 < 100\n",
    "    assert x2 < 100\n",
    "    assert y1 < 100\n",
    "    assert y2 < 100\n",
    "    \n",
    "    if x1 > x2:\n",
    "        x1, x2 = x2, x1\n",
    "        y1, y2 = y2, y1\n",
    "\n",
    "    data = np.zeros((100, 100, 3), dtype=np.uint8)\n",
    "    data[:,:] = kolor_tla\n",
    "    \n",
    "    delta_y = (y2 - y1)\n",
    "    delta_x = (x2 - x1)\n",
    "    \n",
    "    m = delta_y / delta_x\n",
    "    \n",
    "    c = y1\n",
    "\n",
    "    \n",
    "    A = y2 - y1\n",
    "    B = x1 - x2\n",
    "    C = x1*y2 - x2*y1\n",
    "    print(A, B, C)\n",
    "    \n",
    "    for x in range(x1, x2):\n",
    "        y = math.floor(m * (x - x1) + c)\n",
    "        data[x, y, 0] = kolor_linii[0]\n",
    "        data[x, y, 1] = kolor_linii[1]\n",
    "        data[x, y, 2] = kolor_linii[2]\n",
    "        \n",
    "        ###\n",
    "        px = x\n",
    "        py = y-1\n",
    "\n",
    "        d = abs(A * px + B * py + C) / math.sqrt(A**2 + B**2)\n",
    "        #print(d)\n",
    "        \n",
    "        if d <= 1:\n",
    "            kolor_piksela = np.array(kolor_linii) * (1-d) + np.array(kolor_tla) * d\n",
    "            #kolor_piksela = np.floor(kolor_piksela)\n",
    "            data[x, y+1, 0] = kolor_piksela[0]\n",
    "            data[x, y+1, 1] = kolor_piksela[1]\n",
    "            data[x, y+1, 2] = kolor_piksela[2]\n",
    "        ###\n",
    "        \n",
    "    if rysowac is True:\n",
    "        print('x0:', x1, 'y0:', y1, 'xk:', x2, 'yk:', y2)\n",
    "        plt.imshow(data, interpolation='none', aspect=1)\n",
    "        plt.show()\n",
    "    \n",
    "    return data\n"
   ]
  },
  {
   "cell_type": "code",
   "execution_count": 154,
   "metadata": {},
   "outputs": [
    {
     "name": "stdout",
     "output_type": "stream",
     "text": [
      "48 -78 -60\n",
      "x0: 2 y0: 2 xk: 80 yk: 50\n"
     ]
    },
    {
     "data": {
      "image/png": "[encoded data removed]",
      "text/plain": [
       "<Figure size 432x288 with 1 Axes>"
      ]
     },
     "metadata": {},
     "output_type": "display_data"
    },
    {
     "name": "stdout",
     "output_type": "stream",
     "text": [
      "47 -48 -50\n",
      "x0: 2 y0: 3 xk: 50 yk: 50\n"
     ]
    },
    {
     "data": {
      "image/png": "[encoded data removed]",
      "text/plain": [
       "<Figure size 432x288 with 1 Axes>"
      ]
     },
     "metadata": {},
     "output_type": "display_data"
    },
    {
     "data": {
      "text/plain": [
       "array([[[231, 211,   9],\n",
       "        [231, 211,   9],\n",
       "        [231, 211,   9],\n",
       "        ...,\n",
       "        [231, 211,   9],\n",
       "        [231, 211,   9],\n",
       "        [231, 211,   9]],\n",
       "\n",
       "       [[231, 211,   9],\n",
       "        [231, 211,   9],\n",
       "        [231, 211,   9],\n",
       "        ...,\n",
       "        [231, 211,   9],\n",
       "        [231, 211,   9],\n",
       "        [231, 211,   9]],\n",
       "\n",
       "       [[231, 211,   9],\n",
       "        [231, 211,   9],\n",
       "        [231, 211,   9],\n",
       "        ...,\n",
       "        [231, 211,   9],\n",
       "        [231, 211,   9],\n",
       "        [231, 211,   9]],\n",
       "\n",
       "       ...,\n",
       "\n",
       "       [[231, 211,   9],\n",
       "        [231, 211,   9],\n",
       "        [231, 211,   9],\n",
       "        ...,\n",
       "        [231, 211,   9],\n",
       "        [231, 211,   9],\n",
       "        [231, 211,   9]],\n",
       "\n",
       "       [[231, 211,   9],\n",
       "        [231, 211,   9],\n",
       "        [231, 211,   9],\n",
       "        ...,\n",
       "        [231, 211,   9],\n",
       "        [231, 211,   9],\n",
       "        [231, 211,   9]],\n",
       "\n",
       "       [[231, 211,   9],\n",
       "        [231, 211,   9],\n",
       "        [231, 211,   9],\n",
       "        ...,\n",
       "        [231, 211,   9],\n",
       "        [231, 211,   9],\n",
       "        [231, 211,   9]]], dtype=uint8)"
      ]
     },
     "execution_count": 154,
     "metadata": {},
     "output_type": "execute_result"
    }
   ],
   "source": [
    "lineAColor(80, 50, 2, 2, True, [255, 255, 255], [102, 178, 255])\n",
    "lineAColor(2, 3, 50, 50, True, [0, 0, 0], [231, 211, 9])"
   ]
  },
  {
   "cell_type": "code",
   "execution_count": 92,
   "metadata": {},
   "outputs": [],
   "source": [
    "def liniaBresenham(x0, y0, xk, yk, rysowac=False, kolor_linii=[0, 0, 0], kolor_tla=[255, 255, 255]):\n",
    "    assert x0 < 100\n",
    "    assert xk < 100\n",
    "    assert y0 < 100\n",
    "    assert yk < 100\n",
    "    \n",
    "    dx = xk - x0\n",
    "    dy = yk - y0\n",
    "    \n",
    "    data = np.zeros((100, 100, 3), dtype=np.uint8)\n",
    "    data[:,:] = kolor_tla\n",
    "    \n",
    "    if abs(dx) > abs(dy):\n",
    "        if x0 > xk:\n",
    "            x0, xk = xk, x0\n",
    "            y0, yk = yk, y0\n",
    "\n",
    "        dx = xk - x0\n",
    "        dy = yk - y0\n",
    "\n",
    "        D = 2*dy - dx\n",
    "        y = y0\n",
    "\n",
    "        A = yk - y0\n",
    "        B = x0 - xk\n",
    "        C = x0*yk - xk*y0\n",
    "        print(A, B, C)\n",
    "    \n",
    "        for x in range(x0, xk):\n",
    "            data[y, x, 0] = 0\n",
    "            data[y, x, 1] = 0\n",
    "            data[y, x, 2] = 0\n",
    "            \n",
    "            ###\n",
    "            px = x\n",
    "            py = y-1\n",
    "\n",
    "            d = abs(A * px + B * py + C) / math.sqrt(A**2 + B**2)\n",
    "            #print(d)\n",
    "        \n",
    "            if d <= 1:\n",
    "                kolor_piksela = np.array(kolor_linii) * (1-d) + np.array(kolor_tla) * d\n",
    "                data[py, px, 0] = kolor_piksela[0]\n",
    "                data[py, px, 1] = kolor_piksela[1]\n",
    "                data[py, px, 2] = kolor_piksela[2]\n",
    "            ###\n",
    "\n",
    "            if D > 0:\n",
    "                y = y + np.sign(dy)\n",
    "                D = D - 2*abs(dx)\n",
    "\n",
    "            D = D + 2*abs(dy)\n",
    "\n",
    "    else:\n",
    "\n",
    "        if y0 > yk:\n",
    "            xk, x0 = x0, xk\n",
    "            yk, y0 = y0, yk\n",
    "        \n",
    "        dx = xk - x0\n",
    "        dy = yk - y0\n",
    "\n",
    "\n",
    "        D = 2*dx - dy\n",
    "        x = x0\n",
    "        \n",
    "        A = yk - y0\n",
    "        B = x0 - xk\n",
    "        C = x0*yk - xk*y0\n",
    "        print(A, B, C)\n",
    "\n",
    "        for y in range(y0, yk):\n",
    "            data[y, x, 0] = 0\n",
    "            data[y, x, 1] = 0\n",
    "            data[y, x, 2] = 0\n",
    "            \n",
    "            px = x\n",
    "            py = y-1\n",
    "\n",
    "            d = abs(A * px + B * py + C) / math.sqrt(A**2 + B**2)\n",
    "            #print(d)\n",
    "            \n",
    "            ###\n",
    "            if d <= 1:\n",
    "                kolor_piksela = np.array(kolor_linii) * (1-d) + np.array(kolor_tla) * d\n",
    "                data[py, px, 0] = kolor_piksela[0]\n",
    "                data[py, px, 1] = kolor_piksela[1]\n",
    "                data[py, px, 2] = kolor_piksela[2]\n",
    "            ###\n",
    "            \n",
    "            if D > 0:\n",
    "                x = x + np.sign(dx)\n",
    "                D = D - 2*abs(dy)\n",
    "\n",
    "            D = D + 2*abs(dx)\n",
    "    \n",
    "    if rysowac is True:\n",
    "        print('x0:', x0, 'y0:', y0, 'xk:', xk, 'yk:', yk)\n",
    "        plt.imshow(data, interpolation='none', aspect=1)\n",
    "        plt.show()\n",
    "        \n",
    "        plt.imsave('test1.png', data, format='png') #zapis obrazu\n",
    "        \n",
    "    return data"
   ]
  },
  {
   "cell_type": "code",
   "execution_count": 101,
   "metadata": {},
   "outputs": [
    {
     "name": "stdout",
     "output_type": "stream",
     "text": [
      "78 -78 0\n",
      "x0: 2 y0: 2 xk: 80 yk: 80\n"
     ]
    },
    {
     "data": {
      "image/png": "[encoded data removed]",
      "text/plain": [
       "<Figure size 432x288 with 1 Axes>"
      ]
     },
     "metadata": {},
     "output_type": "display_data"
    },
    {
     "name": "stdout",
     "output_type": "stream",
     "text": [
      "48 -78 -60\n",
      "x0: 2 y0: 2 xk: 80 yk: 50\n"
     ]
    },
    {
     "data": {
      "image/png": "[encoded data removed]",
      "text/plain": [
       "<Figure size 432x288 with 1 Axes>"
      ]
     },
     "metadata": {},
     "output_type": "display_data"
    },
    {
     "name": "stdout",
     "output_type": "stream",
     "text": [
      "47 -28 10\n",
      "x0: 2 y0: 3 xk: 30 yk: 50\n"
     ]
    },
    {
     "data": {
      "image/png": "[encoded data removed]",
      "text/plain": [
       "<Figure size 432x288 with 1 Axes>"
      ]
     },
     "metadata": {},
     "output_type": "display_data"
    },
    {
     "data": {
      "text/plain": [
       "array([[[131,  75, 109],\n",
       "        [131,  75, 109],\n",
       "        [131,  75, 109],\n",
       "        ...,\n",
       "        [131,  75, 109],\n",
       "        [131,  75, 109],\n",
       "        [131,  75, 109]],\n",
       "\n",
       "       [[131,  75, 109],\n",
       "        [131,  75, 109],\n",
       "        [131,  75, 109],\n",
       "        ...,\n",
       "        [131,  75, 109],\n",
       "        [131,  75, 109],\n",
       "        [131,  75, 109]],\n",
       "\n",
       "       [[131,  75, 109],\n",
       "        [131,  75, 109],\n",
       "        [146,  65, 126],\n",
       "        ...,\n",
       "        [131,  75, 109],\n",
       "        [131,  75, 109],\n",
       "        [131,  75, 109]],\n",
       "\n",
       "       ...,\n",
       "\n",
       "       [[131,  75, 109],\n",
       "        [131,  75, 109],\n",
       "        [131,  75, 109],\n",
       "        ...,\n",
       "        [131,  75, 109],\n",
       "        [131,  75, 109],\n",
       "        [131,  75, 109]],\n",
       "\n",
       "       [[131,  75, 109],\n",
       "        [131,  75, 109],\n",
       "        [131,  75, 109],\n",
       "        ...,\n",
       "        [131,  75, 109],\n",
       "        [131,  75, 109],\n",
       "        [131,  75, 109]],\n",
       "\n",
       "       [[131,  75, 109],\n",
       "        [131,  75, 109],\n",
       "        [131,  75, 109],\n",
       "        ...,\n",
       "        [131,  75, 109],\n",
       "        [131,  75, 109],\n",
       "        [131,  75, 109]]], dtype=uint8)"
      ]
     },
     "execution_count": 101,
     "metadata": {},
     "output_type": "execute_result"
    }
   ],
   "source": [
    "liniaBresenham(80, 80, 2, 2, True, [255, 255, 255], [102, 178, 255])\n",
    "liniaBresenham(80, 50, 2, 2, True, [110, 110, 110], [202, 205, 255])\n",
    "liniaBresenham(2, 3, 30, 50, True, [255, 255, 255], [131, 331, 109])"
   ]
  }
 ],
 "metadata": {
  "kernelspec": {
   "display_name": "Python 3",
   "language": "python",
   "name": "python3"
  },
  "language_info": {
   "codemirror_mode": {
    "name": "ipython",
    "version": 3
   },
   "file_extension": ".py",
   "mimetype": "text/x-python",
   "name": "python",
   "nbconvert_exporter": "python",
   "pygments_lexer": "ipython3",
   "version": "3.6.7"
  }
 },
 "nbformat": 4,
 "nbformat_minor": 5
}
