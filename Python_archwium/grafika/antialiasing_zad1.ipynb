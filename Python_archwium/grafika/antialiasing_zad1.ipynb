{
 "cells": [
  {
   "cell_type": "code",
   "execution_count": 1,
   "metadata": {},
   "outputs": [],
   "source": [
    "import matplotlib.pyplot as plt\n",
    "import numpy as np\n",
    "import random\n",
    "import time\n",
    "\n",
    "from math import sqrt"
   ]
  },
  {
   "cell_type": "code",
   "execution_count": 2,
   "metadata": {},
   "outputs": [],
   "source": [
    "def putpixel(data, x, y, color, alpha=1.0):\n",
    "    #print(x, y)\n",
    "    x = int(x)\n",
    "    y = int(y)\n",
    "    bg = data [y][x]\n",
    "    if(alpha>1.0):\n",
    "        alpha=1.\n",
    "    color2 = [0.0, 0.0 ,0.0 ]\n",
    "    color2[0] = alpha * color[0] + (1.0 - alpha) *bg[0]\n",
    "    color2[1] = alpha * color[1] + (1.0 - alpha) *bg[1]\n",
    "    color2[2] = alpha * color[2] + (1.0 - alpha) *bg[2]\n",
    "    data[y, x] = color2\n",
    "\n",
    "\n",
    "def lineAntiAliasing(x1, y1, x2, y2):\n",
    "    RGB = np.zeros((200, 200, 3), dtype = np.uint8)\n",
    "    RGB.fill(255)\n",
    "    A = y2-y1\n",
    "    B = x1-x2\n",
    "    C = x1*y2-x1*y2\n",
    "    Z = sqrt(A * A + B * B)\n",
    "    for x in range(min(x1, x2) - 1, max(x1, x2) + 2):\n",
    "        for y in range(min(y1, y2) - 1, max(y1, y2) + 2):\n",
    "            d = abs(A * x + B * y + C) / Z\n",
    "            if d<1:\n",
    "                RGB [y, x] = 255 * d\n",
    "                #putpixel(RGB, x, y, [255, 0, 0], (1 - d))\n",
    "    return RGB"
   ]
  },
  {
   "cell_type": "code",
   "execution_count": 3,
   "metadata": {},
   "outputs": [
    {
     "data": {
      "image/png": "[encoded data removed]",
      "text/plain": [
       "<Figure size 432x288 with 1 Axes>"
      ]
     },
     "metadata": {},
     "output_type": "display_data"
    }
   ],
   "source": [
    "data1=lineAntiAliasing(12, 12, 160, 140)\n",
    "\n",
    "plt.imshow(data1, interpolation='none')\n",
    "\n",
    "plt.imsave('line_simpleA.png', data1, format='png')"
   ]
  },
  {
   "cell_type": "code",
   "execution_count": 4,
   "metadata": {},
   "outputs": [],
   "source": [
    "def lineS(x1, y1, x2, y2):\n",
    "    RGB = np.zeros((200, 200, 3), dtype=np.uint8)\n",
    "    RGB.fill(255)\n",
    "    if (x1 == x2 and y1 == y2):\n",
    "        RGB[x1, y1] = 0\n",
    "        return RGB\n",
    "    if abs(x2 - x1) > abs(y2 - x1):\n",
    "        if x2 < x1:\n",
    "            x1, x2 = x2, x1\n",
    "            y1, y2 = y2, y1\n",
    "        a = (y2 - y1)/(x2-x1)\n",
    "        for x in range(x1, x2+1):\n",
    "            y = y1 + a*(x-x1)\n",
    "            RGB[int(y), x] = 0\n",
    "    else:   \n",
    "        if y2 < y1:\n",
    "            x1, x2 = x2, x1\n",
    "            y1, y2 = y2, y1\n",
    "        a = (x2 - x1)/(y2-y1)\n",
    "        for y in range(y1, y2+1):\n",
    "            x = x1 + a*(y-y1)\n",
    "            RGB[y, int(x)] = 0\n",
    "    return RGB"
   ]
  },
  {
   "cell_type": "code",
   "execution_count": 5,
   "metadata": {},
   "outputs": [
    {
     "data": {
      "image/png": "[encoded data removed]",
      "text/plain": [
       "<Figure size 432x288 with 1 Axes>"
      ]
     },
     "metadata": {},
     "output_type": "display_data"
    }
   ],
   "source": [
    "data2=lineS(12, 12, 160, 140)\n",
    "\n",
    "plt.imshow(data2, interpolation='none')\n",
    "\n",
    "plt.imsave('line_noA.png', data2, format='png')"
   ]
  },
  {
   "cell_type": "code",
   "execution_count": 6,
   "metadata": {},
   "outputs": [],
   "source": [
    "def _fpart(x):\n",
    "    return x - int(x)\n",
    " \n",
    "def _rfpart(x):\n",
    "    return 1.0 - _fpart(x)\n",
    " \n",
    "def _round(x):\n",
    "    return int(np.floor(x+0.5))\n",
    "\n",
    "def lineXW(x1, y1, x2, y2):\n",
    "    RGB=np.zeros((200, 200, 3), dtype = np.uint8)\n",
    "    RGB.fill(255)\n",
    "    \n",
    "    dx, dy = x2-x1, y2-y1\n",
    "    steep = abs(dx) < abs(dy)\n",
    "    \n",
    "    \n",
    "    if steep:\n",
    "        x1, y1, x2, y2 = y1, x1, y2, x2\n",
    "    if x2 < x1:\n",
    "        x1, x2, y1, y2 = x2, x1, y2, y1\n",
    "    dx, dy = x2-x1, y2-y1\n",
    "    gradient = dy/dx\n",
    "    #intery = y1 + _rfpart(x1) * gradient\n",
    "    \n",
    "    xend = _round(x1)\n",
    "    yend = y1 + gradient * (xend - x1)\n",
    "    \n",
    "    xgap = _rfpart(x1 + 0.5)\n",
    "    xpxl1 = xend \n",
    "    ypxl1 = int(np.floor(yend))\n",
    "    \n",
    "    if steep:\n",
    "        #putpixel(data, ypxl1,   xpxl1, colorl, _rfpart(yend) * xgap)\n",
    "        RGB[xpxl1, ypxl1,] = 255 * (1 - _rfpart(yend) * xgap)     \n",
    "        #putpixel(data, ypxl1+1, xpxl1, colorl, _fpart(yend) * xgap)\n",
    "        RGB[xpxl1, ypxl1 + 1,] = 255 * (1 - _fpart(yend) * xgap)\n",
    "        \n",
    "    else:\n",
    "        #putpixel(data, xpxl1, ypxl1, colorl, _rfpart(yend) * xgap)\n",
    "        RGB[ypxl1, xpxl1] = 255 * (1 - _rfpart(yend) * xgap)      \n",
    "        #putpixel(data, xpxl1, ypxl1+1,  colorl, _fpart(yend) * xgap)\n",
    "        RGB[ypxl1 + 1, xpxl1] = 255 * (1 - _fpart(yend) * xgap)\n",
    "    intery = yend + gradient\n",
    "    xend = _round(x2)\n",
    "    yend = y2 + gradient * (xend - x2)\n",
    "    xgap = _fpart(x2 + 0.5)\n",
    "    xpxl2 = xend \n",
    "    ypxl2 = int(np.floor(yend))\n",
    "    \n",
    "    if steep:\n",
    "        RGB[xpxl2, ypxl2] = 255 * (1 - _rfpart(yend) * xgap)\n",
    "        RGB[xpxl2, ypxl2 + 1,] = 255 * (1 - _fpart(yend) * xgap)\n",
    "    else:\n",
    "        RGB[ypxl2, xpxl2] = 255 * (1 - _rfpart(yend) * xgap)\n",
    "        RGB[ypxl2 + 1, xpxl2] = 255 * (1 - _fpart(yend) * xgap)\n",
    "\n",
    "    if steep:\n",
    "        for x in range( xpxl1 + 1, xpxl2):\n",
    "            RGB[x, int(np.floor(intery))] = 255 * (1 -_rfpart(intery) * xgap)\n",
    "            RGB[x, int(np.floor(intery))+1] = 255 * (1 - _fpart(intery) * xgap)\n",
    "            intery = intery + gradient\n",
    "        \n",
    "    else:\n",
    "        for x in range (xpxl1 + 1, xpxl2):\n",
    "            RGB[int(np.floor(intery)), x] = 255 * (1 -_rfpart(intery) * xgap)\n",
    "            RGB[int(np.floor(intery))+1, x] = 255 * (1 - _fpart(intery) * xgap)\n",
    "            intery = intery + gradient\n",
    "    \n",
    "    return RGB"
   ]
  },
  {
   "cell_type": "code",
   "execution_count": 7,
   "metadata": {},
   "outputs": [
    {
     "data": {
      "image/png": "[encoded data removed]",
      "text/plain": [
       "<Figure size 432x288 with 1 Axes>"
      ]
     },
     "metadata": {},
     "output_type": "display_data"
    }
   ],
   "source": [
    "data3 = lineXW(12, 12, 160, 140)\n",
    "\n",
    "plt.imshow(data3, interpolation='none')\n",
    "\n",
    "plt.imsave('line_XW_bw.png', data3, format='png')"
   ]
  },
  {
   "cell_type": "code",
   "execution_count": 8,
   "metadata": {},
   "outputs": [
    {
     "name": "stdout",
     "output_type": "stream",
     "text": [
      "laa: 0.00036049392861379706\n",
      "s: 4.345742269780794e-05\n",
      "xw: 0.0002040894218613684\n"
     ]
    }
   ],
   "source": [
    "# zad. 1 - porownanie lineAntiAliasing, lineS, lineXW\n",
    "\n",
    "wyniki_lineAntiAliasing = []\n",
    "wyniki_lineS = []\n",
    "wyniki_lineXW = []\n",
    "\n",
    "for proba in range(1000):\n",
    "    x0, y0 = random.randint(0, 99), random.randint(0, 99)\n",
    "    xk, yk = random.randint(0, 99), random.randint(0, 99)\n",
    "    #print(x0, y0, xk, yk)\n",
    "    \n",
    "    try:\n",
    "        start1 = time.time()\n",
    "        lineAntiAliasing(x0, y0, xk, yk)\n",
    "        end1 = time.time()\n",
    "        wynik1 = end1 - start1\n",
    "\n",
    "        start2 = time.time()\n",
    "        lineS(x0, y0, xk, yk)\n",
    "        end2 = time.time()\n",
    "        wynik2 = end2 - start2\n",
    "\n",
    "        start3 = time.time()\n",
    "        lineXW(x0, y0, xk, yk)\n",
    "        end3 = time.time()\n",
    "        wynik3 = end3 - start3 \n",
    "\n",
    "    except ZeroDivisionError:\n",
    "        continue\n",
    "   \n",
    "    wyniki_lineAntiAliasing.append(wynik1)\n",
    "    wyniki_lineS.append(wynik2)\n",
    "    wyniki_lineXW.append(wynik3)\n",
    "\n",
    "    \n",
    "print(\"laa:\", np.mean(wyniki_lineAntiAliasing))\n",
    "print(\"s:\", np.mean(wyniki_lineS))\n",
    "print(\"xw:\", np.mean(wyniki_lineXW))"
   ]
  }
 ],
 "metadata": {
  "kernelspec": {
   "display_name": "Python 3",
   "language": "python",
   "name": "python3"
  },
  "language_info": {
   "codemirror_mode": {
    "name": "ipython",
    "version": 3
   },
   "file_extension": ".py",
   "mimetype": "text/x-python",
   "name": "python",
   "nbconvert_exporter": "python",
   "pygments_lexer": "ipython3",
   "version": "3.6.7"
  }
 },
 "nbformat": 4,
 "nbformat_minor": 2
}
