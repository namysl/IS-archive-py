{
 "cells": [
  {
   "cell_type": "code",
   "execution_count": 3,
   "metadata": {},
   "outputs": [],
   "source": [
    "import numpy as np\n",
    "import matplotlib.pyplot as plt\n",
    "import matplotlib.cm as cm\n",
    "import time\n",
    "import random\n",
    "\n",
    "def line(data, x0, y0, x1, y1):\n",
    "    pass\n",
    "\n",
    "def BezierQuadBresenham(x0, y0, x1, y1, x2, y2):\n",
    "    data=np.zeros((100,100,3), dtype = np.uint8)\n",
    "    if x2>x1: #kierunek kroku w x\n",
    "        sx=1\n",
    "    else:\n",
    "        sx=-1\n",
    "    if y2>y0: #kierunek kroku w y\n",
    "        sy=1\n",
    "    else:\n",
    "        sy=-1\n",
    "    x=x0-2*x1+x2\n",
    "    y=y0-2*y1+y2\n",
    "    xy=2*x*y*sx*sy\n",
    "    cur= sx*sy*(x*(y2-y0)-y*(x2-x0))/2 #krzywizna krzywej\n",
    "    dx=(1-2*abs(x0-x1))*y*y+abs(y0-y1)*xy-2*cur*abs(y0-y2)\n",
    "    dy=(1-2*abs(y0-y1))*x*x+abs(x0-x1)*xy+2*cur*abs(x0-x2)\n",
    "    ex=(1-2*abs(x2-x1))*y*y+abs(y2-y1)*xy+2*cur*abs(y0-y2)\n",
    "    ey=(1-2*abs(y2-y1))*x*x+abs(x2-x1)*xy-2*cur*abs(x0-x2)\n",
    "    if((x0-x1)*(x2-x1)>0 or (y0-y1)*(y2-y1)>0):\n",
    "        #print(\"a\")\n",
    "        return None\n",
    "    if(cur==0):\n",
    "        line(data, x0, y0, x2, y2)\n",
    "        #print(\"b\")\n",
    "        return data\n",
    "    x*=2*x\n",
    "    y*=2*y\n",
    "    if(cur<0):\n",
    "        x=-x\n",
    "        dx=-dx\n",
    "        ex=-ex\n",
    "        xy=-xy\n",
    "        y=-y\n",
    "        dy=-dy\n",
    "        ey=-ey\n",
    "    if(dx>=-y or dy<=-x or ex<=-y or ey>=-x):\n",
    "        #print(\"c\")\n",
    "        x1=int((x0+4*x1+x2)/6)\n",
    "        y1=int((y0+4*y1+y2)/6)\n",
    "        line(data, x0, y0, x1, y1)\n",
    "        line(data, x1, y1, x2, y2)\n",
    "        return data;\n",
    "    dx-=xy\n",
    "    ex=dx+dy\n",
    "    dy-=xy\n",
    "    ii=0\n",
    "    while(True):\n",
    "        ii+=1\n",
    "        if(ii%100==0):\n",
    "            print(ii)\n",
    "        data[x0][y0]=255\n",
    "        ey=2*ex-dy\n",
    "        if(2*ex>=dx):\n",
    "            if(x0==x2):\n",
    "                break\n",
    "            x0+=sx\n",
    "            dy-=xy\n",
    "            dx+=y\n",
    "            ex+=dx\n",
    "        if(ey<=0):\n",
    "            if(y0==y2):\n",
    "                break\n",
    "            y0+=sy\n",
    "            dx-=xy\n",
    "            dy+=x\n",
    "            ex+=dy\n",
    "    return data\n",
    "\n",
    "\n",
    "\n",
    "\n",
    "#plt.imshow(data)"
   ]
  },
  {
   "cell_type": "code",
   "execution_count": 7,
   "metadata": {},
   "outputs": [
    {
     "data": {
      "image/png": "[encoded data removed]",
      "text/plain": [
       "<Figure size 432x288 with 1 Axes>"
      ]
     },
     "metadata": {
      "needs_background": "light"
     },
     "output_type": "display_data"
    }
   ],
   "source": [
    "data=BezierQuadBresenham(5,5,40,25, 90, 91)\n",
    "if not (data is None):\n",
    "    plt.imshow(data)\n",
    "else:\n",
    "    print(\"błąd\")"
   ]
  },
  {
   "cell_type": "code",
   "execution_count": null,
   "metadata": {},
   "outputs": [],
   "source": []
  }
 ],
 "metadata": {
  "kernelspec": {
   "display_name": "Python 3 (ipykernel)",
   "language": "python",
   "name": "python3"
  },
  "language_info": {
   "codemirror_mode": {
    "name": "ipython",
    "version": 3
   },
   "file_extension": ".py",
   "mimetype": "text/x-python",
   "name": "python",
   "nbconvert_exporter": "python",
   "pygments_lexer": "ipython3",
   "version": "3.9.5"
  }
 },
 "nbformat": 4,
 "nbformat_minor": 2
}
