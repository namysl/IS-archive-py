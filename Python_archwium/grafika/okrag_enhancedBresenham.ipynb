{
 "cells": [
  {
   "cell_type": "code",
   "execution_count": 28,
   "metadata": {},
   "outputs": [
    {
     "data": {
      "image/png": "[encoded data removed]",
      "text/plain": [
       "<Figure size 432x288 with 1 Axes>"
      ]
     },
     "metadata": {
      "needs_background": "light"
     },
     "output_type": "display_data"
    }
   ],
   "source": [
    "def circleBresenham(x0, y0, r):\n",
    "    RGB = np.zeros((200, 200, 3), dtype = np.uint8)\n",
    "    RGB.fill(255)\n",
    "\n",
    "    d = 5.0-4*r\n",
    "    x = 0\n",
    "    y = r\n",
    "\n",
    "    deltaA = (-2*r+5)*4\n",
    "    deltaB = 3*4\n",
    "    while (x <= y):\n",
    "        RGB = circle_points(x0, y0, int(x), int(y), RGB)\n",
    "        if d > 0:\n",
    "            d += deltaA\n",
    "            y -= 1\n",
    "            x += 1\n",
    "            deltaA += 4*4\n",
    "            deltaB += 2*4\n",
    "\n",
    "        else:\n",
    "            d += deltaB\n",
    "            x += 1\n",
    "            deltaA += 2*4\n",
    "            deltaB += 2*4\n",
    "\n",
    "    return RGB\n",
    "\n",
    "def circle_points(x0, y0, x, y, RGB): # funkcja odbija symetrycznie punkt\n",
    "        RGB = putpixel(x0-x, y0-y, RGB)\n",
    "        RGB = putpixel(x0-x, y0+y, RGB)\n",
    "        RGB = putpixel(x0+x, y0-y, RGB)\n",
    "        RGB = putpixel(x0+x, y0+y, RGB)\n",
    "        RGB = putpixel(x0-y, y0-x, RGB)\n",
    "        RGB = putpixel(x0-y, y0+x, RGB)\n",
    "        RGB = putpixel(x0+y, y0-x, RGB)\n",
    "        RGB = putpixel(x0+y, y0+x, RGB)\n",
    "        return RGB\n",
    "\n",
    "def putpixel(x, y, RGB):\n",
    "    RGB[x][y] = 0\n",
    "    return RGB\n",
    "\n",
    "\n",
    "data = circle(100, 100, 80)\n",
    "plt.imshow(data, interpolation='none', aspect=1)\n",
    "plt.show()\n",
    "plt.imsave('OKRAGmozebyc.png', data, format='png')"
   ]
  },
  {
   "cell_type": "code",
   "execution_count": 29,
   "metadata": {},
   "outputs": [
    {
     "data": {
      "image/png": "[encoded data removed]",
      "text/plain": [
       "<Figure size 432x288 with 1 Axes>"
      ]
     },
     "metadata": {
      "needs_background": "light"
     },
     "output_type": "display_data"
    }
   ],
   "source": [
    "def circleFill2(x, y, r):\n",
    "    RGB = np.zeros((200, 200, 3), dtype = np.uint8)\n",
    "    RGB.fill(255)\n",
    "    \n",
    "    # (x - Ox)^2 + (y - Oy)^2 <= r^2\n",
    "\n",
    "    for i in range(y-r, y+r+1):\n",
    "        for j in range (x-r, x+r+1):    \n",
    "            xx = j - x\n",
    "            yy = i - y\n",
    "            if xx*xx +yy*yy <= r*r:\n",
    "                RGB[i][j] = 0\n",
    "    \n",
    "    r = r-1\n",
    "    for i in range(y-r, y+r+1):\n",
    "        for j in range (x-r, x+r+1):    \n",
    "            xx = j - x\n",
    "            yy = i - y\n",
    "            if xx*xx +yy*yy <= r*r:\n",
    "                RGB[i][j] = 255\n",
    "    \n",
    "    return RGB\n",
    "\n",
    "\n",
    "data = circleFill2(100, 100, 80)\n",
    "plt.imshow(data, interpolation='none', aspect=1)\n",
    "plt.show()\n",
    "plt.imsave('OKRAGbrzydki.png', data, format='png')"
   ]
  },
  {
   "cell_type": "code",
   "execution_count": null,
   "metadata": {},
   "outputs": [],
   "source": []
  }
 ],
 "metadata": {
  "kernelspec": {
   "display_name": "Python 3",
   "language": "python",
   "name": "python3"
  },
  "language_info": {
   "codemirror_mode": {
    "name": "ipython",
    "version": 3
   },
   "file_extension": ".py",
   "mimetype": "text/x-python",
   "name": "python",
   "nbconvert_exporter": "python",
   "pygments_lexer": "ipython3",
   "version": "3.6.7"
  }
 },
 "nbformat": 4,
 "nbformat_minor": 5
}
