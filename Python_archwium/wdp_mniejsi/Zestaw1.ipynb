{
 "cells": [
  {
   "cell_type": "markdown",
   "metadata": {},
   "source": [
    "Zadanie 1"
   ]
  },
  {
   "cell_type": "code",
   "execution_count": 1,
   "metadata": {},
   "outputs": [
    {
     "name": "stdout",
     "output_type": "stream",
     "text": [
      "Podaj a:\n",
      "Podaj b:\n",
      "Podaj r:\n",
      "Pole kwadratu: 4.0\n",
      "Pole prostokąta: 6.0\n",
      "Pole kuli: 200.96\n",
      "Objętość sześcianu: 8.0\n",
      "Objętość kuli: 267.94666666666666\n"
     ]
    }
   ],
   "source": [
    "print(\"Podaj a:\")\n",
    "a = float(input())\n",
    "print(\"Podaj b:\")\n",
    "b = float(input())\n",
    "print(\"Podaj r:\")\n",
    "r = float(input())\n",
    "\n",
    "pi = 3.14\n",
    "pkwadrat = a**2\n",
    "pprostokat = a*b\n",
    "pkula = 4*pi*(r**2)\n",
    "vszescian = a**3\n",
    "vkula = (4/3)*pi*(r**3)\n",
    "\n",
    "print(\"Pole kwadratu:\", pkwadrat)\n",
    "print(\"Pole prostokąta:\", pprostokat)\n",
    "print(\"Pole kuli:\", pkula)\n",
    "print(\"Objętość sześcianu:\", vszescian)\n",
    "print(\"Objętość kuli:\", vkula)"
   ]
  },
  {
   "cell_type": "markdown",
   "metadata": {},
   "source": [
    "Zadanie 2"
   ]
  },
  {
   "cell_type": "code",
   "execution_count": 2,
   "metadata": {},
   "outputs": [
    {
     "name": "stdout",
     "output_type": "stream",
     "text": [
      "Podaj promień okręgu:\n",
      "l [mm] = 314.0\n",
      "l [cm] = 31.400000000000002\n",
      "l [dm] = 3.1400000000000006\n",
      "l [m] = 0.314\n"
     ]
    }
   ],
   "source": [
    "print(\"Podaj promień okręgu:\")\n",
    "r = float(input())\n",
    "pi = 3.14\n",
    "\n",
    "lcm = 2*pi*r\n",
    "lm = lcm*0.01\n",
    "ldm = lcm*0.1\n",
    "lmm = lcm*10\n",
    "\n",
    "print(\"l [mm] =\", lmm)\n",
    "print(\"l [cm] =\", lcm)\n",
    "print(\"l [dm] =\", ldm)\n",
    "print(\"l [m] =\", lm)"
   ]
  },
  {
   "cell_type": "markdown",
   "metadata": {},
   "source": [
    "Zadanie 3"
   ]
  },
  {
   "cell_type": "code",
   "execution_count": 3,
   "metadata": {},
   "outputs": [
    {
     "name": "stdout",
     "output_type": "stream",
     "text": [
      "Wprowadź pierwszy wyraz ciągu:\n",
      "Wprowadź liczbę wyrazów ciągu:\n",
      "Wprowadź różnicę ciągu arytmetycznego:\n",
      "Wprowadź iloraz ciągu geometrycznego różny od 1:\n",
      "Suma pierwszych 2 wyrazów ciągu arytmetycznego: 5.0\n",
      "Suma pierwszych 2 wyrazów ciągu geometryznego: 5.0\n"
     ]
    }
   ],
   "source": [
    "print (\"Wprowadź pierwszy wyraz ciągu:\")\n",
    "a1 = float(input())\n",
    "print (\"Wprowadź liczbę wyrazów ciągu:\") \n",
    "n = int(input())\n",
    "print (\"Wprowadź różnicę ciągu arytmetycznego:\")\n",
    "r = float(input())\n",
    "print (\"Wprowadź iloraz ciągu geometrycznego różny od 1:\")\n",
    "q = float(input())\n",
    "\n",
    "Sna = (2*a1 + (n - 1)*r)*n/2\n",
    "Sng = (a1*(1 - q**n))/(1 - q)\n",
    "\n",
    "print(\"Suma pierwszych\", n, \"wyrazów ciągu arytmetycznego:\", Sna)\n",
    "print(\"Suma pierwszych\", n, \"wyrazów ciągu geometryznego:\", Sng)"
   ]
  },
  {
   "cell_type": "markdown",
   "metadata": {},
   "source": [
    "Zadanie 4"
   ]
  },
  {
   "cell_type": "code",
   "execution_count": 4,
   "metadata": {},
   "outputs": [
    {
     "name": "stdout",
     "output_type": "stream",
     "text": [
      "Podaj temperaturę w stopniach Celsjusza:\n",
      "Podaj temperaturę w stopniach Fahrenheita:\n",
      "11.0 stopni Celsjusza, to 51.8 stopni Fahrenheita\n",
      "11.0 stopni Fahrenheita, to -11.666666666666668 stopni Celsjusza\n"
     ]
    }
   ],
   "source": [
    "print(\"Podaj temperaturę w stopniach Celsjusza:\")\n",
    "C = float(input())\n",
    "print(\"Podaj temperaturę w stopniach Fahrenheita:\")\n",
    "F = float(input())\n",
    "\n",
    "CF = 32 + (9/5)*C\n",
    "FC = (5/9)*(F - 32)\n",
    "\n",
    "print(C, \"stopni Celsjusza, to\", CF, \"stopni Fahrenheita\")\n",
    "print (F, \"stopni Fahrenheita, to\", FC, \"stopni Celsjusza\")"
   ]
  },
  {
   "cell_type": "markdown",
   "metadata": {},
   "source": [
    "Zadanie 5"
   ]
  },
  {
   "cell_type": "code",
   "execution_count": 5,
   "metadata": {},
   "outputs": [
    {
     "name": "stdout",
     "output_type": "stream",
     "text": [
      "Podaj n:\n",
      "Suma kwadratów 1 pierwszych liczb naturalnych to: 1.0\n"
     ]
    }
   ],
   "source": [
    "print(\"Podaj n:\")\n",
    "n = int(input())\n",
    "\n",
    "suma = (n*(n + 1)*(2*n + 1))/6\n",
    "\n",
    "print(\"Suma kwadratów\", n, \"pierwszych liczb naturalnych to:\", suma)"
   ]
  }
 ],
 "metadata": {
  "kernelspec": {
   "display_name": "Python 3",
   "language": "python",
   "name": "python3"
  },
  "language_info": {
   "codemirror_mode": {
    "name": "ipython",
    "version": 3
   },
   "file_extension": ".py",
   "mimetype": "text/x-python",
   "name": "python",
   "nbconvert_exporter": "python",
   "pygments_lexer": "ipython3",
   "version": "3.6.7"
  }
 },
 "nbformat": 4,
 "nbformat_minor": 2
}
