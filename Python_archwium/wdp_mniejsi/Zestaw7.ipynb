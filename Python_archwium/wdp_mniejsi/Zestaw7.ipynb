{
 "cells": [
  {
   "cell_type": "markdown",
   "metadata": {},
   "source": [
    "#### Zadanie 1\n",
    "Napisz funkcję, która dodaje dwa ułamki zwykłe podane (jako argumenty) jako listy `[licznik, mianownik]` np. dla `[3,4]` i `[1,6]` wynikiem będzie `[11,12]`. \n",
    "W funkcji użyj funkcji NWW, którą należy napisać z wykorzystaniem NWD (i algorytmu Euklidesa)."
   ]
  },
  {
   "cell_type": "code",
   "execution_count": 1,
   "metadata": {},
   "outputs": [
    {
     "name": "stdout",
     "output_type": "stream",
     "text": [
      "(11.0, 12)\n"
     ]
    }
   ],
   "source": [
    "ulam1 = [3, 4]\n",
    "ulam2 = [1, 6] \n",
    "\n",
    "def nwd(a, b):\n",
    "    if b > 0:\n",
    "        return nwd(b, a % b)\n",
    "    else:\n",
    "        return a\n",
    "\n",
    "def nww(a, b):\n",
    "    return a * b // nwd(a, b)\n",
    "    \n",
    "# def ulamki(ulamek1, ulamek2):\n",
    "#     licznik1 = ulamek1[0] * ulamek2[1]\n",
    "#     licznik2 = ulamek2[0] * ulamek1[1]\n",
    "\n",
    "#     mianownik = ulamek1[1] * ulamek2[1]\n",
    "#     dodawanie = licznik1 + licznik2\n",
    "    \n",
    "#     nwd_mianownik_licznik = nwd(dodawanie, mianownik)\n",
    "    \n",
    "#     wynik = [dodawanie/nwd_mianownik_licznik, mianownik/nwd_mianownik_licznik]\n",
    "#     return wynik\n",
    "\n",
    "# print(ulamki(ulam1, ulam2))\n",
    "\n",
    "def ulamki2(ulamek1, ulamek2):\n",
    "    nww_mianownik = nww(ulamek1[1], ulamek2[1])\n",
    "    \n",
    "    nww_mian1 = nww_mianownik / ulamek1[1]\n",
    "    nww_mian2 = nww_mianownik / ulamek2[1]\n",
    "    \n",
    "    licz1 = ulamek1[0] * nww_mian1\n",
    "    licz2 = ulamek2[0] * nww_mian2\n",
    "\n",
    "    dodawanie = licz1 + licz2\n",
    "    return dodawanie, nww_mianownik\n",
    "\n",
    "print(ulamki2(ulam1, ulam2))"
   ]
  },
  {
   "cell_type": "markdown",
   "metadata": {},
   "source": [
    "#### Zadanie 2\n",
    "Napisz funkcję, która dla listy jednocześnie znajduje minimum i maksimum."
   ]
  },
  {
   "cell_type": "code",
   "execution_count": 2,
   "metadata": {},
   "outputs": [
    {
     "name": "stdout",
     "output_type": "stream",
     "text": [
      "(-3, 60)\n"
     ]
    }
   ],
   "source": [
    "nowalista = [20, -2, 32, 1, 0, -3, 5, 60]\n",
    "\n",
    "def minimum_maksimum(lista):\n",
    "    minimum = lista[0]\n",
    "    maksimum = lista[0]\n",
    "    \n",
    "    for x in range(len(lista)):\n",
    "        #print(lista[x])\n",
    "        if lista[x] < minimum:\n",
    "            minimum = lista[x]\n",
    "        elif lista[x] > minimum:\n",
    "            maksimum = lista[x]\n",
    "        else:\n",
    "            continue\n",
    "    \n",
    "    return minimum, maksimum\n",
    "\n",
    "print(minimum_maksimum(nowalista))"
   ]
  },
  {
   "cell_type": "markdown",
   "metadata": {},
   "source": [
    "#### Zadanie 3\n",
    "Napisz funkcję rekurencyjną, która korzystając ze schematu Hornera oblicza wartość wielomianu w punkcie."
   ]
  },
  {
   "cell_type": "code",
   "execution_count": 3,
   "metadata": {},
   "outputs": [
    {
     "name": "stdout",
     "output_type": "stream",
     "text": [
      "339\n"
     ]
    }
   ],
   "source": [
    "def horner(lista, c, indeks_ostatniego):\n",
    "    if indeks_ostatniego > 0:\n",
    "        return horner(lista, c, indeks_ostatniego-1) * c + lista[indeks_ostatniego]\n",
    "    else:\n",
    "        return lista[0]\n",
    "\n",
    "lista1 = [4, 1, -2, -1, 9]\n",
    "\n",
    "print(horner(lista1, 3, len(lista1)-1))"
   ]
  },
  {
   "cell_type": "markdown",
   "metadata": {},
   "source": [
    "#### Zadanie 4 \n",
    "Przybliżoną wartość $\\sqrt[n]{a}$, gdzie $a>0, n\\in \\mathbb{N}$ możemy obliczyć w poniższy sposób.\n",
    "\n",
    "\n",
    "Niech $x_0=a,$ a \n",
    "$$x_k=\\frac{1}{n}\\left((n-1)x_{k-1}+\\frac{a}{(x_{k-1})^{n-1}}\\right)$$\n",
    " dla $k=1,2,\\ldots$. Kolejne elementy tego ciągu obliczamy tak długo, aż otrzymamy żądaną dokładność przybliżenia, tutaj dopóki $|x_k-x_{k-1}|<\\varepsilon$ dla pewnego $\\varepsilon>0.$ Wówczas $\\sqrt[n]{a}\\approx x_k.$ \n",
    " \n",
    "Napisz program, który oblicza $\\sqrt[n]{a}$ według powyższego schematu.\n",
    "\n",
    "Wejście: $a,n,e$\n",
    "Wyjście:$\\sqrt[n]{a}$ (z zadanym przybliżeniem $e$ (jako $\\varepsilon$))."
   ]
  }
 ],
 "metadata": {
  "kernelspec": {
   "display_name": "Python 3",
   "language": "python",
   "name": "python3"
  },
  "language_info": {
   "codemirror_mode": {
    "name": "ipython",
    "version": 3
   },
   "file_extension": ".py",
   "mimetype": "text/x-python",
   "name": "python",
   "nbconvert_exporter": "python",
   "pygments_lexer": "ipython3",
   "version": "3.6.7"
  }
 },
 "nbformat": 4,
 "nbformat_minor": 2
}
