{
 "cells": [
  {
   "cell_type": "code",
   "execution_count": 1,
   "metadata": {},
   "outputs": [],
   "source": [
    "# Zadanie 1"
   ]
  },
  {
   "cell_type": "code",
   "execution_count": null,
   "metadata": {},
   "outputs": [
    {
     "name": "stdout",
     "output_type": "stream",
     "text": [
      "Podaj dowolną liczbę:\n"
     ]
    }
   ],
   "source": [
    "print(\"Podaj dowolną liczbę:\")\n",
    "\n",
    "x = float(input())\n",
    "\n",
    "if x % 2 == 0:\n",
    "    print(\"Liczba podzielna przez 2\")\n",
    "\n",
    "else:\n",
    "    print(\"Liczba niepodzielna przez 2\")\n",
    "\n",
    "if x % 3 == 0:\n",
    "    print(\"Liczba podzielna przez 3\")\n",
    "\n",
    "else:\n",
    "    print(\"Liczba niepodzielna przez 3\")\n",
    "\n",
    "if x % 7 == 0:\n",
    "    print(\"Liczba podzielna przez 7\")\n",
    "\n",
    "else:\n",
    "    print(\"Liczba niepodzielna przez 7\")\n",
    "    "
   ]
  },
  {
   "cell_type": "code",
   "execution_count": null,
   "metadata": {},
   "outputs": [],
   "source": [
    "# Zadanie 2"
   ]
  },
  {
   "cell_type": "code",
   "execution_count": null,
   "metadata": {},
   "outputs": [],
   "source": [
    "print(\"Miesiąc [liczba]:\")\n",
    "m = int(input())\n",
    "print (\"Dzień:\")\n",
    "d = int(input())\n",
    "p = 0\n",
    "\n",
    "if m == 1 or m == 3 or m == 5 or m == 7 or m == 8 or m == 10 or m == 12:\n",
    "    p = 31\n",
    "       \n",
    "elif m == 4 or m == 6 or m == 9 or m == 11:\n",
    "    p = 30\n",
    "\n",
    "else:\n",
    "    p = 28\n",
    "\n",
    "x = p - d\n",
    "\n",
    "if m <= 12 and d <= 31 and m != 2:\n",
    "    \n",
    "    print(\"Do końca miesiąca zostało\", x, \"dni\")\n",
    "\n",
    "elif m == 2 and d > 28:\n",
    "    print(\"Błędne dane.\")\n",
    "\n",
    "else:\n",
    "    print(\"Błędne dane.\")\n"
   ]
  },
  {
   "cell_type": "code",
   "execution_count": null,
   "metadata": {},
   "outputs": [],
   "source": [
    "# Zadanie 3"
   ]
  },
  {
   "cell_type": "code",
   "execution_count": null,
   "metadata": {},
   "outputs": [],
   "source": [
    "import random\n",
    "\n",
    "print(\"Wybierz dowolną liczbę. Jeśli trafisz w losowo wybrany przedział, wygrasz 3,000,000$!\")\n",
    "x = float(input())\n",
    "\n",
    "a = random.randint(-100, 100)\n",
    "b = random.randint(-100, 100)\n",
    "\n",
    "if a <= b:\n",
    "    print(\"Losowy przedział to: [{}, {}]\".format(a,b))\n",
    "    if x >= a and x <= b:\n",
    "        print(\"Gratulacje, jesteś milionerem!\")\n",
    "    else:\n",
    "        print(\"Niestety, nic nie wygrałeś.\")\n",
    "        \n",
    "else:\n",
    "    print(\"Losowy przedział to: [{}, {}]\".format(b,a))\n",
    "    if x >= b and x <= a:\n",
    "        print(\"Gratulacje, jesteś milionerem!\")\n",
    "    else:\n",
    "        print(\"Niestety, nic nie wygrałeś.\")"
   ]
  },
  {
   "cell_type": "code",
   "execution_count": null,
   "metadata": {},
   "outputs": [],
   "source": [
    "# Zadanie 4 "
   ]
  },
  {
   "cell_type": "code",
   "execution_count": null,
   "metadata": {},
   "outputs": [],
   "source": [
    "print(\"Podaj liczbę:\")\n",
    "x = float(input())\n",
    "f = round(x)\n",
    "\n",
    "if f == x:\n",
    "    print(\"Liczba\", x, \"jest całkowita\")\n",
    "\n",
    "elif f < x:\n",
    "    print(\"Podłoga:\", f)\n",
    "\n",
    "    if x < 0:\n",
    "        print(\"Część ułamkowa:\", x - (f + 1))\n",
    "    else:   \n",
    "        print(\"Część ułamkowa:\", x - f)\n",
    "\n",
    "    \n",
    "elif f > x:\n",
    "    print(\"Podłoga:\", f - 1)\n",
    "\n",
    "    if x < 0:\n",
    "        print(\"Część ułamkowa:\", x - f)\n",
    "    else:\n",
    "        print(\"Część ułamkowa:\", x - (f - 1))\n",
    "    "
   ]
  },
  {
   "cell_type": "code",
   "execution_count": null,
   "metadata": {},
   "outputs": [],
   "source": [
    "# Zadanie 5"
   ]
  },
  {
   "cell_type": "code",
   "execution_count": null,
   "metadata": {},
   "outputs": [],
   "source": [
    "print(\"Podaj dowolną liczbę:\")\n",
    "\n",
    "n = int(input())\n",
    "\n",
    "x = 2**n\n",
    "y = 3**n\n",
    "\n",
    "print(\"Ostatnia cyfra liczby 2^\",n,\" to:\", x % 10)\n",
    "print(\"Ostatnia cyfra liczby 3^\",n,\" to:\", y % 10)\n"
   ]
  },
  {
   "cell_type": "code",
   "execution_count": null,
   "metadata": {},
   "outputs": [],
   "source": [
    "# Zadanie 6 "
   ]
  },
  {
   "cell_type": "code",
   "execution_count": null,
   "metadata": {},
   "outputs": [],
   "source": [
    "print(\"Wprowadź maksymalną punktację\")\n",
    "x = float(input())\n",
    "\n",
    "print(\"Wprowadź ilość uzyskanych punktów\")\n",
    "y = float(input())\n",
    "\n",
    "if y < x*(50/100):\n",
    "    print(\"NIEDOSTATECZNY (2)\")\n",
    "\n",
    "elif y >= x*(50/100) and y < x*(60/100):\n",
    "    print(\"DOSTATECZNY (3)\")\n",
    "\n",
    "elif y >= x*(60/100) and y < x*(70/100):\n",
    "    print(\"DOSTATECZNY + (3.5)\")\n",
    "\n",
    "elif y >= x*(70/100) and y < x*(80/100):\n",
    "    print(\"DOBRY (4)\")\n",
    "\n",
    "elif y >= x*(80/100) and y < x*(90/100):\n",
    "    print(\"DOBRY + (4.5)\")\n",
    "\n",
    "elif y >= x*(90/100):\n",
    "    print(\"BARDZO DOBRY (5)\")"
   ]
  }
 ],
 "metadata": {
  "kernelspec": {
   "display_name": "Python 3",
   "language": "python",
   "name": "python3"
  },
  "language_info": {
   "codemirror_mode": {
    "name": "ipython",
    "version": 3
   },
   "file_extension": ".py",
   "mimetype": "text/x-python",
   "name": "python",
   "nbconvert_exporter": "python",
   "pygments_lexer": "ipython3",
   "version": "3.6.7"
  }
 },
 "nbformat": 4,
 "nbformat_minor": 2
}
