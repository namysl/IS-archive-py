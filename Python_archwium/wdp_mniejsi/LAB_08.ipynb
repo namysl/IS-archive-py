{
 "cells": [
  {
   "cell_type": "markdown",
   "metadata": {},
   "source": [
    "### Funkcje rekurencyjne"
   ]
  },
  {
   "cell_type": "markdown",
   "metadata": {},
   "source": [
    "Ciąg $a_n=3n+2$ można zapisać rekurencyjnie jako $a_1=5, a_n=a_{n-1}+3$. \n",
    "\n",
    "Zatem ciąg jako funkcję możemy zapisać $a(n)=3n+2$ lub $a(1)=3, a(n) = a(n-1)+3$."
   ]
  },
  {
   "cell_type": "markdown",
   "metadata": {},
   "source": [
    "W Pythonie (jak i w innych językach programowania) również mamy do czynienia z funkcjami rekurencyjnymi.\n",
    "\n",
    "* funkcja rekurencyjna - wywołuje sama siebie\n"
   ]
  },
  {
   "cell_type": "code",
   "execution_count": 2,
   "metadata": {},
   "outputs": [
    {
     "data": {
      "text/plain": [
       "9"
      ]
     },
     "execution_count": 2,
     "metadata": {},
     "output_type": "execute_result"
    }
   ],
   "source": [
    "#przykład\n",
    "def ciag(n):\n",
    "        if n==1:\n",
    "            return 3\n",
    "        else:\n",
    "            return ciag(n-1)+3\n",
    "ciag(3)"
   ]
  },
  {
   "cell_type": "markdown",
   "metadata": {},
   "source": [
    "* Ważne! Funkcja rekurencyjna musi posiadac \"przypadek bazowy\"."
   ]
  },
  {
   "cell_type": "code",
   "execution_count": 7,
   "metadata": {},
   "outputs": [
    {
     "data": {
      "text/plain": [
       "'\\ndef inny_ciag(n):\\n    return inny_ciag(n-1)*2+13\\n    \\ninny_ciag(4)\\n'"
      ]
     },
     "execution_count": 7,
     "metadata": {},
     "output_type": "execute_result"
    }
   ],
   "source": [
    "\"\"\"\n",
    "def inny_ciag(n):\n",
    "    return inny_ciag(n-1)*2+13\n",
    "    \n",
    "inny_ciag(4)\n",
    "\"\"\""
   ]
  },
  {
   "cell_type": "markdown",
   "metadata": {},
   "source": [
    "Przykłady (z matematyki): silnia, ciąg Fibonnaciego, symbol Newtona "
   ]
  },
  {
   "cell_type": "code",
   "execution_count": null,
   "metadata": {},
   "outputs": [],
   "source": []
  },
  {
   "cell_type": "markdown",
   "metadata": {},
   "source": [
    "Zadanie 1. Napisz funkcje rekurencyjne dla następujących ciągów rekurencyjnych:\n",
    "* $a_1=2, a_n=3a_{n-1}-5$,\n",
    "* $b_1=1, b_2=2, b_n=b_{n-1}+2\\cdot b_{n-2}+4$."
   ]
  },
  {
   "cell_type": "code",
   "execution_count": null,
   "metadata": {},
   "outputs": [],
   "source": []
  },
  {
   "cell_type": "markdown",
   "metadata": {},
   "source": [
    "Zadanie 2. Napisz funkcję obliczającą wartość silni (iteracyjnie i rekurencyjnie)."
   ]
  },
  {
   "cell_type": "code",
   "execution_count": null,
   "metadata": {},
   "outputs": [],
   "source": []
  },
  {
   "cell_type": "markdown",
   "metadata": {},
   "source": [
    "Zadanie 3. Napisz funkcję (rekurencyjną) obliczającą kolejne wyrazu ciągu Fibonacciego, przeanalizuj dla jakich argumentów i w jakiej kolejności została wywołana funkcja dla $n=7$. "
   ]
  },
  {
   "cell_type": "code",
   "execution_count": null,
   "metadata": {},
   "outputs": [],
   "source": []
  },
  {
   "cell_type": "markdown",
   "metadata": {},
   "source": [
    "Zadanie 4. Napisz funkcję obliczającą NWD 2 liczb korzystając z algorytmu Euklidesa (wersje z dzieleniem, odejmowaniem - iteracyjnie i rekurencyjnie)."
   ]
  },
  {
   "cell_type": "code",
   "execution_count": null,
   "metadata": {},
   "outputs": [],
   "source": []
  },
  {
   "cell_type": "markdown",
   "metadata": {},
   "source": [
    "Zadanie 5. Napisz funkcję rekurencyjną, która korzystając ze schematu Hornera oblicza wartość wielomianu w punkcie."
   ]
  },
  {
   "cell_type": "code",
   "execution_count": null,
   "metadata": {},
   "outputs": [],
   "source": []
  }
 ],
 "metadata": {
  "kernelspec": {
   "display_name": "Python 3",
   "language": "python",
   "name": "python3"
  },
  "language_info": {
   "codemirror_mode": {
    "name": "ipython",
    "version": 3
   },
   "file_extension": ".py",
   "mimetype": "text/x-python",
   "name": "python",
   "nbconvert_exporter": "python",
   "pygments_lexer": "ipython3",
   "version": "3.6.7"
  }
 },
 "nbformat": 4,
 "nbformat_minor": 2
}
