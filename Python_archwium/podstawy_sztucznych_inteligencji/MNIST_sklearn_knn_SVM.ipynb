{
 "cells": [
  {
   "cell_type": "markdown",
   "metadata": {},
   "source": [
    "# Podstawy Sztucznej Inteligencji 2020/2021\n"
   ]
  },
  {
   "cell_type": "markdown",
   "metadata": {},
   "source": [
    "Prosze uzupelnic kod tam gdzie znajduje napis `YOUR CODE HERE` lub 'YOUR ANSWER HERE'.\n",
    "\n",
    "Warto zresetowac 'kernel' i sprawdzic czy caly notatnik uruchamiany od poczatku nie daje bledow."
   ]
  },
  {
   "cell_type": "markdown",
   "metadata": {},
   "source": [
    "---"
   ]
  },
  {
   "cell_type": "markdown",
   "metadata": {
    "deletable": false,
    "editable": false,
    "lang": "pl",
    "nbgrader": {
     "cell_type": "markdown",
     "checksum": "91f5393dfe73eade69cf2f4ce41fad08",
     "grade": false,
     "grade_id": "cell-2e089b2ee0415971",
     "locked": true,
     "schema_version": 3,
     "solution": false
    }
   },
   "source": [
    "## MNIST \n",
    "\n",
    "MNIST jest dużym zbiorem ręcznie pisanych cyfr.\n",
    "\n",
    "https://en.wikipedia.org/wiki/MNIST_database\n",
    "\n",
    "\n",
    "**UWAGA**\n",
    "\n",
    "We wszystkich ćwiczeniach zmierz czas potrzebny do wykonania funkcji `fit` i `score`. (line magic `%time`) \n",
    "\n",
    "Wyciągnij wnioski nt. skuteczności klasyfikatorów o ich wydajnosci obliczeniowej."
   ]
  },
  {
   "cell_type": "code",
   "execution_count": 1,
   "metadata": {
    "deletable": false,
    "editable": false,
    "nbgrader": {
     "cell_type": "code",
     "checksum": "9139a6566add1f32a53d63c960c474a8",
     "grade": false,
     "grade_id": "cell-ea1f9d9d3b13d896",
     "locked": true,
     "schema_version": 3,
     "solution": false
    }
   },
   "outputs": [],
   "source": [
    "%matplotlib inline \n",
    "import matplotlib.pyplot as plt\n",
    "import numpy as np"
   ]
  },
  {
   "cell_type": "code",
   "execution_count": 2,
   "metadata": {
    "deletable": false,
    "editable": false,
    "nbgrader": {
     "cell_type": "code",
     "checksum": "2b87ae34148ef28f1b5bdfe3922265ad",
     "grade": false,
     "grade_id": "cell-e517b930abf40b4a",
     "locked": true,
     "schema_version": 3,
     "solution": false
    }
   },
   "outputs": [],
   "source": [
    "from __future__ import print_function\n",
    "from sklearn.model_selection import train_test_split\n",
    "from sklearn.neighbors import KNeighborsClassifier\n",
    "from sklearn import datasets"
   ]
  },
  {
   "cell_type": "markdown",
   "metadata": {
    "deletable": false,
    "editable": false,
    "lang": "pl",
    "nbgrader": {
     "cell_type": "markdown",
     "checksum": "c0cdb2373765c29caf5ca393dc289e5b",
     "grade": false,
     "grade_id": "cell-33bdab00fe7e4ddf",
     "locked": true,
     "schema_version": 3,
     "solution": false
    }
   },
   "source": [
    "### Wczytanie danych MNIST\n",
    "\n",
    "Jest wiele sposobów załadowania danych mnist do pamięci. Możemy skorzystać z funkcji `fetch_openml`.\n",
    "\n",
    "\n"
   ]
  },
  {
   "cell_type": "code",
   "execution_count": 3,
   "metadata": {},
   "outputs": [],
   "source": [
    "from sklearn.datasets import fetch_openml\n",
    "X, y = fetch_openml('mnist_784', version=1, return_X_y=True)\n",
    "#mnist=fetch_openml('mnist_784', version=1)"
   ]
  },
  {
   "cell_type": "code",
   "execution_count": 4,
   "metadata": {},
   "outputs": [
    {
     "data": {
      "text/plain": [
       "(dtype('float64'), (70000,))"
      ]
     },
     "execution_count": 4,
     "metadata": {},
     "output_type": "execute_result"
    }
   ],
   "source": [
    "X.dtype,y.shape"
   ]
  },
  {
   "cell_type": "code",
   "execution_count": 5,
   "metadata": {},
   "outputs": [
    {
     "data": {
      "text/plain": [
       "52.337646484375"
      ]
     },
     "execution_count": 5,
     "metadata": {},
     "output_type": "execute_result"
    }
   ],
   "source": [
    "np.prod(X.shape)/1024**2"
   ]
  },
  {
   "cell_type": "markdown",
   "metadata": {
    "deletable": false,
    "editable": false,
    "lang": "pl",
    "nbgrader": {
     "cell_type": "markdown",
     "checksum": "33396cfbbc0812f2270b8e33acc9204f",
     "grade": false,
     "grade_id": "cell-74f80bfef728e43d",
     "locked": true,
     "schema_version": 3,
     "solution": false
    }
   },
   "source": [
    "### Zadanie 1.\n",
    "\n",
    "Dokonaj podziału danych i etykiet na dwa zbiory - trenujący i testowy o rozmiarach odpowiednio `60000` i `10000`."
   ]
  },
  {
   "cell_type": "code",
   "execution_count": 6,
   "metadata": {
    "deletable": false,
    "nbgrader": {
     "cell_type": "code",
     "checksum": "b112781931032af7e5487774950de615",
     "grade": false,
     "grade_id": "cell-cd77c5379e197eeb",
     "locked": false,
     "schema_version": 3,
     "solution": true
    }
   },
   "outputs": [
    {
     "name": "stdout",
     "output_type": "stream",
     "text": [
      "float32\n",
      "train: (60000, 784)\n",
      "test: (10000, 784)\n"
     ]
    }
   ],
   "source": [
    "#train, test, train_labels, test_labels = train_test_split(X.asytype(np.float32), y, test_size=1/7., random_state=42)\n",
    "\n",
    "x = X.astype(np.float32)\n",
    "train, test, train_labels, test_labels = train_test_split(x, y, test_size=1/7, random_state=42)\n",
    "\n",
    "print(train[123].dtype)\n",
    "\n",
    "print('train:', train.shape)\n",
    "print('test:', test.shape)"
   ]
  },
  {
   "cell_type": "code",
   "execution_count": 7,
   "metadata": {
    "deletable": false,
    "editable": false,
    "nbgrader": {
     "cell_type": "code",
     "checksum": "cd9d5c7d28fad2f3291c04a400348bf4",
     "grade": true,
     "grade_id": "cell-e5630b6e295fa2ab",
     "locked": true,
     "points": 1,
     "schema_version": 3,
     "solution": false
    }
   },
   "outputs": [],
   "source": [
    "assert train.shape == (60000, 784)\n",
    "assert test.shape == (10000, 784)\n",
    "assert train_labels.shape == (60000,)\n",
    "assert test_labels.shape == (10000,)\n",
    "assert train[123].dtype == np.float32\n",
    "assert train[123].shape == (784,)"
   ]
  },
  {
   "cell_type": "markdown",
   "metadata": {
    "deletable": false,
    "editable": false,
    "lang": "pl",
    "nbgrader": {
     "cell_type": "markdown",
     "checksum": "211152d007c7ecc8dba41421b305c2ac",
     "grade": false,
     "grade_id": "cell-74f80bfef728e43a",
     "locked": true,
     "schema_version": 3,
     "solution": false
    }
   },
   "source": [
    "### Zadanie 2.\n",
    "\n",
    "Wyświetl dla losowego przykładu etykietę oraz cyfrę. Zauważ, że cyfry są obrazkami `28x28`."
   ]
  },
  {
   "cell_type": "code",
   "execution_count": 8,
   "metadata": {
    "deletable": false,
    "nbgrader": {
     "cell_type": "code",
     "checksum": "17633d9bc7e15e192ea40b0f08b27434",
     "grade": true,
     "grade_id": "cell-bdc38063dae2d5d4",
     "locked": false,
     "points": 0,
     "schema_version": 3,
     "solution": true
    }
   },
   "outputs": [
    {
     "name": "stdout",
     "output_type": "stream",
     "text": [
      "etykieta: 4\n"
     ]
    },
    {
     "data": {
      "text/plain": [
       "<matplotlib.image.AxesImage at 0x7f8d3a288c10>"
      ]
     },
     "execution_count": 8,
     "metadata": {},
     "output_type": "execute_result"
    },
    {
     "data": {
      "image/png": "[encoded data removed]",
      "text/plain": [
       "<Figure size 432x288 with 1 Axes>"
      ]
     },
     "metadata": {
      "needs_background": "light"
     },
     "output_type": "display_data"
    }
   ],
   "source": [
    "import random\n",
    "i = random.randint(0, len(train))\n",
    "\n",
    "print('etykieta:', train_labels[i])\n",
    "plt.imshow(train[i].reshape(28, 28))"
   ]
  },
  {
   "cell_type": "markdown",
   "metadata": {
    "deletable": false,
    "editable": false,
    "lang": "pl",
    "nbgrader": {
     "cell_type": "markdown",
     "checksum": "d6902c3ad3d9f05b8aaea2cb34c08378",
     "grade": false,
     "grade_id": "cell-7c130891392f7eb9",
     "locked": true,
     "schema_version": 3,
     "solution": false,
     "task": false
    }
   },
   "source": [
    "## MNIST - linear model\n",
    "\n",
    "Zastosuj `LogisticRegression`:\n",
    "\n",
    " - zestaw danych MNIST jest duży dla tej metody i obliczenia mogą trwać długo. \n",
    " - przeskaluj obrazki i wybierz zestaw \n",
    "\n",
    " "
   ]
  },
  {
   "cell_type": "code",
   "execution_count": 9,
   "metadata": {
    "deletable": false,
    "nbgrader": {
     "cell_type": "code",
     "checksum": "6af57470c08a66b1bd32533e6b42d48c",
     "grade": false,
     "grade_id": "cell-3ef93e9daf84e01d",
     "locked": false,
     "schema_version": 3,
     "solution": true
    }
   },
   "outputs": [],
   "source": [
    "from sklearn.linear_model import LogisticRegression\n",
    "from sklearn.preprocessing import StandardScaler\n",
    "\n",
    "scaler = StandardScaler()\n",
    "scaler.fit(train)  # wyznacza parametry na danych treningowych\n",
    "\n",
    "scaled_train = scaler.transform(train)\n",
    "scaled_test = scaler.transform(test)\n",
    "\n",
    "reduced_train = scaled_train[:1000]\n",
    "reduced_train_labels = train_labels[:1000]"
   ]
  },
  {
   "cell_type": "code",
   "execution_count": 10,
   "metadata": {
    "deletable": false,
    "editable": false,
    "nbgrader": {
     "cell_type": "code",
     "checksum": "d4e2d2a29ec0bd2c6ebea4cc0b10827f",
     "grade": true,
     "grade_id": "cell-1e24923b0052f8ba",
     "locked": true,
     "points": 1,
     "schema_version": 3,
     "solution": false,
     "task": false
    }
   },
   "outputs": [],
   "source": [
    "np.testing.assert_almost_equal( np.mean(scaled_train,axis=0), 0.0,decimal=5)\n",
    "np.testing.assert_almost_equal( np.std(scaled_train,axis=0)[np.std(scaled_train,axis=0)>0],1.0,decimal=3)\n",
    "assert reduced_train.shape == (1000,28**2)\n",
    "assert reduced_train_labels.shape == (1000,)"
   ]
  },
  {
   "cell_type": "markdown",
   "metadata": {},
   "source": [
    "Trening wykonamy na 1000 pierwszych przykładów:\n",
    "     \n",
    "    clf.fit(reduced_scaled_train,reduced_train_labels)\n",
    "    \n",
    " - UWAGA - dla wszystkich przykładów można  zredukować tolerację:  `solver='sag'` i `tol=0.1`\n",
    " "
   ]
  },
  {
   "cell_type": "code",
   "execution_count": 11,
   "metadata": {
    "deletable": false,
    "nbgrader": {
     "cell_type": "code",
     "checksum": "4dd0d2a870690198d78d9e913a9df4f1",
     "grade": false,
     "grade_id": "cell-4fbd62f3de0304e1",
     "locked": false,
     "schema_version": 3,
     "solution": true,
     "task": false
    }
   },
   "outputs": [
    {
     "name": "stdout",
     "output_type": "stream",
     "text": [
      "0.8113\n"
     ]
    }
   ],
   "source": [
    "clf = LogisticRegression(multi_class='ovr', solver='saga', tol=0.1)\n",
    "clf.fit(reduced_train, reduced_train_labels)\n",
    "\n",
    "score = clf.score(scaled_test, test_labels)\n",
    "print(score)"
   ]
  },
  {
   "cell_type": "code",
   "execution_count": 12,
   "metadata": {
    "deletable": false,
    "editable": false,
    "nbgrader": {
     "cell_type": "code",
     "checksum": "1fcec30baf21d4e8aea19e0797c9943a",
     "grade": true,
     "grade_id": "cell-24e31dc75f99c107",
     "locked": true,
     "points": 1,
     "schema_version": 3,
     "solution": false,
     "task": false
    }
   },
   "outputs": [],
   "source": [
    "assert score>0.8"
   ]
  },
  {
   "cell_type": "markdown",
   "metadata": {},
   "source": [
    "Spróbuj wykonać to samo na obrazkach przeskalowanych z zachowaniem proporcji: \n",
    "\n",
    "    scaled_test = test/255\n",
    "    scaled_train = train/255\n",
    "    \n",
    "Czy wynik jest lepszy?    "
   ]
  },
  {
   "cell_type": "code",
   "execution_count": 13,
   "metadata": {},
   "outputs": [
    {
     "name": "stdout",
     "output_type": "stream",
     "text": [
      "0.7166\n"
     ]
    }
   ],
   "source": [
    "scaled2_test = test/255\n",
    "scaled2_train = train/255\n",
    "\n",
    "clf = LogisticRegression (multi_class='ovr', solver='sag', tol=0.1)\n",
    "clf.fit(reduced_train, reduced_train_labels)\n",
    "\n",
    "score = clf.score(scaled2_test, test_labels)\n",
    "print(score)"
   ]
  },
  {
   "cell_type": "markdown",
   "metadata": {
    "deletable": false,
    "editable": false,
    "nbgrader": {
     "cell_type": "markdown",
     "checksum": "325ba06eb94b282a2c2306d6cc97c442",
     "grade": false,
     "grade_id": "cell-793afc11282671f3",
     "locked": true,
     "schema_version": 3,
     "solution": false,
     "task": false
    }
   },
   "source": [
    "## PCA\n",
    "\n",
    "Wykonaj redukcję PCA do np. 54 cech na cechach przeskalowanych z zachowaniem proporcji:\n",
    "\n",
    "    scaled_test = test/255\n",
    "    scaled_train = train/255\n",
    "    \n",
    "\n",
    "Wykorzystaj metodę `.inverse_transform`  by otrzymać rekontrukcję orginałów w orginalnej przetrzeni ($28^2$). Narysuj orginały i rekonstrukcję."
   ]
  },
  {
   "cell_type": "code",
   "execution_count": 14,
   "metadata": {
    "deletable": false,
    "nbgrader": {
     "cell_type": "code",
     "checksum": "9b609b8fa18633938df97d81d9c1c447",
     "grade": true,
     "grade_id": "cell-0d8998fd3b4eb50b",
     "locked": false,
     "points": 0,
     "schema_version": 3,
     "solution": true,
     "task": false
    }
   },
   "outputs": [
    {
     "data": {
      "image/png": "[encoded data removed]",
      "text/plain": [
       "<Figure size 720x288 with 10 Axes>"
      ]
     },
     "metadata": {
      "needs_background": "light"
     },
     "output_type": "display_data"
    },
    {
     "data": {
      "image/png": "[encoded data removed]",
      "text/plain": [
       "<Figure size 720x288 with 10 Axes>"
      ]
     },
     "metadata": {
      "needs_background": "light"
     },
     "output_type": "display_data"
    }
   ],
   "source": [
    "from sklearn.decomposition import PCA\n",
    "\n",
    "def plot10(x, **args):\n",
    "    f, ax = plt.subplots(2, 5, figsize=(10, 4))\n",
    "    for i, c_ in enumerate(x):\n",
    "        ax.ravel()[i].imshow(np.abs(c_).reshape(28, 28), **args ) \n",
    "    plt.show()\n",
    "\n",
    "pca = PCA(54).fit(train/255)\n",
    "pca_train = pca.transform(train)\n",
    "pca_test = pca.transform(test)\n",
    "\n",
    "plot10(pca.inverse_transform(pca_train[:10]))\n",
    "plot10(train[:10])"
   ]
  },
  {
   "cell_type": "markdown",
   "metadata": {
    "deletable": false,
    "editable": false,
    "nbgrader": {
     "cell_type": "markdown",
     "checksum": "c62d3612ed840f9f46a9bd8448cad005",
     "grade": false,
     "grade_id": "cell-08024d36e897fa1f",
     "locked": true,
     "schema_version": 3,
     "solution": false,
     "task": false
    }
   },
   "source": [
    "Wykonaj regresję logistyczną dla 54 wymiarowych danych otrzymanych w poprzednim punkcie:"
   ]
  },
  {
   "cell_type": "code",
   "execution_count": 15,
   "metadata": {
    "deletable": false,
    "nbgrader": {
     "cell_type": "code",
     "checksum": "4be8e5a89b1f430dce9f48f44195da15",
     "grade": false,
     "grade_id": "cell-1e6fa2245e6003dc",
     "locked": false,
     "schema_version": 3,
     "solution": true,
     "task": false
    }
   },
   "outputs": [
    {
     "name": "stdout",
     "output_type": "stream",
     "text": [
      "0.8946\n"
     ]
    }
   ],
   "source": [
    "clf = LogisticRegression(multi_class='ovr', solver='sag', tol=0.1)\n",
    "clf.fit(pca_train, train_labels)\n",
    "\n",
    "score_pca = clf.score(pca_test, test_labels)\n",
    "print(score_pca)"
   ]
  },
  {
   "cell_type": "code",
   "execution_count": 16,
   "metadata": {
    "deletable": false,
    "editable": false,
    "nbgrader": {
     "cell_type": "code",
     "checksum": "320bf72d8b61cd449c3f0fb343779a25",
     "grade": true,
     "grade_id": "cell-e3c1fd5cf077d517",
     "locked": true,
     "points": 1,
     "schema_version": 3,
     "solution": false,
     "task": false
    }
   },
   "outputs": [],
   "source": [
    "assert score_pca > 0.85"
   ]
  },
  {
   "cell_type": "code",
   "execution_count": 17,
   "metadata": {},
   "outputs": [],
   "source": [
    "# %time clf.fit(pca_train,train_labels)\n",
    "# %time score_pca = clf.score(pca_test,test_labels)\n",
    "# %time print(score_pca)"
   ]
  },
  {
   "cell_type": "markdown",
   "metadata": {},
   "source": [
    "## Perceptron "
   ]
  },
  {
   "cell_type": "code",
   "execution_count": 18,
   "metadata": {
    "deletable": false,
    "nbgrader": {
     "cell_type": "code",
     "checksum": "cdf76d5844ed122c33212b556b5bd0d8",
     "grade": false,
     "grade_id": "cell-74f63f4c1a403779",
     "locked": false,
     "schema_version": 3,
     "solution": true,
     "task": false
    }
   },
   "outputs": [
    {
     "name": "stdout",
     "output_type": "stream",
     "text": [
      "0.8819\n"
     ]
    }
   ],
   "source": [
    "from sklearn.linear_model import Perceptron\n",
    "\n",
    "perceptron = Perceptron()\n",
    "perceptron.fit(train, train_labels)\n",
    "\n",
    "score_perceptron = perceptron.score(test, test_labels)\n",
    "print(score_perceptron)"
   ]
  },
  {
   "cell_type": "code",
   "execution_count": 19,
   "metadata": {
    "deletable": false,
    "editable": false,
    "nbgrader": {
     "cell_type": "code",
     "checksum": "6a1d1b5d1f8e0a093067114b10c62094",
     "grade": true,
     "grade_id": "cell-40a6d7bedfb24539",
     "locked": true,
     "points": 1,
     "schema_version": 3,
     "solution": false,
     "task": false
    }
   },
   "outputs": [],
   "source": [
    "assert score_perceptron > 0.85"
   ]
  },
  {
   "cell_type": "markdown",
   "metadata": {
    "deletable": false,
    "editable": false,
    "lang": "pl",
    "nbgrader": {
     "cell_type": "markdown",
     "checksum": "9c7d0c553c32fe7f27d6236c26605605",
     "grade": false,
     "grade_id": "cell-c3eb872ed5625b37",
     "locked": true,
     "schema_version": 3,
     "solution": false
    }
   },
   "source": [
    "## MNIST z klasyfikatorem kNN\n",
    "\n",
    "Korzystając z pakietu `sklearn` poklasyfikuj dane MNIST.\n",
    "\n",
    "*UWAGA* -  testowanie klasyfikatora wymaga kilku sekund na 100 przykładów. Dlatego funkcje: `clf.score` i `clf.predict` należy wywoływać na podziorze danych testujących lub liczyć się z długim czasem działania. "
   ]
  },
  {
   "cell_type": "code",
   "execution_count": 20,
   "metadata": {
    "deletable": false,
    "nbgrader": {
     "cell_type": "code",
     "checksum": "edeee5de1ee0b73351e421f95d577077",
     "grade": false,
     "grade_id": "cell-49a9b00dc1c1328e",
     "locked": false,
     "schema_version": 3,
     "solution": true,
     "task": false
    }
   },
   "outputs": [
    {
     "name": "stdout",
     "output_type": "stream",
     "text": [
      "0.98\n"
     ]
    }
   ],
   "source": [
    "#k=3,5,7\n",
    "\n",
    "knn = KNeighborsClassifier(n_neighbors=7).fit(train, train_labels)\n",
    "\n",
    "score_knn = knn.score(test[:100], test_labels[:100])\n",
    "print(score_knn)"
   ]
  },
  {
   "cell_type": "code",
   "execution_count": 21,
   "metadata": {
    "deletable": false,
    "editable": false,
    "nbgrader": {
     "cell_type": "code",
     "checksum": "076937ac17b8ba5fbd4025bdce84bfcc",
     "grade": true,
     "grade_id": "cell-b2f2bced269bff69",
     "locked": true,
     "points": 1,
     "schema_version": 3,
     "solution": false,
     "task": false
    }
   },
   "outputs": [],
   "source": [
    "assert score_knn>0.9"
   ]
  },
  {
   "cell_type": "markdown",
   "metadata": {
    "deletable": false,
    "editable": false,
    "lang": "pl",
    "nbgrader": {
     "cell_type": "markdown",
     "checksum": "5836bfddfc7b5805cd1e22b2cd15320c",
     "grade": false,
     "grade_id": "cell-6315fa167b48e848",
     "locked": true,
     "schema_version": 3,
     "solution": false
    }
   },
   "source": [
    "### Analiza błędów \n",
    "\n",
    "Znajdź przykłady (np. 10 sztuk) dla których klasyfikator się pomylił. Zastanów się czy człowiek też mógłby się pomylić w tych przypadkach."
   ]
  },
  {
   "cell_type": "code",
   "execution_count": 22,
   "metadata": {
    "scrolled": true
   },
   "outputs": [
    {
     "name": "stdout",
     "output_type": "stream",
     "text": [
      "predict: ['4'] label: 9\n"
     ]
    },
    {
     "data": {
      "image/png": "[encoded data removed]",
      "text/plain": [
       "<Figure size 432x288 with 1 Axes>"
      ]
     },
     "metadata": {
      "needs_background": "light"
     },
     "output_type": "display_data"
    },
    {
     "name": "stdout",
     "output_type": "stream",
     "text": [
      "predict: ['7'] label: 9\n"
     ]
    },
    {
     "data": {
      "image/png": "[encoded data removed]",
      "text/plain": [
       "<Figure size 432x288 with 1 Axes>"
      ]
     },
     "metadata": {
      "needs_background": "light"
     },
     "output_type": "display_data"
    }
   ],
   "source": [
    "for i in range(100):\n",
    "    Z = knn.predict(test[i:i+1])\n",
    "    P = test_labels[i]\n",
    "    \n",
    "    if Z != P:\n",
    "        print('predict:', Z, 'label:', P)\n",
    "        plt.imshow(test[i].reshape(28, 28))\n",
    "        plt.show()"
   ]
  },
  {
   "cell_type": "code",
   "execution_count": null,
   "metadata": {
    "deletable": false,
    "nbgrader": {
     "cell_type": "code",
     "checksum": "22a0514282807c8eeb3e068debc8eca6",
     "grade": true,
     "grade_id": "cell-013a31528dd6f980",
     "locked": false,
     "points": 1,
     "schema_version": 3,
     "solution": true
    }
   },
   "outputs": [],
   "source": []
  },
  {
   "cell_type": "markdown",
   "metadata": {
    "deletable": false,
    "editable": false,
    "lang": "pl",
    "nbgrader": {
     "cell_type": "markdown",
     "checksum": "d59e34e7fbd1d53861b50b8e3ca919d7",
     "grade": false,
     "grade_id": "cell-ec716e13a8d17619",
     "locked": true,
     "schema_version": 3,
     "solution": false
    }
   },
   "source": [
    "##  MNIST z klasyfikatorem SVM\n",
    "\n",
    "Poklasyfikuj dane MNIST klasyfikatorem SVM, korzystając z implementacji `sklearn` \n",
    "\n",
    " - należy zastosować skalowanie danych (np. `preprocessing.StandardScaler`)\n",
    " - warto zacząć eksperymenty od `1000` przykładów trenujących. Trenowanie SVM jest wolne."
   ]
  },
  {
   "cell_type": "code",
   "execution_count": 23,
   "metadata": {
    "deletable": false,
    "nbgrader": {
     "cell_type": "code",
     "checksum": "6fe2632baae8cba2c1cd9e8dd95451fd",
     "grade": true,
     "grade_id": "cell-6dca083155843d30",
     "locked": false,
     "points": 2,
     "schema_version": 3,
     "solution": true
    },
    "scrolled": true
   },
   "outputs": [
    {
     "data": {
      "text/plain": [
       "0.8645"
      ]
     },
     "execution_count": 23,
     "metadata": {},
     "output_type": "execute_result"
    }
   ],
   "source": [
    "from sklearn import svm\n",
    "from sklearn.preprocessing import StandardScaler\n",
    "\n",
    "scaler = StandardScaler(with_std = True)\n",
    "scaler.fit(train[:1000])\n",
    "#scaler.transform(train)\n",
    "\n",
    "clf = svm.SVC(decision_function_shape='ovo', kernel='rbf', gamma='auto')\n",
    "clf.fit(scaler.transform(train[:1000]), train_labels[:1000])\n",
    "clf.score(scaler.transform(test), test_labels)"
   ]
  },
  {
   "cell_type": "markdown",
   "metadata": {
    "deletable": false,
    "editable": false,
    "lang": "pl",
    "nbgrader": {
     "cell_type": "markdown",
     "checksum": "f78ac345f03625012f88020a31fec86e",
     "grade": false,
     "grade_id": "cell-1179cd6d23cd9d53",
     "locked": true,
     "schema_version": 3,
     "solution": false
    }
   },
   "source": [
    "##  MNIST z klasyfikatorem SVM w zredukowanej przestrzeni danych (PCA)\n",
    "\n",
    "Wykonaj redukcję danych z pomocą PCA, np.:\n",
    "\n",
    "    pca = decomposition.PCA(n_components=35, whiten=True,\\\n",
    "                            svd_solver='randomized')\n",
    "                            \n",
    "                            \n",
    "                            \n",
    " - Zmniejszając wymiar przestrzeni można pokusić się o zwiększenie zbioru trenującego.\n",
    " - Przeczytaj co oznacza `whiten`."
   ]
  },
  {
   "cell_type": "code",
   "execution_count": null,
   "metadata": {
    "deletable": false,
    "nbgrader": {
     "cell_type": "code",
     "checksum": "006a129c1903cb59873cd50d64557435",
     "grade": false,
     "grade_id": "cell-d5e2585fb83950c4",
     "locked": false,
     "schema_version": 3,
     "solution": true,
     "task": false
    }
   },
   "outputs": [],
   "source": [
    "from sklearn import decomposition\n",
    "\n",
    "pca = decomposition.PCA(n_components=35, whiten=True, svd_solver='randomized')\n",
    "\n",
    "pca.fit(train)\n",
    "train_pca = pca.transform(train)\n",
    "test_pca = pca.transform(test)\n",
    "\n",
    "clf.fit(train_pca, train_labels)\n",
    "\n",
    "svm_score = clf.score(test_pca, test_labels)\n",
    "\n",
    "print(svm_score)"
   ]
  },
  {
   "cell_type": "code",
   "execution_count": null,
   "metadata": {
    "deletable": false,
    "editable": false,
    "nbgrader": {
     "cell_type": "code",
     "checksum": "3866564c548ec7b76917c92a7a20ebe8",
     "grade": true,
     "grade_id": "cell-85e0e2ecd74a9009",
     "locked": true,
     "points": 2,
     "schema_version": 3,
     "solution": false,
     "task": false
    }
   },
   "outputs": [],
   "source": [
    "assert svm_score > 0.97"
   ]
  }
 ],
 "metadata": {
  "kernelspec": {
   "display_name": "Python 3",
   "language": "python",
   "name": "python3"
  },
  "language_info": {
   "codemirror_mode": {
    "name": "ipython",
    "version": 3
   },
   "file_extension": ".py",
   "mimetype": "text/x-python",
   "name": "python",
   "nbconvert_exporter": "python",
   "pygments_lexer": "ipython3",
   "version": "3.7.4"
  },
  "latex_envs": {
   "LaTeX_envs_menu_present": true,
   "autoclose": false,
   "autocomplete": true,
   "bibliofile": "biblio.bib",
   "cite_by": "apalike",
   "current_citInitial": 1,
   "eqLabelWithNumbers": true,
   "eqNumInitial": 1,
   "hotkeys": {
    "equation": "Ctrl-E",
    "itemize": "Ctrl-I"
   },
   "labels_anchors": false,
   "latex_user_defs": false,
   "report_style_numbering": false,
   "user_envs_cfg": false
  },
  "nbTranslate": {
   "displayLangs": [
    "pl",
    "en"
   ],
   "hotkey": "alt-t",
   "langInMainMenu": true,
   "sourceLang": "pl",
   "targetLang": "en",
   "useGoogleTranslate": true
  }
 },
 "nbformat": 4,
 "nbformat_minor": 2
}
