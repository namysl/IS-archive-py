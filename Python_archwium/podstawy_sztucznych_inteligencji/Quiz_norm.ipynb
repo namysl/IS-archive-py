{
 "cells": [
  {
   "cell_type": "markdown",
   "metadata": {},
   "source": [
    "# Podstawy Sztucznej Inteligencji 2020/2021\n"
   ]
  },
  {
   "cell_type": "markdown",
   "metadata": {},
   "source": [
    "Prosze uzupelnic kod tam gdzie znajduje napis `YOUR CODE HERE` lub 'YOUR ANSWER HERE'.\n",
    "\n",
    "Warto zresetowac 'kernel' i sprawdzic czy caly notatnik uruchamiany od poczatku nie daje bledow."
   ]
  },
  {
   "cell_type": "markdown",
   "metadata": {},
   "source": [
    "---"
   ]
  },
  {
   "cell_type": "markdown",
   "metadata": {
    "deletable": false,
    "editable": false,
    "lang": "pl",
    "nbgrader": {
     "cell_type": "markdown",
     "checksum": "a46bb1385e11f7e38fa22922a4e16f68",
     "grade": false,
     "grade_id": "cell-c6807741c0de771a",
     "locked": true,
     "schema_version": 3,
     "solution": false
    }
   },
   "source": [
    "## Oblicz normę  wektora\n",
    "\n",
    "Dla zadanego wektora należy obliczyć:\n",
    " - normę $L^1$ \n",
    " - normę $L^2$\n",
    " \n",
    "Oznaczenia $L^{1,2}$ są określone następującym wzorem:\n",
    "\n",
    "\n",
    "$$ L^p = \\left\\| \\mathbf{x} \\right\\| _p := \\bigg( \\sum_{i=1}^n \\left| x_i \\right| ^p \\bigg) ^{1/p}$$\n",
    "\n",
    " "
   ]
  },
  {
   "cell_type": "code",
   "execution_count": 4,
   "metadata": {
    "deletable": false,
    "editable": false,
    "nbgrader": {
     "cell_type": "code",
     "checksum": "962db9b30fc9f459b5f182659094fc38",
     "grade": false,
     "grade_id": "cell-ac6d0b5a01ac4856",
     "locked": true,
     "schema_version": 3,
     "solution": false
    }
   },
   "outputs": [
    {
     "name": "stdout",
     "output_type": "stream",
     "text": [
      "[-0.08152491 -0.93987388  1.11078749 -1.02631241]\n"
     ]
    }
   ],
   "source": [
    "import numpy as np \n",
    "x = np.random.randn(4)\n",
    "print(x)"
   ]
  },
  {
   "cell_type": "code",
   "execution_count": 10,
   "metadata": {
    "deletable": false,
    "nbgrader": {
     "cell_type": "code",
     "checksum": "12579fdc116ad8fccd7c39bcea4e61f5",
     "grade": false,
     "grade_id": "cell-b46de071a57c605d",
     "locked": false,
     "schema_version": 3,
     "solution": true
    }
   },
   "outputs": [],
   "source": [
    "L2 = np.sqrt(np.dot(x,x))   "
   ]
  },
  {
   "cell_type": "code",
   "execution_count": 14,
   "metadata": {
    "deletable": false,
    "nbgrader": {
     "cell_type": "code",
     "checksum": "0b0d1ba6e8c12d3ec4e9c3a0722a27c3",
     "grade": false,
     "grade_id": "cell-ff558036b82d01cb",
     "locked": false,
     "schema_version": 3,
     "solution": true
    }
   },
   "outputs": [],
   "source": [
    "L1 = np.sum(np.abs(x))\n"
   ]
  },
  {
   "cell_type": "code",
   "execution_count": 15,
   "metadata": {
    "deletable": false,
    "editable": false,
    "nbgrader": {
     "cell_type": "code",
     "checksum": "bc3d2852b8bd388da73fcd6dfd5da8bb",
     "grade": true,
     "grade_id": "cell-5db5dc4edbd5d598",
     "locked": true,
     "points": 1,
     "schema_version": 3,
     "solution": false
    }
   },
   "outputs": [],
   "source": [
    "assert L2 == np.linalg.norm(x,ord=2)\n",
    "assert L1 == np.linalg.norm(x,ord=1)"
   ]
  },
  {
   "cell_type": "markdown",
   "metadata": {
    "lang": "pl"
   },
   "source": [
    "## Własności normy $L^1$ vs. $L^2$\n",
    "\n",
    "Sprawdźmy na przykładzie wektorów $x_1 = [1,1,1,1,1]$ i $x_2=[0,0,0,0,5]$ ile wynoszą ich normy.\n",
    "Można zauważyć, że norma $L^1$ nie zmienia się gdy zmienimy wektor $x_2 \\to x_1$ a norma $L^2$ maleje. Ma to konsekwencje dla zagadnienia regularyzacji. Dodanie do zagadnienia  minimalizacyjnego członu proporcjonalnego do normy $L^1$ będzie preferowało rozwiązania \"rzadkie\" norma $L^2$ będzie miała tendencje do wyrównywania parametrów."
   ]
  },
  {
   "cell_type": "code",
   "execution_count": 2,
   "metadata": {},
   "outputs": [
    {
     "name": "stdout",
     "output_type": "stream",
     "text": [
      "[1 1 1 1 1] 2.23606797749979 5.0\n",
      "[0 0 0 0 5] 5.0 5.0\n"
     ]
    }
   ],
   "source": [
    "for x in [ [1,1,1,1,1],[0,0,0,0,5] ]:\n",
    "    x = np.array(x)\n",
    "    print(x,np.linalg.norm(x,ord=2), np.linalg.norm(x,ord=1) )"
   ]
  },
  {
   "cell_type": "markdown",
   "metadata": {
    "lang": "pl"
   },
   "source": [
    "## Wykresy norm\n",
    "\n",
    "Zobaczmy jak wyglądają wykresy normy wektora dwuwymiarowego w zależności od liczby $p$:"
   ]
  },
  {
   "cell_type": "code",
   "execution_count": null,
   "metadata": {},
   "outputs": [],
   "source": [
    "import matplotlib.pyplot as plt\n",
    "\n",
    "x,y = np.meshgrid( *(2*(np.linspace(-1,1,100),) ) )\n",
    "\n",
    "fig, axes = plt.subplots(nrows=1, ncols=4, figsize=(12,3),sharey=True, sharex=True)\n",
    "for i, ax in enumerate(axes.flat, start=1):\n",
    "    ax.set(aspect=1)\n",
    "    if i==4:\n",
    "        i=100\n",
    "    ax.set_title(r'$L^{%d}$'%i)\n",
    "    ax.contourf(x,y,np.linalg.norm(np.stack([x,y]),axis=0,ord=i))\n"
   ]
  },
  {
   "cell_type": "code",
   "execution_count": null,
   "metadata": {},
   "outputs": [],
   "source": [
    "import matplotlib.pyplot as plt\n",
    "from ipywidgets import interact, IntSlider\n",
    "from IPython.display import clear_output\n",
    "\n",
    "x,y = np.meshgrid( *(2*(np.linspace(-1,1,100),) ) )\n",
    "p_lst = [1,2,3,4,10,100]\n",
    "@interact(i=IntSlider(max=len(p_lst)-1))\n",
    "def _drawnorm(i):\n",
    "    p = p_lst[i]\n",
    "    fig, ax = plt.subplots(nrows=1, ncols=1, figsize=(3,3))\n",
    "    ax.set(aspect=1)\n",
    "    ax.set_title(r'$L^{%d}$'%p)\n",
    "    ax.contourf(x,y,np.linalg.norm(np.stack([x,y]),axis=0,ord=p))\n",
    "    clear_output(wait=True)\n",
    "    "
   ]
  },
  {
   "cell_type": "code",
   "execution_count": null,
   "metadata": {},
   "outputs": [],
   "source": []
  }
 ],
 "metadata": {
  "kernelspec": {
   "display_name": "Python 3",
   "language": "python",
   "name": "python3"
  },
  "language_info": {
   "codemirror_mode": {
    "name": "ipython",
    "version": 3
   },
   "file_extension": ".py",
   "mimetype": "text/x-python",
   "name": "python",
   "nbconvert_exporter": "python",
   "pygments_lexer": "ipython3",
   "version": "3.6.7"
  },
  "latex_envs": {
   "LaTeX_envs_menu_present": true,
   "autoclose": false,
   "autocomplete": true,
   "bibliofile": "biblio.bib",
   "cite_by": "apalike",
   "current_citInitial": 1,
   "eqLabelWithNumbers": true,
   "eqNumInitial": 1,
   "hotkeys": {
    "equation": "Ctrl-E",
    "itemize": "Ctrl-I"
   },
   "labels_anchors": false,
   "latex_user_defs": false,
   "report_style_numbering": false,
   "user_envs_cfg": false
  },
  "nbTranslate": {
   "displayLangs": [
    "pl",
    "en"
   ],
   "hotkey": "alt-t",
   "langInMainMenu": true,
   "sourceLang": "pl",
   "targetLang": "en",
   "useGoogleTranslate": true
  }
 },
 "nbformat": 4,
 "nbformat_minor": 2
}
