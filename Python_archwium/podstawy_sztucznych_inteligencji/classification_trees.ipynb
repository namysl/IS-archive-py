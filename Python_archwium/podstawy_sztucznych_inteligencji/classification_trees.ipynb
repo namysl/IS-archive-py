{
 "cells": [
  {
   "cell_type": "markdown",
   "metadata": {},
   "source": [
    "# Podstawy Sztucznej Inteligencji 2020/2021\n"
   ]
  },
  {
   "cell_type": "markdown",
   "metadata": {},
   "source": [
    "Prosze uzupelnic kod tam gdzie znajduje napis `YOUR CODE HERE` lub 'YOUR ANSWER HERE'.\n",
    "\n",
    "Warto zresetowac 'kernel' i sprawdzic czy caly notatnik uruchamiany od poczatku nie daje bledow."
   ]
  },
  {
   "cell_type": "markdown",
   "metadata": {},
   "source": [
    "---"
   ]
  },
  {
   "cell_type": "code",
   "execution_count": 1,
   "metadata": {
    "colab": {},
    "colab_type": "code",
    "id": "l9TTl_qFBg42"
   },
   "outputs": [],
   "source": [
    "# !pip install --user graphviz \n",
    "# !apt-get install graphviz"
   ]
  },
  {
   "cell_type": "markdown",
   "metadata": {
    "colab_type": "text",
    "deletable": false,
    "editable": false,
    "id": "xc7CY5WNJzhF",
    "lang": "pl",
    "nbgrader": {
     "cell_type": "markdown",
     "checksum": "81de40b6873484d9d476624fb77bf534",
     "grade": false,
     "grade_id": "cell-a06e94fe48cd3f4f",
     "locked": true,
     "schema_version": 3,
     "solution": false,
     "task": false
    }
   },
   "source": [
    "# Drzewa klasyfikacyjne (metoda rekurencyjnego podziału)\n",
    "\n",
    "Metoda ta polega na sekwencyjnym (rekurencyjnym) podziale przestrzeni danych na podprzestrzenie (hiperkostki, segmenty), aż zmienna zależna osiągnie w każdej podprzestrzeni minimalny poziom zróżnicowania."
   ]
  },
  {
   "cell_type": "markdown",
   "metadata": {
    "colab_type": "text",
    "deletable": false,
    "editable": false,
    "id": "D46x7ndWE2KW",
    "lang": "pl",
    "nbgrader": {
     "cell_type": "markdown",
     "checksum": "f7ae373d2316ca342a8a4fe18aeed9d8",
     "grade": false,
     "grade_id": "cell-9d5d35115f3472f0",
     "locked": true,
     "schema_version": 3,
     "solution": false,
     "task": false
    }
   },
   "source": [
    "\n",
    "## Wady i zalety drzewa decyzyjnego\n",
    "**Zalety:**\n",
    "\n",
    "1. *niezparametryczność* – przy budowaniu modelu nie zakłada się postaci rozkładów zmiennych ani relacji między nimi\n",
    "2. *adaptacyjność* – automatyczny proces doboru zmiennych do modelu, możliwość uwzględnieniem zarówno zmiennych jakościowych i ilościowych,\n",
    "3. *odporność na braki danych oraz występowanie wartości\n",
    "nietypowych* \n",
    "4. *łatwa interpretowalność* -  możliwość graficznego przedstawienia modelu w postaci drzewa, możliwość zapisania reguł klasyfikujących\n",
    "\n",
    "**Główna wada:**\n",
    "\n",
    "1. *niestabilność modelu* -  oznacza, że postać modelu silnie zależy od dostępnego zbioru uczącego, budowanie drzew na różnych podzbiorach trenujących daje bardzo różniące się modele"
   ]
  },
  {
   "cell_type": "markdown",
   "metadata": {
    "colab_type": "text",
    "deletable": false,
    "editable": false,
    "id": "S8dV5z4h4DdE",
    "lang": "pl",
    "nbgrader": {
     "cell_type": "markdown",
     "checksum": "14408b0bcdda5ef0924135f50e8b1429",
     "grade": false,
     "grade_id": "cell-253b6747a02d9870",
     "locked": true,
     "schema_version": 3,
     "solution": false,
     "task": false
    }
   },
   "source": [
    "## Algorytm tworzenia drzewa klasyfikującego\n",
    "\n",
    "**Kroki algorytmu**\n",
    "\n",
    "1. Mając treningowy zbiór obiektów $S$, sprawdź, czy należą one do tej samej klasy. Jeżli\n",
    "tak, to zakończ pracę.\n",
    "2. W przeciwnym przypadku rozważ wszystkie możliwe podziały zbioru S na\n",
    "podzbiory $S_1$, $S_2$, ..., $S_m$ tak, aby były one jak najbardziej jednorodne.\n",
    "3. Dokonaj oceny jakości każdego z tych podziałów zgodnie z przyjętym kryterium\n",
    "i wybierz najlepszy z nich.\n",
    "4. Podziel zbiór $S$ w wybrany sposób.\n",
    "5. Wykonaj kroki 1-4 rekurencyjnie dla każdego z podzbiorów\n",
    "\n",
    "W domyślnej wersji algorytmu każdorazowo poszukiwany jest najlepszy podział pod względem zmiennej jak i sposobu podziału przestrzeni względem niej. To domyślne działanie można jednak zmienić, o czym powiemy za chwilę. \n",
    "\n",
    "\n",
    "## Kryterium podziału \n",
    "Domyślnie kryterium podziału jest minimalizacja zróżnicowania (heterogeniczności) elementów w każdym z podziałów. W powyższym przykładzie wykorzystywany jest wskaźnik Giniego.\n",
    "\n",
    "\n",
    "W pierwszej kolejności dla każdej z $K$ klas ($k \\in K$) dla każdego z $M$ podobszarów ($m \\in M$) wyznaczana jest średnia ilość elementów danej klasy w tym obszarze:\n",
    "\n",
    "$$p_{km} = \\frac{1}{N_s}\\sum_{x_i \\in S_m}I(y_i=k)$$\n",
    "\n",
    "$N_s$ to ilość elementów w danym obszarze.\n",
    "\n",
    "Współczynnik Giniego definiujemy jako:\n",
    "$$H(m) = \\sum_k p_{km}(1-p_{km})$$\n",
    "\n",
    "Gdy w danym obszerze występują tylko reprezentanci jednej klasy $p_{km}=1$ dla tej wybranej klasy. Dla pozostałych klas współczynnik ten wynosi 0. Wówczas $H=0$ dla takiego obszaru.\n"
   ]
  },
  {
   "cell_type": "markdown",
   "metadata": {
    "deletable": false,
    "editable": false,
    "lang": "pl",
    "nbgrader": {
     "cell_type": "markdown",
     "checksum": "6280402a7c4bfba89bccfa52c3573475",
     "grade": false,
     "grade_id": "cell-1a1fdbd1d5667e13",
     "locked": true,
     "schema_version": 3,
     "solution": false,
     "task": false
    }
   },
   "source": [
    "### Klasyfikacja z wykorzystaniem metody rekurencyjnego podziału dla danych `iris`"
   ]
  },
  {
   "cell_type": "markdown",
   "metadata": {
    "colab_type": "text",
    "deletable": false,
    "editable": false,
    "id": "xqxmdWvxImFk",
    "lang": "pl",
    "nbgrader": {
     "cell_type": "markdown",
     "checksum": "8f5b19850838b7e21ebea202df18ca50",
     "grade": false,
     "grade_id": "cell-3b6280f77089f4a2",
     "locked": true,
     "schema_version": 3,
     "solution": false,
     "task": false
    }
   },
   "source": [
    "W pierwszym kroku importujemy przydatne biblioteki. Drzewa klasyfikacyjne zostały zaimplementowane w bibliotece `sklearn`."
   ]
  },
  {
   "cell_type": "code",
   "execution_count": 2,
   "metadata": {
    "colab": {},
    "colab_type": "code",
    "id": "yMfyp-i0J1Df"
   },
   "outputs": [],
   "source": [
    "from sklearn.tree import DecisionTreeClassifier, export_graphviz\n",
    "from sklearn import tree\n",
    "from sklearn.datasets import load_iris, load_breast_cancer\n",
    "from sklearn.model_selection import train_test_split"
   ]
  },
  {
   "cell_type": "markdown",
   "metadata": {
    "lang": "pl"
   },
   "source": [
    "Dodatkowo biblioteka `graphviz` będzie przydatna do wizualizacji otrzymanych drzew."
   ]
  },
  {
   "cell_type": "code",
   "execution_count": 3,
   "metadata": {
    "colab": {},
    "colab_type": "code",
    "id": "0eX8P1l3jtiP"
   },
   "outputs": [],
   "source": [
    "import graphviz \n",
    "import numpy as np\n",
    "import matplotlib.pyplot as plt"
   ]
  },
  {
   "cell_type": "markdown",
   "metadata": {
    "colab_type": "text",
    "id": "V4b3h5n59cUQ",
    "lang": "pl"
   },
   "source": [
    "#### Zestaw danych IRIS"
   ]
  },
  {
   "cell_type": "markdown",
   "metadata": {
    "colab_type": "text",
    "id": "Uby3ev8F_-pm",
    "lang": "pl"
   },
   "source": [
    "Informacje o kwiatech o polskiej nazwie **kosaciec**  dostępne w zestawie *Iris* zostały zebrane przez  biologa Ronalda Fishera w roku 1936. Wykorzystał on je w pracy  *The use of multiple measurements in taxonomic problems*.\n",
    "\n",
    "#### Iris Setosa\n",
    "<img src=\"https://i.ebayimg.com/images/g/xEgAAOSwoBtW6BoO/s-l1600.jpg\" width=250px>\n",
    "\n",
    "#### Iris Virginica\n",
    "<img src=\"https://upload.wikimedia.org/wikipedia/commons/thumb/f/f8/Iris_virginica_2.jpg/1280px-Iris_virginica_2.jpg\" width=250px>\n",
    "#### Iris Versicolor\n",
    "<img src=\"http://latour-marliac.com/323-large_default/iris-versicolor-iris-versicolore.jpg\" width=250px>\n",
    "\n",
    "\n",
    "Dla reprezentantów poszczególnych  gatunków mierzono długość i szerokość płatka „petal” i działki kielicha kwiatu „sepal”."
   ]
  },
  {
   "cell_type": "markdown",
   "metadata": {
    "colab_type": "text",
    "id": "hb4cSOy4JO7r",
    "lang": "pl"
   },
   "source": [
    "**Krok 1:** Podziel dane na dane treningowe i testowe w proporcji 0.77 do 0.33. Ustaw `random_state` na 1."
   ]
  },
  {
   "cell_type": "code",
   "execution_count": 4,
   "metadata": {
    "colab": {},
    "colab_type": "code",
    "id": "khhEhXUvjCZN"
   },
   "outputs": [],
   "source": [
    "iris = load_iris()\n",
    "X, y = iris.data, iris.target\n",
    "X_train, X_test, y_train, y_test = train_test_split(X, y, test_size=0.33, random_state=1)"
   ]
  },
  {
   "cell_type": "code",
   "execution_count": 5,
   "metadata": {
    "colab": {
     "base_uri": "https://localhost:8080/",
     "height": 87
    },
    "colab_type": "code",
    "id": "wU9QRJuyutZE",
    "outputId": "46be077d-a055-448a-98ab-9aeca58b8b3c"
   },
   "outputs": [
    {
     "data": {
      "text/plain": [
       "['sepal length (cm)',\n",
       " 'sepal width (cm)',\n",
       " 'petal length (cm)',\n",
       " 'petal width (cm)']"
      ]
     },
     "execution_count": 5,
     "metadata": {},
     "output_type": "execute_result"
    }
   ],
   "source": [
    "iris.feature_names"
   ]
  },
  {
   "cell_type": "markdown",
   "metadata": {
    "colab_type": "text",
    "id": "VWet73ZiJZnL",
    "lang": "pl"
   },
   "source": [
    "**Krok 2:** Trening klasyfikatora  `DecisionTreeClassifier` z biblioteki `sklearn`"
   ]
  },
  {
   "cell_type": "code",
   "execution_count": 6,
   "metadata": {
    "colab": {
     "base_uri": "https://localhost:8080/",
     "height": 52
    },
    "colab_type": "code",
    "id": "UCEVM18f9Kry",
    "outputId": "c9768574-bcfe-4ba5-a188-f41cea3f9bae"
   },
   "outputs": [
    {
     "name": "stdout",
     "output_type": "stream",
     "text": [
      "CPU times: user 398 µs, sys: 343 µs, total: 741 µs\n",
      "Wall time: 618 µs\n"
     ]
    }
   ],
   "source": [
    "%%time\n",
    "\n",
    "clf = DecisionTreeClassifier()\n",
    "clf = clf.fit(X_train, y_train)"
   ]
  },
  {
   "cell_type": "markdown",
   "metadata": {
    "colab_type": "text",
    "id": "FLVcMn21Jm92",
    "lang": "pl"
   },
   "source": [
    "**Krok 2.1:** Podgląd otrzymanego drzewa decyzyjnego"
   ]
  },
  {
   "cell_type": "code",
   "execution_count": 7,
   "metadata": {
    "colab": {
     "base_uri": "https://localhost:8080/",
     "height": 757
    },
    "colab_type": "code",
    "id": "7AeTxVdCLmR4",
    "outputId": "46ae1afa-e825-43b6-8871-ad6de95e73bf"
   },
   "outputs": [
    {
     "data": {
      "image/svg+xml": [
       "<?xml version=\"1.0\" encoding=\"UTF-8\" standalone=\"no\"?>\n",
       "<!DOCTYPE svg PUBLIC \"-//W3C//DTD SVG 1.1//EN\"\n",
       " \"http://www.w3.org/Graphics/SVG/1.1/DTD/svg11.dtd\">\n",
       "<!-- Generated by graphviz version 2.38.0 (20140413.2041)\n",
       " -->\n",
       "<!-- Title: Tree Pages: 1 -->\n",
       "<svg width=\"614pt\" height=\"552pt\"\n",
       " viewBox=\"0.00 0.00 614.00 552.00\" xmlns=\"http://www.w3.org/2000/svg\" xmlns:xlink=\"http://www.w3.org/1999/xlink\">\n",
       "<g id=\"graph0\" class=\"graph\" transform=\"scale(1 1) rotate(0) translate(4 548)\">\n",
       "<title>Tree</title>\n",
       "<polygon fill=\"white\" stroke=\"none\" points=\"-4,4 -4,-548 610,-548 610,4 -4,4\"/>\n",
       "<!-- 0 -->\n",
       "<g id=\"node1\" class=\"node\"><title>0</title>\n",
       "<path fill=\"#f9f6fe\" stroke=\"black\" d=\"M294.5,-544C294.5,-544 166.5,-544 166.5,-544 160.5,-544 154.5,-538 154.5,-532 154.5,-532 154.5,-473 154.5,-473 154.5,-467 160.5,-461 166.5,-461 166.5,-461 294.5,-461 294.5,-461 300.5,-461 306.5,-467 306.5,-473 306.5,-473 306.5,-532 306.5,-532 306.5,-538 300.5,-544 294.5,-544\"/>\n",
       "<text text-anchor=\"start\" x=\"162.5\" y=\"-528.8\" font-family=\"Helvetica,sans-Serif\" font-size=\"14.00\">petal length (cm) ≤ 2.6</text>\n",
       "<text text-anchor=\"start\" x=\"195\" y=\"-513.8\" font-family=\"Helvetica,sans-Serif\" font-size=\"14.00\">gini = 0.665</text>\n",
       "<text text-anchor=\"start\" x=\"185.5\" y=\"-498.8\" font-family=\"Helvetica,sans-Serif\" font-size=\"14.00\">samples = 100</text>\n",
       "<text text-anchor=\"start\" x=\"172.5\" y=\"-483.8\" font-family=\"Helvetica,sans-Serif\" font-size=\"14.00\">value = [33, 31, 36]</text>\n",
       "<text text-anchor=\"start\" x=\"182\" y=\"-468.8\" font-family=\"Helvetica,sans-Serif\" font-size=\"14.00\">class = virginica</text>\n",
       "</g>\n",
       "<!-- 1 -->\n",
       "<g id=\"node2\" class=\"node\"><title>1</title>\n",
       "<path fill=\"#e58139\" stroke=\"black\" d=\"M200,-417.5C200,-417.5 107,-417.5 107,-417.5 101,-417.5 95,-411.5 95,-405.5 95,-405.5 95,-361.5 95,-361.5 95,-355.5 101,-349.5 107,-349.5 107,-349.5 200,-349.5 200,-349.5 206,-349.5 212,-355.5 212,-361.5 212,-361.5 212,-405.5 212,-405.5 212,-411.5 206,-417.5 200,-417.5\"/>\n",
       "<text text-anchor=\"start\" x=\"125.5\" y=\"-402.3\" font-family=\"Helvetica,sans-Serif\" font-size=\"14.00\">gini = 0.0</text>\n",
       "<text text-anchor=\"start\" x=\"112.5\" y=\"-387.3\" font-family=\"Helvetica,sans-Serif\" font-size=\"14.00\">samples = 33</text>\n",
       "<text text-anchor=\"start\" x=\"103\" y=\"-372.3\" font-family=\"Helvetica,sans-Serif\" font-size=\"14.00\">value = [33, 0, 0]</text>\n",
       "<text text-anchor=\"start\" x=\"110\" y=\"-357.3\" font-family=\"Helvetica,sans-Serif\" font-size=\"14.00\">class = setosa</text>\n",
       "</g>\n",
       "<!-- 0&#45;&gt;1 -->\n",
       "<g id=\"edge1\" class=\"edge\"><title>0&#45;&gt;1</title>\n",
       "<path fill=\"none\" stroke=\"black\" d=\"M203.785,-460.907C196.378,-449.652 188.327,-437.418 180.882,-426.106\"/>\n",
       "<polygon fill=\"black\" stroke=\"black\" points=\"183.749,-424.096 175.328,-417.667 177.902,-427.944 183.749,-424.096\"/>\n",
       "<text text-anchor=\"middle\" x=\"170.279\" y=\"-438.452\" font-family=\"Helvetica,sans-Serif\" font-size=\"14.00\">True</text>\n",
       "</g>\n",
       "<!-- 2 -->\n",
       "<g id=\"node3\" class=\"node\"><title>2</title>\n",
       "<path fill=\"#eee4fb\" stroke=\"black\" d=\"M373,-425C373,-425 242,-425 242,-425 236,-425 230,-419 230,-413 230,-413 230,-354 230,-354 230,-348 236,-342 242,-342 242,-342 373,-342 373,-342 379,-342 385,-348 385,-354 385,-354 385,-413 385,-413 385,-419 379,-425 373,-425\"/>\n",
       "<text text-anchor=\"start\" x=\"238\" y=\"-409.8\" font-family=\"Helvetica,sans-Serif\" font-size=\"14.00\">petal width (cm) ≤ 1.65</text>\n",
       "<text text-anchor=\"start\" x=\"272\" y=\"-394.8\" font-family=\"Helvetica,sans-Serif\" font-size=\"14.00\">gini = 0.497</text>\n",
       "<text text-anchor=\"start\" x=\"266.5\" y=\"-379.8\" font-family=\"Helvetica,sans-Serif\" font-size=\"14.00\">samples = 67</text>\n",
       "<text text-anchor=\"start\" x=\"253\" y=\"-364.8\" font-family=\"Helvetica,sans-Serif\" font-size=\"14.00\">value = [0, 31, 36]</text>\n",
       "<text text-anchor=\"start\" x=\"259\" y=\"-349.8\" font-family=\"Helvetica,sans-Serif\" font-size=\"14.00\">class = virginica</text>\n",
       "</g>\n",
       "<!-- 0&#45;&gt;2 -->\n",
       "<g id=\"edge2\" class=\"edge\"><title>0&#45;&gt;2</title>\n",
       "<path fill=\"none\" stroke=\"black\" d=\"M257.215,-460.907C263.008,-452.105 269.195,-442.703 275.178,-433.612\"/>\n",
       "<polygon fill=\"black\" stroke=\"black\" points=\"278.259,-435.298 280.832,-425.021 272.411,-431.45 278.259,-435.298\"/>\n",
       "<text text-anchor=\"middle\" x=\"285.881\" y=\"-445.806\" font-family=\"Helvetica,sans-Serif\" font-size=\"14.00\">False</text>\n",
       "</g>\n",
       "<!-- 3 -->\n",
       "<g id=\"node4\" class=\"node\"><title>3</title>\n",
       "<path fill=\"#4de88e\" stroke=\"black\" d=\"M284.5,-306C284.5,-306 156.5,-306 156.5,-306 150.5,-306 144.5,-300 144.5,-294 144.5,-294 144.5,-235 144.5,-235 144.5,-229 150.5,-223 156.5,-223 156.5,-223 284.5,-223 284.5,-223 290.5,-223 296.5,-229 296.5,-235 296.5,-235 296.5,-294 296.5,-294 296.5,-300 290.5,-306 284.5,-306\"/>\n",
       "<text text-anchor=\"start\" x=\"152.5\" y=\"-290.8\" font-family=\"Helvetica,sans-Serif\" font-size=\"14.00\">petal length (cm) ≤ 5.0</text>\n",
       "<text text-anchor=\"start\" x=\"185\" y=\"-275.8\" font-family=\"Helvetica,sans-Serif\" font-size=\"14.00\">gini = 0.165</text>\n",
       "<text text-anchor=\"start\" x=\"179.5\" y=\"-260.8\" font-family=\"Helvetica,sans-Serif\" font-size=\"14.00\">samples = 33</text>\n",
       "<text text-anchor=\"start\" x=\"170\" y=\"-245.8\" font-family=\"Helvetica,sans-Serif\" font-size=\"14.00\">value = [0, 30, 3]</text>\n",
       "<text text-anchor=\"start\" x=\"168\" y=\"-230.8\" font-family=\"Helvetica,sans-Serif\" font-size=\"14.00\">class = versicolor</text>\n",
       "</g>\n",
       "<!-- 2&#45;&gt;3 -->\n",
       "<g id=\"edge3\" class=\"edge\"><title>2&#45;&gt;3</title>\n",
       "<path fill=\"none\" stroke=\"black\" d=\"M277.316,-341.907C270.635,-332.923 263.491,-323.315 256.601,-314.05\"/>\n",
       "<polygon fill=\"black\" stroke=\"black\" points=\"259.407,-311.957 250.631,-306.021 253.789,-316.134 259.407,-311.957\"/>\n",
       "</g>\n",
       "<!-- 8 -->\n",
       "<g id=\"node9\" class=\"node\"><title>8</title>\n",
       "<path fill=\"#853fe6\" stroke=\"black\" d=\"M463.5,-306C463.5,-306 327.5,-306 327.5,-306 321.5,-306 315.5,-300 315.5,-294 315.5,-294 315.5,-235 315.5,-235 315.5,-229 321.5,-223 327.5,-223 327.5,-223 463.5,-223 463.5,-223 469.5,-223 475.5,-229 475.5,-235 475.5,-235 475.5,-294 475.5,-294 475.5,-300 469.5,-306 463.5,-306\"/>\n",
       "<text text-anchor=\"start\" x=\"323.5\" y=\"-290.8\" font-family=\"Helvetica,sans-Serif\" font-size=\"14.00\">petal length (cm) ≤ 4.85</text>\n",
       "<text text-anchor=\"start\" x=\"360\" y=\"-275.8\" font-family=\"Helvetica,sans-Serif\" font-size=\"14.00\">gini = 0.057</text>\n",
       "<text text-anchor=\"start\" x=\"354.5\" y=\"-260.8\" font-family=\"Helvetica,sans-Serif\" font-size=\"14.00\">samples = 34</text>\n",
       "<text text-anchor=\"start\" x=\"345\" y=\"-245.8\" font-family=\"Helvetica,sans-Serif\" font-size=\"14.00\">value = [0, 1, 33]</text>\n",
       "<text text-anchor=\"start\" x=\"347\" y=\"-230.8\" font-family=\"Helvetica,sans-Serif\" font-size=\"14.00\">class = virginica</text>\n",
       "</g>\n",
       "<!-- 2&#45;&gt;8 -->\n",
       "<g id=\"edge8\" class=\"edge\"><title>2&#45;&gt;8</title>\n",
       "<path fill=\"none\" stroke=\"black\" d=\"M338.031,-341.907C344.789,-332.923 352.015,-323.315 358.984,-314.05\"/>\n",
       "<polygon fill=\"black\" stroke=\"black\" points=\"361.809,-316.116 365.023,-306.021 356.215,-311.909 361.809,-316.116\"/>\n",
       "</g>\n",
       "<!-- 4 -->\n",
       "<g id=\"node5\" class=\"node\"><title>4</title>\n",
       "<path fill=\"#39e581\" stroke=\"black\" d=\"M109,-179.5C109,-179.5 12,-179.5 12,-179.5 6,-179.5 7.10543e-15,-173.5 7.10543e-15,-167.5 7.10543e-15,-167.5 7.10543e-15,-123.5 7.10543e-15,-123.5 7.10543e-15,-117.5 6,-111.5 12,-111.5 12,-111.5 109,-111.5 109,-111.5 115,-111.5 121,-117.5 121,-123.5 121,-123.5 121,-167.5 121,-167.5 121,-173.5 115,-179.5 109,-179.5\"/>\n",
       "<text text-anchor=\"start\" x=\"32.5\" y=\"-164.3\" font-family=\"Helvetica,sans-Serif\" font-size=\"14.00\">gini = 0.0</text>\n",
       "<text text-anchor=\"start\" x=\"19.5\" y=\"-149.3\" font-family=\"Helvetica,sans-Serif\" font-size=\"14.00\">samples = 29</text>\n",
       "<text text-anchor=\"start\" x=\"10\" y=\"-134.3\" font-family=\"Helvetica,sans-Serif\" font-size=\"14.00\">value = [0, 29, 0]</text>\n",
       "<text text-anchor=\"start\" x=\"8\" y=\"-119.3\" font-family=\"Helvetica,sans-Serif\" font-size=\"14.00\">class = versicolor</text>\n",
       "</g>\n",
       "<!-- 3&#45;&gt;4 -->\n",
       "<g id=\"edge4\" class=\"edge\"><title>3&#45;&gt;4</title>\n",
       "<path fill=\"none\" stroke=\"black\" d=\"M164.989,-222.907C148.541,-210.88 130.564,-197.735 114.231,-185.791\"/>\n",
       "<polygon fill=\"black\" stroke=\"black\" points=\"115.995,-182.744 105.856,-179.667 111.863,-188.395 115.995,-182.744\"/>\n",
       "</g>\n",
       "<!-- 5 -->\n",
       "<g id=\"node6\" class=\"node\"><title>5</title>\n",
       "<path fill=\"#ab7bee\" stroke=\"black\" d=\"M290,-187C290,-187 151,-187 151,-187 145,-187 139,-181 139,-175 139,-175 139,-116 139,-116 139,-110 145,-104 151,-104 151,-104 290,-104 290,-104 296,-104 302,-110 302,-116 302,-116 302,-175 302,-175 302,-181 296,-187 290,-187\"/>\n",
       "<text text-anchor=\"start\" x=\"147\" y=\"-171.8\" font-family=\"Helvetica,sans-Serif\" font-size=\"14.00\">sepal length (cm) ≤ 6.05</text>\n",
       "<text text-anchor=\"start\" x=\"185\" y=\"-156.8\" font-family=\"Helvetica,sans-Serif\" font-size=\"14.00\">gini = 0.375</text>\n",
       "<text text-anchor=\"start\" x=\"183\" y=\"-141.8\" font-family=\"Helvetica,sans-Serif\" font-size=\"14.00\">samples = 4</text>\n",
       "<text text-anchor=\"start\" x=\"173.5\" y=\"-126.8\" font-family=\"Helvetica,sans-Serif\" font-size=\"14.00\">value = [0, 1, 3]</text>\n",
       "<text text-anchor=\"start\" x=\"172\" y=\"-111.8\" font-family=\"Helvetica,sans-Serif\" font-size=\"14.00\">class = virginica</text>\n",
       "</g>\n",
       "<!-- 3&#45;&gt;5 -->\n",
       "<g id=\"edge5\" class=\"edge\"><title>3&#45;&gt;5</title>\n",
       "<path fill=\"none\" stroke=\"black\" d=\"M220.5,-222.907C220.5,-214.649 220.5,-205.864 220.5,-197.302\"/>\n",
       "<polygon fill=\"black\" stroke=\"black\" points=\"224,-197.021 220.5,-187.021 217,-197.021 224,-197.021\"/>\n",
       "</g>\n",
       "<!-- 6 -->\n",
       "<g id=\"node7\" class=\"node\"><title>6</title>\n",
       "<path fill=\"#39e581\" stroke=\"black\" d=\"M145,-68C145,-68 48,-68 48,-68 42,-68 36,-62 36,-56 36,-56 36,-12 36,-12 36,-6 42,-0 48,-0 48,-0 145,-0 145,-0 151,-0 157,-6 157,-12 157,-12 157,-56 157,-56 157,-62 151,-68 145,-68\"/>\n",
       "<text text-anchor=\"start\" x=\"68.5\" y=\"-52.8\" font-family=\"Helvetica,sans-Serif\" font-size=\"14.00\">gini = 0.0</text>\n",
       "<text text-anchor=\"start\" x=\"59\" y=\"-37.8\" font-family=\"Helvetica,sans-Serif\" font-size=\"14.00\">samples = 1</text>\n",
       "<text text-anchor=\"start\" x=\"49.5\" y=\"-22.8\" font-family=\"Helvetica,sans-Serif\" font-size=\"14.00\">value = [0, 1, 0]</text>\n",
       "<text text-anchor=\"start\" x=\"44\" y=\"-7.8\" font-family=\"Helvetica,sans-Serif\" font-size=\"14.00\">class = versicolor</text>\n",
       "</g>\n",
       "<!-- 5&#45;&gt;6 -->\n",
       "<g id=\"edge6\" class=\"edge\"><title>5&#45;&gt;6</title>\n",
       "<path fill=\"none\" stroke=\"black\" d=\"M174.327,-103.726C163.689,-94.3318 152.384,-84.349 141.784,-74.9883\"/>\n",
       "<polygon fill=\"black\" stroke=\"black\" points=\"144.022,-72.2953 134.209,-68.2996 139.388,-77.5424 144.022,-72.2953\"/>\n",
       "</g>\n",
       "<!-- 7 -->\n",
       "<g id=\"node8\" class=\"node\"><title>7</title>\n",
       "<path fill=\"#8139e5\" stroke=\"black\" d=\"M276,-68C276,-68 187,-68 187,-68 181,-68 175,-62 175,-56 175,-56 175,-12 175,-12 175,-6 181,-0 187,-0 187,-0 276,-0 276,-0 282,-0 288,-6 288,-12 288,-12 288,-56 288,-56 288,-62 282,-68 276,-68\"/>\n",
       "<text text-anchor=\"start\" x=\"203.5\" y=\"-52.8\" font-family=\"Helvetica,sans-Serif\" font-size=\"14.00\">gini = 0.0</text>\n",
       "<text text-anchor=\"start\" x=\"194\" y=\"-37.8\" font-family=\"Helvetica,sans-Serif\" font-size=\"14.00\">samples = 3</text>\n",
       "<text text-anchor=\"start\" x=\"184.5\" y=\"-22.8\" font-family=\"Helvetica,sans-Serif\" font-size=\"14.00\">value = [0, 0, 3]</text>\n",
       "<text text-anchor=\"start\" x=\"183\" y=\"-7.8\" font-family=\"Helvetica,sans-Serif\" font-size=\"14.00\">class = virginica</text>\n",
       "</g>\n",
       "<!-- 5&#45;&gt;7 -->\n",
       "<g id=\"edge7\" class=\"edge\"><title>5&#45;&gt;7</title>\n",
       "<path fill=\"none\" stroke=\"black\" d=\"M224.596,-103.726C225.43,-95.4263 226.31,-86.6671 227.152,-78.2834\"/>\n",
       "<polygon fill=\"black\" stroke=\"black\" points=\"230.638,-78.5994 228.155,-68.2996 223.673,-77.8997 230.638,-78.5994\"/>\n",
       "</g>\n",
       "<!-- 9 -->\n",
       "<g id=\"node10\" class=\"node\"><title>9</title>\n",
       "<path fill=\"#ab7bee\" stroke=\"black\" d=\"M458.5,-187C458.5,-187 332.5,-187 332.5,-187 326.5,-187 320.5,-181 320.5,-175 320.5,-175 320.5,-116 320.5,-116 320.5,-110 326.5,-104 332.5,-104 332.5,-104 458.5,-104 458.5,-104 464.5,-104 470.5,-110 470.5,-116 470.5,-116 470.5,-175 470.5,-175 470.5,-181 464.5,-187 458.5,-187\"/>\n",
       "<text text-anchor=\"start\" x=\"328.5\" y=\"-171.8\" font-family=\"Helvetica,sans-Serif\" font-size=\"14.00\">sepal width (cm) ≤ 3.1</text>\n",
       "<text text-anchor=\"start\" x=\"360\" y=\"-156.8\" font-family=\"Helvetica,sans-Serif\" font-size=\"14.00\">gini = 0.375</text>\n",
       "<text text-anchor=\"start\" x=\"358\" y=\"-141.8\" font-family=\"Helvetica,sans-Serif\" font-size=\"14.00\">samples = 4</text>\n",
       "<text text-anchor=\"start\" x=\"348.5\" y=\"-126.8\" font-family=\"Helvetica,sans-Serif\" font-size=\"14.00\">value = [0, 1, 3]</text>\n",
       "<text text-anchor=\"start\" x=\"347\" y=\"-111.8\" font-family=\"Helvetica,sans-Serif\" font-size=\"14.00\">class = virginica</text>\n",
       "</g>\n",
       "<!-- 8&#45;&gt;9 -->\n",
       "<g id=\"edge9\" class=\"edge\"><title>8&#45;&gt;9</title>\n",
       "<path fill=\"none\" stroke=\"black\" d=\"M395.5,-222.907C395.5,-214.649 395.5,-205.864 395.5,-197.302\"/>\n",
       "<polygon fill=\"black\" stroke=\"black\" points=\"399,-197.021 395.5,-187.021 392,-197.021 399,-197.021\"/>\n",
       "</g>\n",
       "<!-- 12 -->\n",
       "<g id=\"node13\" class=\"node\"><title>12</title>\n",
       "<path fill=\"#8139e5\" stroke=\"black\" d=\"M594,-179.5C594,-179.5 501,-179.5 501,-179.5 495,-179.5 489,-173.5 489,-167.5 489,-167.5 489,-123.5 489,-123.5 489,-117.5 495,-111.5 501,-111.5 501,-111.5 594,-111.5 594,-111.5 600,-111.5 606,-117.5 606,-123.5 606,-123.5 606,-167.5 606,-167.5 606,-173.5 600,-179.5 594,-179.5\"/>\n",
       "<text text-anchor=\"start\" x=\"519.5\" y=\"-164.3\" font-family=\"Helvetica,sans-Serif\" font-size=\"14.00\">gini = 0.0</text>\n",
       "<text text-anchor=\"start\" x=\"506.5\" y=\"-149.3\" font-family=\"Helvetica,sans-Serif\" font-size=\"14.00\">samples = 30</text>\n",
       "<text text-anchor=\"start\" x=\"497\" y=\"-134.3\" font-family=\"Helvetica,sans-Serif\" font-size=\"14.00\">value = [0, 0, 30]</text>\n",
       "<text text-anchor=\"start\" x=\"499\" y=\"-119.3\" font-family=\"Helvetica,sans-Serif\" font-size=\"14.00\">class = virginica</text>\n",
       "</g>\n",
       "<!-- 8&#45;&gt;12 -->\n",
       "<g id=\"edge12\" class=\"edge\"><title>8&#45;&gt;12</title>\n",
       "<path fill=\"none\" stroke=\"black\" d=\"M448.236,-222.907C463.861,-210.88 480.939,-197.735 496.455,-185.791\"/>\n",
       "<polygon fill=\"black\" stroke=\"black\" points=\"498.622,-188.54 504.411,-179.667 494.352,-182.993 498.622,-188.54\"/>\n",
       "</g>\n",
       "<!-- 10 -->\n",
       "<g id=\"node11\" class=\"node\"><title>10</title>\n",
       "<path fill=\"#8139e5\" stroke=\"black\" d=\"M429,-68C429,-68 340,-68 340,-68 334,-68 328,-62 328,-56 328,-56 328,-12 328,-12 328,-6 334,-0 340,-0 340,-0 429,-0 429,-0 435,-0 441,-6 441,-12 441,-12 441,-56 441,-56 441,-62 435,-68 429,-68\"/>\n",
       "<text text-anchor=\"start\" x=\"356.5\" y=\"-52.8\" font-family=\"Helvetica,sans-Serif\" font-size=\"14.00\">gini = 0.0</text>\n",
       "<text text-anchor=\"start\" x=\"347\" y=\"-37.8\" font-family=\"Helvetica,sans-Serif\" font-size=\"14.00\">samples = 3</text>\n",
       "<text text-anchor=\"start\" x=\"337.5\" y=\"-22.8\" font-family=\"Helvetica,sans-Serif\" font-size=\"14.00\">value = [0, 0, 3]</text>\n",
       "<text text-anchor=\"start\" x=\"336\" y=\"-7.8\" font-family=\"Helvetica,sans-Serif\" font-size=\"14.00\">class = virginica</text>\n",
       "</g>\n",
       "<!-- 9&#45;&gt;10 -->\n",
       "<g id=\"edge10\" class=\"edge\"><title>9&#45;&gt;10</title>\n",
       "<path fill=\"none\" stroke=\"black\" d=\"M391.404,-103.726C390.57,-95.4263 389.69,-86.6671 388.848,-78.2834\"/>\n",
       "<polygon fill=\"black\" stroke=\"black\" points=\"392.327,-77.8997 387.845,-68.2996 385.362,-78.5994 392.327,-77.8997\"/>\n",
       "</g>\n",
       "<!-- 11 -->\n",
       "<g id=\"node12\" class=\"node\"><title>11</title>\n",
       "<path fill=\"#39e581\" stroke=\"black\" d=\"M568,-68C568,-68 471,-68 471,-68 465,-68 459,-62 459,-56 459,-56 459,-12 459,-12 459,-6 465,-0 471,-0 471,-0 568,-0 568,-0 574,-0 580,-6 580,-12 580,-12 580,-56 580,-56 580,-62 574,-68 568,-68\"/>\n",
       "<text text-anchor=\"start\" x=\"491.5\" y=\"-52.8\" font-family=\"Helvetica,sans-Serif\" font-size=\"14.00\">gini = 0.0</text>\n",
       "<text text-anchor=\"start\" x=\"482\" y=\"-37.8\" font-family=\"Helvetica,sans-Serif\" font-size=\"14.00\">samples = 1</text>\n",
       "<text text-anchor=\"start\" x=\"472.5\" y=\"-22.8\" font-family=\"Helvetica,sans-Serif\" font-size=\"14.00\">value = [0, 1, 0]</text>\n",
       "<text text-anchor=\"start\" x=\"467\" y=\"-7.8\" font-family=\"Helvetica,sans-Serif\" font-size=\"14.00\">class = versicolor</text>\n",
       "</g>\n",
       "<!-- 9&#45;&gt;11 -->\n",
       "<g id=\"edge11\" class=\"edge\"><title>9&#45;&gt;11</title>\n",
       "<path fill=\"none\" stroke=\"black\" d=\"M441.673,-103.726C452.311,-94.3318 463.616,-84.349 474.216,-74.9883\"/>\n",
       "<polygon fill=\"black\" stroke=\"black\" points=\"476.612,-77.5424 481.791,-68.2996 471.978,-72.2953 476.612,-77.5424\"/>\n",
       "</g>\n",
       "</g>\n",
       "</svg>\n"
      ],
      "text/plain": [
       "<graphviz.files.Source at 0x7f6ef65c1dd0>"
      ]
     },
     "execution_count": 7,
     "metadata": {},
     "output_type": "execute_result"
    }
   ],
   "source": [
    "dot_data = tree.export_graphviz(clf, out_file=None, \n",
    "                         feature_names=iris.feature_names,  \n",
    "                         class_names=iris.target_names,  \n",
    "                         filled=True, rounded=True,  \n",
    "                         special_characters=True)  \n",
    "graph = graphviz.Source(dot_data)  \n",
    "graph"
   ]
  },
  {
   "cell_type": "markdown",
   "metadata": {
    "lang": "pl"
   },
   "source": [
    "**Zadanie**\n",
    "\n",
    "Do jakiej klasy został przyporządkowany irys z zestawu testowego X_test[10]. Podaj nazwę."
   ]
  },
  {
   "cell_type": "code",
   "execution_count": 8,
   "metadata": {
    "deletable": false,
    "nbgrader": {
     "cell_type": "code",
     "checksum": "6c2236fb5b7d5503668f03f4eb9e2c79",
     "grade": false,
     "grade_id": "cell-84a307a96e8ce30d",
     "locked": false,
     "schema_version": 3,
     "solution": true,
     "task": false
    }
   },
   "outputs": [
    {
     "name": "stdout",
     "output_type": "stream",
     "text": [
      "versicolor\n"
     ]
    }
   ],
   "source": [
    "name_10th = iris.target_names[y_test[10]]\n",
    "print(name_10th)"
   ]
  },
  {
   "cell_type": "code",
   "execution_count": 9,
   "metadata": {
    "deletable": false,
    "editable": false,
    "nbgrader": {
     "cell_type": "code",
     "checksum": "f443884cb7dedb5d33c88fcfae84d5fd",
     "grade": true,
     "grade_id": "cell-3a48e3acbb926ab0",
     "locked": true,
     "points": 1,
     "schema_version": 3,
     "solution": false,
     "task": false
    }
   },
   "outputs": [],
   "source": [
    "assert name_10th == 'versicolor'"
   ]
  },
  {
   "cell_type": "markdown",
   "metadata": {
    "colab_type": "text",
    "deletable": false,
    "editable": false,
    "id": "6EyAGPZfWPkr",
    "lang": "pl",
    "nbgrader": {
     "cell_type": "markdown",
     "checksum": "6acdc2756f5f7f1290f567b0cbf4362f",
     "grade": false,
     "grade_id": "cell-da530369497dc520",
     "locked": true,
     "schema_version": 3,
     "solution": false,
     "task": false
    }
   },
   "source": [
    "## Dokładność modelu\n",
    "\n",
    "Metodą `score` wyznacz dokładność otrzymanego modelu"
   ]
  },
  {
   "cell_type": "code",
   "execution_count": 10,
   "metadata": {
    "colab": {
     "base_uri": "https://localhost:8080/",
     "height": 34
    },
    "colab_type": "code",
    "deletable": false,
    "id": "PerPAAfLWPE4",
    "nbgrader": {
     "cell_type": "code",
     "checksum": "84eecc2fb32ec73ad3dc42ca340e574a",
     "grade": false,
     "grade_id": "cell-2dfb27d0af0b1bc9",
     "locked": false,
     "schema_version": 3,
     "solution": true,
     "task": false
    },
    "outputId": "4f999dce-d8f8-4148-d2c7-2363d0d8459f"
   },
   "outputs": [
    {
     "name": "stdout",
     "output_type": "stream",
     "text": [
      "0.96\n"
     ]
    }
   ],
   "source": [
    "score = clf.score(X_test, y_test)\n",
    "print(score)"
   ]
  },
  {
   "cell_type": "code",
   "execution_count": 11,
   "metadata": {
    "deletable": false,
    "editable": false,
    "nbgrader": {
     "cell_type": "code",
     "checksum": "ca030d12fcdd361ac4b799be9237385f",
     "grade": true,
     "grade_id": "cell-b2a0c1145c5953d0",
     "locked": true,
     "points": 1,
     "schema_version": 3,
     "solution": false,
     "task": false
    }
   },
   "outputs": [],
   "source": [
    "assert score >0.95 and score < 0.97"
   ]
  },
  {
   "cell_type": "markdown",
   "metadata": {
    "colab_type": "text",
    "id": "nqdA5PT9WJon",
    "lang": "pl"
   },
   "source": [
    "## Podgląd otrzymanych podziałów\n",
    "\n",
    "Aby można było zwizualizować otrzymane podziały konieczna jest redukcja przestrzeni cech do dwóch wymirów. Oznacza to, że podczas klasyfikacji uwzględniamy tylko 2 zmienne objaśniające.\n"
   ]
  },
  {
   "cell_type": "code",
   "execution_count": 12,
   "metadata": {
    "colab": {
     "base_uri": "https://localhost:8080/",
     "height": 416
    },
    "colab_type": "code",
    "id": "oWVetjlilclA",
    "outputId": "9b74a8d2-17fe-450e-b7b4-a30f0653c9ca"
   },
   "outputs": [
    {
     "data": {
      "image/png": "[encoded data removed]",
      "text/plain": [
       "<Figure size 432x288 with 6 Axes>"
      ]
     },
     "metadata": {
      "needs_background": "light"
     },
     "output_type": "display_data"
    }
   ],
   "source": [
    "# Parameters\n",
    "n_classes = 3\n",
    "plot_step = 0.02\n",
    "\n",
    "\n",
    "plt.set_cmap(plt.cm.jet)\n",
    "\n",
    "\n",
    "for pairidx, pair in enumerate([[0, 1], [0, 2], [0, 3],\n",
    "                                [1, 2], [1, 3], [2, 3]]):\n",
    "  \n",
    "    # We train classifier only on 2 features\n",
    "    X = iris.data[:, pair]\n",
    "    y = iris.target\n",
    "\n",
    "    clf_tmp = DecisionTreeClassifier().fit(X, y)\n",
    "\n",
    "    # Plot\n",
    "    plt.subplot(2, 3, pairidx + 1)\n",
    "\n",
    "    x_min, x_max = X[:, 0].min() - 1, X[:, 0].max() + 1\n",
    "    y_min, y_max = X[:, 1].min() - 1, X[:, 1].max() + 1\n",
    "    xx, yy = np.meshgrid(np.arange(x_min, x_max, plot_step),\n",
    "                         np.arange(y_min, y_max, plot_step))\n",
    "\n",
    "    Z = clf_tmp.predict(np.c_[xx.ravel(), yy.ravel()])\n",
    "    Z = Z.reshape(xx.shape)\n",
    "    plt.imshow(Z,extent=[x_min,x_max,y_min,y_max],origin='lower',alpha=0.6)\n",
    "    plt.scatter(X[:,0], X[:,1],c=np.ravel(y),edgecolors='black')\n",
    "\n",
    "    plt.xlabel(iris.feature_names[pair[0]])\n",
    "    plt.ylabel(iris.feature_names[pair[1]])\n",
    "    plt.axis(\"tight\")\n",
    "\n",
    "\n",
    "    plt.tight_layout(pad=0.4, w_pad=0.5, h_pad=1.0)\n",
    "    plt.grid(False)\n",
    "\n",
    "plt.show()\n"
   ]
  },
  {
   "cell_type": "markdown",
   "metadata": {
    "colab_type": "text",
    "id": "_fLDbVIUb_SY",
    "lang": "pl"
   },
   "source": [
    "## Inne opcje poszukiwania najlepszego podziału\n",
    "\n",
    "Kiedy mamy zbyt dużo danych lub zmiennych objaśniających czas poszukiwania optymalnego podziału rośnie. Aby w każdym kroku nie przeszukiwać wszystkich możliwych podziałów mamy dwie możliwości. Możliwe ustawienia:\n",
    "\n",
    "### `max_features`\n",
    "\n",
    "Ilość zmiennych uwzględnianych w czasie poszukiwania optymalnego podziału. Możliwe opcje:\n",
    "*  liczba całkowita - uwzględnia dokładnie tyle ziennych podczas każdego podziału\n",
    "*  liczba zmiennoprzecinkowa - tyle procent zmiennych będzie uwzględnianych\n",
    "*  “auto” -  wówczas `max_features=sqrt(n_features)`.\n",
    "*  “sqrt” - wówczas `max_features=sqrt(n_features)`\n",
    "*  “log2” - wówczas `max_features=log2(n_features)`.\n",
    "*  `None` - wówczas `max_features=n_features`.\n"
   ]
  },
  {
   "cell_type": "code",
   "execution_count": 13,
   "metadata": {},
   "outputs": [
    {
     "name": "stdout",
     "output_type": "stream",
     "text": [
      "0.96 1.0\n",
      "0.88 1.0\n"
     ]
    }
   ],
   "source": [
    "clf_all = DecisionTreeClassifier()\n",
    "clf_all = clf_all.fit(X_train, y_train)\n",
    "\n",
    "print(clf_all.score(X_test, y_test), clf_all.score(X_train, y_train))\n",
    "\n",
    "\n",
    "clf = DecisionTreeClassifier(max_features=1, random_state=123)\n",
    "clf = clf.fit(X_train, y_train)\n",
    "\n",
    "print(clf.score(X_test, y_test), clf.score(X_train, y_train))"
   ]
  },
  {
   "cell_type": "markdown",
   "metadata": {
    "colab_type": "text",
    "id": "-LAzXmCRWfMx",
    "lang": "pl"
   },
   "source": [
    "### `splitter='random'`:\n",
    "\n",
    "W tym przypadku wybór zmiennej względem której dokonywany jest podział będzie losowy."
   ]
  },
  {
   "cell_type": "code",
   "execution_count": 14,
   "metadata": {
    "colab": {
     "base_uri": "https://localhost:8080/",
     "height": 51
    },
    "colab_type": "code",
    "id": "mDhFHQHoWeni",
    "outputId": "fb2900e9-b5c9-4182-c023-1708da3a786e"
   },
   "outputs": [
    {
     "name": "stdout",
     "output_type": "stream",
     "text": [
      "CPU times: user 935 µs, sys: 0 ns, total: 935 µs\n",
      "Wall time: 755 µs\n"
     ]
    }
   ],
   "source": [
    "%%time\n",
    "\n",
    "clf = DecisionTreeClassifier(splitter='random', random_state=123)\n",
    "clf = clf.fit(X_train, y_train)"
   ]
  },
  {
   "cell_type": "code",
   "execution_count": 15,
   "metadata": {
    "colab": {
     "base_uri": "https://localhost:8080/",
     "height": 34
    },
    "colab_type": "code",
    "id": "sDhRFST-YQfF",
    "outputId": "254ba679-c7d5-46f8-e684-b7d698f4d2ab"
   },
   "outputs": [
    {
     "data": {
      "text/plain": [
       "(0.94, 1.0)"
      ]
     },
     "execution_count": 15,
     "metadata": {},
     "output_type": "execute_result"
    }
   ],
   "source": [
    "clf.score(X_test, y_test), clf.score(X_train, y_train)"
   ]
  },
  {
   "cell_type": "markdown",
   "metadata": {
    "lang": "pl"
   },
   "source": [
    "### Porównanie 2 podziałów dla różnej inicjalizacji generatora liczb pseudolosowych"
   ]
  },
  {
   "cell_type": "code",
   "execution_count": 16,
   "metadata": {
    "colab": {
     "base_uri": "https://localhost:8080/",
     "height": 434
    },
    "colab_type": "code",
    "id": "mduLh5B4nwKe",
    "outputId": "af741af5-00e8-4f88-e0dc-b1c037b84f0f"
   },
   "outputs": [
    {
     "name": "stderr",
     "output_type": "stream",
     "text": [
      "No handles with labels found to put in legend.\n"
     ]
    },
    {
     "data": {
      "image/png": "[encoded data removed]",
      "text/plain": [
       "<Figure size 432x288 with 6 Axes>"
      ]
     },
     "metadata": {
      "needs_background": "light"
     },
     "output_type": "display_data"
    }
   ],
   "source": [
    "\n",
    "# Parameters\n",
    "n_classes = 3\n",
    "plot_step = 0.02\n",
    "\n",
    "plt.set_cmap(plt.cm.jet)\n",
    "\n",
    "\n",
    "for pairidx, pair in enumerate([[0, 1], [0, 2], [0, 3],\n",
    "                                [1, 2], [1, 3], [2, 3]]):\n",
    "    X = iris.data[:, pair]\n",
    "    y = iris.target\n",
    "\n",
    "\n",
    "    clf_tmp = DecisionTreeClassifier(splitter='random', random_state=2).fit(X, y)\n",
    "\n",
    "    plt.subplot(2, 3, pairidx + 1)\n",
    "\n",
    "    x_min, x_max = X[:, 0].min() - 1, X[:, 0].max() + 1\n",
    "    y_min, y_max = X[:, 1].min() - 1, X[:, 1].max() + 1\n",
    "    xx, yy = np.meshgrid(np.arange(x_min, x_max, plot_step),\n",
    "                         np.arange(y_min, y_max, plot_step))\n",
    "\n",
    "    Z = clf_tmp.predict(np.c_[xx.ravel(), yy.ravel()])\n",
    "    Z = Z.reshape(xx.shape)\n",
    "    plt.imshow(Z,extent=[x_min,x_max,y_min,y_max],origin='lower',alpha=0.6)\n",
    "    plt.scatter(X[:,0], X[:,1],c=np.ravel(y),edgecolors='black')\n",
    "\n",
    "    plt.xlabel(iris.feature_names[pair[0]])\n",
    "    plt.ylabel(iris.feature_names[pair[1]])\n",
    "    plt.axis(\"tight\")\n",
    "\n",
    "    plt.tight_layout(pad=0.4, w_pad=0.5, h_pad=1.0)\n",
    "    plt.grid(False)\n",
    "\n",
    "\n",
    "plt.legend()\n",
    "plt.show()\n"
   ]
  },
  {
   "cell_type": "code",
   "execution_count": 17,
   "metadata": {},
   "outputs": [
    {
     "data": {
      "image/png": "[encoded data removed]",
      "text/plain": [
       "<Figure size 432x288 with 6 Axes>"
      ]
     },
     "metadata": {
      "needs_background": "light"
     },
     "output_type": "display_data"
    }
   ],
   "source": [
    "\n",
    "# Parameters\n",
    "n_classes = 3\n",
    "plot_step = 0.02\n",
    "\n",
    "plt.set_cmap(plt.cm.jet)\n",
    "\n",
    "\n",
    "for pairidx, pair in enumerate([[0, 1], [0, 2], [0, 3],\n",
    "                                [1, 2], [1, 3], [2, 3]]):\n",
    "    X = iris.data[:, pair]\n",
    "    y = iris.target\n",
    "\n",
    "\n",
    "    clf_tmp = DecisionTreeClassifier(splitter='random', random_state=100).fit(X, y)\n",
    "\n",
    "    plt.subplot(2, 3, pairidx + 1)\n",
    "\n",
    "    x_min, x_max = X[:, 0].min() - 1, X[:, 0].max() + 1\n",
    "    y_min, y_max = X[:, 1].min() - 1, X[:, 1].max() + 1\n",
    "    xx, yy = np.meshgrid(np.arange(x_min, x_max, plot_step),\n",
    "                         np.arange(y_min, y_max, plot_step))\n",
    "\n",
    "    Z = clf_tmp.predict(np.c_[xx.ravel(), yy.ravel()])\n",
    "    Z = Z.reshape(xx.shape)\n",
    "    plt.imshow(Z,extent=[x_min,x_max,y_min,y_max],origin='lower',alpha=0.6)\n",
    "    plt.scatter(X[:,0], X[:,1],c=np.ravel(y),edgecolors='black')\n",
    "\n",
    "    plt.xlabel(iris.feature_names[pair[0]])\n",
    "    plt.ylabel(iris.feature_names[pair[1]])\n",
    "    plt.axis(\"tight\")\n",
    "\n",
    "    plt.tight_layout(pad=0.4, w_pad=0.5, h_pad=1.0)\n",
    "    plt.grid(False)\n",
    "\n",
    "\n",
    "plt.show()\n"
   ]
  },
  {
   "cell_type": "markdown",
   "metadata": {
    "colab_type": "text",
    "id": "ueHn39W-ZU--",
    "lang": "pl"
   },
   "source": [
    "## Przeciwdziałanie przeuczeniu\n",
    "\n",
    "Wymuszanie jednorodności w otrzymanych podprzestrzeniach prowadzi na ogół do zbudowaniabardzo złożonego modelu, który jest nadmiernie dopasowany dodanych ze zbioru uczącego. Pojawia się wówczas efekt przeuczenia.\n",
    "\n",
    "Następujące parametry pozwalają zmniejszyć efekt *overfittingu*. Po znaku równości zostały podane ich domyślne wartości.\n",
    "\n",
    "*   `max_depth=None`\n",
    "*   `min_samples_split=2`\n",
    "*   `min_samples_leaf=1`\n",
    "*  `min_impurity_decrease=0`\n",
    "\n"
   ]
  },
  {
   "cell_type": "code",
   "execution_count": 18,
   "metadata": {
    "colab": {
     "base_uri": "https://localhost:8080/",
     "height": 51
    },
    "colab_type": "code",
    "id": "KujHLNMceskO",
    "outputId": "5941d90c-84e5-47ed-f6c8-abf2cd71b669"
   },
   "outputs": [
    {
     "name": "stdout",
     "output_type": "stream",
     "text": [
      "CPU times: user 942 µs, sys: 281 µs, total: 1.22 ms\n",
      "Wall time: 999 µs\n"
     ]
    }
   ],
   "source": [
    "%%time\n",
    "\n",
    "clf = DecisionTreeClassifier(min_samples_split=10)\n",
    "clf = clf.fit(X_train, y_train)"
   ]
  },
  {
   "cell_type": "code",
   "execution_count": 19,
   "metadata": {
    "colab": {},
    "colab_type": "code",
    "id": "9gFDcJzhez9K"
   },
   "outputs": [],
   "source": [
    "dot_data = export_graphviz(clf, out_file=None) \n",
    "graph = graphviz.Source(dot_data) "
   ]
  },
  {
   "cell_type": "code",
   "execution_count": 20,
   "metadata": {
    "colab": {
     "base_uri": "https://localhost:8080/",
     "height": 598
    },
    "colab_type": "code",
    "id": "FKMiEYyVe6EC",
    "outputId": "409f40a5-0402-41e5-fc3d-04e1cbd4aca6"
   },
   "outputs": [
    {
     "data": {
      "image/svg+xml": [
       "<?xml version=\"1.0\" encoding=\"UTF-8\" standalone=\"no\"?>\n",
       "<!DOCTYPE svg PUBLIC \"-//W3C//DTD SVG 1.1//EN\"\n",
       " \"http://www.w3.org/Graphics/SVG/1.1/DTD/svg11.dtd\">\n",
       "<!-- Generated by graphviz version 2.38.0 (20140413.2041)\n",
       " -->\n",
       "<!-- Title: Tree Pages: 1 -->\n",
       "<svg width=\"547pt\" height=\"433pt\"\n",
       " viewBox=\"0.00 0.00 547.00 433.00\" xmlns=\"http://www.w3.org/2000/svg\" xmlns:xlink=\"http://www.w3.org/1999/xlink\">\n",
       "<g id=\"graph0\" class=\"graph\" transform=\"scale(1 1) rotate(0) translate(4 429)\">\n",
       "<title>Tree</title>\n",
       "<polygon fill=\"white\" stroke=\"none\" points=\"-4,4 -4,-429 543,-429 543,4 -4,4\"/>\n",
       "<!-- 0 -->\n",
       "<g id=\"node1\" class=\"node\"><title>0</title>\n",
       "<path fill=\"#f9f6fe\" stroke=\"black\" d=\"M258.5,-425C258.5,-425 130.5,-425 130.5,-425 124.5,-425 118.5,-419 118.5,-413 118.5,-413 118.5,-354 118.5,-354 118.5,-348 124.5,-342 130.5,-342 130.5,-342 258.5,-342 258.5,-342 264.5,-342 270.5,-348 270.5,-354 270.5,-354 270.5,-413 270.5,-413 270.5,-419 264.5,-425 258.5,-425\"/>\n",
       "<text text-anchor=\"start\" x=\"126.5\" y=\"-409.8\" font-family=\"Helvetica,sans-Serif\" font-size=\"14.00\">petal length (cm) ≤ 2.6</text>\n",
       "<text text-anchor=\"start\" x=\"159\" y=\"-394.8\" font-family=\"Helvetica,sans-Serif\" font-size=\"14.00\">gini = 0.665</text>\n",
       "<text text-anchor=\"start\" x=\"149.5\" y=\"-379.8\" font-family=\"Helvetica,sans-Serif\" font-size=\"14.00\">samples = 100</text>\n",
       "<text text-anchor=\"start\" x=\"136.5\" y=\"-364.8\" font-family=\"Helvetica,sans-Serif\" font-size=\"14.00\">value = [33, 31, 36]</text>\n",
       "<text text-anchor=\"start\" x=\"146\" y=\"-349.8\" font-family=\"Helvetica,sans-Serif\" font-size=\"14.00\">class = virginica</text>\n",
       "</g>\n",
       "<!-- 1 -->\n",
       "<g id=\"node2\" class=\"node\"><title>1</title>\n",
       "<path fill=\"#e58139\" stroke=\"black\" d=\"M164,-298.5C164,-298.5 71,-298.5 71,-298.5 65,-298.5 59,-292.5 59,-286.5 59,-286.5 59,-242.5 59,-242.5 59,-236.5 65,-230.5 71,-230.5 71,-230.5 164,-230.5 164,-230.5 170,-230.5 176,-236.5 176,-242.5 176,-242.5 176,-286.5 176,-286.5 176,-292.5 170,-298.5 164,-298.5\"/>\n",
       "<text text-anchor=\"start\" x=\"89.5\" y=\"-283.3\" font-family=\"Helvetica,sans-Serif\" font-size=\"14.00\">gini = 0.0</text>\n",
       "<text text-anchor=\"start\" x=\"76.5\" y=\"-268.3\" font-family=\"Helvetica,sans-Serif\" font-size=\"14.00\">samples = 33</text>\n",
       "<text text-anchor=\"start\" x=\"67\" y=\"-253.3\" font-family=\"Helvetica,sans-Serif\" font-size=\"14.00\">value = [33, 0, 0]</text>\n",
       "<text text-anchor=\"start\" x=\"74\" y=\"-238.3\" font-family=\"Helvetica,sans-Serif\" font-size=\"14.00\">class = setosa</text>\n",
       "</g>\n",
       "<!-- 0&#45;&gt;1 -->\n",
       "<g id=\"edge1\" class=\"edge\"><title>0&#45;&gt;1</title>\n",
       "<path fill=\"none\" stroke=\"black\" d=\"M167.785,-341.907C160.378,-330.652 152.327,-318.418 144.882,-307.106\"/>\n",
       "<polygon fill=\"black\" stroke=\"black\" points=\"147.749,-305.096 139.328,-298.667 141.902,-308.944 147.749,-305.096\"/>\n",
       "<text text-anchor=\"middle\" x=\"134.279\" y=\"-319.452\" font-family=\"Helvetica,sans-Serif\" font-size=\"14.00\">True</text>\n",
       "</g>\n",
       "<!-- 2 -->\n",
       "<g id=\"node3\" class=\"node\"><title>2</title>\n",
       "<path fill=\"#eee4fb\" stroke=\"black\" d=\"M337,-306C337,-306 206,-306 206,-306 200,-306 194,-300 194,-294 194,-294 194,-235 194,-235 194,-229 200,-223 206,-223 206,-223 337,-223 337,-223 343,-223 349,-229 349,-235 349,-235 349,-294 349,-294 349,-300 343,-306 337,-306\"/>\n",
       "<text text-anchor=\"start\" x=\"202\" y=\"-290.8\" font-family=\"Helvetica,sans-Serif\" font-size=\"14.00\">petal width (cm) ≤ 1.65</text>\n",
       "<text text-anchor=\"start\" x=\"236\" y=\"-275.8\" font-family=\"Helvetica,sans-Serif\" font-size=\"14.00\">gini = 0.497</text>\n",
       "<text text-anchor=\"start\" x=\"230.5\" y=\"-260.8\" font-family=\"Helvetica,sans-Serif\" font-size=\"14.00\">samples = 67</text>\n",
       "<text text-anchor=\"start\" x=\"217\" y=\"-245.8\" font-family=\"Helvetica,sans-Serif\" font-size=\"14.00\">value = [0, 31, 36]</text>\n",
       "<text text-anchor=\"start\" x=\"223\" y=\"-230.8\" font-family=\"Helvetica,sans-Serif\" font-size=\"14.00\">class = virginica</text>\n",
       "</g>\n",
       "<!-- 0&#45;&gt;2 -->\n",
       "<g id=\"edge2\" class=\"edge\"><title>0&#45;&gt;2</title>\n",
       "<path fill=\"none\" stroke=\"black\" d=\"M221.215,-341.907C227.008,-333.105 233.195,-323.703 239.178,-314.612\"/>\n",
       "<polygon fill=\"black\" stroke=\"black\" points=\"242.259,-316.298 244.832,-306.021 236.411,-312.45 242.259,-316.298\"/>\n",
       "<text text-anchor=\"middle\" x=\"249.881\" y=\"-326.806\" font-family=\"Helvetica,sans-Serif\" font-size=\"14.00\">False</text>\n",
       "</g>\n",
       "<!-- 3 -->\n",
       "<g id=\"node4\" class=\"node\"><title>3</title>\n",
       "<path fill=\"#4de88e\" stroke=\"black\" d=\"M248.5,-187C248.5,-187 120.5,-187 120.5,-187 114.5,-187 108.5,-181 108.5,-175 108.5,-175 108.5,-116 108.5,-116 108.5,-110 114.5,-104 120.5,-104 120.5,-104 248.5,-104 248.5,-104 254.5,-104 260.5,-110 260.5,-116 260.5,-116 260.5,-175 260.5,-175 260.5,-181 254.5,-187 248.5,-187\"/>\n",
       "<text text-anchor=\"start\" x=\"116.5\" y=\"-171.8\" font-family=\"Helvetica,sans-Serif\" font-size=\"14.00\">petal length (cm) ≤ 5.0</text>\n",
       "<text text-anchor=\"start\" x=\"149\" y=\"-156.8\" font-family=\"Helvetica,sans-Serif\" font-size=\"14.00\">gini = 0.165</text>\n",
       "<text text-anchor=\"start\" x=\"143.5\" y=\"-141.8\" font-family=\"Helvetica,sans-Serif\" font-size=\"14.00\">samples = 33</text>\n",
       "<text text-anchor=\"start\" x=\"134\" y=\"-126.8\" font-family=\"Helvetica,sans-Serif\" font-size=\"14.00\">value = [0, 30, 3]</text>\n",
       "<text text-anchor=\"start\" x=\"132\" y=\"-111.8\" font-family=\"Helvetica,sans-Serif\" font-size=\"14.00\">class = versicolor</text>\n",
       "</g>\n",
       "<!-- 2&#45;&gt;3 -->\n",
       "<g id=\"edge3\" class=\"edge\"><title>2&#45;&gt;3</title>\n",
       "<path fill=\"none\" stroke=\"black\" d=\"M241.316,-222.907C234.635,-213.923 227.491,-204.315 220.601,-195.05\"/>\n",
       "<polygon fill=\"black\" stroke=\"black\" points=\"223.407,-192.957 214.631,-187.021 217.789,-197.134 223.407,-192.957\"/>\n",
       "</g>\n",
       "<!-- 6 -->\n",
       "<g id=\"node7\" class=\"node\"><title>6</title>\n",
       "<path fill=\"#853fe6\" stroke=\"black\" d=\"M426.5,-187C426.5,-187 290.5,-187 290.5,-187 284.5,-187 278.5,-181 278.5,-175 278.5,-175 278.5,-116 278.5,-116 278.5,-110 284.5,-104 290.5,-104 290.5,-104 426.5,-104 426.5,-104 432.5,-104 438.5,-110 438.5,-116 438.5,-116 438.5,-175 438.5,-175 438.5,-181 432.5,-187 426.5,-187\"/>\n",
       "<text text-anchor=\"start\" x=\"286.5\" y=\"-171.8\" font-family=\"Helvetica,sans-Serif\" font-size=\"14.00\">petal length (cm) ≤ 4.85</text>\n",
       "<text text-anchor=\"start\" x=\"323\" y=\"-156.8\" font-family=\"Helvetica,sans-Serif\" font-size=\"14.00\">gini = 0.057</text>\n",
       "<text text-anchor=\"start\" x=\"317.5\" y=\"-141.8\" font-family=\"Helvetica,sans-Serif\" font-size=\"14.00\">samples = 34</text>\n",
       "<text text-anchor=\"start\" x=\"308\" y=\"-126.8\" font-family=\"Helvetica,sans-Serif\" font-size=\"14.00\">value = [0, 1, 33]</text>\n",
       "<text text-anchor=\"start\" x=\"310\" y=\"-111.8\" font-family=\"Helvetica,sans-Serif\" font-size=\"14.00\">class = virginica</text>\n",
       "</g>\n",
       "<!-- 2&#45;&gt;6 -->\n",
       "<g id=\"edge6\" class=\"edge\"><title>2&#45;&gt;6</title>\n",
       "<path fill=\"none\" stroke=\"black\" d=\"M301.684,-222.907C308.365,-213.923 315.509,-204.315 322.399,-195.05\"/>\n",
       "<polygon fill=\"black\" stroke=\"black\" points=\"325.211,-197.134 328.369,-187.021 319.593,-192.957 325.211,-197.134\"/>\n",
       "</g>\n",
       "<!-- 4 -->\n",
       "<g id=\"node5\" class=\"node\"><title>4</title>\n",
       "<path fill=\"#39e581\" stroke=\"black\" d=\"M109,-68C109,-68 12,-68 12,-68 6,-68 7.10543e-15,-62 7.10543e-15,-56 7.10543e-15,-56 7.10543e-15,-12 7.10543e-15,-12 7.10543e-15,-6 6,-0 12,-0 12,-0 109,-0 109,-0 115,-0 121,-6 121,-12 121,-12 121,-56 121,-56 121,-62 115,-68 109,-68\"/>\n",
       "<text text-anchor=\"start\" x=\"32.5\" y=\"-52.8\" font-family=\"Helvetica,sans-Serif\" font-size=\"14.00\">gini = 0.0</text>\n",
       "<text text-anchor=\"start\" x=\"19.5\" y=\"-37.8\" font-family=\"Helvetica,sans-Serif\" font-size=\"14.00\">samples = 29</text>\n",
       "<text text-anchor=\"start\" x=\"10\" y=\"-22.8\" font-family=\"Helvetica,sans-Serif\" font-size=\"14.00\">value = [0, 29, 0]</text>\n",
       "<text text-anchor=\"start\" x=\"8\" y=\"-7.8\" font-family=\"Helvetica,sans-Serif\" font-size=\"14.00\">class = versicolor</text>\n",
       "</g>\n",
       "<!-- 3&#45;&gt;4 -->\n",
       "<g id=\"edge4\" class=\"edge\"><title>3&#45;&gt;4</title>\n",
       "<path fill=\"none\" stroke=\"black\" d=\"M138.327,-103.726C127.689,-94.3318 116.384,-84.349 105.784,-74.9883\"/>\n",
       "<polygon fill=\"black\" stroke=\"black\" points=\"108.022,-72.2953 98.2091,-68.2996 103.388,-77.5424 108.022,-72.2953\"/>\n",
       "</g>\n",
       "<!-- 5 -->\n",
       "<g id=\"node6\" class=\"node\"><title>5</title>\n",
       "<path fill=\"#ab7bee\" stroke=\"black\" d=\"M240,-68C240,-68 151,-68 151,-68 145,-68 139,-62 139,-56 139,-56 139,-12 139,-12 139,-6 145,-0 151,-0 151,-0 240,-0 240,-0 246,-0 252,-6 252,-12 252,-12 252,-56 252,-56 252,-62 246,-68 240,-68\"/>\n",
       "<text text-anchor=\"start\" x=\"160\" y=\"-52.8\" font-family=\"Helvetica,sans-Serif\" font-size=\"14.00\">gini = 0.375</text>\n",
       "<text text-anchor=\"start\" x=\"158\" y=\"-37.8\" font-family=\"Helvetica,sans-Serif\" font-size=\"14.00\">samples = 4</text>\n",
       "<text text-anchor=\"start\" x=\"148.5\" y=\"-22.8\" font-family=\"Helvetica,sans-Serif\" font-size=\"14.00\">value = [0, 1, 3]</text>\n",
       "<text text-anchor=\"start\" x=\"147\" y=\"-7.8\" font-family=\"Helvetica,sans-Serif\" font-size=\"14.00\">class = virginica</text>\n",
       "</g>\n",
       "<!-- 3&#45;&gt;5 -->\n",
       "<g id=\"edge5\" class=\"edge\"><title>3&#45;&gt;5</title>\n",
       "<path fill=\"none\" stroke=\"black\" d=\"M188.596,-103.726C189.43,-95.4263 190.31,-86.6671 191.152,-78.2834\"/>\n",
       "<polygon fill=\"black\" stroke=\"black\" points=\"194.638,-78.5994 192.155,-68.2996 187.673,-77.8997 194.638,-78.5994\"/>\n",
       "</g>\n",
       "<!-- 7 -->\n",
       "<g id=\"node8\" class=\"node\"><title>7</title>\n",
       "<path fill=\"#ab7bee\" stroke=\"black\" d=\"M392,-68C392,-68 303,-68 303,-68 297,-68 291,-62 291,-56 291,-56 291,-12 291,-12 291,-6 297,-0 303,-0 303,-0 392,-0 392,-0 398,-0 404,-6 404,-12 404,-12 404,-56 404,-56 404,-62 398,-68 392,-68\"/>\n",
       "<text text-anchor=\"start\" x=\"312\" y=\"-52.8\" font-family=\"Helvetica,sans-Serif\" font-size=\"14.00\">gini = 0.375</text>\n",
       "<text text-anchor=\"start\" x=\"310\" y=\"-37.8\" font-family=\"Helvetica,sans-Serif\" font-size=\"14.00\">samples = 4</text>\n",
       "<text text-anchor=\"start\" x=\"300.5\" y=\"-22.8\" font-family=\"Helvetica,sans-Serif\" font-size=\"14.00\">value = [0, 1, 3]</text>\n",
       "<text text-anchor=\"start\" x=\"299\" y=\"-7.8\" font-family=\"Helvetica,sans-Serif\" font-size=\"14.00\">class = virginica</text>\n",
       "</g>\n",
       "<!-- 6&#45;&gt;7 -->\n",
       "<g id=\"edge7\" class=\"edge\"><title>6&#45;&gt;7</title>\n",
       "<path fill=\"none\" stroke=\"black\" d=\"M354.404,-103.726C353.57,-95.4263 352.69,-86.6671 351.848,-78.2834\"/>\n",
       "<polygon fill=\"black\" stroke=\"black\" points=\"355.327,-77.8997 350.845,-68.2996 348.362,-78.5994 355.327,-77.8997\"/>\n",
       "</g>\n",
       "<!-- 8 -->\n",
       "<g id=\"node9\" class=\"node\"><title>8</title>\n",
       "<path fill=\"#8139e5\" stroke=\"black\" d=\"M527,-68C527,-68 434,-68 434,-68 428,-68 422,-62 422,-56 422,-56 422,-12 422,-12 422,-6 428,-0 434,-0 434,-0 527,-0 527,-0 533,-0 539,-6 539,-12 539,-12 539,-56 539,-56 539,-62 533,-68 527,-68\"/>\n",
       "<text text-anchor=\"start\" x=\"452.5\" y=\"-52.8\" font-family=\"Helvetica,sans-Serif\" font-size=\"14.00\">gini = 0.0</text>\n",
       "<text text-anchor=\"start\" x=\"439.5\" y=\"-37.8\" font-family=\"Helvetica,sans-Serif\" font-size=\"14.00\">samples = 30</text>\n",
       "<text text-anchor=\"start\" x=\"430\" y=\"-22.8\" font-family=\"Helvetica,sans-Serif\" font-size=\"14.00\">value = [0, 0, 30]</text>\n",
       "<text text-anchor=\"start\" x=\"432\" y=\"-7.8\" font-family=\"Helvetica,sans-Serif\" font-size=\"14.00\">class = virginica</text>\n",
       "</g>\n",
       "<!-- 6&#45;&gt;8 -->\n",
       "<g id=\"edge8\" class=\"edge\"><title>6&#45;&gt;8</title>\n",
       "<path fill=\"none\" stroke=\"black\" d=\"M403.928,-103.726C414.395,-94.3318 425.518,-84.349 435.947,-74.9883\"/>\n",
       "<polygon fill=\"black\" stroke=\"black\" points=\"438.295,-77.5839 443.399,-68.2996 433.619,-72.3744 438.295,-77.5839\"/>\n",
       "</g>\n",
       "</g>\n",
       "</svg>\n"
      ],
      "text/plain": [
       "<graphviz.files.Source at 0x7f6ef65c1d50>"
      ]
     },
     "execution_count": 20,
     "metadata": {},
     "output_type": "execute_result"
    }
   ],
   "source": [
    "dot_data = export_graphviz(clf, out_file=None, \n",
    "                         feature_names=iris.feature_names,  \n",
    "                         class_names=iris.target_names,  \n",
    "                         filled=True, rounded=True,  \n",
    "                         special_characters=True)  \n",
    "graph = graphviz.Source(dot_data)  \n",
    "graph"
   ]
  },
  {
   "cell_type": "code",
   "execution_count": 21,
   "metadata": {
    "colab": {
     "base_uri": "https://localhost:8080/",
     "height": 34
    },
    "colab_type": "code",
    "id": "AEZ3E2CLfnka",
    "outputId": "af4cc3b0-6f98-42de-8ae4-1e563d074992"
   },
   "outputs": [
    {
     "data": {
      "text/plain": [
       "(0.96, 0.98)"
      ]
     },
     "execution_count": 21,
     "metadata": {},
     "output_type": "execute_result"
    }
   ],
   "source": [
    "clf.score(X_test, y_test), clf.score(X_train, y_train)"
   ]
  },
  {
   "cell_type": "markdown",
   "metadata": {
    "colab_type": "text",
    "id": "u7lmH3w1dyLQ",
    "lang": "pl"
   },
   "source": [
    "## Poszukiwanie optymalnych parametrów metodą walidacji krzyżowej\n",
    "\n",
    "**Zapamiętaj:** danych testowych możesz użyć tylko raz do sprawdzenia dokładności ostatecznego modelu. \n",
    "\n",
    "Aby dopasować parametry drzewa klasyfikacyjnego można wykorzystać oddzielny zbiór walidacyjny lub **metodę walidacji krzyżowej**. W tym przkładzie użyjemy tej drugiej metody.\n",
    "\n",
    "Metoda ta pozwala określić dokładność modelu w sposób nieobciążony. \n",
    "Algorytm metody sprawdzania krzyżowego:\n",
    "\n",
    "1. Wybierz wartość parametru $b$ (zazwyczaj $b\\leq 10$) i podziel losowo zbiór uczący $U$ na $b$ równolicznych (w przybliżeniu) i rozłącznych części $U_1$, $U_2$, . . . , $U_b$.\n",
    "\n",
    "2.  Dla $h \\in {1, . . . , b}$ wykonaj kroki:\n",
    "\n",
    "  a. zbuduj model na zbiorze $U|U_h$ (wyłączając jedną część),\n",
    "\n",
    "  b.  oszacuj błąd klasyfikacji modelu na zbiorze $U_h$ (wykorzystując $U_h$ jako zbiór walidacyjny).\n",
    "\n",
    "3. Wyznacz ocenę błędu klasyfikacji modelu uśredniając wartości otrzymane w kroku 2. Otrzymany wynik jest nieobciążonym estymatorem błędu klasyfikacji\n",
    "\n",
    "Biiblioteka `sklearn` dostarcza metodę `GridSearchCV` do przeszukiwania przestrzeni hiperparametrów modelu z wykorzystaniem walidacji krzyżowej.\n"
   ]
  },
  {
   "cell_type": "code",
   "execution_count": 22,
   "metadata": {
    "colab": {
     "base_uri": "https://localhost:8080/",
     "height": 51
    },
    "colab_type": "code",
    "deletable": false,
    "id": "VGs0zVx4dxwj",
    "nbgrader": {
     "cell_type": "code",
     "checksum": "d9dc9e05192372ef5a85a889b6390d71",
     "grade": false,
     "grade_id": "cell-3f8d6cdd67eea4f6",
     "locked": false,
     "schema_version": 3,
     "solution": true,
     "task": false
    },
    "outputId": "0fb92a80-df72-4240-a757-8d4d454dce86"
   },
   "outputs": [
    {
     "name": "stdout",
     "output_type": "stream",
     "text": [
      "['sepal length (cm)', 'sepal width (cm)', 'petal length (cm)', 'petal width (cm)']\n",
      "Najlepsza dokładność 0.9598930481283423\n",
      "Dobrane parametry: {'max_depth': 24, 'max_features': 1}\n"
     ]
    }
   ],
   "source": [
    "from sklearn.model_selection import GridSearchCV\n",
    "print(iris.feature_names)\n",
    "parameter_grid = {'max_depth': np.arange(3, 30), 'max_features': np.arange(1, len(iris.feature_names))}\n",
    "clf_grid = GridSearchCV(DecisionTreeClassifier(), parameter_grid, cv=3, iid=False)\n",
    "clf_grid.fit(X_train, y_train)\n",
    "\n",
    "print (\"Najlepsza dokładność {}\".format(clf_grid.best_score_))\n",
    "print (\"Dobrane parametry: {}\".format(clf_grid.best_params_))"
   ]
  },
  {
   "cell_type": "code",
   "execution_count": 23,
   "metadata": {
    "deletable": false,
    "editable": false,
    "nbgrader": {
     "cell_type": "code",
     "checksum": "69e4955b75b6af49f102762e413f4616",
     "grade": true,
     "grade_id": "cell-afe939c32cac9bd8",
     "locked": true,
     "points": 1,
     "schema_version": 3,
     "solution": false,
     "task": false
    }
   },
   "outputs": [],
   "source": [
    "assert type(clf_grid) == GridSearchCV\n",
    "assert clf_grid.best_score_ > 0.92"
   ]
  },
  {
   "cell_type": "markdown",
   "metadata": {
    "colab_type": "text",
    "id": "ZznbsWO7Y0Es",
    "lang": "pl"
   },
   "source": [
    "Teraz możemy przetestować otrzymany model na danych testowych"
   ]
  },
  {
   "cell_type": "code",
   "execution_count": 24,
   "metadata": {
    "colab": {
     "base_uri": "https://localhost:8080/",
     "height": 34
    },
    "colab_type": "code",
    "id": "D0c7HoLqdx2M",
    "outputId": "d89020ca-e3bd-401f-ca7e-fa47ae0d7bae"
   },
   "outputs": [
    {
     "data": {
      "text/plain": [
       "0.96"
      ]
     },
     "execution_count": 24,
     "metadata": {},
     "output_type": "execute_result"
    }
   ],
   "source": [
    "clf_grid.best_estimator_.score(X_test, y_test)"
   ]
  },
  {
   "cell_type": "markdown",
   "metadata": {
    "colab_type": "text",
    "id": "OUSPUTNNeLBB",
    "lang": "pl"
   },
   "source": [
    "# Istotność zmiennych objaśniających\n",
    "\n",
    "Zaletą drzewa klasyfikacyjnego jest możliwość określenia istotności poszczególnych zmiennych"
   ]
  },
  {
   "cell_type": "code",
   "execution_count": 25,
   "metadata": {
    "colab": {
     "base_uri": "https://localhost:8080/",
     "height": 85
    },
    "colab_type": "code",
    "id": "u3JoUJoOZKFT",
    "outputId": "8fb961a6-1693-4cd1-e9db-e02c24eec3d8"
   },
   "outputs": [
    {
     "name": "stdout",
     "output_type": "stream",
     "text": [
      "petal width (cm) 0.9016044923858004\n",
      "petal length (cm) 0.06421291362680003\n",
      "sepal width (cm) 0.030772753946784612\n",
      "sepal length (cm) 0.0034098400406149722\n"
     ]
    }
   ],
   "source": [
    "ids = np.argsort(clf_grid.best_estimator_.feature_importances_)\n",
    "\n",
    "for i in ids[::-1]:\n",
    "    print (iris.feature_names[i], clf_grid.best_estimator_.feature_importances_[i])"
   ]
  },
  {
   "cell_type": "markdown",
   "metadata": {
    "colab_type": "text",
    "id": "uEx_wwova6ag",
    "lang": "pl"
   },
   "source": [
    "Dla poprzedniego modelu"
   ]
  },
  {
   "cell_type": "code",
   "execution_count": 26,
   "metadata": {
    "colab": {
     "base_uri": "https://localhost:8080/",
     "height": 85
    },
    "colab_type": "code",
    "id": "VwYBSykLZwn6",
    "outputId": "7cf1285a-f1df-40ca-98b7-46d6f95a913f"
   },
   "outputs": [
    {
     "name": "stdout",
     "output_type": "stream",
     "text": [
      "petal length (cm) 0.592104014625634\n",
      "petal width (cm) 0.407895985374366\n",
      "sepal width (cm) 0.0\n",
      "sepal length (cm) 0.0\n"
     ]
    }
   ],
   "source": [
    "ids = np.argsort(clf.feature_importances_)\n",
    "\n",
    "\n",
    "for i in ids[::-1]:\n",
    "    print (iris.feature_names[i], clf.feature_importances_[i])"
   ]
  },
  {
   "cell_type": "markdown",
   "metadata": {
    "colab_type": "text",
    "id": "t1Jdan2EYy1a",
    "lang": "pl"
   },
   "source": [
    "# Zadanie\n",
    "\n",
    "Zbuduj drzewo klasyfikacyjne dla danych dotyczących złośliwości raka piersi. Znajdź optymalne parametry i sprawdź jaka jest istotność poszczególnych zmiennych objaśniających.\n",
    "\n",
    "**Krok 1:** Wczytanie danych i podział na dane treningowe  i testowe w proporcji $0.77:0.33$. Aby móc porównać wyniki z kolegami ustaw `random_state` na 1"
   ]
  },
  {
   "cell_type": "code",
   "execution_count": 27,
   "metadata": {
    "colab": {},
    "colab_type": "code",
    "deletable": false,
    "id": "9geKa26u6MK_",
    "nbgrader": {
     "cell_type": "code",
     "checksum": "87e7c0aaeb4f7e25560359efdd190f03",
     "grade": false,
     "grade_id": "cell-dc646c3a73f2d1fb",
     "locked": false,
     "schema_version": 3,
     "solution": true,
     "task": false
    }
   },
   "outputs": [
    {
     "name": "stdout",
     "output_type": "stream",
     "text": [
      "['mean radius' 'mean texture' 'mean perimeter' 'mean area'\n",
      " 'mean smoothness' 'mean compactness' 'mean concavity'\n",
      " 'mean concave points' 'mean symmetry' 'mean fractal dimension'\n",
      " 'radius error' 'texture error' 'perimeter error' 'area error'\n",
      " 'smoothness error' 'compactness error' 'concavity error'\n",
      " 'concave points error' 'symmetry error' 'fractal dimension error'\n",
      " 'worst radius' 'worst texture' 'worst perimeter' 'worst area'\n",
      " 'worst smoothness' 'worst compactness' 'worst concavity'\n",
      " 'worst concave points' 'worst symmetry' 'worst fractal dimension'] 30\n"
     ]
    }
   ],
   "source": [
    "breast = load_breast_cancer()\n",
    "print(breast.feature_names, len(breast.feature_names))\n",
    "X, y = breast.data, breast.target\n",
    "\n",
    "X_train_breast, X_test_breast, y_train_breast, y_test_breast = train_test_split(X, y, test_size=0.33, random_state=1)\n"
   ]
  },
  {
   "cell_type": "code",
   "execution_count": 28,
   "metadata": {
    "deletable": false,
    "editable": false,
    "nbgrader": {
     "cell_type": "code",
     "checksum": "c0d74623b3e3f3d33cc18022c648b359",
     "grade": true,
     "grade_id": "cell-776dca1c39c617e9",
     "locked": true,
     "points": 1,
     "schema_version": 3,
     "solution": false,
     "task": false
    }
   },
   "outputs": [],
   "source": [
    "assert X.shape == (569, 30)\n",
    "assert X_train_breast.shape == (381, 30)\n",
    "assert X_test_breast.shape == (188, 30)\n",
    "assert y_train_breast.shape == (381,)\n",
    "assert y_test_breast.shape == (188,)"
   ]
  },
  {
   "cell_type": "markdown",
   "metadata": {
    "colab_type": "text",
    "id": "e27iUUW4cX9I",
    "lang": "pl"
   },
   "source": [
    "**Krok 2:** Medodą walidacji krzyżowej znajdź optymalne drzewo klasyfikujące:"
   ]
  },
  {
   "cell_type": "code",
   "execution_count": 29,
   "metadata": {
    "colab": {
     "base_uri": "https://localhost:8080/",
     "height": 51
    },
    "colab_type": "code",
    "deletable": false,
    "id": "I2He_LUZRavR",
    "nbgrader": {
     "cell_type": "code",
     "checksum": "7b50adc8ee3e44d5b86ec7a041aa696a",
     "grade": false,
     "grade_id": "cell-c07502193ea41a35",
     "locked": false,
     "schema_version": 3,
     "solution": true,
     "task": false
    },
    "outputId": "7ebe9cca-a80f-42d6-9874-88431adbc16f"
   },
   "outputs": [
    {
     "name": "stdout",
     "output_type": "stream",
     "text": [
      "Best accurancy 0.9580052493438319\n",
      "Best parametrs: {'max_depth': 19, 'max_features': 4}\n"
     ]
    }
   ],
   "source": [
    "parameter_grid = {'max_depth': np.arange(3, 30), 'max_features': np.arange(1, 30)}\n",
    "# podobnie jak w notatniku knn\n",
    "clf_grid = GridSearchCV(DecisionTreeClassifier(), parameter_grid, iid=False, cv=3)\n",
    "clf_grid.fit(X_train_breast, y_train_breast)\n",
    "\n",
    "print('Best accurancy {}'.format(clf_grid.best_score_))\n",
    "print('Best parametrs: {}'.format(clf_grid.best_params_))"
   ]
  },
  {
   "cell_type": "code",
   "execution_count": 30,
   "metadata": {
    "deletable": false,
    "editable": false,
    "nbgrader": {
     "cell_type": "code",
     "checksum": "f9fcb3422dc89d46d9707c7e24263075",
     "grade": true,
     "grade_id": "cell-6f747605f8346e3c",
     "locked": true,
     "points": 1,
     "schema_version": 3,
     "solution": false,
     "task": false
    }
   },
   "outputs": [],
   "source": [
    "assert type(clf_grid) == GridSearchCV\n",
    "assert clf_grid.best_score_ > 0.95"
   ]
  },
  {
   "cell_type": "markdown",
   "metadata": {
    "colab_type": "text",
    "id": "8landUcadIep",
    "lang": "pl"
   },
   "source": [
    "**Krok 3:** Podaj dokładność modelu na danych testowych:\n"
   ]
  },
  {
   "cell_type": "code",
   "execution_count": 31,
   "metadata": {
    "colab": {
     "base_uri": "https://localhost:8080/",
     "height": 34
    },
    "colab_type": "code",
    "deletable": false,
    "id": "bX-bWj9yo_ui",
    "nbgrader": {
     "cell_type": "code",
     "checksum": "e2e58817a10e703ffcb71c7b3ecba3e8",
     "grade": false,
     "grade_id": "cell-e38aae89aed08963",
     "locked": false,
     "schema_version": 3,
     "solution": true,
     "task": false
    },
    "outputId": "024fa03f-a43f-465d-9cb5-16dcf3d2fae6"
   },
   "outputs": [],
   "source": [
    "best_score = clf_grid.best_estimator_.score(X_test_breast, y_test_breast)\n",
    "#best_score = clf_grid.score(X_test_breast, y_test_breast)"
   ]
  },
  {
   "cell_type": "code",
   "execution_count": 32,
   "metadata": {
    "deletable": false,
    "editable": false,
    "nbgrader": {
     "cell_type": "code",
     "checksum": "8f648934ead78efd8ed0677c72ea93e9",
     "grade": true,
     "grade_id": "cell-e3e928b87653d6d6",
     "locked": true,
     "points": 1,
     "schema_version": 3,
     "solution": false,
     "task": false
    }
   },
   "outputs": [
    {
     "name": "stdout",
     "output_type": "stream",
     "text": [
      "0.9414893617021277\n"
     ]
    }
   ],
   "source": [
    "print(best_score)\n",
    "assert best_score > 0.88 \n",
    "assert best_score < 0.95"
   ]
  },
  {
   "cell_type": "markdown",
   "metadata": {
    "colab_type": "text",
    "id": "rTmCCQsidWX4",
    "lang": "pl"
   },
   "source": [
    "**Krok 4:** Sprawdź istotność poszczególnych zmiennych, która cecha jest najistotniejsza?"
   ]
  },
  {
   "cell_type": "code",
   "execution_count": 33,
   "metadata": {
    "colab": {
     "base_uri": "https://localhost:8080/",
     "height": 527
    },
    "colab_type": "code",
    "deletable": false,
    "id": "37EZmHHxdAZL",
    "nbgrader": {
     "cell_type": "code",
     "checksum": "26168625fe100f0d53649f011fd90694",
     "grade": false,
     "grade_id": "cell-fd88942e5a8043ae",
     "locked": false,
     "schema_version": 3,
     "solution": true,
     "task": false
    },
    "outputId": "5d4703d5-2d9b-4de8-b0d9-ef3ce4b164ea"
   },
   "outputs": [
    {
     "name": "stdout",
     "output_type": "stream",
     "text": [
      "mean compactness 0.3663062613682923\n",
      "worst radius 0.3121779638777706\n",
      "mean area 0.08833992599643264\n",
      "worst concave points 0.05419966277109134\n",
      "worst area 0.03851505637219923\n",
      "worst perimeter 0.0319151650338124\n",
      "worst texture 0.028866933001438413\n",
      "concave points error 0.024057830372705456\n",
      "worst smoothness 0.01760835826769892\n",
      "mean concavity 0.014768300482586195\n",
      "fractal dimension error 0.010337810337810335\n",
      "mean texture 0.008307169021454735\n",
      "worst compactness 0.0020306413163556046\n",
      "mean symmetry 0.001762126762126763\n",
      "texture error 0.0008067950182250091\n",
      "mean smoothness 0.0\n",
      "mean perimeter 0.0\n",
      "mean fractal dimension 0.0\n",
      "mean concave points 0.0\n",
      "worst fractal dimension 0.0\n",
      "smoothness error 0.0\n",
      "radius error 0.0\n",
      "perimeter error 0.0\n",
      "area error 0.0\n",
      "worst symmetry 0.0\n",
      "compactness error 0.0\n",
      "concavity error 0.0\n",
      "symmetry error 0.0\n",
      "worst concavity 0.0\n",
      "mean radius 0.0\n",
      "\n",
      "MSF --------> mean compactness\n"
     ]
    }
   ],
   "source": [
    "#features = breast.feature_names\n",
    "#print(features)\n",
    "ids = np.argsort(clf_grid.best_estimator_.feature_importances_)\n",
    "\n",
    "for i in ids[::-1]:\n",
    "    print(breast.feature_names[i], clf_grid.best_estimator_.feature_importances_[i])\n",
    "    \n",
    "most_significant_feature = breast.feature_names[ids[-1]]\n",
    "print('\\nMSF -------->', most_significant_feature)"
   ]
  },
  {
   "cell_type": "code",
   "execution_count": 34,
   "metadata": {
    "deletable": false,
    "editable": false,
    "nbgrader": {
     "cell_type": "code",
     "checksum": "b1744a48ccc5c6f145d0a8b3a5d63227",
     "grade": true,
     "grade_id": "cell-e51703cea88b83a8",
     "locked": true,
     "points": 1,
     "schema_version": 3,
     "solution": false,
     "task": false
    }
   },
   "outputs": [
    {
     "data": {
      "text/plain": [
       "False"
      ]
     },
     "execution_count": 34,
     "metadata": {},
     "output_type": "execute_result"
    }
   ],
   "source": [
    "most_significant_feature == 'mean concavity'\n"
   ]
  },
  {
   "cell_type": "markdown",
   "metadata": {
    "colab_type": "text",
    "id": "RqADYKR-gEhF",
    "lang": "pl"
   },
   "source": [
    "**Krok 5:** Podgląd otrzymanego drzewa"
   ]
  },
  {
   "cell_type": "code",
   "execution_count": 35,
   "metadata": {
    "colab": {
     "base_uri": "https://localhost:8080/",
     "height": 1094
    },
    "colab_type": "code",
    "id": "bFLFeyudgEsf",
    "outputId": "e37701fa-3873-4e0f-8165-813c8f7499b0"
   },
   "outputs": [
    {
     "data": {
      "image/svg+xml": [
       "<?xml version=\"1.0\" encoding=\"UTF-8\" standalone=\"no\"?>\n",
       "<!DOCTYPE svg PUBLIC \"-//W3C//DTD SVG 1.1//EN\"\n",
       " \"http://www.w3.org/Graphics/SVG/1.1/DTD/svg11.dtd\">\n",
       "<!-- Generated by graphviz version 2.38.0 (20140413.2041)\n",
       " -->\n",
       "<!-- Title: Tree Pages: 1 -->\n",
       "<svg width=\"2049pt\" height=\"909pt\"\n",
       " viewBox=\"0.00 0.00 2049.00 909.00\" xmlns=\"http://www.w3.org/2000/svg\" xmlns:xlink=\"http://www.w3.org/1999/xlink\">\n",
       "<g id=\"graph0\" class=\"graph\" transform=\"scale(1 1) rotate(0) translate(4 905)\">\n",
       "<title>Tree</title>\n",
       "<polygon fill=\"white\" stroke=\"none\" points=\"-4,4 -4,-905 2045,-905 2045,4 -4,4\"/>\n",
       "<!-- 0 -->\n",
       "<g id=\"node1\" class=\"node\"><title>0</title>\n",
       "<path fill=\"#b5dbf5\" stroke=\"black\" d=\"M1219.5,-901C1219.5,-901 1058.5,-901 1058.5,-901 1052.5,-901 1046.5,-895 1046.5,-889 1046.5,-889 1046.5,-830 1046.5,-830 1046.5,-824 1052.5,-818 1058.5,-818 1058.5,-818 1219.5,-818 1219.5,-818 1225.5,-818 1231.5,-824 1231.5,-830 1231.5,-830 1231.5,-889 1231.5,-889 1231.5,-895 1225.5,-901 1219.5,-901\"/>\n",
       "<text text-anchor=\"start\" x=\"1054.5\" y=\"-885.8\" font-family=\"Helvetica,sans-Serif\" font-size=\"14.00\">mean compactness ≤ 0.102</text>\n",
       "<text text-anchor=\"start\" x=\"1103.5\" y=\"-870.8\" font-family=\"Helvetica,sans-Serif\" font-size=\"14.00\">gini = 0.474</text>\n",
       "<text text-anchor=\"start\" x=\"1094\" y=\"-855.8\" font-family=\"Helvetica,sans-Serif\" font-size=\"14.00\">samples = 381</text>\n",
       "<text text-anchor=\"start\" x=\"1084.5\" y=\"-840.8\" font-family=\"Helvetica,sans-Serif\" font-size=\"14.00\">value = [147, 234]</text>\n",
       "<text text-anchor=\"start\" x=\"1095\" y=\"-825.8\" font-family=\"Helvetica,sans-Serif\" font-size=\"14.00\">class = benign</text>\n",
       "</g>\n",
       "<!-- 1 -->\n",
       "<g id=\"node2\" class=\"node\"><title>1</title>\n",
       "<path fill=\"#52aae8\" stroke=\"black\" d=\"M1103,-782C1103,-782 939,-782 939,-782 933,-782 927,-776 927,-770 927,-770 927,-711 927,-711 927,-705 933,-699 939,-699 939,-699 1103,-699 1103,-699 1109,-699 1115,-705 1115,-711 1115,-711 1115,-770 1115,-770 1115,-776 1109,-782 1103,-782\"/>\n",
       "<text text-anchor=\"start\" x=\"935\" y=\"-766.8\" font-family=\"Helvetica,sans-Serif\" font-size=\"14.00\">concave points error ≤ 0.016</text>\n",
       "<text text-anchor=\"start\" x=\"985.5\" y=\"-751.8\" font-family=\"Helvetica,sans-Serif\" font-size=\"14.00\">gini = 0.201</text>\n",
       "<text text-anchor=\"start\" x=\"976\" y=\"-736.8\" font-family=\"Helvetica,sans-Serif\" font-size=\"14.00\">samples = 203</text>\n",
       "<text text-anchor=\"start\" x=\"970.5\" y=\"-721.8\" font-family=\"Helvetica,sans-Serif\" font-size=\"14.00\">value = [23, 180]</text>\n",
       "<text text-anchor=\"start\" x=\"977\" y=\"-706.8\" font-family=\"Helvetica,sans-Serif\" font-size=\"14.00\">class = benign</text>\n",
       "</g>\n",
       "<!-- 0&#45;&gt;1 -->\n",
       "<g id=\"edge1\" class=\"edge\"><title>0&#45;&gt;1</title>\n",
       "<path fill=\"none\" stroke=\"black\" d=\"M1098.06,-817.907C1088.72,-808.651 1078.72,-798.732 1069.12,-789.209\"/>\n",
       "<polygon fill=\"black\" stroke=\"black\" points=\"1071.43,-786.576 1061.87,-782.021 1066.5,-791.547 1071.43,-786.576\"/>\n",
       "<text text-anchor=\"middle\" x=\"1061.97\" y=\"-803.321\" font-family=\"Helvetica,sans-Serif\" font-size=\"14.00\">True</text>\n",
       "</g>\n",
       "<!-- 26 -->\n",
       "<g id=\"node27\" class=\"node\"><title>26</title>\n",
       "<path fill=\"#f0b88f\" stroke=\"black\" d=\"M1319,-782C1319,-782 1197,-782 1197,-782 1191,-782 1185,-776 1185,-770 1185,-770 1185,-711 1185,-711 1185,-705 1191,-699 1197,-699 1197,-699 1319,-699 1319,-699 1325,-699 1331,-705 1331,-711 1331,-711 1331,-770 1331,-770 1331,-776 1325,-782 1319,-782\"/>\n",
       "<text text-anchor=\"start\" x=\"1193\" y=\"-766.8\" font-family=\"Helvetica,sans-Serif\" font-size=\"14.00\">worst radius ≤ 15.465</text>\n",
       "<text text-anchor=\"start\" x=\"1222.5\" y=\"-751.8\" font-family=\"Helvetica,sans-Serif\" font-size=\"14.00\">gini = 0.423</text>\n",
       "<text text-anchor=\"start\" x=\"1213\" y=\"-736.8\" font-family=\"Helvetica,sans-Serif\" font-size=\"14.00\">samples = 178</text>\n",
       "<text text-anchor=\"start\" x=\"1207.5\" y=\"-721.8\" font-family=\"Helvetica,sans-Serif\" font-size=\"14.00\">value = [124, 54]</text>\n",
       "<text text-anchor=\"start\" x=\"1205\" y=\"-706.8\" font-family=\"Helvetica,sans-Serif\" font-size=\"14.00\">class = malignant</text>\n",
       "</g>\n",
       "<!-- 0&#45;&gt;26 -->\n",
       "<g id=\"edge26\" class=\"edge\"><title>0&#45;&gt;26</title>\n",
       "<path fill=\"none\" stroke=\"black\" d=\"M1180.29,-817.907C1189.7,-808.651 1199.79,-798.732 1209.48,-789.209\"/>\n",
       "<polygon fill=\"black\" stroke=\"black\" points=\"1212.11,-791.527 1216.79,-782.021 1207.2,-786.536 1212.11,-791.527\"/>\n",
       "<text text-anchor=\"middle\" x=\"1216.57\" y=\"-803.32\" font-family=\"Helvetica,sans-Serif\" font-size=\"14.00\">False</text>\n",
       "</g>\n",
       "<!-- 2 -->\n",
       "<g id=\"node3\" class=\"node\"><title>2</title>\n",
       "<path fill=\"#4ca7e8\" stroke=\"black\" d=\"M868.5,-663C868.5,-663 761.5,-663 761.5,-663 755.5,-663 749.5,-657 749.5,-651 749.5,-651 749.5,-592 749.5,-592 749.5,-586 755.5,-580 761.5,-580 761.5,-580 868.5,-580 868.5,-580 874.5,-580 880.5,-586 880.5,-592 880.5,-592 880.5,-651 880.5,-651 880.5,-657 874.5,-663 868.5,-663\"/>\n",
       "<text text-anchor=\"start\" x=\"757.5\" y=\"-647.8\" font-family=\"Helvetica,sans-Serif\" font-size=\"14.00\">mean area ≤ 712.3</text>\n",
       "<text text-anchor=\"start\" x=\"779.5\" y=\"-632.8\" font-family=\"Helvetica,sans-Serif\" font-size=\"14.00\">gini = 0.161</text>\n",
       "<text text-anchor=\"start\" x=\"770\" y=\"-617.8\" font-family=\"Helvetica,sans-Serif\" font-size=\"14.00\">samples = 192</text>\n",
       "<text text-anchor=\"start\" x=\"764.5\" y=\"-602.8\" font-family=\"Helvetica,sans-Serif\" font-size=\"14.00\">value = [17, 175]</text>\n",
       "<text text-anchor=\"start\" x=\"771\" y=\"-587.8\" font-family=\"Helvetica,sans-Serif\" font-size=\"14.00\">class = benign</text>\n",
       "</g>\n",
       "<!-- 1&#45;&gt;2 -->\n",
       "<g id=\"edge2\" class=\"edge\"><title>1&#45;&gt;2</title>\n",
       "<path fill=\"none\" stroke=\"black\" d=\"M949.529,-698.907C930.181,-687.918 909.19,-675.996 889.671,-664.91\"/>\n",
       "<polygon fill=\"black\" stroke=\"black\" points=\"891.241,-661.777 880.817,-659.881 887.784,-667.864 891.241,-661.777\"/>\n",
       "</g>\n",
       "<!-- 23 -->\n",
       "<g id=\"node24\" class=\"node\"><title>23</title>\n",
       "<path fill=\"#fbeade\" stroke=\"black\" d=\"M1077.5,-663C1077.5,-663 964.5,-663 964.5,-663 958.5,-663 952.5,-657 952.5,-651 952.5,-651 952.5,-592 952.5,-592 952.5,-586 958.5,-580 964.5,-580 964.5,-580 1077.5,-580 1077.5,-580 1083.5,-580 1089.5,-586 1089.5,-592 1089.5,-592 1089.5,-651 1089.5,-651 1089.5,-657 1083.5,-663 1077.5,-663\"/>\n",
       "<text text-anchor=\"start\" x=\"960.5\" y=\"-647.8\" font-family=\"Helvetica,sans-Serif\" font-size=\"14.00\">worst area ≤ 705.75</text>\n",
       "<text text-anchor=\"start\" x=\"985.5\" y=\"-632.8\" font-family=\"Helvetica,sans-Serif\" font-size=\"14.00\">gini = 0.496</text>\n",
       "<text text-anchor=\"start\" x=\"980\" y=\"-617.8\" font-family=\"Helvetica,sans-Serif\" font-size=\"14.00\">samples = 11</text>\n",
       "<text text-anchor=\"start\" x=\"981.5\" y=\"-602.8\" font-family=\"Helvetica,sans-Serif\" font-size=\"14.00\">value = [6, 5]</text>\n",
       "<text text-anchor=\"start\" x=\"968\" y=\"-587.8\" font-family=\"Helvetica,sans-Serif\" font-size=\"14.00\">class = malignant</text>\n",
       "</g>\n",
       "<!-- 1&#45;&gt;23 -->\n",
       "<g id=\"edge23\" class=\"edge\"><title>1&#45;&gt;23</title>\n",
       "<path fill=\"none\" stroke=\"black\" d=\"M1021,-698.907C1021,-690.649 1021,-681.864 1021,-673.302\"/>\n",
       "<polygon fill=\"black\" stroke=\"black\" points=\"1024.5,-673.021 1021,-663.021 1017.5,-673.021 1024.5,-673.021\"/>\n",
       "</g>\n",
       "<!-- 3 -->\n",
       "<g id=\"node4\" class=\"node\"><title>3</title>\n",
       "<path fill=\"#3e9fe6\" stroke=\"black\" d=\"M651.5,-544C651.5,-544 532.5,-544 532.5,-544 526.5,-544 520.5,-538 520.5,-532 520.5,-532 520.5,-473 520.5,-473 520.5,-467 526.5,-461 532.5,-461 532.5,-461 651.5,-461 651.5,-461 657.5,-461 663.5,-467 663.5,-473 663.5,-473 663.5,-532 663.5,-532 663.5,-538 657.5,-544 651.5,-544\"/>\n",
       "<text text-anchor=\"start\" x=\"528.5\" y=\"-528.8\" font-family=\"Helvetica,sans-Serif\" font-size=\"14.00\">worst texture ≤ 35.23</text>\n",
       "<text text-anchor=\"start\" x=\"556.5\" y=\"-513.8\" font-family=\"Helvetica,sans-Serif\" font-size=\"14.00\">gini = 0.045</text>\n",
       "<text text-anchor=\"start\" x=\"547\" y=\"-498.8\" font-family=\"Helvetica,sans-Serif\" font-size=\"14.00\">samples = 174</text>\n",
       "<text text-anchor=\"start\" x=\"545\" y=\"-483.8\" font-family=\"Helvetica,sans-Serif\" font-size=\"14.00\">value = [4, 170]</text>\n",
       "<text text-anchor=\"start\" x=\"548\" y=\"-468.8\" font-family=\"Helvetica,sans-Serif\" font-size=\"14.00\">class = benign</text>\n",
       "</g>\n",
       "<!-- 2&#45;&gt;3 -->\n",
       "<g id=\"edge3\" class=\"edge\"><title>2&#45;&gt;3</title>\n",
       "<path fill=\"none\" stroke=\"black\" d=\"M749.299,-586.029C725.384,-573.482 698.068,-559.15 672.983,-545.989\"/>\n",
       "<polygon fill=\"black\" stroke=\"black\" points=\"674.335,-542.746 663.853,-541.199 671.082,-548.944 674.335,-542.746\"/>\n",
       "</g>\n",
       "<!-- 16 -->\n",
       "<g id=\"node17\" class=\"node\"><title>16</title>\n",
       "<path fill=\"#efb185\" stroke=\"black\" d=\"M886.5,-544C886.5,-544 743.5,-544 743.5,-544 737.5,-544 731.5,-538 731.5,-532 731.5,-532 731.5,-473 731.5,-473 731.5,-467 737.5,-461 743.5,-461 743.5,-461 886.5,-461 886.5,-461 892.5,-461 898.5,-467 898.5,-473 898.5,-473 898.5,-532 898.5,-532 898.5,-538 892.5,-544 886.5,-544\"/>\n",
       "<text text-anchor=\"start\" x=\"739.5\" y=\"-528.8\" font-family=\"Helvetica,sans-Serif\" font-size=\"14.00\">worst perimeter ≤ 117.45</text>\n",
       "<text text-anchor=\"start\" x=\"779.5\" y=\"-513.8\" font-family=\"Helvetica,sans-Serif\" font-size=\"14.00\">gini = 0.401</text>\n",
       "<text text-anchor=\"start\" x=\"774\" y=\"-498.8\" font-family=\"Helvetica,sans-Serif\" font-size=\"14.00\">samples = 18</text>\n",
       "<text text-anchor=\"start\" x=\"772\" y=\"-483.8\" font-family=\"Helvetica,sans-Serif\" font-size=\"14.00\">value = [13, 5]</text>\n",
       "<text text-anchor=\"start\" x=\"762\" y=\"-468.8\" font-family=\"Helvetica,sans-Serif\" font-size=\"14.00\">class = malignant</text>\n",
       "</g>\n",
       "<!-- 2&#45;&gt;16 -->\n",
       "<g id=\"edge16\" class=\"edge\"><title>2&#45;&gt;16</title>\n",
       "<path fill=\"none\" stroke=\"black\" d=\"M815,-579.907C815,-571.649 815,-562.864 815,-554.302\"/>\n",
       "<polygon fill=\"black\" stroke=\"black\" points=\"818.5,-554.021 815,-544.021 811.5,-554.021 818.5,-554.021\"/>\n",
       "</g>\n",
       "<!-- 4 -->\n",
       "<g id=\"node5\" class=\"node\"><title>4</title>\n",
       "<path fill=\"#3b9ee5\" stroke=\"black\" d=\"M419,-425C419,-425 303,-425 303,-425 297,-425 291,-419 291,-413 291,-413 291,-354 291,-354 291,-348 297,-342 303,-342 303,-342 419,-342 419,-342 425,-342 431,-348 431,-354 431,-354 431,-413 431,-413 431,-419 425,-425 419,-425\"/>\n",
       "<text text-anchor=\"start\" x=\"299\" y=\"-409.8\" font-family=\"Helvetica,sans-Serif\" font-size=\"14.00\">texture error ≤ 2.097</text>\n",
       "<text text-anchor=\"start\" x=\"325.5\" y=\"-394.8\" font-family=\"Helvetica,sans-Serif\" font-size=\"14.00\">gini = 0.024</text>\n",
       "<text text-anchor=\"start\" x=\"316\" y=\"-379.8\" font-family=\"Helvetica,sans-Serif\" font-size=\"14.00\">samples = 162</text>\n",
       "<text text-anchor=\"start\" x=\"314\" y=\"-364.8\" font-family=\"Helvetica,sans-Serif\" font-size=\"14.00\">value = [2, 160]</text>\n",
       "<text text-anchor=\"start\" x=\"317\" y=\"-349.8\" font-family=\"Helvetica,sans-Serif\" font-size=\"14.00\">class = benign</text>\n",
       "</g>\n",
       "<!-- 3&#45;&gt;4 -->\n",
       "<g id=\"edge4\" class=\"edge\"><title>3&#45;&gt;4</title>\n",
       "<path fill=\"none\" stroke=\"black\" d=\"M520.492,-465.282C495.127,-452.434 466.433,-437.901 440.446,-424.739\"/>\n",
       "<polygon fill=\"black\" stroke=\"black\" points=\"441.88,-421.542 431.377,-420.146 438.717,-427.786 441.88,-421.542\"/>\n",
       "</g>\n",
       "<!-- 13 -->\n",
       "<g id=\"node14\" class=\"node\"><title>13</title>\n",
       "<path fill=\"#61b1ea\" stroke=\"black\" d=\"M676,-425C676,-425 508,-425 508,-425 502,-425 496,-419 496,-413 496,-413 496,-354 496,-354 496,-348 502,-342 508,-342 508,-342 676,-342 676,-342 682,-342 688,-348 688,-354 688,-354 688,-413 688,-413 688,-419 682,-425 676,-425\"/>\n",
       "<text text-anchor=\"start\" x=\"504\" y=\"-409.8\" font-family=\"Helvetica,sans-Serif\" font-size=\"14.00\">worst concave points ≤ 0.107</text>\n",
       "<text text-anchor=\"start\" x=\"556.5\" y=\"-394.8\" font-family=\"Helvetica,sans-Serif\" font-size=\"14.00\">gini = 0.278</text>\n",
       "<text text-anchor=\"start\" x=\"551\" y=\"-379.8\" font-family=\"Helvetica,sans-Serif\" font-size=\"14.00\">samples = 12</text>\n",
       "<text text-anchor=\"start\" x=\"549\" y=\"-364.8\" font-family=\"Helvetica,sans-Serif\" font-size=\"14.00\">value = [2, 10]</text>\n",
       "<text text-anchor=\"start\" x=\"548\" y=\"-349.8\" font-family=\"Helvetica,sans-Serif\" font-size=\"14.00\">class = benign</text>\n",
       "</g>\n",
       "<!-- 3&#45;&gt;13 -->\n",
       "<g id=\"edge13\" class=\"edge\"><title>3&#45;&gt;13</title>\n",
       "<path fill=\"none\" stroke=\"black\" d=\"M592,-460.907C592,-452.649 592,-443.864 592,-435.302\"/>\n",
       "<polygon fill=\"black\" stroke=\"black\" points=\"595.5,-435.021 592,-425.021 588.5,-435.021 595.5,-435.021\"/>\n",
       "</g>\n",
       "<!-- 5 -->\n",
       "<g id=\"node6\" class=\"node\"><title>5</title>\n",
       "<path fill=\"#3a9ee5\" stroke=\"black\" d=\"M249,-306C249,-306 113,-306 113,-306 107,-306 101,-300 101,-294 101,-294 101,-235 101,-235 101,-229 107,-223 113,-223 113,-223 249,-223 249,-223 255,-223 261,-229 261,-235 261,-235 261,-294 261,-294 261,-300 255,-306 249,-306\"/>\n",
       "<text text-anchor=\"start\" x=\"109\" y=\"-290.8\" font-family=\"Helvetica,sans-Serif\" font-size=\"14.00\">worst perimeter ≤ 112.6</text>\n",
       "<text text-anchor=\"start\" x=\"145.5\" y=\"-275.8\" font-family=\"Helvetica,sans-Serif\" font-size=\"14.00\">gini = 0.013</text>\n",
       "<text text-anchor=\"start\" x=\"136\" y=\"-260.8\" font-family=\"Helvetica,sans-Serif\" font-size=\"14.00\">samples = 151</text>\n",
       "<text text-anchor=\"start\" x=\"134\" y=\"-245.8\" font-family=\"Helvetica,sans-Serif\" font-size=\"14.00\">value = [1, 150]</text>\n",
       "<text text-anchor=\"start\" x=\"137\" y=\"-230.8\" font-family=\"Helvetica,sans-Serif\" font-size=\"14.00\">class = benign</text>\n",
       "</g>\n",
       "<!-- 4&#45;&gt;5 -->\n",
       "<g id=\"edge5\" class=\"edge\"><title>4&#45;&gt;5</title>\n",
       "<path fill=\"none\" stroke=\"black\" d=\"M298.55,-341.907C283.471,-332.106 267.251,-321.563 251.819,-311.533\"/>\n",
       "<polygon fill=\"black\" stroke=\"black\" points=\"253.632,-308.536 243.34,-306.021 249.817,-314.405 253.632,-308.536\"/>\n",
       "</g>\n",
       "<!-- 8 -->\n",
       "<g id=\"node9\" class=\"node\"><title>8</title>\n",
       "<path fill=\"#4da7e8\" stroke=\"black\" d=\"M431,-306C431,-306 291,-306 291,-306 285,-306 279,-300 279,-294 279,-294 279,-235 279,-235 279,-229 285,-223 291,-223 291,-223 431,-223 431,-223 437,-223 443,-229 443,-235 443,-235 443,-294 443,-294 443,-300 437,-306 431,-306\"/>\n",
       "<text text-anchor=\"start\" x=\"287\" y=\"-290.8\" font-family=\"Helvetica,sans-Serif\" font-size=\"14.00\">mean symmetry ≤ 0.163</text>\n",
       "<text text-anchor=\"start\" x=\"325.5\" y=\"-275.8\" font-family=\"Helvetica,sans-Serif\" font-size=\"14.00\">gini = 0.165</text>\n",
       "<text text-anchor=\"start\" x=\"320\" y=\"-260.8\" font-family=\"Helvetica,sans-Serif\" font-size=\"14.00\">samples = 11</text>\n",
       "<text text-anchor=\"start\" x=\"318\" y=\"-245.8\" font-family=\"Helvetica,sans-Serif\" font-size=\"14.00\">value = [1, 10]</text>\n",
       "<text text-anchor=\"start\" x=\"317\" y=\"-230.8\" font-family=\"Helvetica,sans-Serif\" font-size=\"14.00\">class = benign</text>\n",
       "</g>\n",
       "<!-- 4&#45;&gt;8 -->\n",
       "<g id=\"edge8\" class=\"edge\"><title>4&#45;&gt;8</title>\n",
       "<path fill=\"none\" stroke=\"black\" d=\"M361,-341.907C361,-333.649 361,-324.864 361,-316.302\"/>\n",
       "<polygon fill=\"black\" stroke=\"black\" points=\"364.5,-316.021 361,-306.021 357.5,-316.021 364.5,-316.021\"/>\n",
       "</g>\n",
       "<!-- 6 -->\n",
       "<g id=\"node7\" class=\"node\"><title>6</title>\n",
       "<path fill=\"#399de5\" stroke=\"black\" d=\"M98,-179.5C98,-179.5 12,-179.5 12,-179.5 6,-179.5 0,-173.5 0,-167.5 0,-167.5 0,-123.5 0,-123.5 0,-117.5 6,-111.5 12,-111.5 12,-111.5 98,-111.5 98,-111.5 104,-111.5 110,-117.5 110,-123.5 110,-123.5 110,-167.5 110,-167.5 110,-173.5 104,-179.5 98,-179.5\"/>\n",
       "<text text-anchor=\"start\" x=\"27\" y=\"-164.3\" font-family=\"Helvetica,sans-Serif\" font-size=\"14.00\">gini = 0.0</text>\n",
       "<text text-anchor=\"start\" x=\"10\" y=\"-149.3\" font-family=\"Helvetica,sans-Serif\" font-size=\"14.00\">samples = 150</text>\n",
       "<text text-anchor=\"start\" x=\"8\" y=\"-134.3\" font-family=\"Helvetica,sans-Serif\" font-size=\"14.00\">value = [0, 150]</text>\n",
       "<text text-anchor=\"start\" x=\"11\" y=\"-119.3\" font-family=\"Helvetica,sans-Serif\" font-size=\"14.00\">class = benign</text>\n",
       "</g>\n",
       "<!-- 5&#45;&gt;6 -->\n",
       "<g id=\"edge6\" class=\"edge\"><title>5&#45;&gt;6</title>\n",
       "<path fill=\"none\" stroke=\"black\" d=\"M137.285,-222.907C124.689,-211.211 110.954,-198.457 98.3782,-186.78\"/>\n",
       "<polygon fill=\"black\" stroke=\"black\" points=\"100.428,-183.907 90.7182,-179.667 95.6646,-189.036 100.428,-183.907\"/>\n",
       "</g>\n",
       "<!-- 7 -->\n",
       "<g id=\"node8\" class=\"node\"><title>7</title>\n",
       "<path fill=\"#e58139\" stroke=\"black\" d=\"M238,-179.5C238,-179.5 140,-179.5 140,-179.5 134,-179.5 128,-173.5 128,-167.5 128,-167.5 128,-123.5 128,-123.5 128,-117.5 134,-111.5 140,-111.5 140,-111.5 238,-111.5 238,-111.5 244,-111.5 250,-117.5 250,-123.5 250,-123.5 250,-167.5 250,-167.5 250,-173.5 244,-179.5 238,-179.5\"/>\n",
       "<text text-anchor=\"start\" x=\"161\" y=\"-164.3\" font-family=\"Helvetica,sans-Serif\" font-size=\"14.00\">gini = 0.0</text>\n",
       "<text text-anchor=\"start\" x=\"151.5\" y=\"-149.3\" font-family=\"Helvetica,sans-Serif\" font-size=\"14.00\">samples = 1</text>\n",
       "<text text-anchor=\"start\" x=\"149.5\" y=\"-134.3\" font-family=\"Helvetica,sans-Serif\" font-size=\"14.00\">value = [1, 0]</text>\n",
       "<text text-anchor=\"start\" x=\"136\" y=\"-119.3\" font-family=\"Helvetica,sans-Serif\" font-size=\"14.00\">class = malignant</text>\n",
       "</g>\n",
       "<!-- 5&#45;&gt;7 -->\n",
       "<g id=\"edge7\" class=\"edge\"><title>5&#45;&gt;7</title>\n",
       "<path fill=\"none\" stroke=\"black\" d=\"M183.776,-222.907C184.507,-212.204 185.3,-200.615 186.041,-189.776\"/>\n",
       "<polygon fill=\"black\" stroke=\"black\" points=\"189.542,-189.882 186.732,-179.667 182.558,-189.405 189.542,-189.882\"/>\n",
       "</g>\n",
       "<!-- 9 -->\n",
       "<g id=\"node10\" class=\"node\"><title>9</title>\n",
       "<path fill=\"#7bbeee\" stroke=\"black\" d=\"M409.5,-187C409.5,-187 296.5,-187 296.5,-187 290.5,-187 284.5,-181 284.5,-175 284.5,-175 284.5,-116 284.5,-116 284.5,-110 290.5,-104 296.5,-104 296.5,-104 409.5,-104 409.5,-104 415.5,-104 421.5,-110 421.5,-116 421.5,-116 421.5,-175 421.5,-175 421.5,-181 415.5,-187 409.5,-187\"/>\n",
       "<text text-anchor=\"start\" x=\"292.5\" y=\"-171.8\" font-family=\"Helvetica,sans-Serif\" font-size=\"14.00\">worst area ≤ 550.15</text>\n",
       "<text text-anchor=\"start\" x=\"317.5\" y=\"-156.8\" font-family=\"Helvetica,sans-Serif\" font-size=\"14.00\">gini = 0.375</text>\n",
       "<text text-anchor=\"start\" x=\"315.5\" y=\"-141.8\" font-family=\"Helvetica,sans-Serif\" font-size=\"14.00\">samples = 4</text>\n",
       "<text text-anchor=\"start\" x=\"313.5\" y=\"-126.8\" font-family=\"Helvetica,sans-Serif\" font-size=\"14.00\">value = [1, 3]</text>\n",
       "<text text-anchor=\"start\" x=\"309\" y=\"-111.8\" font-family=\"Helvetica,sans-Serif\" font-size=\"14.00\">class = benign</text>\n",
       "</g>\n",
       "<!-- 8&#45;&gt;9 -->\n",
       "<g id=\"edge9\" class=\"edge\"><title>8&#45;&gt;9</title>\n",
       "<path fill=\"none\" stroke=\"black\" d=\"M358.224,-222.907C357.654,-214.558 357.046,-205.671 356.454,-197.02\"/>\n",
       "<polygon fill=\"black\" stroke=\"black\" points=\"359.945,-196.759 355.771,-187.021 352.961,-197.236 359.945,-196.759\"/>\n",
       "</g>\n",
       "<!-- 12 -->\n",
       "<g id=\"node13\" class=\"node\"><title>12</title>\n",
       "<path fill=\"#399de5\" stroke=\"black\" d=\"M532,-179.5C532,-179.5 452,-179.5 452,-179.5 446,-179.5 440,-173.5 440,-167.5 440,-167.5 440,-123.5 440,-123.5 440,-117.5 446,-111.5 452,-111.5 452,-111.5 532,-111.5 532,-111.5 538,-111.5 544,-117.5 544,-123.5 544,-123.5 544,-167.5 544,-167.5 544,-173.5 538,-179.5 532,-179.5\"/>\n",
       "<text text-anchor=\"start\" x=\"464\" y=\"-164.3\" font-family=\"Helvetica,sans-Serif\" font-size=\"14.00\">gini = 0.0</text>\n",
       "<text text-anchor=\"start\" x=\"454.5\" y=\"-149.3\" font-family=\"Helvetica,sans-Serif\" font-size=\"14.00\">samples = 7</text>\n",
       "<text text-anchor=\"start\" x=\"452.5\" y=\"-134.3\" font-family=\"Helvetica,sans-Serif\" font-size=\"14.00\">value = [0, 7]</text>\n",
       "<text text-anchor=\"start\" x=\"448\" y=\"-119.3\" font-family=\"Helvetica,sans-Serif\" font-size=\"14.00\">class = benign</text>\n",
       "</g>\n",
       "<!-- 8&#45;&gt;12 -->\n",
       "<g id=\"edge12\" class=\"edge\"><title>8&#45;&gt;12</title>\n",
       "<path fill=\"none\" stroke=\"black\" d=\"M406.45,-222.907C419.67,-211.101 434.095,-198.217 447.27,-186.45\"/>\n",
       "<polygon fill=\"black\" stroke=\"black\" points=\"449.737,-188.939 454.864,-179.667 445.075,-183.718 449.737,-188.939\"/>\n",
       "</g>\n",
       "<!-- 10 -->\n",
       "<g id=\"node11\" class=\"node\"><title>10</title>\n",
       "<path fill=\"#399de5\" stroke=\"black\" d=\"M327,-68C327,-68 247,-68 247,-68 241,-68 235,-62 235,-56 235,-56 235,-12 235,-12 235,-6 241,-0 247,-0 247,-0 327,-0 327,-0 333,-0 339,-6 339,-12 339,-12 339,-56 339,-56 339,-62 333,-68 327,-68\"/>\n",
       "<text text-anchor=\"start\" x=\"259\" y=\"-52.8\" font-family=\"Helvetica,sans-Serif\" font-size=\"14.00\">gini = 0.0</text>\n",
       "<text text-anchor=\"start\" x=\"249.5\" y=\"-37.8\" font-family=\"Helvetica,sans-Serif\" font-size=\"14.00\">samples = 3</text>\n",
       "<text text-anchor=\"start\" x=\"247.5\" y=\"-22.8\" font-family=\"Helvetica,sans-Serif\" font-size=\"14.00\">value = [0, 3]</text>\n",
       "<text text-anchor=\"start\" x=\"243\" y=\"-7.8\" font-family=\"Helvetica,sans-Serif\" font-size=\"14.00\">class = benign</text>\n",
       "</g>\n",
       "<!-- 9&#45;&gt;10 -->\n",
       "<g id=\"edge10\" class=\"edge\"><title>9&#45;&gt;10</title>\n",
       "<path fill=\"none\" stroke=\"black\" d=\"M328.424,-103.726C323.146,-94.9703 317.561,-85.7032 312.258,-76.9051\"/>\n",
       "<polygon fill=\"black\" stroke=\"black\" points=\"315.231,-75.0574 307.071,-68.2996 309.236,-78.671 315.231,-75.0574\"/>\n",
       "</g>\n",
       "<!-- 11 -->\n",
       "<g id=\"node12\" class=\"node\"><title>11</title>\n",
       "<path fill=\"#e58139\" stroke=\"black\" d=\"M467,-68C467,-68 369,-68 369,-68 363,-68 357,-62 357,-56 357,-56 357,-12 357,-12 357,-6 363,-0 369,-0 369,-0 467,-0 467,-0 473,-0 479,-6 479,-12 479,-12 479,-56 479,-56 479,-62 473,-68 467,-68\"/>\n",
       "<text text-anchor=\"start\" x=\"390\" y=\"-52.8\" font-family=\"Helvetica,sans-Serif\" font-size=\"14.00\">gini = 0.0</text>\n",
       "<text text-anchor=\"start\" x=\"380.5\" y=\"-37.8\" font-family=\"Helvetica,sans-Serif\" font-size=\"14.00\">samples = 1</text>\n",
       "<text text-anchor=\"start\" x=\"378.5\" y=\"-22.8\" font-family=\"Helvetica,sans-Serif\" font-size=\"14.00\">value = [1, 0]</text>\n",
       "<text text-anchor=\"start\" x=\"365\" y=\"-7.8\" font-family=\"Helvetica,sans-Serif\" font-size=\"14.00\">class = malignant</text>\n",
       "</g>\n",
       "<!-- 9&#45;&gt;11 -->\n",
       "<g id=\"edge11\" class=\"edge\"><title>9&#45;&gt;11</title>\n",
       "<path fill=\"none\" stroke=\"black\" d=\"M377.204,-103.726C382.401,-94.9703 387.902,-85.7032 393.125,-76.9051\"/>\n",
       "<polygon fill=\"black\" stroke=\"black\" points=\"396.138,-78.6853 398.233,-68.2996 390.119,-75.1121 396.138,-78.6853\"/>\n",
       "</g>\n",
       "<!-- 14 -->\n",
       "<g id=\"node15\" class=\"node\"><title>14</title>\n",
       "<path fill=\"#399de5\" stroke=\"black\" d=\"M553,-298.5C553,-298.5 473,-298.5 473,-298.5 467,-298.5 461,-292.5 461,-286.5 461,-286.5 461,-242.5 461,-242.5 461,-236.5 467,-230.5 473,-230.5 473,-230.5 553,-230.5 553,-230.5 559,-230.5 565,-236.5 565,-242.5 565,-242.5 565,-286.5 565,-286.5 565,-292.5 559,-298.5 553,-298.5\"/>\n",
       "<text text-anchor=\"start\" x=\"485\" y=\"-283.3\" font-family=\"Helvetica,sans-Serif\" font-size=\"14.00\">gini = 0.0</text>\n",
       "<text text-anchor=\"start\" x=\"472\" y=\"-268.3\" font-family=\"Helvetica,sans-Serif\" font-size=\"14.00\">samples = 10</text>\n",
       "<text text-anchor=\"start\" x=\"470\" y=\"-253.3\" font-family=\"Helvetica,sans-Serif\" font-size=\"14.00\">value = [0, 10]</text>\n",
       "<text text-anchor=\"start\" x=\"469\" y=\"-238.3\" font-family=\"Helvetica,sans-Serif\" font-size=\"14.00\">class = benign</text>\n",
       "</g>\n",
       "<!-- 13&#45;&gt;14 -->\n",
       "<g id=\"edge14\" class=\"edge\"><title>13&#45;&gt;14</title>\n",
       "<path fill=\"none\" stroke=\"black\" d=\"M564.591,-341.907C556.992,-330.652 548.731,-318.418 541.093,-307.106\"/>\n",
       "<polygon fill=\"black\" stroke=\"black\" points=\"543.891,-304.996 535.395,-298.667 538.09,-308.913 543.891,-304.996\"/>\n",
       "</g>\n",
       "<!-- 15 -->\n",
       "<g id=\"node16\" class=\"node\"><title>15</title>\n",
       "<path fill=\"#e58139\" stroke=\"black\" d=\"M693,-298.5C693,-298.5 595,-298.5 595,-298.5 589,-298.5 583,-292.5 583,-286.5 583,-286.5 583,-242.5 583,-242.5 583,-236.5 589,-230.5 595,-230.5 595,-230.5 693,-230.5 693,-230.5 699,-230.5 705,-236.5 705,-242.5 705,-242.5 705,-286.5 705,-286.5 705,-292.5 699,-298.5 693,-298.5\"/>\n",
       "<text text-anchor=\"start\" x=\"616\" y=\"-283.3\" font-family=\"Helvetica,sans-Serif\" font-size=\"14.00\">gini = 0.0</text>\n",
       "<text text-anchor=\"start\" x=\"606.5\" y=\"-268.3\" font-family=\"Helvetica,sans-Serif\" font-size=\"14.00\">samples = 2</text>\n",
       "<text text-anchor=\"start\" x=\"604.5\" y=\"-253.3\" font-family=\"Helvetica,sans-Serif\" font-size=\"14.00\">value = [2, 0]</text>\n",
       "<text text-anchor=\"start\" x=\"591\" y=\"-238.3\" font-family=\"Helvetica,sans-Serif\" font-size=\"14.00\">class = malignant</text>\n",
       "</g>\n",
       "<!-- 13&#45;&gt;15 -->\n",
       "<g id=\"edge15\" class=\"edge\"><title>13&#45;&gt;15</title>\n",
       "<path fill=\"none\" stroke=\"black\" d=\"M610.041,-341.907C614.896,-330.983 620.161,-319.137 625.064,-308.107\"/>\n",
       "<polygon fill=\"black\" stroke=\"black\" points=\"628.396,-309.227 629.259,-298.667 621.999,-306.384 628.396,-309.227\"/>\n",
       "</g>\n",
       "<!-- 17 -->\n",
       "<g id=\"node18\" class=\"node\"><title>17</title>\n",
       "<path fill=\"#6ab6ec\" stroke=\"black\" d=\"M895.5,-425C895.5,-425 734.5,-425 734.5,-425 728.5,-425 722.5,-419 722.5,-413 722.5,-413 722.5,-354 722.5,-354 722.5,-348 728.5,-342 734.5,-342 734.5,-342 895.5,-342 895.5,-342 901.5,-342 907.5,-348 907.5,-354 907.5,-354 907.5,-413 907.5,-413 907.5,-419 901.5,-425 895.5,-425\"/>\n",
       "<text text-anchor=\"start\" x=\"730.5\" y=\"-409.8\" font-family=\"Helvetica,sans-Serif\" font-size=\"14.00\">mean compactness ≤ 0.059</text>\n",
       "<text text-anchor=\"start\" x=\"783\" y=\"-394.8\" font-family=\"Helvetica,sans-Serif\" font-size=\"14.00\">gini = 0.32</text>\n",
       "<text text-anchor=\"start\" x=\"777.5\" y=\"-379.8\" font-family=\"Helvetica,sans-Serif\" font-size=\"14.00\">samples = 5</text>\n",
       "<text text-anchor=\"start\" x=\"775.5\" y=\"-364.8\" font-family=\"Helvetica,sans-Serif\" font-size=\"14.00\">value = [1, 4]</text>\n",
       "<text text-anchor=\"start\" x=\"771\" y=\"-349.8\" font-family=\"Helvetica,sans-Serif\" font-size=\"14.00\">class = benign</text>\n",
       "</g>\n",
       "<!-- 16&#45;&gt;17 -->\n",
       "<g id=\"edge17\" class=\"edge\"><title>16&#45;&gt;17</title>\n",
       "<path fill=\"none\" stroke=\"black\" d=\"M815,-460.907C815,-452.649 815,-443.864 815,-435.302\"/>\n",
       "<polygon fill=\"black\" stroke=\"black\" points=\"818.5,-435.021 815,-425.021 811.5,-435.021 818.5,-435.021\"/>\n",
       "</g>\n",
       "<!-- 20 -->\n",
       "<g id=\"node21\" class=\"node\"><title>20</title>\n",
       "<path fill=\"#e78c49\" stroke=\"black\" d=\"M1105.5,-425C1105.5,-425 968.5,-425 968.5,-425 962.5,-425 956.5,-419 956.5,-413 956.5,-413 956.5,-354 956.5,-354 956.5,-348 962.5,-342 968.5,-342 968.5,-342 1105.5,-342 1105.5,-342 1111.5,-342 1117.5,-348 1117.5,-354 1117.5,-354 1117.5,-413 1117.5,-413 1117.5,-419 1111.5,-425 1105.5,-425\"/>\n",
       "<text text-anchor=\"start\" x=\"964.5\" y=\"-409.8\" font-family=\"Helvetica,sans-Serif\" font-size=\"14.00\">worst smoothness ≤ 0.1</text>\n",
       "<text text-anchor=\"start\" x=\"1001.5\" y=\"-394.8\" font-family=\"Helvetica,sans-Serif\" font-size=\"14.00\">gini = 0.142</text>\n",
       "<text text-anchor=\"start\" x=\"996\" y=\"-379.8\" font-family=\"Helvetica,sans-Serif\" font-size=\"14.00\">samples = 13</text>\n",
       "<text text-anchor=\"start\" x=\"994\" y=\"-364.8\" font-family=\"Helvetica,sans-Serif\" font-size=\"14.00\">value = [12, 1]</text>\n",
       "<text text-anchor=\"start\" x=\"984\" y=\"-349.8\" font-family=\"Helvetica,sans-Serif\" font-size=\"14.00\">class = malignant</text>\n",
       "</g>\n",
       "<!-- 16&#45;&gt;20 -->\n",
       "<g id=\"edge20\" class=\"edge\"><title>16&#45;&gt;20</title>\n",
       "<path fill=\"none\" stroke=\"black\" d=\"M892.022,-460.907C911.135,-450.834 931.736,-439.977 951.24,-429.698\"/>\n",
       "<polygon fill=\"black\" stroke=\"black\" points=\"952.9,-432.78 960.114,-425.021 949.636,-426.587 952.9,-432.78\"/>\n",
       "</g>\n",
       "<!-- 18 -->\n",
       "<g id=\"node19\" class=\"node\"><title>18</title>\n",
       "<path fill=\"#e58139\" stroke=\"black\" d=\"M833,-298.5C833,-298.5 735,-298.5 735,-298.5 729,-298.5 723,-292.5 723,-286.5 723,-286.5 723,-242.5 723,-242.5 723,-236.5 729,-230.5 735,-230.5 735,-230.5 833,-230.5 833,-230.5 839,-230.5 845,-236.5 845,-242.5 845,-242.5 845,-286.5 845,-286.5 845,-292.5 839,-298.5 833,-298.5\"/>\n",
       "<text text-anchor=\"start\" x=\"756\" y=\"-283.3\" font-family=\"Helvetica,sans-Serif\" font-size=\"14.00\">gini = 0.0</text>\n",
       "<text text-anchor=\"start\" x=\"746.5\" y=\"-268.3\" font-family=\"Helvetica,sans-Serif\" font-size=\"14.00\">samples = 1</text>\n",
       "<text text-anchor=\"start\" x=\"744.5\" y=\"-253.3\" font-family=\"Helvetica,sans-Serif\" font-size=\"14.00\">value = [1, 0]</text>\n",
       "<text text-anchor=\"start\" x=\"731\" y=\"-238.3\" font-family=\"Helvetica,sans-Serif\" font-size=\"14.00\">class = malignant</text>\n",
       "</g>\n",
       "<!-- 17&#45;&gt;18 -->\n",
       "<g id=\"edge18\" class=\"edge\"><title>17&#45;&gt;18</title>\n",
       "<path fill=\"none\" stroke=\"black\" d=\"M804.245,-341.907C801.38,-331.094 798.275,-319.376 795.378,-308.441\"/>\n",
       "<polygon fill=\"black\" stroke=\"black\" points=\"798.732,-307.437 792.788,-298.667 791.966,-309.23 798.732,-307.437\"/>\n",
       "</g>\n",
       "<!-- 19 -->\n",
       "<g id=\"node20\" class=\"node\"><title>19</title>\n",
       "<path fill=\"#399de5\" stroke=\"black\" d=\"M955,-298.5C955,-298.5 875,-298.5 875,-298.5 869,-298.5 863,-292.5 863,-286.5 863,-286.5 863,-242.5 863,-242.5 863,-236.5 869,-230.5 875,-230.5 875,-230.5 955,-230.5 955,-230.5 961,-230.5 967,-236.5 967,-242.5 967,-242.5 967,-286.5 967,-286.5 967,-292.5 961,-298.5 955,-298.5\"/>\n",
       "<text text-anchor=\"start\" x=\"887\" y=\"-283.3\" font-family=\"Helvetica,sans-Serif\" font-size=\"14.00\">gini = 0.0</text>\n",
       "<text text-anchor=\"start\" x=\"877.5\" y=\"-268.3\" font-family=\"Helvetica,sans-Serif\" font-size=\"14.00\">samples = 4</text>\n",
       "<text text-anchor=\"start\" x=\"875.5\" y=\"-253.3\" font-family=\"Helvetica,sans-Serif\" font-size=\"14.00\">value = [0, 4]</text>\n",
       "<text text-anchor=\"start\" x=\"871\" y=\"-238.3\" font-family=\"Helvetica,sans-Serif\" font-size=\"14.00\">class = benign</text>\n",
       "</g>\n",
       "<!-- 17&#45;&gt;19 -->\n",
       "<g id=\"edge19\" class=\"edge\"><title>17&#45;&gt;19</title>\n",
       "<path fill=\"none\" stroke=\"black\" d=\"M849.695,-341.907C859.503,-330.432 870.181,-317.938 880.007,-306.442\"/>\n",
       "<polygon fill=\"black\" stroke=\"black\" points=\"882.816,-308.543 886.652,-298.667 877.494,-303.995 882.816,-308.543\"/>\n",
       "</g>\n",
       "<!-- 21 -->\n",
       "<g id=\"node22\" class=\"node\"><title>21</title>\n",
       "<path fill=\"#399de5\" stroke=\"black\" d=\"M1077,-298.5C1077,-298.5 997,-298.5 997,-298.5 991,-298.5 985,-292.5 985,-286.5 985,-286.5 985,-242.5 985,-242.5 985,-236.5 991,-230.5 997,-230.5 997,-230.5 1077,-230.5 1077,-230.5 1083,-230.5 1089,-236.5 1089,-242.5 1089,-242.5 1089,-286.5 1089,-286.5 1089,-292.5 1083,-298.5 1077,-298.5\"/>\n",
       "<text text-anchor=\"start\" x=\"1009\" y=\"-283.3\" font-family=\"Helvetica,sans-Serif\" font-size=\"14.00\">gini = 0.0</text>\n",
       "<text text-anchor=\"start\" x=\"999.5\" y=\"-268.3\" font-family=\"Helvetica,sans-Serif\" font-size=\"14.00\">samples = 1</text>\n",
       "<text text-anchor=\"start\" x=\"997.5\" y=\"-253.3\" font-family=\"Helvetica,sans-Serif\" font-size=\"14.00\">value = [0, 1]</text>\n",
       "<text text-anchor=\"start\" x=\"993\" y=\"-238.3\" font-family=\"Helvetica,sans-Serif\" font-size=\"14.00\">class = benign</text>\n",
       "</g>\n",
       "<!-- 20&#45;&gt;21 -->\n",
       "<g id=\"edge21\" class=\"edge\"><title>20&#45;&gt;21</title>\n",
       "<path fill=\"none\" stroke=\"black\" d=\"M1037,-341.907C1037,-331.204 1037,-319.615 1037,-308.776\"/>\n",
       "<polygon fill=\"black\" stroke=\"black\" points=\"1040.5,-308.667 1037,-298.667 1033.5,-308.667 1040.5,-308.667\"/>\n",
       "</g>\n",
       "<!-- 22 -->\n",
       "<g id=\"node23\" class=\"node\"><title>22</title>\n",
       "<path fill=\"#e58139\" stroke=\"black\" d=\"M1217,-298.5C1217,-298.5 1119,-298.5 1119,-298.5 1113,-298.5 1107,-292.5 1107,-286.5 1107,-286.5 1107,-242.5 1107,-242.5 1107,-236.5 1113,-230.5 1119,-230.5 1119,-230.5 1217,-230.5 1217,-230.5 1223,-230.5 1229,-236.5 1229,-242.5 1229,-242.5 1229,-286.5 1229,-286.5 1229,-292.5 1223,-298.5 1217,-298.5\"/>\n",
       "<text text-anchor=\"start\" x=\"1140\" y=\"-283.3\" font-family=\"Helvetica,sans-Serif\" font-size=\"14.00\">gini = 0.0</text>\n",
       "<text text-anchor=\"start\" x=\"1127\" y=\"-268.3\" font-family=\"Helvetica,sans-Serif\" font-size=\"14.00\">samples = 12</text>\n",
       "<text text-anchor=\"start\" x=\"1125\" y=\"-253.3\" font-family=\"Helvetica,sans-Serif\" font-size=\"14.00\">value = [12, 0]</text>\n",
       "<text text-anchor=\"start\" x=\"1115\" y=\"-238.3\" font-family=\"Helvetica,sans-Serif\" font-size=\"14.00\">class = malignant</text>\n",
       "</g>\n",
       "<!-- 20&#45;&gt;22 -->\n",
       "<g id=\"edge22\" class=\"edge\"><title>20&#45;&gt;22</title>\n",
       "<path fill=\"none\" stroke=\"black\" d=\"M1082.45,-341.907C1095.67,-330.101 1110.1,-317.217 1123.27,-305.45\"/>\n",
       "<polygon fill=\"black\" stroke=\"black\" points=\"1125.74,-307.939 1130.86,-298.667 1121.07,-302.718 1125.74,-307.939\"/>\n",
       "</g>\n",
       "<!-- 24 -->\n",
       "<g id=\"node25\" class=\"node\"><title>24</title>\n",
       "<path fill=\"#399de5\" stroke=\"black\" d=\"M1009,-536.5C1009,-536.5 929,-536.5 929,-536.5 923,-536.5 917,-530.5 917,-524.5 917,-524.5 917,-480.5 917,-480.5 917,-474.5 923,-468.5 929,-468.5 929,-468.5 1009,-468.5 1009,-468.5 1015,-468.5 1021,-474.5 1021,-480.5 1021,-480.5 1021,-524.5 1021,-524.5 1021,-530.5 1015,-536.5 1009,-536.5\"/>\n",
       "<text text-anchor=\"start\" x=\"941\" y=\"-521.3\" font-family=\"Helvetica,sans-Serif\" font-size=\"14.00\">gini = 0.0</text>\n",
       "<text text-anchor=\"start\" x=\"931.5\" y=\"-506.3\" font-family=\"Helvetica,sans-Serif\" font-size=\"14.00\">samples = 5</text>\n",
       "<text text-anchor=\"start\" x=\"929.5\" y=\"-491.3\" font-family=\"Helvetica,sans-Serif\" font-size=\"14.00\">value = [0, 5]</text>\n",
       "<text text-anchor=\"start\" x=\"925\" y=\"-476.3\" font-family=\"Helvetica,sans-Serif\" font-size=\"14.00\">class = benign</text>\n",
       "</g>\n",
       "<!-- 23&#45;&gt;24 -->\n",
       "<g id=\"edge24\" class=\"edge\"><title>23&#45;&gt;24</title>\n",
       "<path fill=\"none\" stroke=\"black\" d=\"M1002.96,-579.907C998.104,-568.983 992.839,-557.137 987.936,-546.107\"/>\n",
       "<polygon fill=\"black\" stroke=\"black\" points=\"991.001,-544.384 983.741,-536.667 984.604,-547.227 991.001,-544.384\"/>\n",
       "</g>\n",
       "<!-- 25 -->\n",
       "<g id=\"node26\" class=\"node\"><title>25</title>\n",
       "<path fill=\"#e58139\" stroke=\"black\" d=\"M1149,-536.5C1149,-536.5 1051,-536.5 1051,-536.5 1045,-536.5 1039,-530.5 1039,-524.5 1039,-524.5 1039,-480.5 1039,-480.5 1039,-474.5 1045,-468.5 1051,-468.5 1051,-468.5 1149,-468.5 1149,-468.5 1155,-468.5 1161,-474.5 1161,-480.5 1161,-480.5 1161,-524.5 1161,-524.5 1161,-530.5 1155,-536.5 1149,-536.5\"/>\n",
       "<text text-anchor=\"start\" x=\"1072\" y=\"-521.3\" font-family=\"Helvetica,sans-Serif\" font-size=\"14.00\">gini = 0.0</text>\n",
       "<text text-anchor=\"start\" x=\"1062.5\" y=\"-506.3\" font-family=\"Helvetica,sans-Serif\" font-size=\"14.00\">samples = 6</text>\n",
       "<text text-anchor=\"start\" x=\"1060.5\" y=\"-491.3\" font-family=\"Helvetica,sans-Serif\" font-size=\"14.00\">value = [6, 0]</text>\n",
       "<text text-anchor=\"start\" x=\"1047\" y=\"-476.3\" font-family=\"Helvetica,sans-Serif\" font-size=\"14.00\">class = malignant</text>\n",
       "</g>\n",
       "<!-- 23&#45;&gt;25 -->\n",
       "<g id=\"edge25\" class=\"edge\"><title>23&#45;&gt;25</title>\n",
       "<path fill=\"none\" stroke=\"black\" d=\"M1048.41,-579.907C1056.01,-568.652 1064.27,-556.418 1071.91,-545.106\"/>\n",
       "<polygon fill=\"black\" stroke=\"black\" points=\"1074.91,-546.913 1077.61,-536.667 1069.11,-542.996 1074.91,-546.913\"/>\n",
       "</g>\n",
       "<!-- 27 -->\n",
       "<g id=\"node28\" class=\"node\"><title>27</title>\n",
       "<path fill=\"#4ba6e7\" stroke=\"black\" d=\"M1321.5,-663C1321.5,-663 1194.5,-663 1194.5,-663 1188.5,-663 1182.5,-657 1182.5,-651 1182.5,-651 1182.5,-592 1182.5,-592 1182.5,-586 1188.5,-580 1194.5,-580 1194.5,-580 1321.5,-580 1321.5,-580 1327.5,-580 1333.5,-586 1333.5,-592 1333.5,-592 1333.5,-651 1333.5,-651 1333.5,-657 1327.5,-663 1321.5,-663\"/>\n",
       "<text text-anchor=\"start\" x=\"1190.5\" y=\"-647.8\" font-family=\"Helvetica,sans-Serif\" font-size=\"14.00\">worst texture ≤ 29.935</text>\n",
       "<text text-anchor=\"start\" x=\"1226\" y=\"-632.8\" font-family=\"Helvetica,sans-Serif\" font-size=\"14.00\">gini = 0.15</text>\n",
       "<text text-anchor=\"start\" x=\"1217\" y=\"-617.8\" font-family=\"Helvetica,sans-Serif\" font-size=\"14.00\">samples = 49</text>\n",
       "<text text-anchor=\"start\" x=\"1215\" y=\"-602.8\" font-family=\"Helvetica,sans-Serif\" font-size=\"14.00\">value = [4, 45]</text>\n",
       "<text text-anchor=\"start\" x=\"1214\" y=\"-587.8\" font-family=\"Helvetica,sans-Serif\" font-size=\"14.00\">class = benign</text>\n",
       "</g>\n",
       "<!-- 26&#45;&gt;27 -->\n",
       "<g id=\"edge27\" class=\"edge\"><title>26&#45;&gt;27</title>\n",
       "<path fill=\"none\" stroke=\"black\" d=\"M1258,-698.907C1258,-690.649 1258,-681.864 1258,-673.302\"/>\n",
       "<polygon fill=\"black\" stroke=\"black\" points=\"1261.5,-673.021 1258,-663.021 1254.5,-673.021 1261.5,-673.021\"/>\n",
       "</g>\n",
       "<!-- 32 -->\n",
       "<g id=\"node33\" class=\"node\"><title>32</title>\n",
       "<path fill=\"#e78a48\" stroke=\"black\" d=\"M1634.5,-663C1634.5,-663 1519.5,-663 1519.5,-663 1513.5,-663 1507.5,-657 1507.5,-651 1507.5,-651 1507.5,-592 1507.5,-592 1507.5,-586 1513.5,-580 1519.5,-580 1519.5,-580 1634.5,-580 1634.5,-580 1640.5,-580 1646.5,-586 1646.5,-592 1646.5,-592 1646.5,-651 1646.5,-651 1646.5,-657 1640.5,-663 1634.5,-663\"/>\n",
       "<text text-anchor=\"start\" x=\"1515.5\" y=\"-647.8\" font-family=\"Helvetica,sans-Serif\" font-size=\"14.00\">worst radius ≤ 16.91</text>\n",
       "<text text-anchor=\"start\" x=\"1545\" y=\"-632.8\" font-family=\"Helvetica,sans-Serif\" font-size=\"14.00\">gini = 0.13</text>\n",
       "<text text-anchor=\"start\" x=\"1532\" y=\"-617.8\" font-family=\"Helvetica,sans-Serif\" font-size=\"14.00\">samples = 129</text>\n",
       "<text text-anchor=\"start\" x=\"1530\" y=\"-602.8\" font-family=\"Helvetica,sans-Serif\" font-size=\"14.00\">value = [120, 9]</text>\n",
       "<text text-anchor=\"start\" x=\"1524\" y=\"-587.8\" font-family=\"Helvetica,sans-Serif\" font-size=\"14.00\">class = malignant</text>\n",
       "</g>\n",
       "<!-- 26&#45;&gt;32 -->\n",
       "<g id=\"edge32\" class=\"edge\"><title>26&#45;&gt;32</title>\n",
       "<path fill=\"none\" stroke=\"black\" d=\"M1331.19,-712.658C1380.95,-694.404 1446.77,-670.266 1497.77,-651.56\"/>\n",
       "<polygon fill=\"black\" stroke=\"black\" points=\"1499.25,-654.743 1507.44,-648.014 1496.84,-648.171 1499.25,-654.743\"/>\n",
       "</g>\n",
       "<!-- 28 -->\n",
       "<g id=\"node29\" class=\"node\"><title>28</title>\n",
       "<path fill=\"#399de5\" stroke=\"black\" d=\"M1271,-536.5C1271,-536.5 1191,-536.5 1191,-536.5 1185,-536.5 1179,-530.5 1179,-524.5 1179,-524.5 1179,-480.5 1179,-480.5 1179,-474.5 1185,-468.5 1191,-468.5 1191,-468.5 1271,-468.5 1271,-468.5 1277,-468.5 1283,-474.5 1283,-480.5 1283,-480.5 1283,-524.5 1283,-524.5 1283,-530.5 1277,-536.5 1271,-536.5\"/>\n",
       "<text text-anchor=\"start\" x=\"1203\" y=\"-521.3\" font-family=\"Helvetica,sans-Serif\" font-size=\"14.00\">gini = 0.0</text>\n",
       "<text text-anchor=\"start\" x=\"1190\" y=\"-506.3\" font-family=\"Helvetica,sans-Serif\" font-size=\"14.00\">samples = 43</text>\n",
       "<text text-anchor=\"start\" x=\"1188\" y=\"-491.3\" font-family=\"Helvetica,sans-Serif\" font-size=\"14.00\">value = [0, 43]</text>\n",
       "<text text-anchor=\"start\" x=\"1187\" y=\"-476.3\" font-family=\"Helvetica,sans-Serif\" font-size=\"14.00\">class = benign</text>\n",
       "</g>\n",
       "<!-- 27&#45;&gt;28 -->\n",
       "<g id=\"edge28\" class=\"edge\"><title>27&#45;&gt;28</title>\n",
       "<path fill=\"none\" stroke=\"black\" d=\"M1248.63,-579.907C1246.14,-569.094 1243.43,-557.376 1240.91,-546.441\"/>\n",
       "<polygon fill=\"black\" stroke=\"black\" points=\"1244.31,-545.624 1238.65,-536.667 1237.49,-547.198 1244.31,-545.624\"/>\n",
       "</g>\n",
       "<!-- 29 -->\n",
       "<g id=\"node30\" class=\"node\"><title>29</title>\n",
       "<path fill=\"#f2c09c\" stroke=\"black\" d=\"M1450.5,-544C1450.5,-544 1313.5,-544 1313.5,-544 1307.5,-544 1301.5,-538 1301.5,-532 1301.5,-532 1301.5,-473 1301.5,-473 1301.5,-467 1307.5,-461 1313.5,-461 1313.5,-461 1450.5,-461 1450.5,-461 1456.5,-461 1462.5,-467 1462.5,-473 1462.5,-473 1462.5,-532 1462.5,-532 1462.5,-538 1456.5,-544 1450.5,-544\"/>\n",
       "<text text-anchor=\"start\" x=\"1309.5\" y=\"-528.8\" font-family=\"Helvetica,sans-Serif\" font-size=\"14.00\">mean concavity ≤ 0.096</text>\n",
       "<text text-anchor=\"start\" x=\"1346.5\" y=\"-513.8\" font-family=\"Helvetica,sans-Serif\" font-size=\"14.00\">gini = 0.444</text>\n",
       "<text text-anchor=\"start\" x=\"1344.5\" y=\"-498.8\" font-family=\"Helvetica,sans-Serif\" font-size=\"14.00\">samples = 6</text>\n",
       "<text text-anchor=\"start\" x=\"1342.5\" y=\"-483.8\" font-family=\"Helvetica,sans-Serif\" font-size=\"14.00\">value = [4, 2]</text>\n",
       "<text text-anchor=\"start\" x=\"1329\" y=\"-468.8\" font-family=\"Helvetica,sans-Serif\" font-size=\"14.00\">class = malignant</text>\n",
       "</g>\n",
       "<!-- 27&#45;&gt;29 -->\n",
       "<g id=\"edge29\" class=\"edge\"><title>27&#45;&gt;29</title>\n",
       "<path fill=\"none\" stroke=\"black\" d=\"M1301.02,-579.907C1310.93,-570.56 1321.55,-560.538 1331.73,-550.929\"/>\n",
       "<polygon fill=\"black\" stroke=\"black\" points=\"1334.18,-553.429 1339.05,-544.021 1329.38,-548.338 1334.18,-553.429\"/>\n",
       "</g>\n",
       "<!-- 30 -->\n",
       "<g id=\"node31\" class=\"node\"><title>30</title>\n",
       "<path fill=\"#399de5\" stroke=\"black\" d=\"M1295,-417.5C1295,-417.5 1215,-417.5 1215,-417.5 1209,-417.5 1203,-411.5 1203,-405.5 1203,-405.5 1203,-361.5 1203,-361.5 1203,-355.5 1209,-349.5 1215,-349.5 1215,-349.5 1295,-349.5 1295,-349.5 1301,-349.5 1307,-355.5 1307,-361.5 1307,-361.5 1307,-405.5 1307,-405.5 1307,-411.5 1301,-417.5 1295,-417.5\"/>\n",
       "<text text-anchor=\"start\" x=\"1227\" y=\"-402.3\" font-family=\"Helvetica,sans-Serif\" font-size=\"14.00\">gini = 0.0</text>\n",
       "<text text-anchor=\"start\" x=\"1217.5\" y=\"-387.3\" font-family=\"Helvetica,sans-Serif\" font-size=\"14.00\">samples = 2</text>\n",
       "<text text-anchor=\"start\" x=\"1215.5\" y=\"-372.3\" font-family=\"Helvetica,sans-Serif\" font-size=\"14.00\">value = [0, 2]</text>\n",
       "<text text-anchor=\"start\" x=\"1211\" y=\"-357.3\" font-family=\"Helvetica,sans-Serif\" font-size=\"14.00\">class = benign</text>\n",
       "</g>\n",
       "<!-- 29&#45;&gt;30 -->\n",
       "<g id=\"edge30\" class=\"edge\"><title>29&#45;&gt;30</title>\n",
       "<path fill=\"none\" stroke=\"black\" d=\"M1337.94,-460.907C1325.12,-449.101 1311.14,-436.217 1298.36,-424.45\"/>\n",
       "<polygon fill=\"black\" stroke=\"black\" points=\"1300.73,-421.868 1291,-417.667 1295.98,-427.017 1300.73,-421.868\"/>\n",
       "</g>\n",
       "<!-- 31 -->\n",
       "<g id=\"node32\" class=\"node\"><title>31</title>\n",
       "<path fill=\"#e58139\" stroke=\"black\" d=\"M1435,-417.5C1435,-417.5 1337,-417.5 1337,-417.5 1331,-417.5 1325,-411.5 1325,-405.5 1325,-405.5 1325,-361.5 1325,-361.5 1325,-355.5 1331,-349.5 1337,-349.5 1337,-349.5 1435,-349.5 1435,-349.5 1441,-349.5 1447,-355.5 1447,-361.5 1447,-361.5 1447,-405.5 1447,-405.5 1447,-411.5 1441,-417.5 1435,-417.5\"/>\n",
       "<text text-anchor=\"start\" x=\"1358\" y=\"-402.3\" font-family=\"Helvetica,sans-Serif\" font-size=\"14.00\">gini = 0.0</text>\n",
       "<text text-anchor=\"start\" x=\"1348.5\" y=\"-387.3\" font-family=\"Helvetica,sans-Serif\" font-size=\"14.00\">samples = 4</text>\n",
       "<text text-anchor=\"start\" x=\"1346.5\" y=\"-372.3\" font-family=\"Helvetica,sans-Serif\" font-size=\"14.00\">value = [4, 0]</text>\n",
       "<text text-anchor=\"start\" x=\"1333\" y=\"-357.3\" font-family=\"Helvetica,sans-Serif\" font-size=\"14.00\">class = malignant</text>\n",
       "</g>\n",
       "<!-- 29&#45;&gt;31 -->\n",
       "<g id=\"edge31\" class=\"edge\"><title>29&#45;&gt;31</title>\n",
       "<path fill=\"none\" stroke=\"black\" d=\"M1383.39,-460.907C1383.75,-450.204 1384.15,-438.615 1384.52,-427.776\"/>\n",
       "<polygon fill=\"black\" stroke=\"black\" points=\"1388.02,-427.781 1384.87,-417.667 1381.03,-427.541 1388.02,-427.781\"/>\n",
       "</g>\n",
       "<!-- 33 -->\n",
       "<g id=\"node34\" class=\"node\"><title>33</title>\n",
       "<path fill=\"#f4c8a8\" stroke=\"black\" d=\"M1661,-544C1661,-544 1493,-544 1493,-544 1487,-544 1481,-538 1481,-532 1481,-532 1481,-473 1481,-473 1481,-467 1487,-461 1493,-461 1493,-461 1661,-461 1661,-461 1667,-461 1673,-467 1673,-473 1673,-473 1673,-532 1673,-532 1673,-538 1667,-544 1661,-544\"/>\n",
       "<text text-anchor=\"start\" x=\"1489\" y=\"-528.8\" font-family=\"Helvetica,sans-Serif\" font-size=\"14.00\">worst concave points ≤ 0.143</text>\n",
       "<text text-anchor=\"start\" x=\"1541.5\" y=\"-513.8\" font-family=\"Helvetica,sans-Serif\" font-size=\"14.00\">gini = 0.461</text>\n",
       "<text text-anchor=\"start\" x=\"1536\" y=\"-498.8\" font-family=\"Helvetica,sans-Serif\" font-size=\"14.00\">samples = 25</text>\n",
       "<text text-anchor=\"start\" x=\"1534\" y=\"-483.8\" font-family=\"Helvetica,sans-Serif\" font-size=\"14.00\">value = [16, 9]</text>\n",
       "<text text-anchor=\"start\" x=\"1524\" y=\"-468.8\" font-family=\"Helvetica,sans-Serif\" font-size=\"14.00\">class = malignant</text>\n",
       "</g>\n",
       "<!-- 32&#45;&gt;33 -->\n",
       "<g id=\"edge33\" class=\"edge\"><title>32&#45;&gt;33</title>\n",
       "<path fill=\"none\" stroke=\"black\" d=\"M1577,-579.907C1577,-571.649 1577,-562.864 1577,-554.302\"/>\n",
       "<polygon fill=\"black\" stroke=\"black\" points=\"1580.5,-554.021 1577,-544.021 1573.5,-554.021 1580.5,-554.021\"/>\n",
       "</g>\n",
       "<!-- 44 -->\n",
       "<g id=\"node45\" class=\"node\"><title>44</title>\n",
       "<path fill=\"#e58139\" stroke=\"black\" d=\"M1801,-536.5C1801,-536.5 1703,-536.5 1703,-536.5 1697,-536.5 1691,-530.5 1691,-524.5 1691,-524.5 1691,-480.5 1691,-480.5 1691,-474.5 1697,-468.5 1703,-468.5 1703,-468.5 1801,-468.5 1801,-468.5 1807,-468.5 1813,-474.5 1813,-480.5 1813,-480.5 1813,-524.5 1813,-524.5 1813,-530.5 1807,-536.5 1801,-536.5\"/>\n",
       "<text text-anchor=\"start\" x=\"1724\" y=\"-521.3\" font-family=\"Helvetica,sans-Serif\" font-size=\"14.00\">gini = 0.0</text>\n",
       "<text text-anchor=\"start\" x=\"1707\" y=\"-506.3\" font-family=\"Helvetica,sans-Serif\" font-size=\"14.00\">samples = 104</text>\n",
       "<text text-anchor=\"start\" x=\"1705\" y=\"-491.3\" font-family=\"Helvetica,sans-Serif\" font-size=\"14.00\">value = [104, 0]</text>\n",
       "<text text-anchor=\"start\" x=\"1699\" y=\"-476.3\" font-family=\"Helvetica,sans-Serif\" font-size=\"14.00\">class = malignant</text>\n",
       "</g>\n",
       "<!-- 32&#45;&gt;44 -->\n",
       "<g id=\"edge44\" class=\"edge\"><title>32&#45;&gt;44</title>\n",
       "<path fill=\"none\" stroke=\"black\" d=\"M1637.72,-579.907C1655.87,-567.769 1675.73,-554.493 1693.72,-542.462\"/>\n",
       "<polygon fill=\"black\" stroke=\"black\" points=\"1696.02,-545.135 1702.39,-536.667 1692.13,-539.315 1696.02,-545.135\"/>\n",
       "</g>\n",
       "<!-- 34 -->\n",
       "<g id=\"node35\" class=\"node\"><title>34</title>\n",
       "<path fill=\"#6ab6ec\" stroke=\"black\" d=\"M1661.5,-425C1661.5,-425 1484.5,-425 1484.5,-425 1478.5,-425 1472.5,-419 1472.5,-413 1472.5,-413 1472.5,-354 1472.5,-354 1472.5,-348 1478.5,-342 1484.5,-342 1484.5,-342 1661.5,-342 1661.5,-342 1667.5,-342 1673.5,-348 1673.5,-354 1673.5,-354 1673.5,-413 1673.5,-413 1673.5,-419 1667.5,-425 1661.5,-425\"/>\n",
       "<text text-anchor=\"start\" x=\"1480.5\" y=\"-409.8\" font-family=\"Helvetica,sans-Serif\" font-size=\"14.00\">fractal dimension error ≤ 0.003</text>\n",
       "<text text-anchor=\"start\" x=\"1541\" y=\"-394.8\" font-family=\"Helvetica,sans-Serif\" font-size=\"14.00\">gini = 0.32</text>\n",
       "<text text-anchor=\"start\" x=\"1532\" y=\"-379.8\" font-family=\"Helvetica,sans-Serif\" font-size=\"14.00\">samples = 10</text>\n",
       "<text text-anchor=\"start\" x=\"1533.5\" y=\"-364.8\" font-family=\"Helvetica,sans-Serif\" font-size=\"14.00\">value = [2, 8]</text>\n",
       "<text text-anchor=\"start\" x=\"1529\" y=\"-349.8\" font-family=\"Helvetica,sans-Serif\" font-size=\"14.00\">class = benign</text>\n",
       "</g>\n",
       "<!-- 33&#45;&gt;34 -->\n",
       "<g id=\"edge34\" class=\"edge\"><title>33&#45;&gt;34</title>\n",
       "<path fill=\"none\" stroke=\"black\" d=\"M1575.61,-460.907C1575.33,-452.558 1575.02,-443.671 1574.73,-435.02\"/>\n",
       "<polygon fill=\"black\" stroke=\"black\" points=\"1578.23,-434.895 1574.39,-425.021 1571.23,-435.135 1578.23,-434.895\"/>\n",
       "</g>\n",
       "<!-- 39 -->\n",
       "<g id=\"node40\" class=\"node\"><title>39</title>\n",
       "<path fill=\"#e78a47\" stroke=\"black\" d=\"M1862,-425C1862,-425 1704,-425 1704,-425 1698,-425 1692,-419 1692,-413 1692,-413 1692,-354 1692,-354 1692,-348 1698,-342 1704,-342 1704,-342 1862,-342 1862,-342 1868,-342 1874,-348 1874,-354 1874,-354 1874,-413 1874,-413 1874,-419 1868,-425 1862,-425\"/>\n",
       "<text text-anchor=\"start\" x=\"1700\" y=\"-409.8\" font-family=\"Helvetica,sans-Serif\" font-size=\"14.00\">worst compactness ≤ 0.475</text>\n",
       "<text text-anchor=\"start\" x=\"1747.5\" y=\"-394.8\" font-family=\"Helvetica,sans-Serif\" font-size=\"14.00\">gini = 0.124</text>\n",
       "<text text-anchor=\"start\" x=\"1742\" y=\"-379.8\" font-family=\"Helvetica,sans-Serif\" font-size=\"14.00\">samples = 15</text>\n",
       "<text text-anchor=\"start\" x=\"1740\" y=\"-364.8\" font-family=\"Helvetica,sans-Serif\" font-size=\"14.00\">value = [14, 1]</text>\n",
       "<text text-anchor=\"start\" x=\"1730\" y=\"-349.8\" font-family=\"Helvetica,sans-Serif\" font-size=\"14.00\">class = malignant</text>\n",
       "</g>\n",
       "<!-- 33&#45;&gt;39 -->\n",
       "<g id=\"edge39\" class=\"edge\"><title>33&#45;&gt;39</title>\n",
       "<path fill=\"none\" stroke=\"black\" d=\"M1648.47,-460.907C1666.05,-450.925 1684.98,-440.172 1702.93,-429.976\"/>\n",
       "<polygon fill=\"black\" stroke=\"black\" points=\"1704.69,-433.003 1711.66,-425.021 1701.23,-426.916 1704.69,-433.003\"/>\n",
       "</g>\n",
       "<!-- 35 -->\n",
       "<g id=\"node36\" class=\"node\"><title>35</title>\n",
       "<path fill=\"#f2c09c\" stroke=\"black\" d=\"M1511,-306C1511,-306 1359,-306 1359,-306 1353,-306 1347,-300 1347,-294 1347,-294 1347,-235 1347,-235 1347,-229 1353,-223 1359,-223 1359,-223 1511,-223 1511,-223 1517,-223 1523,-229 1523,-235 1523,-235 1523,-294 1523,-294 1523,-300 1517,-306 1511,-306\"/>\n",
       "<text text-anchor=\"start\" x=\"1355\" y=\"-290.8\" font-family=\"Helvetica,sans-Serif\" font-size=\"14.00\">worst smoothness ≤ 0.136</text>\n",
       "<text text-anchor=\"start\" x=\"1399.5\" y=\"-275.8\" font-family=\"Helvetica,sans-Serif\" font-size=\"14.00\">gini = 0.444</text>\n",
       "<text text-anchor=\"start\" x=\"1397.5\" y=\"-260.8\" font-family=\"Helvetica,sans-Serif\" font-size=\"14.00\">samples = 3</text>\n",
       "<text text-anchor=\"start\" x=\"1395.5\" y=\"-245.8\" font-family=\"Helvetica,sans-Serif\" font-size=\"14.00\">value = [2, 1]</text>\n",
       "<text text-anchor=\"start\" x=\"1382\" y=\"-230.8\" font-family=\"Helvetica,sans-Serif\" font-size=\"14.00\">class = malignant</text>\n",
       "</g>\n",
       "<!-- 34&#45;&gt;35 -->\n",
       "<g id=\"edge35\" class=\"edge\"><title>34&#45;&gt;35</title>\n",
       "<path fill=\"none\" stroke=\"black\" d=\"M1525.12,-341.907C1513.99,-332.469 1502.05,-322.343 1490.61,-312.649\"/>\n",
       "<polygon fill=\"black\" stroke=\"black\" points=\"1492.68,-309.818 1482.79,-306.021 1488.16,-315.157 1492.68,-309.818\"/>\n",
       "</g>\n",
       "<!-- 38 -->\n",
       "<g id=\"node39\" class=\"node\"><title>38</title>\n",
       "<path fill=\"#399de5\" stroke=\"black\" d=\"M1633,-298.5C1633,-298.5 1553,-298.5 1553,-298.5 1547,-298.5 1541,-292.5 1541,-286.5 1541,-286.5 1541,-242.5 1541,-242.5 1541,-236.5 1547,-230.5 1553,-230.5 1553,-230.5 1633,-230.5 1633,-230.5 1639,-230.5 1645,-236.5 1645,-242.5 1645,-242.5 1645,-286.5 1645,-286.5 1645,-292.5 1639,-298.5 1633,-298.5\"/>\n",
       "<text text-anchor=\"start\" x=\"1565\" y=\"-283.3\" font-family=\"Helvetica,sans-Serif\" font-size=\"14.00\">gini = 0.0</text>\n",
       "<text text-anchor=\"start\" x=\"1555.5\" y=\"-268.3\" font-family=\"Helvetica,sans-Serif\" font-size=\"14.00\">samples = 7</text>\n",
       "<text text-anchor=\"start\" x=\"1553.5\" y=\"-253.3\" font-family=\"Helvetica,sans-Serif\" font-size=\"14.00\">value = [0, 7]</text>\n",
       "<text text-anchor=\"start\" x=\"1549\" y=\"-238.3\" font-family=\"Helvetica,sans-Serif\" font-size=\"14.00\">class = benign</text>\n",
       "</g>\n",
       "<!-- 34&#45;&gt;38 -->\n",
       "<g id=\"edge38\" class=\"edge\"><title>34&#45;&gt;38</title>\n",
       "<path fill=\"none\" stroke=\"black\" d=\"M1579.94,-341.907C1581.77,-331.204 1583.75,-319.615 1585.6,-308.776\"/>\n",
       "<polygon fill=\"black\" stroke=\"black\" points=\"1589.1,-309.114 1587.33,-298.667 1582.2,-307.934 1589.1,-309.114\"/>\n",
       "</g>\n",
       "<!-- 36 -->\n",
       "<g id=\"node37\" class=\"node\"><title>36</title>\n",
       "<path fill=\"#399de5\" stroke=\"black\" d=\"M1409,-179.5C1409,-179.5 1329,-179.5 1329,-179.5 1323,-179.5 1317,-173.5 1317,-167.5 1317,-167.5 1317,-123.5 1317,-123.5 1317,-117.5 1323,-111.5 1329,-111.5 1329,-111.5 1409,-111.5 1409,-111.5 1415,-111.5 1421,-117.5 1421,-123.5 1421,-123.5 1421,-167.5 1421,-167.5 1421,-173.5 1415,-179.5 1409,-179.5\"/>\n",
       "<text text-anchor=\"start\" x=\"1341\" y=\"-164.3\" font-family=\"Helvetica,sans-Serif\" font-size=\"14.00\">gini = 0.0</text>\n",
       "<text text-anchor=\"start\" x=\"1331.5\" y=\"-149.3\" font-family=\"Helvetica,sans-Serif\" font-size=\"14.00\">samples = 1</text>\n",
       "<text text-anchor=\"start\" x=\"1329.5\" y=\"-134.3\" font-family=\"Helvetica,sans-Serif\" font-size=\"14.00\">value = [0, 1]</text>\n",
       "<text text-anchor=\"start\" x=\"1325\" y=\"-119.3\" font-family=\"Helvetica,sans-Serif\" font-size=\"14.00\">class = benign</text>\n",
       "</g>\n",
       "<!-- 35&#45;&gt;36 -->\n",
       "<g id=\"edge36\" class=\"edge\"><title>35&#45;&gt;36</title>\n",
       "<path fill=\"none\" stroke=\"black\" d=\"M1412.1,-222.907C1405.81,-211.763 1398.99,-199.658 1392.66,-188.439\"/>\n",
       "<polygon fill=\"black\" stroke=\"black\" points=\"1395.67,-186.657 1387.71,-179.667 1389.57,-190.096 1395.67,-186.657\"/>\n",
       "</g>\n",
       "<!-- 37 -->\n",
       "<g id=\"node38\" class=\"node\"><title>37</title>\n",
       "<path fill=\"#e58139\" stroke=\"black\" d=\"M1549,-179.5C1549,-179.5 1451,-179.5 1451,-179.5 1445,-179.5 1439,-173.5 1439,-167.5 1439,-167.5 1439,-123.5 1439,-123.5 1439,-117.5 1445,-111.5 1451,-111.5 1451,-111.5 1549,-111.5 1549,-111.5 1555,-111.5 1561,-117.5 1561,-123.5 1561,-123.5 1561,-167.5 1561,-167.5 1561,-173.5 1555,-179.5 1549,-179.5\"/>\n",
       "<text text-anchor=\"start\" x=\"1472\" y=\"-164.3\" font-family=\"Helvetica,sans-Serif\" font-size=\"14.00\">gini = 0.0</text>\n",
       "<text text-anchor=\"start\" x=\"1462.5\" y=\"-149.3\" font-family=\"Helvetica,sans-Serif\" font-size=\"14.00\">samples = 2</text>\n",
       "<text text-anchor=\"start\" x=\"1460.5\" y=\"-134.3\" font-family=\"Helvetica,sans-Serif\" font-size=\"14.00\">value = [2, 0]</text>\n",
       "<text text-anchor=\"start\" x=\"1447\" y=\"-119.3\" font-family=\"Helvetica,sans-Serif\" font-size=\"14.00\">class = malignant</text>\n",
       "</g>\n",
       "<!-- 35&#45;&gt;37 -->\n",
       "<g id=\"edge37\" class=\"edge\"><title>35&#45;&gt;37</title>\n",
       "<path fill=\"none\" stroke=\"black\" d=\"M1457.55,-222.907C1463.74,-211.763 1470.47,-199.658 1476.7,-188.439\"/>\n",
       "<polygon fill=\"black\" stroke=\"black\" points=\"1479.78,-190.108 1481.57,-179.667 1473.66,-186.709 1479.78,-190.108\"/>\n",
       "</g>\n",
       "<!-- 40 -->\n",
       "<g id=\"node41\" class=\"node\"><title>40</title>\n",
       "<path fill=\"#e58139\" stroke=\"black\" d=\"M1812,-298.5C1812,-298.5 1714,-298.5 1714,-298.5 1708,-298.5 1702,-292.5 1702,-286.5 1702,-286.5 1702,-242.5 1702,-242.5 1702,-236.5 1708,-230.5 1714,-230.5 1714,-230.5 1812,-230.5 1812,-230.5 1818,-230.5 1824,-236.5 1824,-242.5 1824,-242.5 1824,-286.5 1824,-286.5 1824,-292.5 1818,-298.5 1812,-298.5\"/>\n",
       "<text text-anchor=\"start\" x=\"1735\" y=\"-283.3\" font-family=\"Helvetica,sans-Serif\" font-size=\"14.00\">gini = 0.0</text>\n",
       "<text text-anchor=\"start\" x=\"1722\" y=\"-268.3\" font-family=\"Helvetica,sans-Serif\" font-size=\"14.00\">samples = 11</text>\n",
       "<text text-anchor=\"start\" x=\"1720\" y=\"-253.3\" font-family=\"Helvetica,sans-Serif\" font-size=\"14.00\">value = [11, 0]</text>\n",
       "<text text-anchor=\"start\" x=\"1710\" y=\"-238.3\" font-family=\"Helvetica,sans-Serif\" font-size=\"14.00\">class = malignant</text>\n",
       "</g>\n",
       "<!-- 39&#45;&gt;40 -->\n",
       "<g id=\"edge40\" class=\"edge\"><title>39&#45;&gt;40</title>\n",
       "<path fill=\"none\" stroke=\"black\" d=\"M1776.06,-341.907C1774.23,-331.204 1772.25,-319.615 1770.4,-308.776\"/>\n",
       "<polygon fill=\"black\" stroke=\"black\" points=\"1773.8,-307.934 1768.67,-298.667 1766.9,-309.114 1773.8,-307.934\"/>\n",
       "</g>\n",
       "<!-- 41 -->\n",
       "<g id=\"node42\" class=\"node\"><title>41</title>\n",
       "<path fill=\"#eeab7b\" stroke=\"black\" d=\"M1976,-306C1976,-306 1854,-306 1854,-306 1848,-306 1842,-300 1842,-294 1842,-294 1842,-235 1842,-235 1842,-229 1848,-223 1854,-223 1854,-223 1976,-223 1976,-223 1982,-223 1988,-229 1988,-235 1988,-235 1988,-294 1988,-294 1988,-300 1982,-306 1976,-306\"/>\n",
       "<text text-anchor=\"start\" x=\"1850\" y=\"-290.8\" font-family=\"Helvetica,sans-Serif\" font-size=\"14.00\">mean texture ≤ 18.84</text>\n",
       "<text text-anchor=\"start\" x=\"1879.5\" y=\"-275.8\" font-family=\"Helvetica,sans-Serif\" font-size=\"14.00\">gini = 0.375</text>\n",
       "<text text-anchor=\"start\" x=\"1877.5\" y=\"-260.8\" font-family=\"Helvetica,sans-Serif\" font-size=\"14.00\">samples = 4</text>\n",
       "<text text-anchor=\"start\" x=\"1875.5\" y=\"-245.8\" font-family=\"Helvetica,sans-Serif\" font-size=\"14.00\">value = [3, 1]</text>\n",
       "<text text-anchor=\"start\" x=\"1862\" y=\"-230.8\" font-family=\"Helvetica,sans-Serif\" font-size=\"14.00\">class = malignant</text>\n",
       "</g>\n",
       "<!-- 39&#45;&gt;41 -->\n",
       "<g id=\"edge41\" class=\"edge\"><title>39&#45;&gt;41</title>\n",
       "<path fill=\"none\" stroke=\"black\" d=\"M1828.8,-341.907C1839.34,-332.56 1850.65,-322.538 1861.49,-312.929\"/>\n",
       "<polygon fill=\"black\" stroke=\"black\" points=\"1864.12,-315.273 1869.28,-306.021 1859.48,-310.035 1864.12,-315.273\"/>\n",
       "</g>\n",
       "<!-- 42 -->\n",
       "<g id=\"node43\" class=\"node\"><title>42</title>\n",
       "<path fill=\"#399de5\" stroke=\"black\" d=\"M1889,-179.5C1889,-179.5 1809,-179.5 1809,-179.5 1803,-179.5 1797,-173.5 1797,-167.5 1797,-167.5 1797,-123.5 1797,-123.5 1797,-117.5 1803,-111.5 1809,-111.5 1809,-111.5 1889,-111.5 1889,-111.5 1895,-111.5 1901,-117.5 1901,-123.5 1901,-123.5 1901,-167.5 1901,-167.5 1901,-173.5 1895,-179.5 1889,-179.5\"/>\n",
       "<text text-anchor=\"start\" x=\"1821\" y=\"-164.3\" font-family=\"Helvetica,sans-Serif\" font-size=\"14.00\">gini = 0.0</text>\n",
       "<text text-anchor=\"start\" x=\"1811.5\" y=\"-149.3\" font-family=\"Helvetica,sans-Serif\" font-size=\"14.00\">samples = 1</text>\n",
       "<text text-anchor=\"start\" x=\"1809.5\" y=\"-134.3\" font-family=\"Helvetica,sans-Serif\" font-size=\"14.00\">value = [0, 1]</text>\n",
       "<text text-anchor=\"start\" x=\"1805\" y=\"-119.3\" font-family=\"Helvetica,sans-Serif\" font-size=\"14.00\">class = benign</text>\n",
       "</g>\n",
       "<!-- 41&#45;&gt;42 -->\n",
       "<g id=\"edge42\" class=\"edge\"><title>41&#45;&gt;42</title>\n",
       "<path fill=\"none\" stroke=\"black\" d=\"M1892.1,-222.907C1885.81,-211.763 1878.99,-199.658 1872.66,-188.439\"/>\n",
       "<polygon fill=\"black\" stroke=\"black\" points=\"1875.67,-186.657 1867.71,-179.667 1869.57,-190.096 1875.67,-186.657\"/>\n",
       "</g>\n",
       "<!-- 43 -->\n",
       "<g id=\"node44\" class=\"node\"><title>43</title>\n",
       "<path fill=\"#e58139\" stroke=\"black\" d=\"M2029,-179.5C2029,-179.5 1931,-179.5 1931,-179.5 1925,-179.5 1919,-173.5 1919,-167.5 1919,-167.5 1919,-123.5 1919,-123.5 1919,-117.5 1925,-111.5 1931,-111.5 1931,-111.5 2029,-111.5 2029,-111.5 2035,-111.5 2041,-117.5 2041,-123.5 2041,-123.5 2041,-167.5 2041,-167.5 2041,-173.5 2035,-179.5 2029,-179.5\"/>\n",
       "<text text-anchor=\"start\" x=\"1952\" y=\"-164.3\" font-family=\"Helvetica,sans-Serif\" font-size=\"14.00\">gini = 0.0</text>\n",
       "<text text-anchor=\"start\" x=\"1942.5\" y=\"-149.3\" font-family=\"Helvetica,sans-Serif\" font-size=\"14.00\">samples = 3</text>\n",
       "<text text-anchor=\"start\" x=\"1940.5\" y=\"-134.3\" font-family=\"Helvetica,sans-Serif\" font-size=\"14.00\">value = [3, 0]</text>\n",
       "<text text-anchor=\"start\" x=\"1927\" y=\"-119.3\" font-family=\"Helvetica,sans-Serif\" font-size=\"14.00\">class = malignant</text>\n",
       "</g>\n",
       "<!-- 41&#45;&gt;43 -->\n",
       "<g id=\"edge43\" class=\"edge\"><title>41&#45;&gt;43</title>\n",
       "<path fill=\"none\" stroke=\"black\" d=\"M1937.55,-222.907C1943.74,-211.763 1950.47,-199.658 1956.7,-188.439\"/>\n",
       "<polygon fill=\"black\" stroke=\"black\" points=\"1959.78,-190.108 1961.57,-179.667 1953.66,-186.709 1959.78,-190.108\"/>\n",
       "</g>\n",
       "</g>\n",
       "</svg>\n"
      ],
      "text/plain": [
       "<graphviz.files.Source at 0x7f6f24cb47d0>"
      ]
     },
     "execution_count": 35,
     "metadata": {},
     "output_type": "execute_result"
    }
   ],
   "source": [
    "dot_data = export_graphviz(clf_grid.best_estimator_, out_file=None, \n",
    "                         feature_names=breast.feature_names,  \n",
    "                         class_names=breast.target_names,  \n",
    "                         filled=True, rounded=True,  \n",
    "                         special_characters=True)  \n",
    "graph = graphviz.Source(dot_data)  \n",
    "graph"
   ]
  },
  {
   "cell_type": "markdown",
   "metadata": {
    "colab_type": "text",
    "id": "ScvHV4yefNrz",
    "lang": "pl"
   },
   "source": [
    "**Krok 6:** Czas na zabawę! Spróbuj dopasować inne parametry i poprawić powyższy wynik."
   ]
  }
 ],
 "metadata": {
  "accelerator": "GPU",
  "colab": {
   "collapsed_sections": [],
   "name": "Classification_trees.ipynb",
   "provenance": [],
   "version": "0.3.2"
  },
  "kernelspec": {
   "display_name": "Python 3",
   "language": "python",
   "name": "python3"
  },
  "language_info": {
   "codemirror_mode": {
    "name": "ipython",
    "version": 3
   },
   "file_extension": ".py",
   "mimetype": "text/x-python",
   "name": "python",
   "nbconvert_exporter": "python",
   "pygments_lexer": "ipython3",
   "version": "3.7.4"
  },
  "latex_envs": {
   "LaTeX_envs_menu_present": true,
   "autoclose": false,
   "autocomplete": true,
   "bibliofile": "biblio.bib",
   "cite_by": "apalike",
   "current_citInitial": 1,
   "eqLabelWithNumbers": true,
   "eqNumInitial": 1,
   "hotkeys": {
    "equation": "Ctrl-E",
    "itemize": "Ctrl-I"
   },
   "labels_anchors": false,
   "latex_user_defs": false,
   "report_style_numbering": false,
   "user_envs_cfg": false
  },
  "nbTranslate": {
   "displayLangs": [
    "*"
   ],
   "hotkey": "alt-t",
   "langInMainMenu": true,
   "sourceLang": "pl",
   "targetLang": "en",
   "useGoogleTranslate": true
  }
 },
 "nbformat": 4,
 "nbformat_minor": 1
}
