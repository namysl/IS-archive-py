{
 "cells": [
  {
   "cell_type": "markdown",
   "metadata": {},
   "source": [
    "# Podstawy Sztucznej Inteligencji 2020/2021\n"
   ]
  },
  {
   "cell_type": "markdown",
   "metadata": {},
   "source": [
    "Prosze uzupelnic kod tam gdzie znajduje napis `YOUR CODE HERE` lub 'YOUR ANSWER HERE'.\n",
    "\n",
    "Warto zresetowac 'kernel' i sprawdzic czy caly notatnik uruchamiany od poczatku nie daje bledow."
   ]
  },
  {
   "cell_type": "markdown",
   "metadata": {},
   "source": [
    "---"
   ]
  },
  {
   "cell_type": "markdown",
   "metadata": {
    "lang": "pl"
   },
   "source": [
    "# Warstwowa sieć neuronowa\n",
    "\n",
    "Rozważmy 3 warstwową sieć typu \"fully connected\".\n",
    "Niech liczba neuronów w warstwach wynosi \n",
    "\n",
    " - 3 na wejściu\n",
    " - 4 na pierwszej warstwie\n",
    " - 2 na drugiej warstwie\n",
    " - 3 na ostatnie warstwie (czyli wyjście jest 3 liczbami)\n",
    " \n",
    " \n",
    "\n",
    "$$\n",
    "\\sigma(x) = \\frac{1}{1+e^{-x}}\n",
    "$$\n",
    "\n",
    " - pierwsza warstwa: $y_1 = \\sigma( X\\cdot W^1 + b^1)$\n",
    " - druga warstwa: $y_2 = \\sigma( y_1\\cdot W^2 + b^2)$\n",
    " - trzecia warstwa: $y_3 = \\sigma( y_2\\cdot W^3 + b^3)$\n",
    " \n",
    " \n",
    "Zaimplementuj powyższe obliczenia używając zapisu macierzowego w numpy:\n",
    "\n",
    "`np.dot(x,W)+b` - odpowiada macierzowemu mnożeniu:  $x\\cdot W+b$, gdzie\n",
    "\n",
    " - $x$ jest wejściem - macierzą  wymiarze (shape) $n_{examples}\\times n_{inputs} $ \n",
    " - $W$ jest macierzą wag, każda kolumny odpowiadają neuronom: $n_{inputs} \\times n_{neurons}$\n",
    " - $b$ to bias, wektor o rozmiarze $n_{neurons}$ (po jednym dla każdego neuronu).\n",
    " \n",
    " \n"
   ]
  },
  {
   "cell_type": "code",
   "execution_count": 10,
   "metadata": {
    "deletable": false,
    "editable": false,
    "nbgrader": {
     "cell_type": "code",
     "checksum": "2f5380ab3936b15bf944dcc0b3eefb70",
     "grade": false,
     "grade_id": "cell-e43a060a43e6cb39",
     "locked": true,
     "schema_version": 3,
     "solution": false
    }
   },
   "outputs": [],
   "source": [
    "import numpy as np "
   ]
  },
  {
   "cell_type": "markdown",
   "metadata": {
    "lang": "pl"
   },
   "source": [
    "### Zaimplementuj funkcję  aktywacji\n",
    "$$\n",
    "\\sigma(x) = \\frac{1}{1+e^{-x}}\n",
    "$$"
   ]
  },
  {
   "cell_type": "code",
   "execution_count": 11,
   "metadata": {
    "deletable": false,
    "nbgrader": {
     "cell_type": "code",
     "checksum": "c02a6d7c6d77e4dee1b0569f6c256fb5",
     "grade": false,
     "grade_id": "cell-94e1bd122cf3dccc",
     "locked": false,
     "schema_version": 3,
     "solution": true
    }
   },
   "outputs": [],
   "source": [
    "def s(x):\n",
    "    return 1 / (1 + (np.e)**-x) \n",
    "\n",
    "#np.exp(-x)"
   ]
  },
  {
   "cell_type": "code",
   "execution_count": 12,
   "metadata": {
    "deletable": false,
    "editable": false,
    "nbgrader": {
     "cell_type": "code",
     "checksum": "e3b9d8603a9c487bbb407df5329ad4a9",
     "grade": true,
     "grade_id": "cell-0e836b6facb680cc",
     "locked": true,
     "points": 1,
     "schema_version": 3,
     "solution": false
    }
   },
   "outputs": [],
   "source": [
    "np.testing.assert_allclose(s(1.23),\n",
    "                           0.773818574,rtol=1e-4)"
   ]
  },
  {
   "cell_type": "code",
   "execution_count": 13,
   "metadata": {
    "deletable": false,
    "editable": false,
    "nbgrader": {
     "cell_type": "code",
     "checksum": "40b3600e88831c2ed07b6080c208a5e3",
     "grade": true,
     "grade_id": "cell-b616ad0931f8ca71",
     "locked": true,
     "points": 1,
     "schema_version": 3,
     "solution": false
    }
   },
   "outputs": [],
   "source": [
    "np.testing.assert_allclose(s(np.array([1,2,3])),\n",
    "                           [0.73105858, 0.88079708, 0.95257413],rtol=1e-4)"
   ]
  },
  {
   "cell_type": "markdown",
   "metadata": {
    "lang": "pl"
   },
   "source": [
    "### Zainicjalizuj wagi\n",
    "\n",
    "Przypisz wagom z i-tej warstwy takie same wartości równe $0.1\\cdot i$   a bias-owi $0.2\\cdot i$."
   ]
  },
  {
   "cell_type": "code",
   "execution_count": 17,
   "metadata": {
    "deletable": false,
    "nbgrader": {
     "cell_type": "code",
     "checksum": "836ab463d4d4aecc7db76be99a8ba62f",
     "grade": false,
     "grade_id": "cell-846e36eb9d573cb2",
     "locked": false,
     "schema_version": 3,
     "solution": true
    }
   },
   "outputs": [],
   "source": [
    "W1, b1 = np.ones((3, 4)) * 0.1, np.ones(4) * 0.2 \n",
    "W2, b2 = np.ones((4, 2)) * 0.2, np.ones(2) * 0.4\n",
    "W3, b3 = np.ones((2, 3)) * 0.3, np.ones(3) * 0.6"
   ]
  },
  {
   "cell_type": "code",
   "execution_count": 18,
   "metadata": {
    "deletable": false,
    "editable": false,
    "nbgrader": {
     "cell_type": "code",
     "checksum": "017da7e30657c9a47ee82ea03a36d460",
     "grade": true,
     "grade_id": "cell-6a4368616b5b59ee",
     "locked": true,
     "points": 1,
     "schema_version": 3,
     "solution": false
    }
   },
   "outputs": [],
   "source": [
    "assert W1.shape == (3,4)\n",
    "assert W2.shape == (4,2)\n",
    "assert W3.shape == (2,3)\n",
    "assert b1.shape[-1] == 4\n",
    "assert b2.shape[-1] == 2\n",
    "assert b3.shape[-1] == 3"
   ]
  },
  {
   "cell_type": "markdown",
   "metadata": {
    "deletable": false,
    "editable": false,
    "lang": "pl",
    "nbgrader": {
     "cell_type": "markdown",
     "checksum": "414099efe005f9bfdc7971e83d5f21e3",
     "grade": false,
     "grade_id": "cell-c44c64819f797763",
     "locked": true,
     "schema_version": 3,
     "solution": false
    }
   },
   "source": [
    "Na wejsciu mamy zestaw dwóch przykładów.\n",
    "Implementacja powinna przetworzyć poprawnie następujące dane:\n",
    "    "
   ]
  },
  {
   "cell_type": "code",
   "execution_count": 19,
   "metadata": {
    "deletable": false,
    "editable": false,
    "nbgrader": {
     "cell_type": "code",
     "checksum": "1b78226c88ce21a4ac61071bf213c62d",
     "grade": false,
     "grade_id": "cell-1b386bdbeff790d8",
     "locked": true,
     "schema_version": 3,
     "solution": false
    }
   },
   "outputs": [],
   "source": [
    "X = np.array([ [1,2,3],[1,0,0]])"
   ]
  },
  {
   "cell_type": "code",
   "execution_count": 20,
   "metadata": {},
   "outputs": [
    {
     "name": "stdout",
     "output_type": "stream",
     "text": [
      "(2, 3)\n"
     ]
    }
   ],
   "source": [
    "print(X.shape)"
   ]
  },
  {
   "cell_type": "markdown",
   "metadata": {
    "deletable": false,
    "editable": false,
    "lang": "pl",
    "nbgrader": {
     "cell_type": "markdown",
     "checksum": "34675e9f63fa049e799e6cdc6bbf2327",
     "grade": false,
     "grade_id": "cell-ed2140a811d9eeb2",
     "locked": true,
     "schema_version": 3,
     "solution": false,
     "task": false
    }
   },
   "source": [
    "### Zaimplementuj sieć\n"
   ]
  },
  {
   "cell_type": "code",
   "execution_count": 24,
   "metadata": {
    "deletable": false,
    "nbgrader": {
     "cell_type": "code",
     "checksum": "ff10b7c0fb77fc996bf26b054cf8011e",
     "grade": false,
     "grade_id": "cell-7eaeccfa6742b05b",
     "locked": false,
     "schema_version": 3,
     "solution": true
    }
   },
   "outputs": [],
   "source": [
    "y1 = s(np.dot(X, W1) + b1)\n",
    "y2 = s(np.dot(y1, W2) + b2)\n",
    "y3 = s(np.dot(y2, W3) + b3)"
   ]
  },
  {
   "cell_type": "code",
   "execution_count": 25,
   "metadata": {
    "deletable": false,
    "editable": false,
    "nbgrader": {
     "cell_type": "code",
     "checksum": "aab3182002b1056cbd5bfdc783910bdb",
     "grade": true,
     "grade_id": "cell-39474c51afdda396",
     "locked": true,
     "points": 1,
     "schema_version": 3,
     "solution": false
    }
   },
   "outputs": [
    {
     "data": {
      "text/plain": [
       "True"
      ]
     },
     "execution_count": 25,
     "metadata": {},
     "output_type": "execute_result"
    }
   ],
   "source": [
    "np.testing.assert_allclose(y3,[[0.73747926, 0.73747926, 0.73747926],\n",
    "       [0.73527256, 0.73527256, 0.73527256]],rtol=1e-4)\n",
    "\n",
    "y2.shape == (2,2)\n",
    "y1.shape == (2,4)"
   ]
  }
 ],
 "metadata": {
  "kernelspec": {
   "display_name": "Python 3",
   "language": "python",
   "name": "python3"
  },
  "language_info": {
   "codemirror_mode": {
    "name": "ipython",
    "version": 3
   },
   "file_extension": ".py",
   "mimetype": "text/x-python",
   "name": "python",
   "nbconvert_exporter": "python",
   "pygments_lexer": "ipython3",
   "version": "3.7.4"
  },
  "latex_envs": {
   "LaTeX_envs_menu_present": true,
   "autoclose": false,
   "autocomplete": true,
   "bibliofile": "biblio.bib",
   "cite_by": "apalike",
   "current_citInitial": 1,
   "eqLabelWithNumbers": true,
   "eqNumInitial": 1,
   "hotkeys": {
    "equation": "Ctrl-E",
    "itemize": "Ctrl-I"
   },
   "labels_anchors": false,
   "latex_user_defs": false,
   "report_style_numbering": false,
   "user_envs_cfg": false
  },
  "nbTranslate": {
   "displayLangs": [
    "pl",
    "en"
   ],
   "hotkey": "alt-t",
   "langInMainMenu": true,
   "sourceLang": "pl",
   "targetLang": "en",
   "useGoogleTranslate": true
  }
 },
 "nbformat": 4,
 "nbformat_minor": 2
}
