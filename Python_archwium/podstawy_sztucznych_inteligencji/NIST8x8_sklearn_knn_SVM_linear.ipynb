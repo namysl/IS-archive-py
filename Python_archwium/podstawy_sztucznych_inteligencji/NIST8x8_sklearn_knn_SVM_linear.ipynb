{
 "cells": [
  {
   "cell_type": "markdown",
   "metadata": {},
   "source": [
    "# Podstawy Sztucznej Inteligencji 2020/2021\n"
   ]
  },
  {
   "cell_type": "markdown",
   "metadata": {},
   "source": [
    "Prosze uzupelnic kod tam gdzie znajduje napis `YOUR CODE HERE` lub 'YOUR ANSWER HERE'.\n",
    "\n",
    "Warto zresetowac 'kernel' i sprawdzic czy caly notatnik uruchamiany od poczatku nie daje bledow."
   ]
  },
  {
   "cell_type": "markdown",
   "metadata": {},
   "source": [
    "---"
   ]
  },
  {
   "cell_type": "markdown",
   "metadata": {
    "deletable": false,
    "editable": false,
    "lang": "pl",
    "nbgrader": {
     "cell_type": "markdown",
     "checksum": "89b88289f865272392e5391315699f4f",
     "grade": false,
     "grade_id": "cell-2e089b2ee0415971",
     "locked": true,
     "schema_version": 3,
     "solution": false
    }
   },
   "source": [
    "##  Optical recognition of handwritten digits dataset\n",
    "\n",
    " jest zbiorem ręcznie pisanych cyfr."
   ]
  },
  {
   "cell_type": "code",
   "execution_count": 2,
   "metadata": {
    "deletable": false,
    "editable": false,
    "nbgrader": {
     "cell_type": "code",
     "checksum": "9139a6566add1f32a53d63c960c474a8",
     "grade": false,
     "grade_id": "cell-ea1f9d9d3b13d896",
     "locked": true,
     "schema_version": 3,
     "solution": false
    }
   },
   "outputs": [],
   "source": [
    "%matplotlib inline \n",
    "import matplotlib.pyplot as plt\n",
    "import numpy as np"
   ]
  },
  {
   "cell_type": "code",
   "execution_count": 3,
   "metadata": {
    "deletable": false,
    "editable": false,
    "nbgrader": {
     "cell_type": "code",
     "checksum": "2b87ae34148ef28f1b5bdfe3922265ad",
     "grade": false,
     "grade_id": "cell-e517b930abf40b4a",
     "locked": true,
     "schema_version": 3,
     "solution": false
    }
   },
   "outputs": [],
   "source": [
    "from __future__ import print_function\n",
    "from sklearn.model_selection import train_test_split\n",
    "from sklearn.neighbors import KNeighborsClassifier\n",
    "from sklearn import datasets"
   ]
  },
  {
   "cell_type": "markdown",
   "metadata": {
    "deletable": false,
    "editable": false,
    "lang": "pl",
    "nbgrader": {
     "cell_type": "markdown",
     "checksum": "95e002f426ee64d51877451481e3b56f",
     "grade": false,
     "grade_id": "cell-33bdab00fe7e4ddf",
     "locked": true,
     "schema_version": 3,
     "solution": false
    }
   },
   "source": [
    "### Wczytanie danych \n",
    "\n",
    "Jest wiele sposobów załadowania danych mnist do pamięci. Możemy skorzystać z funkcji `fetch_mldata`. Ważne jest by nie umieszczać danych w katalogu domowym. Możemy użyc katalogu `/tmp`. Ponieważ potrzebujemy danych tyko do odczytu, wystarczy jedna kopia dla wszystkich."
   ]
  },
  {
   "cell_type": "code",
   "execution_count": 4,
   "metadata": {},
   "outputs": [],
   "source": [
    "from  sklearn import datasets"
   ]
  },
  {
   "cell_type": "code",
   "execution_count": 5,
   "metadata": {},
   "outputs": [],
   "source": [
    "nist = datasets.load_digits()"
   ]
  },
  {
   "cell_type": "code",
   "execution_count": 6,
   "metadata": {},
   "outputs": [],
   "source": [
    "#print(nist.DESCR)"
   ]
  },
  {
   "cell_type": "code",
   "execution_count": 7,
   "metadata": {},
   "outputs": [
    {
     "data": {
      "text/plain": [
       "<matplotlib.image.AxesImage at 0x7fd1b31abad0>"
      ]
     },
     "execution_count": 7,
     "metadata": {},
     "output_type": "execute_result"
    },
    {
     "data": {
      "image/png": "[encoded data removed]",
      "text/plain": [
       "<Figure size 432x288 with 1 Axes>"
      ]
     },
     "metadata": {
      "needs_background": "light"
     },
     "output_type": "display_data"
    }
   ],
   "source": [
    "plt.imshow(nist.data[13].reshape(8, 8))"
   ]
  },
  {
   "cell_type": "markdown",
   "metadata": {
    "deletable": false,
    "editable": false,
    "lang": "pl",
    "nbgrader": {
     "cell_type": "markdown",
     "checksum": "b219e99fc1b8b2f0efeceeac063a2b8e",
     "grade": false,
     "grade_id": "cell-74f80bfef728e43d",
     "locked": true,
     "schema_version": 3,
     "solution": false
    }
   },
   "source": [
    "### Zadanie 1.\n",
    "\n",
    "Dokonaj podziału danych i etykiet na dwa zbiory - trenujący i testowy o rozmiarach w stosunkiu 5:1."
   ]
  },
  {
   "cell_type": "code",
   "execution_count": 8,
   "metadata": {},
   "outputs": [],
   "source": [
    "# print(nist.data)\n",
    "# print(nist.images)"
   ]
  },
  {
   "cell_type": "code",
   "execution_count": 9,
   "metadata": {
    "deletable": false,
    "nbgrader": {
     "cell_type": "code",
     "checksum": "b112781931032af7e5487774950de615",
     "grade": false,
     "grade_id": "cell-cd77c5379e197eeb",
     "locked": false,
     "schema_version": 3,
     "solution": true
    }
   },
   "outputs": [
    {
     "name": "stdout",
     "output_type": "stream",
     "text": [
      "float32\n",
      "(64,)\n",
      "1797\n"
     ]
    }
   ],
   "source": [
    "x = nist.data.astype(np.float32)\n",
    "y = nist.target\n",
    "\n",
    "train, test, train_labels, test_labels = train_test_split(x, y, test_size=0.2) # 1/5\n",
    "\n",
    "print(train[123].dtype)\n",
    "print(train[123].shape)\n",
    "\n",
    "print(len(y))"
   ]
  },
  {
   "cell_type": "code",
   "execution_count": 10,
   "metadata": {
    "deletable": false,
    "editable": false,
    "nbgrader": {
     "cell_type": "code",
     "checksum": "49dbb62633265a49087b4f38657fb39d",
     "grade": true,
     "grade_id": "cell-e5630b6e295fa2ab",
     "locked": true,
     "points": 1,
     "schema_version": 3,
     "solution": false
    }
   },
   "outputs": [],
   "source": [
    "assert train.shape == (1437, 64)\n",
    "assert test.shape ==  (360, 64)\n",
    "assert train_labels.shape == (1437,)\n",
    "assert test_labels.shape == (360,)\n",
    "assert train[123].dtype == np.float32\n",
    "assert train[123].shape == (64,)"
   ]
  },
  {
   "cell_type": "markdown",
   "metadata": {
    "deletable": false,
    "editable": false,
    "lang": "pl",
    "nbgrader": {
     "cell_type": "markdown",
     "checksum": "efdebddfd4a91ecb7bc66efced82bfe8",
     "grade": false,
     "grade_id": "cell-74f80bfef728e43a",
     "locked": true,
     "schema_version": 3,
     "solution": false
    }
   },
   "source": [
    "### Zadanie 2.\n",
    "\n",
    "Wyświetl dla losowego przykładu etykietę oraz cyfrę. Zauważ, że cyfry są obrazkami `8x8`."
   ]
  },
  {
   "cell_type": "code",
   "execution_count": 11,
   "metadata": {
    "deletable": false,
    "nbgrader": {
     "cell_type": "code",
     "checksum": "17633d9bc7e15e192ea40b0f08b27434",
     "grade": true,
     "grade_id": "cell-bdc38063dae2d5d4",
     "locked": false,
     "points": 0,
     "schema_version": 3,
     "solution": true
    }
   },
   "outputs": [
    {
     "name": "stdout",
     "output_type": "stream",
     "text": [
      "indeks: 1489\n",
      "etykieta: 5\n"
     ]
    },
    {
     "data": {
      "image/png": "[encoded data removed]",
      "text/plain": [
       "<Figure size 432x288 with 1 Axes>"
      ]
     },
     "metadata": {
      "needs_background": "light"
     },
     "output_type": "display_data"
    }
   ],
   "source": [
    "import random\n",
    "rndm = random.randint(0, len(y)+1)\n",
    "\n",
    "print('indeks:', rndm)\n",
    "print('etykieta:', nist.target[rndm])\n",
    "\n",
    "plt.imshow(nist.images[rndm])\n",
    "plt.show() "
   ]
  },
  {
   "cell_type": "code",
   "execution_count": 12,
   "metadata": {},
   "outputs": [
    {
     "name": "stdout",
     "output_type": "stream",
     "text": [
      "6\n"
     ]
    },
    {
     "data": {
      "text/plain": [
       "<matplotlib.image.AxesImage at 0x7fd1b2d9e3d0>"
      ]
     },
     "execution_count": 12,
     "metadata": {},
     "output_type": "execute_result"
    },
    {
     "data": {
      "image/png": "[encoded data removed]",
      "text/plain": [
       "<Figure size 432x288 with 1 Axes>"
      ]
     },
     "metadata": {
      "needs_background": "light"
     },
     "output_type": "display_data"
    }
   ],
   "source": [
    "i = random.randint(0, len(test))\n",
    "\n",
    "print(test_labels[i])\n",
    "plt.imshow(test[i].reshape(8, 8))"
   ]
  },
  {
   "cell_type": "markdown",
   "metadata": {},
   "source": [
    "## NIST\n",
    "\n",
    "Wykonaj klasyfikacje klasyfikatorem liniowym.\n",
    "Jedną z możliwoście jest "
   ]
  },
  {
   "cell_type": "code",
   "execution_count": 13,
   "metadata": {
    "deletable": false,
    "nbgrader": {
     "cell_type": "code",
     "checksum": "6cc45dfe46bafbb908eec03a8505386c",
     "grade": false,
     "grade_id": "cell-7b003187047a4b4f",
     "locked": false,
     "schema_version": 3,
     "solution": true,
     "task": false
    }
   },
   "outputs": [
    {
     "name": "stderr",
     "output_type": "stream",
     "text": [
      "/opt/conda/lib/python3.7/site-packages/sklearn/linear_model/logistic.py:432: FutureWarning: Default solver will be changed to 'lbfgs' in 0.22. Specify a solver to silence this warning.\n",
      "  FutureWarning)\n",
      "/opt/conda/lib/python3.7/site-packages/sklearn/linear_model/logistic.py:469: FutureWarning: Default multi_class will be changed to 'auto' in 0.22. Specify the multi_class option to silence this warning.\n",
      "  \"this warning.\", FutureWarning)\n"
     ]
    },
    {
     "name": "stdout",
     "output_type": "stream",
     "text": [
      "(10, 64)\n",
      "(10,)\n"
     ]
    },
    {
     "data": {
      "text/plain": [
       "0.95"
      ]
     },
     "execution_count": 13,
     "metadata": {},
     "output_type": "execute_result"
    }
   ],
   "source": [
    "from sklearn.linear_model import LogisticRegression\n",
    "\n",
    "clf = LogisticRegression(random_state=0).fit(train, train_labels)\n",
    "\n",
    "print(clf.coef_.shape)\n",
    "print(clf.intercept_.shape)\n",
    "clf.score(test, test_labels)\n"
   ]
  },
  {
   "cell_type": "code",
   "execution_count": 14,
   "metadata": {
    "deletable": false,
    "editable": false,
    "nbgrader": {
     "cell_type": "code",
     "checksum": "330c044f94b38b8d5095a4b3f2b680b7",
     "grade": true,
     "grade_id": "cell-edb530513ffe82fb",
     "locked": true,
     "points": 2,
     "schema_version": 3,
     "solution": false,
     "task": false
    }
   },
   "outputs": [
    {
     "ename": "AssertionError",
     "evalue": "",
     "output_type": "error",
     "traceback": [
      "\u001b[0;31m---------------------------------------------------------------------------\u001b[0m",
      "\u001b[0;31mAssertionError\u001b[0m                            Traceback (most recent call last)",
      "\u001b[0;32m<ipython-input-14-4942962792a3>\u001b[0m in \u001b[0;36m<module>\u001b[0;34m\u001b[0m\n\u001b[1;32m      1\u001b[0m \u001b[0;32massert\u001b[0m \u001b[0mclf\u001b[0m\u001b[0;34m.\u001b[0m\u001b[0mcoef_\u001b[0m\u001b[0;34m.\u001b[0m\u001b[0mshape\u001b[0m \u001b[0;34m==\u001b[0m \u001b[0;34m(\u001b[0m\u001b[0;36m10\u001b[0m\u001b[0;34m,\u001b[0m\u001b[0;36m64\u001b[0m\u001b[0;34m)\u001b[0m\u001b[0;34m\u001b[0m\u001b[0;34m\u001b[0m\u001b[0m\n\u001b[1;32m      2\u001b[0m \u001b[0;32massert\u001b[0m \u001b[0mclf\u001b[0m\u001b[0;34m.\u001b[0m\u001b[0mintercept_\u001b[0m\u001b[0;34m.\u001b[0m\u001b[0mshape\u001b[0m \u001b[0;34m==\u001b[0m \u001b[0;34m(\u001b[0m\u001b[0;36m10\u001b[0m\u001b[0;34m,\u001b[0m\u001b[0;34m)\u001b[0m\u001b[0;34m\u001b[0m\u001b[0;34m\u001b[0m\u001b[0m\n\u001b[0;32m----> 3\u001b[0;31m \u001b[0;32massert\u001b[0m \u001b[0mclf\u001b[0m\u001b[0;34m.\u001b[0m\u001b[0mscore\u001b[0m\u001b[0;34m(\u001b[0m\u001b[0mtest\u001b[0m\u001b[0;34m,\u001b[0m\u001b[0mtest_labels\u001b[0m\u001b[0;34m)\u001b[0m \u001b[0;34m>\u001b[0m \u001b[0;36m0.95\u001b[0m\u001b[0;34m\u001b[0m\u001b[0;34m\u001b[0m\u001b[0m\n\u001b[0m\u001b[1;32m      4\u001b[0m \u001b[0;32massert\u001b[0m \u001b[0mclf\u001b[0m\u001b[0;34m.\u001b[0m\u001b[0mscore\u001b[0m\u001b[0;34m(\u001b[0m\u001b[0mtest\u001b[0m\u001b[0;34m,\u001b[0m\u001b[0mtest_labels\u001b[0m\u001b[0;34m)\u001b[0m \u001b[0;34m<\u001b[0m \u001b[0;36m0.98\u001b[0m\u001b[0;34m\u001b[0m\u001b[0;34m\u001b[0m\u001b[0m\n",
      "\u001b[0;31mAssertionError\u001b[0m: "
     ]
    }
   ],
   "source": [
    "assert clf.coef_.shape == (10,64)\n",
    "assert clf.intercept_.shape == (10,)\n",
    "assert clf.score(test,test_labels) > 0.95\n",
    "assert clf.score(test,test_labels) < 0.98"
   ]
  },
  {
   "cell_type": "markdown",
   "metadata": {
    "deletable": false,
    "editable": false,
    "lang": "pl",
    "nbgrader": {
     "cell_type": "markdown",
     "checksum": "924450ca72033474f6d2e45f81b65b29",
     "grade": false,
     "grade_id": "cell-c3eb872ed5625b37",
     "locked": true,
     "schema_version": 3,
     "solution": false
    }
   },
   "source": [
    "## NIST z klasyfikatorem kNN\n",
    "\n",
    "Korzystając z pakietu `sklearn` poklasyfikuj dane MNIST.\n"
   ]
  },
  {
   "cell_type": "code",
   "execution_count": 15,
   "metadata": {
    "deletable": false,
    "nbgrader": {
     "cell_type": "code",
     "checksum": "cdbacb2f5864d328f4a199992d7732be",
     "grade": true,
     "grade_id": "cell-49a9b00dc1c1328e",
     "locked": false,
     "points": 2,
     "schema_version": 3,
     "solution": true
    }
   },
   "outputs": [
    {
     "data": {
      "text/plain": [
       "0.9777777777777777"
      ]
     },
     "execution_count": 15,
     "metadata": {},
     "output_type": "execute_result"
    }
   ],
   "source": [
    "from sklearn.neighbors import KNeighborsClassifier\n",
    "\n",
    "knn = KNeighborsClassifier(n_neighbors=5).fit(train, train_labels)\n",
    "\n",
    "knn.score(test, test_labels)"
   ]
  },
  {
   "cell_type": "markdown",
   "metadata": {
    "deletable": false,
    "editable": false,
    "lang": "pl",
    "nbgrader": {
     "cell_type": "markdown",
     "checksum": "7db947074e4bbbc20e3ecf5f26252dde",
     "grade": false,
     "grade_id": "cell-6315fa167b48e848",
     "locked": true,
     "schema_version": 3,
     "solution": false
    }
   },
   "source": [
    "### Predykcja\n",
    "\n",
    "Znajdź przykłady (np. 10 sztuk) dla których klasyfikator się pomylił. Zastanów się czy człowiek też mógłby się pomylić w tych przypadkach."
   ]
  },
  {
   "cell_type": "code",
   "execution_count": 16,
   "metadata": {
    "deletable": false,
    "editable": false,
    "nbgrader": {
     "cell_type": "code",
     "checksum": "9f7c7c5fda5ad76a3e95188bff3df22a",
     "grade": false,
     "grade_id": "cell-86cd1f32eb7f4b39",
     "locked": true,
     "schema_version": 3,
     "solution": false,
     "task": false
    }
   },
   "outputs": [
    {
     "data": {
      "text/plain": [
       "(342, 360)"
      ]
     },
     "execution_count": 16,
     "metadata": {},
     "output_type": "execute_result"
    }
   ],
   "source": [
    "np.sum(clf.predict(test) == test_labels),test_labels.shape[0]"
   ]
  },
  {
   "cell_type": "code",
   "execution_count": 17,
   "metadata": {},
   "outputs": [],
   "source": [
    "# # KNN\n",
    "\n",
    "# #print(knn.predict(test) == test_labels)  # czy odp poprawna\n",
    "# mistakes = []\n",
    "\n",
    "# for x in range(len(test)):\n",
    "#     if knn.predict(test)[x] != test_labels[x]:\n",
    "#         mistakes.append(x)\n",
    "\n",
    "# print('ilosc blednych:', len(mistakes))\n",
    "# print('indeksy blednych:', mistakes)\n",
    "\n",
    "# if len(mistakes) > 0:\n",
    "#     idx = mistakes[0]\n",
    "#     plt.imshow(train[idx].reshape(8, 8))\n",
    "#     plt.show()\n",
    "#     print('\\n{}. indeks bledny,'.format(idx), 'prawidlowa etykieta:', train_labels[idx])"
   ]
  },
  {
   "cell_type": "code",
   "execution_count": 18,
   "metadata": {},
   "outputs": [
    {
     "name": "stdout",
     "output_type": "stream",
     "text": [
      "[7] 4\n"
     ]
    },
    {
     "data": {
      "image/png": "[encoded data removed]",
      "text/plain": [
       "<Figure size 432x288 with 1 Axes>"
      ]
     },
     "metadata": {
      "needs_background": "light"
     },
     "output_type": "display_data"
    },
    {
     "name": "stdout",
     "output_type": "stream",
     "text": [
      "[3] 9\n"
     ]
    },
    {
     "data": {
      "image/png": "[encoded data removed]",
      "text/plain": [
       "<Figure size 432x288 with 1 Axes>"
      ]
     },
     "metadata": {
      "needs_background": "light"
     },
     "output_type": "display_data"
    },
    {
     "name": "stdout",
     "output_type": "stream",
     "text": [
      "[7] 4\n"
     ]
    },
    {
     "data": {
      "image/png": "[encoded data removed]",
      "text/plain": [
       "<Figure size 432x288 with 1 Axes>"
      ]
     },
     "metadata": {
      "needs_background": "light"
     },
     "output_type": "display_data"
    },
    {
     "name": "stdout",
     "output_type": "stream",
     "text": [
      "[1] 9\n"
     ]
    },
    {
     "data": {
      "image/png": "[encoded data removed]",
      "text/plain": [
       "<Figure size 432x288 with 1 Axes>"
      ]
     },
     "metadata": {
      "needs_background": "light"
     },
     "output_type": "display_data"
    },
    {
     "name": "stdout",
     "output_type": "stream",
     "text": [
      "[1] 8\n"
     ]
    },
    {
     "data": {
      "image/png": "[encoded data removed]",
      "text/plain": [
       "<Figure size 432x288 with 1 Axes>"
      ]
     },
     "metadata": {
      "needs_background": "light"
     },
     "output_type": "display_data"
    },
    {
     "name": "stdout",
     "output_type": "stream",
     "text": [
      "[9] 5\n"
     ]
    },
    {
     "data": {
      "image/png": "[encoded data removed]",
      "text/plain": [
       "<Figure size 432x288 with 1 Axes>"
      ]
     },
     "metadata": {
      "needs_background": "light"
     },
     "output_type": "display_data"
    },
    {
     "name": "stdout",
     "output_type": "stream",
     "text": [
      "[1] 8\n"
     ]
    },
    {
     "data": {
      "image/png": "[encoded data removed]",
      "text/plain": [
       "<Figure size 432x288 with 1 Axes>"
      ]
     },
     "metadata": {
      "needs_background": "light"
     },
     "output_type": "display_data"
    },
    {
     "name": "stdout",
     "output_type": "stream",
     "text": [
      "[4] 9\n"
     ]
    },
    {
     "data": {
      "image/png": "[encoded data removed]",
      "text/plain": [
       "<Figure size 432x288 with 1 Axes>"
      ]
     },
     "metadata": {
      "needs_background": "light"
     },
     "output_type": "display_data"
    }
   ],
   "source": [
    "# inne knn\n",
    "\n",
    "np.sum(knn.predict(test) == test_labels), test_labels.shape[0]\n",
    "\n",
    "for i in range(360):\n",
    "    Z = knn.predict(test[i:i+1])\n",
    "    P = test_labels[i]\n",
    "    \n",
    "    if Z != P:\n",
    "        print(Z, P)\n",
    "        plt.imshow(test[i].reshape(8, 8))\n",
    "        plt.show()"
   ]
  },
  {
   "cell_type": "code",
   "execution_count": null,
   "metadata": {
    "deletable": false,
    "nbgrader": {
     "cell_type": "code",
     "checksum": "22a0514282807c8eeb3e068debc8eca6",
     "grade": true,
     "grade_id": "cell-013a31528dd6f980",
     "locked": false,
     "points": 1,
     "schema_version": 3,
     "solution": true
    }
   },
   "outputs": [],
   "source": [
    "# CLF \n",
    "\n",
    "# print(clf.predict(test) == test_labels)  # czy odp poprawna\n",
    "\n",
    "mistakes = []\n",
    "\n",
    "for x in range(len(test)):\n",
    "    if clf.predict(test)[x] != test_labels[x]:\n",
    "        mistakes.append(x)\n",
    "\n",
    "print('ilosc blednych:', len(mistakes))\n",
    "print('indeksy blednych:', mistakes)\n",
    "\n",
    "idx = mistakes[2]\n",
    "\n",
    "print('\\n{}. indeks bledny,'.format(idx), 'prawidlowa etykieta:', train_labels[idx])\n",
    "plt.imshow(train[idx].reshape(8, 8))\n",
    "plt.show()"
   ]
  },
  {
   "cell_type": "code",
   "execution_count": null,
   "metadata": {},
   "outputs": [],
   "source": [
    "from sklearn import linear_model\n",
    "from sklearn import preprocessing"
   ]
  },
  {
   "cell_type": "markdown",
   "metadata": {
    "lang": "pl"
   },
   "source": [
    "##  NIST z klasyfikatorem liniowym\n",
    "\n",
    "Poklasyfikuj dane MNIST klasyfikatorem SVM, korzystając z implementacji `linear_model.LogisticRegression()` \n",
    "\n",
    "- z dokumentacji przeczytaj jak zaimplementowana jest klasyfikacja wieloklasowa.\n"
   ]
  },
  {
   "cell_type": "code",
   "execution_count": null,
   "metadata": {
    "deletable": false,
    "nbgrader": {
     "cell_type": "code",
     "checksum": "29c2dec973f15e54464d33c7cc9fd383",
     "grade": false,
     "grade_id": "cell-4f086e346053892c",
     "locked": false,
     "schema_version": 3,
     "solution": true,
     "task": false
    }
   },
   "outputs": [],
   "source": [
    "clf = LogisticRegression(random_state=0, multi_class='ovr').fit(train, train_labels)"
   ]
  },
  {
   "cell_type": "code",
   "execution_count": null,
   "metadata": {
    "deletable": false,
    "editable": false,
    "nbgrader": {
     "cell_type": "code",
     "checksum": "ba601d59d6bcf184b53798b83e2f3aea",
     "grade": true,
     "grade_id": "cell-de1e3528fb7a9e4b",
     "locked": true,
     "points": 2,
     "schema_version": 3,
     "solution": false,
     "task": false
    }
   },
   "outputs": [],
   "source": [
    "assert clf.score(test,test_labels) > 0.95\n",
    "assert clf.predict_proba(test).shape[1] == 10"
   ]
  },
  {
   "cell_type": "markdown",
   "metadata": {},
   "source": [
    "### Historgram\n",
    "\n",
    "Narysuj histogram prawdopodobieństw klasyfikacji dla kilku dobrych i źle poklasyfikowanych przykładów "
   ]
  },
  {
   "cell_type": "code",
   "execution_count": null,
   "metadata": {
    "deletable": false,
    "nbgrader": {
     "cell_type": "code",
     "checksum": "a312ee522187e09f55671d897d82f0f8",
     "grade": false,
     "grade_id": "cell-91c2acec3c9e2ddd",
     "locked": false,
     "schema_version": 3,
     "solution": true,
     "task": false
    }
   },
   "outputs": [],
   "source": [
    "bad_idx = np.where(clf.predict(test) != test_labels)\n",
    "#print(bad_idx)\n",
    "pred = clf.predict_proba(test)[bad_idx]\n",
    "#print(pred)\n",
    "\n",
    "print(bad_idx)\n",
    "\n",
    "for i in pred:\n",
    "    plt.hist(i)\n"
   ]
  },
  {
   "cell_type": "code",
   "execution_count": null,
   "metadata": {
    "deletable": false,
    "nbgrader": {
     "cell_type": "code",
     "checksum": "b41fdb8e81c03aa842b2ad3d65976dbb",
     "grade": true,
     "grade_id": "cell-dd6c6f2eb5bd8bf8",
     "locked": false,
     "points": 1,
     "schema_version": 3,
     "solution": true,
     "task": false
    }
   },
   "outputs": [],
   "source": [
    "for i in pred:\n",
    "    plt.plot(i, 'o-')"
   ]
  },
  {
   "cell_type": "markdown",
   "metadata": {},
   "source": [
    "### Macierz pomyłek\n",
    "\n",
    "Wylicz i przedstaw graficznie  macierz pomyłek dla klasyfikatora liniowego.\n",
    "Wykorzystaj zbiór testowy!"
   ]
  },
  {
   "cell_type": "code",
   "execution_count": null,
   "metadata": {
    "deletable": false,
    "nbgrader": {
     "cell_type": "code",
     "checksum": "961378e16ec18034a5d2dde48df8c52b",
     "grade": false,
     "grade_id": "cell-95dfb45732ec548f",
     "locked": false,
     "schema_version": 3,
     "solution": true,
     "task": false
    }
   },
   "outputs": [],
   "source": [
    "from sklearn.metrics import confusion_matrix\n",
    "M = confusion_matrix(test_labels, clf.predict(test))\n",
    "\n",
    "print(M)\n",
    "plt.matshow(M, vmax=5)\n",
    "plt.colorbar()"
   ]
  },
  {
   "cell_type": "code",
   "execution_count": null,
   "metadata": {
    "deletable": false,
    "editable": false,
    "nbgrader": {
     "cell_type": "code",
     "checksum": "a55502c6a281c969ae43ab4827fa05db",
     "grade": true,
     "grade_id": "cell-a6465a3540c98eed",
     "locked": true,
     "points": 1,
     "schema_version": 3,
     "solution": false,
     "task": false
    }
   },
   "outputs": [],
   "source": [
    "assert M.shape == (10,10)\n",
    "np.sum(M.diagonal()) > 0.9*test.shape[0]"
   ]
  },
  {
   "cell_type": "markdown",
   "metadata": {
    "lang": "pl"
   },
   "source": [
    "##  NIST z klasyfikatorem SVM\n",
    "\n",
    "Poklasyfikuj dane MNIST klasyfikatorem SVM, korzystając z implementacji `sklearn` \n",
    "\n",
    " - należy zastosować skalowanie danych (np. `preprocessing.StandardScaler`)\n"
   ]
  },
  {
   "cell_type": "code",
   "execution_count": null,
   "metadata": {
    "deletable": false,
    "nbgrader": {
     "cell_type": "code",
     "checksum": "6fe2632baae8cba2c1cd9e8dd95451fd",
     "grade": true,
     "grade_id": "cell-6dca083155843d30",
     "locked": false,
     "points": 2,
     "schema_version": 3,
     "solution": true
    }
   },
   "outputs": [],
   "source": [
    "from sklearn import svm\n",
    "from sklearn.preprocessing import StandardScaler\n",
    "\n",
    "scaler = preprocessing.StandardScaler(with_std = True)\n",
    "scaler.fit(train)\n",
    "#scaler.transform(train)\n",
    "\n",
    "clf = svm.SVC(decision_function_shape='ovo', kernel='rbf')\n",
    "clf.fit(scaler.transform(train), train_labels)\n",
    "clf.score(scaler.transform(test), test_labels)"
   ]
  },
  {
   "cell_type": "code",
   "execution_count": null,
   "metadata": {},
   "outputs": [],
   "source": [
    "np.sum(clf.predict(scaler.transform(test)) == test_labels),test_labels.shape[0]"
   ]
  },
  {
   "cell_type": "markdown",
   "metadata": {
    "deletable": false,
    "editable": false,
    "lang": "pl",
    "nbgrader": {
     "cell_type": "markdown",
     "checksum": "cf0049b49cfd9b6de59123e2f8b8e68c",
     "grade": false,
     "grade_id": "cell-1179cd6d23cd9d53",
     "locked": true,
     "schema_version": 3,
     "solution": false
    }
   },
   "source": [
    "##  NIST z klasyfikatorem SVM w zredukowanej przestrzeni danych (PCA)\n",
    "\n",
    "Wykonaj redukcję danych z pomocą PCA, np.:\n",
    "\n",
    "    pca = decomposition.PCA(n_components=50, whiten=True,\\\n",
    "                            svd_solver='randomized')\n",
    "                            \n",
    "Zmniejszając wymiar przestrzeni można pokusić się o zwiększenie zbioru trenującego!"
   ]
  },
  {
   "cell_type": "code",
   "execution_count": null,
   "metadata": {
    "deletable": false,
    "nbgrader": {
     "cell_type": "code",
     "checksum": "9b5e3fd3de489781ead7a07315dd5989",
     "grade": true,
     "grade_id": "cell-d5e2585fb83950c4",
     "locked": false,
     "points": 2,
     "schema_version": 3,
     "solution": true
    }
   },
   "outputs": [],
   "source": [
    "from sklearn import decomposition\n",
    "\n",
    "pca = decomposition.PCA(n_components=50, whiten=True, svd_solver='randomized')\n",
    "\n",
    "pca.fit(train)\n",
    "train_pca = pca.transform(train)\n",
    "test_pca = pca.transform(test)\n",
    "clf.fit(train_pca, train_labels)\n",
    "\n",
    "clf.score(test_pca, test_labels)"
   ]
  }
 ],
 "metadata": {
  "kernelspec": {
   "display_name": "Python 3",
   "language": "python",
   "name": "python3"
  },
  "language_info": {
   "codemirror_mode": {
    "name": "ipython",
    "version": 3
   },
   "file_extension": ".py",
   "mimetype": "text/x-python",
   "name": "python",
   "nbconvert_exporter": "python",
   "pygments_lexer": "ipython3",
   "version": "3.7.4"
  },
  "latex_envs": {
   "LaTeX_envs_menu_present": true,
   "autoclose": false,
   "autocomplete": true,
   "bibliofile": "biblio.bib",
   "cite_by": "apalike",
   "current_citInitial": 1,
   "eqLabelWithNumbers": true,
   "eqNumInitial": 1,
   "hotkeys": {
    "equation": "Ctrl-E",
    "itemize": "Ctrl-I"
   },
   "labels_anchors": false,
   "latex_user_defs": false,
   "report_style_numbering": false,
   "user_envs_cfg": false
  },
  "nbTranslate": {
   "displayLangs": [
    "pl",
    "en"
   ],
   "hotkey": "alt-t",
   "langInMainMenu": true,
   "sourceLang": "pl",
   "targetLang": "en",
   "useGoogleTranslate": true
  }
 },
 "nbformat": 4,
 "nbformat_minor": 2
}
