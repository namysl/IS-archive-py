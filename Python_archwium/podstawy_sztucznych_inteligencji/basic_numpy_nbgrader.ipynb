{
 "cells": [
  {
   "cell_type": "markdown",
   "metadata": {},
   "source": [
    "# Podstawy Sztucznej Inteligencji 2020/2021\n"
   ]
  },
  {
   "cell_type": "markdown",
   "metadata": {},
   "source": [
    "Prosze uzupelnic kod tam gdzie znajduje napis `YOUR CODE HERE` lub 'YOUR ANSWER HERE'.\n",
    "\n",
    "Warto zresetowac 'kernel' i sprawdzic czy caly notatnik uruchamiany od poczatku nie daje bledow."
   ]
  },
  {
   "cell_type": "markdown",
   "metadata": {},
   "source": [
    "---"
   ]
  },
  {
   "cell_type": "markdown",
   "metadata": {
    "deletable": false,
    "editable": false,
    "lang": "pl",
    "nbgrader": {
     "cell_type": "markdown",
     "checksum": "ef564302711864bb3f5fd82e88ec689e",
     "grade": false,
     "grade_id": "cell-7c1b2f1649b3fe69",
     "locked": true,
     "schema_version": 3,
     "solution": false
    }
   },
   "source": [
    "## Zaimportuj moduł  numpy  do przestrzeni nazw `np` "
   ]
  },
  {
   "cell_type": "code",
   "execution_count": 1,
   "metadata": {
    "deletable": false,
    "nbgrader": {
     "cell_type": "code",
     "checksum": "f0acf39e9d260955190133301bdbee98",
     "grade": false,
     "grade_id": "cell-39601c63625340b9",
     "locked": false,
     "schema_version": 3,
     "solution": true
    }
   },
   "outputs": [],
   "source": [
    "import numpy as np"
   ]
  },
  {
   "cell_type": "code",
   "execution_count": 2,
   "metadata": {
    "deletable": false,
    "editable": false,
    "nbgrader": {
     "cell_type": "code",
     "checksum": "1ada76d9f76bce79ea704980f638b890",
     "grade": true,
     "grade_id": "cell-657377bf7f83c7dc",
     "locked": true,
     "points": 1,
     "schema_version": 3,
     "solution": false
    }
   },
   "outputs": [],
   "source": [
    "from types import ModuleType\n",
    "assert type(globals()['np']) == ModuleType"
   ]
  },
  {
   "cell_type": "markdown",
   "metadata": {
    "deletable": false,
    "editable": false,
    "lang": "pl",
    "nbgrader": {
     "cell_type": "markdown",
     "checksum": "dd485782a44b452dcdd1c4cb6d096d73",
     "grade": false,
     "grade_id": "cell-e377231f368e0bf5",
     "locked": true,
     "schema_version": 3,
     "solution": false
    }
   },
   "source": [
    "## Stwórz wektor zer o rozmiarze 12"
   ]
  },
  {
   "cell_type": "code",
   "execution_count": 47,
   "metadata": {
    "deletable": false,
    "nbgrader": {
     "cell_type": "code",
     "checksum": "da42e158dfcb9068a1c66203166a1516",
     "grade": false,
     "grade_id": "cell-2b8268ef9339c6a4",
     "locked": false,
     "schema_version": 3,
     "solution": true
    }
   },
   "outputs": [],
   "source": [
    "v = np.zeros(12)"
   ]
  },
  {
   "cell_type": "code",
   "execution_count": 48,
   "metadata": {},
   "outputs": [
    {
     "data": {
      "text/plain": [
       "array([0., 0., 0., 0., 0., 0., 0., 0., 0., 0., 0., 0.])"
      ]
     },
     "execution_count": 48,
     "metadata": {},
     "output_type": "execute_result"
    }
   ],
   "source": [
    "v"
   ]
  },
  {
   "cell_type": "code",
   "execution_count": 49,
   "metadata": {
    "deletable": false,
    "editable": false,
    "nbgrader": {
     "cell_type": "code",
     "checksum": "d1b53a9e1bd8eaf40c8664dd2e39a751",
     "grade": true,
     "grade_id": "cell-b49cc2894c69dc72",
     "locked": true,
     "points": 1,
     "schema_version": 3,
     "solution": false
    }
   },
   "outputs": [],
   "source": [
    "assert v.sum() == 0\n",
    "assert v.shape == (12,)"
   ]
  },
  {
   "cell_type": "markdown",
   "metadata": {
    "deletable": false,
    "editable": false,
    "lang": "pl",
    "nbgrader": {
     "cell_type": "markdown",
     "checksum": "67c170bd47773295780dab38320f2b8d",
     "grade": false,
     "grade_id": "cell-8135e15d376df87e",
     "locked": true,
     "schema_version": 3,
     "solution": false
    }
   },
   "source": [
    "##  Napisz funkcję zwracającą ilość bajtów jaką zajmują dane w tablicy numpy"
   ]
  },
  {
   "cell_type": "code",
   "execution_count": 50,
   "metadata": {
    "deletable": false,
    "nbgrader": {
     "cell_type": "code",
     "checksum": "f578ac9eab6bc8e38a8cdf2a4f93f349",
     "grade": false,
     "grade_id": "cell-db49e414bf0a8307",
     "locked": false,
     "schema_version": 3,
     "solution": true
    }
   },
   "outputs": [],
   "source": [
    "def memof(a):\n",
    "    return a.nbytes"
   ]
  },
  {
   "cell_type": "code",
   "execution_count": 51,
   "metadata": {},
   "outputs": [
    {
     "data": {
      "text/plain": [
       "96"
      ]
     },
     "execution_count": 51,
     "metadata": {},
     "output_type": "execute_result"
    }
   ],
   "source": [
    "memof(v)"
   ]
  },
  {
   "cell_type": "code",
   "execution_count": 52,
   "metadata": {
    "deletable": false,
    "editable": false,
    "nbgrader": {
     "cell_type": "code",
     "checksum": "cbd13ff26f7b4f2b786fd1c2e66b373f",
     "grade": true,
     "grade_id": "cell-32ec95290a0502af",
     "locked": true,
     "points": 1,
     "schema_version": 3,
     "solution": false
    }
   },
   "outputs": [],
   "source": [
    "assert memof(np.zeros((12,10),dtype=np.int32))==480"
   ]
  },
  {
   "cell_type": "code",
   "execution_count": 53,
   "metadata": {},
   "outputs": [
    {
     "name": "stdout",
     "output_type": "stream",
     "text": [
      "480\n"
     ]
    }
   ],
   "source": [
    "print(memof(np.zeros((12,10),dtype=np.int32)))"
   ]
  },
  {
   "cell_type": "markdown",
   "metadata": {
    "deletable": false,
    "editable": false,
    "lang": "pl",
    "nbgrader": {
     "cell_type": "markdown",
     "checksum": "ed14ed7229e37a6f0b7a699f42e13fa8",
     "grade": false,
     "grade_id": "cell-5dada4be51953648",
     "locked": true,
     "schema_version": 3,
     "solution": false
    }
   },
   "source": [
    "## Napisz funkcję tworzącą wektor zer o rozmiarze `n` z jedynką na piątym miejscu"
   ]
  },
  {
   "cell_type": "code",
   "execution_count": 9,
   "metadata": {
    "deletable": false,
    "nbgrader": {
     "cell_type": "code",
     "checksum": "d073824ead675ec7ad5c3ce66c480594",
     "grade": false,
     "grade_id": "cell-d907a4380bbc262a",
     "locked": false,
     "schema_version": 3,
     "solution": true
    }
   },
   "outputs": [],
   "source": [
    "def make_v(n):\n",
    "    v = np.zeros(n)\n",
    "    v[4] = 1\n",
    "    return v"
   ]
  },
  {
   "cell_type": "code",
   "execution_count": 55,
   "metadata": {},
   "outputs": [
    {
     "data": {
      "text/plain": [
       "array([0., 0., 0., 0., 1., 0., 0., 0.])"
      ]
     },
     "execution_count": 55,
     "metadata": {},
     "output_type": "execute_result"
    }
   ],
   "source": [
    "make_v(8)"
   ]
  },
  {
   "cell_type": "code",
   "execution_count": 10,
   "metadata": {
    "deletable": false,
    "editable": false,
    "nbgrader": {
     "cell_type": "code",
     "checksum": "4d0ddd38082cb113bf592ab64491e36b",
     "grade": true,
     "grade_id": "cell-4dd989f0e98c6fcd",
     "locked": true,
     "points": 1,
     "schema_version": 3,
     "solution": false
    }
   },
   "outputs": [],
   "source": [
    "assert make_v(14)[4] == 1\n",
    "np.testing.assert_array_equal( make_v(14)[:4] , 0)\n",
    "np.testing.assert_array_equal( make_v(14)[5:] , 0)\n"
   ]
  },
  {
   "cell_type": "markdown",
   "metadata": {
    "deletable": false,
    "editable": false,
    "lang": "pl",
    "nbgrader": {
     "cell_type": "markdown",
     "checksum": "64ffa2708267cad4cd6b2b6a9784436b",
     "grade": false,
     "grade_id": "cell-c5201f78bdf47940",
     "locked": true,
     "schema_version": 3,
     "solution": false
    }
   },
   "source": [
    "## Utwórz wektor z wartościami od 10 do 29 włącznie"
   ]
  },
  {
   "cell_type": "code",
   "execution_count": 11,
   "metadata": {
    "deletable": false,
    "nbgrader": {
     "cell_type": "code",
     "checksum": "8f2f7999f0dd7abab013c0742a20ad6e",
     "grade": false,
     "grade_id": "cell-47d40a88c970b067",
     "locked": false,
     "schema_version": 3,
     "solution": true
    }
   },
   "outputs": [],
   "source": [
    "def make10_29():\n",
    "    arr = np.arange(10, 30)\n",
    "    return arr"
   ]
  },
  {
   "cell_type": "code",
   "execution_count": 57,
   "metadata": {},
   "outputs": [
    {
     "data": {
      "text/plain": [
       "array([10, 11, 12, 13, 14, 15, 16, 17, 18, 19, 20, 21, 22, 23, 24, 25, 26,\n",
       "       27, 28, 29])"
      ]
     },
     "execution_count": 57,
     "metadata": {},
     "output_type": "execute_result"
    }
   ],
   "source": [
    "make10_29()"
   ]
  },
  {
   "cell_type": "code",
   "execution_count": 58,
   "metadata": {
    "deletable": false,
    "editable": false,
    "nbgrader": {
     "cell_type": "code",
     "checksum": "dbb257740d7dc02ceeedae23e9ef3107",
     "grade": true,
     "grade_id": "cell-8b23f3d048bd64fd",
     "locked": true,
     "points": 1,
     "schema_version": 3,
     "solution": false
    }
   },
   "outputs": [],
   "source": [
    "assert make10_29()[7] == 17\n",
    "assert np.sum(make10_29()) == 390"
   ]
  },
  {
   "cell_type": "markdown",
   "metadata": {
    "deletable": false,
    "editable": false,
    "lang": "pl",
    "nbgrader": {
     "cell_type": "markdown",
     "checksum": "b46d4f0faa931a7534cb94c455b974cc",
     "grade": false,
     "grade_id": "cell-019d14215e9b9fd5",
     "locked": true,
     "schema_version": 3,
     "solution": false
    }
   },
   "source": [
    "## Odwóć kolejność elementów wektora"
   ]
  },
  {
   "cell_type": "code",
   "execution_count": 67,
   "metadata": {
    "deletable": false,
    "nbgrader": {
     "cell_type": "code",
     "checksum": "698aa458f96f738538cc4a92534a7514",
     "grade": false,
     "grade_id": "cell-8daeafbeb3fabd80",
     "locked": false,
     "schema_version": 3,
     "solution": true
    }
   },
   "outputs": [],
   "source": [
    "def reverse(v):\n",
    "    return np.flip(v)"
   ]
  },
  {
   "cell_type": "code",
   "execution_count": 68,
   "metadata": {
    "scrolled": true
   },
   "outputs": [
    {
     "data": {
      "text/plain": [
       "array([0., 0., 0., 1., 0., 0., 0., 0.])"
      ]
     },
     "execution_count": 68,
     "metadata": {},
     "output_type": "execute_result"
    }
   ],
   "source": [
    "reverse(make_v(8))"
   ]
  },
  {
   "cell_type": "code",
   "execution_count": 69,
   "metadata": {
    "deletable": false,
    "editable": false,
    "nbgrader": {
     "cell_type": "code",
     "checksum": "25ecbdd3f888480e327146a3a6025e15",
     "grade": true,
     "grade_id": "cell-55510f70fe837a14",
     "locked": true,
     "points": 1,
     "schema_version": 3,
     "solution": false
    }
   },
   "outputs": [],
   "source": [
    "np.testing.assert_equal(reverse(np.array([1,2,3])), np.array([3,2,1]) )"
   ]
  },
  {
   "cell_type": "markdown",
   "metadata": {
    "deletable": false,
    "editable": false,
    "lang": "pl",
    "nbgrader": {
     "cell_type": "markdown",
     "checksum": "e2070b4d375e9fe15758d2dee671f250",
     "grade": false,
     "grade_id": "cell-67804a3d0f85b447",
     "locked": true,
     "schema_version": 3,
     "solution": false
    }
   },
   "source": [
    "## Stwórz macierz jednostkową o rozmiarze $n \\times n$\n",
    "\n"
   ]
  },
  {
   "cell_type": "code",
   "execution_count": 16,
   "metadata": {
    "deletable": false,
    "nbgrader": {
     "cell_type": "code",
     "checksum": "8835d5f9d836e9acf078f2b67fe64a65",
     "grade": false,
     "grade_id": "cell-92b16c324a05c06a",
     "locked": false,
     "schema_version": 3,
     "solution": true
    }
   },
   "outputs": [],
   "source": [
    "def identity_matrix(n=3):\n",
    "    return np.identity(n)"
   ]
  },
  {
   "cell_type": "code",
   "execution_count": 71,
   "metadata": {},
   "outputs": [
    {
     "data": {
      "text/plain": [
       "array([[1., 0., 0., 0., 0.],\n",
       "       [0., 1., 0., 0., 0.],\n",
       "       [0., 0., 1., 0., 0.],\n",
       "       [0., 0., 0., 1., 0.],\n",
       "       [0., 0., 0., 0., 1.]])"
      ]
     },
     "execution_count": 71,
     "metadata": {},
     "output_type": "execute_result"
    }
   ],
   "source": [
    "identity_matrix(5)"
   ]
  },
  {
   "cell_type": "code",
   "execution_count": 17,
   "metadata": {
    "deletable": false,
    "editable": false,
    "nbgrader": {
     "cell_type": "code",
     "checksum": "89d319ccc88b459d7217c43e6a3e0bbf",
     "grade": true,
     "grade_id": "cell-681b5089489167db",
     "locked": true,
     "points": 1,
     "schema_version": 3,
     "solution": false
    }
   },
   "outputs": [],
   "source": [
    "np.testing.assert_equal( identity_matrix(2), np.array([[1, 0],  [0, 1]]) )\n"
   ]
  },
  {
   "cell_type": "markdown",
   "metadata": {
    "deletable": false,
    "editable": false,
    "lang": "pl",
    "nbgrader": {
     "cell_type": "markdown",
     "checksum": "4f4375a326ae6eeef523c23ee8fcc9f6",
     "grade": false,
     "grade_id": "cell-2f1ad3f3c5030912",
     "locked": true,
     "schema_version": 3,
     "solution": false
    }
   },
   "source": [
    "## Utwórz macierz $n\\times n$  z  wartościami od $1$ do $n^2$\n",
    "\n",
    " - tak by każdy rząd zawierał wartości rosnące o 1\n",
    " - tak by każda kolumna zawierała wartości rosnące o 1"
   ]
  },
  {
   "cell_type": "code",
   "execution_count": 84,
   "metadata": {
    "deletable": false,
    "nbgrader": {
     "cell_type": "code",
     "checksum": "931ee93064738f5de33267452d105b2d",
     "grade": false,
     "grade_id": "cell-8bb544fb4539f54e",
     "locked": false,
     "schema_version": 3,
     "solution": true
    }
   },
   "outputs": [],
   "source": [
    "def n2_col(n=3):\n",
    "    col = np.arange(1, n**2 + 1).reshape(n, n)\n",
    "    return col\n",
    "\n",
    "def n2_row(n=3):\n",
    "    row = np.arange(1, n**2 + 1).reshape(n, n)\n",
    "    return row.T"
   ]
  },
  {
   "cell_type": "code",
   "execution_count": 85,
   "metadata": {},
   "outputs": [
    {
     "name": "stdout",
     "output_type": "stream",
     "text": [
      "[[1 2 3]\n",
      " [4 5 6]\n",
      " [7 8 9]]\n",
      "\n",
      "[[1 4 7]\n",
      " [2 5 8]\n",
      " [3 6 9]]\n"
     ]
    }
   ],
   "source": [
    "# test\n",
    "print(n2_col())\n",
    "print()\n",
    "print(n2_row())"
   ]
  },
  {
   "cell_type": "code",
   "execution_count": 86,
   "metadata": {
    "deletable": false,
    "editable": false,
    "nbgrader": {
     "cell_type": "code",
     "checksum": "5bef116565d314f9f5f5403a65cfb5fd",
     "grade": true,
     "grade_id": "cell-3eb2839edd26cc52",
     "locked": true,
     "points": 2,
     "schema_version": 3,
     "solution": false
    }
   },
   "outputs": [],
   "source": [
    "np.testing.assert_equal( n2_col(2), np.array([[1, 2],  [3, 4]]) )\n",
    "np.testing.assert_equal( n2_row(2), np.array([[1, 3],  [2, 4]]) )\n"
   ]
  },
  {
   "cell_type": "markdown",
   "metadata": {
    "deletable": false,
    "editable": false,
    "lang": "pl",
    "nbgrader": {
     "cell_type": "markdown",
     "checksum": "1b9cbe812292424cb5584da3d1a88edc",
     "grade": false,
     "grade_id": "cell-20914a676e1756d0",
     "locked": true,
     "schema_version": 3,
     "solution": false
    }
   },
   "source": [
    "## Utwórz macierz $n\\times m$  z  losowymi wartościami \n",
    "\n",
    "- z przedziału [0,1)\n",
    "- z przedziału [a,b)"
   ]
  },
  {
   "cell_type": "code",
   "execution_count": 95,
   "metadata": {
    "deletable": false,
    "nbgrader": {
     "cell_type": "code",
     "checksum": "50d0f040ba13e4207fd4a6c056d60a19",
     "grade": false,
     "grade_id": "cell-dc9ed83288917413",
     "locked": false,
     "schema_version": 3,
     "solution": true
    }
   },
   "outputs": [],
   "source": [
    "def rand1(n=3, m=4):\n",
    "    return np.random.random(size=(n, m))\n",
    "\n",
    "def rand2(n=3, m=4, a=6, b=7):\n",
    "    return np.random.randint(a, b, size=(n, m))"
   ]
  },
  {
   "cell_type": "code",
   "execution_count": 97,
   "metadata": {},
   "outputs": [
    {
     "name": "stdout",
     "output_type": "stream",
     "text": [
      "[[0.78070242 0.75128074 0.65489296 0.39705577]\n",
      " [0.84024785 0.12956789 0.89721097 0.47924681]\n",
      " [0.15590305 0.20334754 0.81861061 0.93587942]]\n",
      "\n",
      "[[2 1 6 5]\n",
      " [7 4 3 5]\n",
      " [6 6 1 3]]\n"
     ]
    }
   ],
   "source": [
    "# test\n",
    "print(rand1())\n",
    "print()\n",
    "print(rand2(a=1, b=10))"
   ]
  },
  {
   "cell_type": "code",
   "execution_count": 93,
   "metadata": {
    "deletable": false,
    "editable": false,
    "nbgrader": {
     "cell_type": "code",
     "checksum": "407012efd8b3bf85712cab4a2635e7b5",
     "grade": true,
     "grade_id": "cell-4748bfd79b06da2a",
     "locked": true,
     "points": 2,
     "schema_version": 3,
     "solution": false
    }
   },
   "outputs": [],
   "source": [
    "assert np.min(rand1(10, 11)) >= 0\n",
    "assert np.max(rand1(10, 10)) < 1\n",
    "assert np.min(rand2(10, 12, 3,7)) >= 3\n",
    "assert np.max(rand2(10, 12, 3,7)) < 7\n",
    "assert np.shape(rand2(10, 12, 3,7)) == (10, 12)\n",
    "assert np.shape(rand1(10, 15)) == (10, 15)"
   ]
  },
  {
   "cell_type": "markdown",
   "metadata": {
    "deletable": false,
    "editable": false,
    "lang": "pl",
    "nbgrader": {
     "cell_type": "markdown",
     "checksum": "eaf41d007f8947bbb90cda7826637fe1",
     "grade": false,
     "grade_id": "cell-a8bd94c824c32640",
     "locked": true,
     "schema_version": 3,
     "solution": false
    }
   },
   "source": [
    "## Znajdź indeksy dla których wartości wektora są równe zero"
   ]
  },
  {
   "cell_type": "code",
   "execution_count": 103,
   "metadata": {
    "deletable": false,
    "nbgrader": {
     "cell_type": "code",
     "checksum": "b7ee9911bf4e8a6c6e3e055cddccfee3",
     "grade": false,
     "grade_id": "cell-3dec5ac38532d35e",
     "locked": false,
     "schema_version": 3,
     "solution": true
    }
   },
   "outputs": [],
   "source": [
    "def is_zero(x):\n",
    "    zeros = np.where(x == 0)[0]\n",
    "    return zeros"
   ]
  },
  {
   "cell_type": "code",
   "execution_count": 100,
   "metadata": {
    "deletable": false,
    "editable": false,
    "nbgrader": {
     "cell_type": "code",
     "checksum": "fda52ce52be0f6c00d6bb3842d376a74",
     "grade": true,
     "grade_id": "cell-52fa129f65194a82",
     "locked": true,
     "points": 2,
     "schema_version": 3,
     "solution": false
    }
   },
   "outputs": [],
   "source": [
    "x = np.array([1,2,0,1,0,11])\n",
    "np.testing.assert_equal(is_zero(x), np.array([2,4]) ) "
   ]
  },
  {
   "cell_type": "code",
   "execution_count": 106,
   "metadata": {},
   "outputs": [
    {
     "data": {
      "text/plain": [
       "array([2, 4])"
      ]
     },
     "execution_count": 106,
     "metadata": {},
     "output_type": "execute_result"
    }
   ],
   "source": [
    "is_zero(x)"
   ]
  },
  {
   "cell_type": "code",
   "execution_count": 109,
   "metadata": {},
   "outputs": [],
   "source": [
    "def is_zero_v2(x):\n",
    "    return np.argwhere(x == 0)"
   ]
  },
  {
   "cell_type": "code",
   "execution_count": 110,
   "metadata": {},
   "outputs": [
    {
     "data": {
      "text/plain": [
       "array([[2],\n",
       "       [4]])"
      ]
     },
     "execution_count": 110,
     "metadata": {},
     "output_type": "execute_result"
    }
   ],
   "source": [
    "is_zero_v2(x)"
   ]
  },
  {
   "cell_type": "code",
   "execution_count": 101,
   "metadata": {},
   "outputs": [
    {
     "name": "stdout",
     "output_type": "stream",
     "text": [
      "[ True  True False  True False  True]\n"
     ]
    }
   ],
   "source": [
    "def is_zero_true_or_false(x):\n",
    "    return x != 0\n",
    "\n",
    "print(is_zero_trueorfalse(x))"
   ]
  },
  {
   "cell_type": "markdown",
   "metadata": {
    "deletable": false,
    "editable": false,
    "lang": "pl",
    "nbgrader": {
     "cell_type": "markdown",
     "checksum": "79526d7d0b0442c35079423c83ea3459",
     "grade": false,
     "grade_id": "cell-830d830bcd707054",
     "locked": true,
     "schema_version": 3,
     "solution": false
    }
   },
   "source": [
    "## Oblicz dla zadanego wektora jego wartość najmniejszą, największą oraz średnią."
   ]
  },
  {
   "cell_type": "code",
   "execution_count": 27,
   "metadata": {
    "deletable": false,
    "nbgrader": {
     "cell_type": "code",
     "checksum": "56fdb93968d46268854d01fdb5a5cc8e",
     "grade": false,
     "grade_id": "cell-c15c1bf47a13ebad",
     "locked": false,
     "schema_version": 3,
     "solution": true
    }
   },
   "outputs": [],
   "source": [
    "def mystats(x):\n",
    "    return np.amin(x), np.amax(x), np.mean(x)"
   ]
  },
  {
   "cell_type": "code",
   "execution_count": 28,
   "metadata": {
    "deletable": false,
    "editable": false,
    "nbgrader": {
     "cell_type": "code",
     "checksum": "255fdd2f843c42a6a54dd462c142678e",
     "grade": true,
     "grade_id": "cell-6789a38d4549443a",
     "locked": true,
     "points": 2,
     "schema_version": 3,
     "solution": false
    }
   },
   "outputs": [],
   "source": [
    "x = np.array([1,2,0,1,0,11])\n",
    "assert  mystats(x) == (0, 11, 2.5) "
   ]
  },
  {
   "cell_type": "code",
   "execution_count": 111,
   "metadata": {},
   "outputs": [
    {
     "data": {
      "text/plain": [
       "(0, 11, 2.5)"
      ]
     },
     "execution_count": 111,
     "metadata": {},
     "output_type": "execute_result"
    }
   ],
   "source": [
    "mystats(x)"
   ]
  },
  {
   "cell_type": "markdown",
   "metadata": {
    "deletable": false,
    "editable": false,
    "lang": "pl",
    "nbgrader": {
     "cell_type": "markdown",
     "checksum": "543cb97064c70c2a2979c7c5df869604",
     "grade": false,
     "grade_id": "cell-c7e3e36d79c24526",
     "locked": true,
     "schema_version": 3,
     "solution": false
    }
   },
   "source": [
    "## Stwórz dwuwymiarową tablicę z zerami w środku i jedynkami na zewnątrz"
   ]
  },
  {
   "cell_type": "code",
   "execution_count": 113,
   "metadata": {
    "deletable": false,
    "nbgrader": {
     "cell_type": "code",
     "checksum": "07ad060419e56e964d62616346e73b35",
     "grade": false,
     "grade_id": "cell-e2ca9f36bc360a8a",
     "locked": false,
     "schema_version": 3,
     "solution": true
    }
   },
   "outputs": [],
   "source": [
    "def zeros_padded(n=4):\n",
    "    arr = np.zeros((n-2, n-2))\n",
    "    arr_padded = np.pad(arr, 1, mode='constant', constant_values=1)\n",
    "    return arr_padded"
   ]
  },
  {
   "cell_type": "code",
   "execution_count": 116,
   "metadata": {},
   "outputs": [
    {
     "data": {
      "text/plain": [
       "array([[1., 1., 1., 1., 1., 1., 1., 1.],\n",
       "       [1., 0., 0., 0., 0., 0., 0., 1.],\n",
       "       [1., 0., 0., 0., 0., 0., 0., 1.],\n",
       "       [1., 0., 0., 0., 0., 0., 0., 1.],\n",
       "       [1., 0., 0., 0., 0., 0., 0., 1.],\n",
       "       [1., 0., 0., 0., 0., 0., 0., 1.],\n",
       "       [1., 0., 0., 0., 0., 0., 0., 1.],\n",
       "       [1., 1., 1., 1., 1., 1., 1., 1.]])"
      ]
     },
     "execution_count": 116,
     "metadata": {},
     "output_type": "execute_result"
    }
   ],
   "source": [
    "zeros_padded(8)"
   ]
  },
  {
   "cell_type": "code",
   "execution_count": 117,
   "metadata": {
    "deletable": false,
    "editable": false,
    "nbgrader": {
     "cell_type": "code",
     "checksum": "bdce289bc83d9bee476b2354a61e81da",
     "grade": true,
     "grade_id": "cell-cd548f3f78efd6cd",
     "locked": true,
     "points": 2,
     "schema_version": 3,
     "solution": false
    }
   },
   "outputs": [],
   "source": [
    "np.testing.assert_equal(zeros_padded(4) , \n",
    "np.array([[ 1.,  1.,  1.,  1.],\n",
    "         [ 1.,  0.,  0.,  1.],\n",
    "         [ 1.,  0.,  0.,  1.],\n",
    "         [ 1.,  1.,  1.,  1.]]))\n"
   ]
  },
  {
   "cell_type": "markdown",
   "metadata": {
    "deletable": false,
    "editable": false,
    "lang": "pl",
    "nbgrader": {
     "cell_type": "markdown",
     "checksum": "0cb459eae7748a90542732559377a4c9",
     "grade": false,
     "grade_id": "cell-f59946960468abfc",
     "locked": true,
     "schema_version": 3,
     "solution": false
    }
   },
   "source": [
    "\n",
    "## Używając `np.pad` dodaj do tablicy otoczenie z wartością 3"
   ]
  },
  {
   "cell_type": "code",
   "execution_count": 118,
   "metadata": {
    "deletable": false,
    "nbgrader": {
     "cell_type": "code",
     "checksum": "50e1294e7b396c1304fef797c07c0175",
     "grade": false,
     "grade_id": "cell-974a225dc7e83feb",
     "locked": false,
     "schema_version": 3,
     "solution": true
    }
   },
   "outputs": [],
   "source": [
    "def pad3(x):\n",
    "    return np.pad(x, 1, mode='constant', constant_values=3)"
   ]
  },
  {
   "cell_type": "code",
   "execution_count": 121,
   "metadata": {},
   "outputs": [
    {
     "data": {
      "text/plain": [
       "array([[3., 3., 3., 3., 3.],\n",
       "       [3., 1., 1., 1., 3.],\n",
       "       [3., 1., 1., 1., 3.],\n",
       "       [3., 1., 1., 1., 3.],\n",
       "       [3., 1., 1., 1., 3.],\n",
       "       [3., 1., 1., 1., 3.],\n",
       "       [3., 1., 1., 1., 3.],\n",
       "       [3., 3., 3., 3., 3.]])"
      ]
     },
     "execution_count": 121,
     "metadata": {},
     "output_type": "execute_result"
    }
   ],
   "source": [
    "x = np.ones((6, 3))\n",
    "pad3(x)"
   ]
  },
  {
   "cell_type": "code",
   "execution_count": 32,
   "metadata": {
    "deletable": false,
    "editable": false,
    "nbgrader": {
     "cell_type": "code",
     "checksum": "5d72c0898689f0a9d5ccfed5804a265d",
     "grade": true,
     "grade_id": "cell-bce6102cad485520",
     "locked": true,
     "points": 2,
     "schema_version": 3,
     "solution": false
    }
   },
   "outputs": [],
   "source": [
    "x = np.ones((2,3))\n",
    "x_pad3 = np.array([[ 3.,  3.,  3.,  3.,  3.],\n",
    "                   [ 3.,  1.,  1.,  1.,  3.],\n",
    "                   [ 3.,  1.,  1.,  1.,  3.],\n",
    "                   [ 3.,  3.,  3.,  3.,  3.]])            \n",
    "np.testing.assert_equal( pad3(x),x_pad3)"
   ]
  },
  {
   "cell_type": "markdown",
   "metadata": {
    "deletable": false,
    "editable": false,
    "lang": "pl",
    "nbgrader": {
     "cell_type": "markdown",
     "checksum": "00ba33fdf90040f93f15c0694189fa8e",
     "grade": false,
     "grade_id": "cell-aac561876dcc442e",
     "locked": true,
     "schema_version": 3,
     "solution": false
    }
   },
   "source": [
    "## Dla danej tablicy zastąp maksymalne wartości zerami\n"
   ]
  },
  {
   "cell_type": "code",
   "execution_count": 33,
   "metadata": {
    "deletable": false,
    "nbgrader": {
     "cell_type": "code",
     "checksum": "489181249b1108fe98f11fe5d6f59666",
     "grade": false,
     "grade_id": "cell-0af856baae027aa7",
     "locked": false,
     "schema_version": 3,
     "solution": true
    }
   },
   "outputs": [],
   "source": [
    "def maxto0(x):\n",
    "    size = np.shape(x)\n",
    "    #print(size)\n",
    "    \n",
    "    flat_x = x.flat[:]\n",
    "    #print(flattened)\n",
    "    \n",
    "    flat_x = np.where(flat_x == np.max(flat_x), 0, flat_x)\n",
    "    x = flat_x.reshape(size)\n",
    "    \n",
    "    return x"
   ]
  },
  {
   "cell_type": "code",
   "execution_count": 122,
   "metadata": {},
   "outputs": [
    {
     "data": {
      "text/plain": [
       "array([[1, 0, 1, 2],\n",
       "       [0, 2, 1, 0],\n",
       "       [2, 0, 2, 1]])"
      ]
     },
     "execution_count": 122,
     "metadata": {},
     "output_type": "execute_result"
    }
   ],
   "source": [
    "x_expected = np.array([[1, 3, 1, 2],\n",
    "                       [0, 2, 1, 0],\n",
    "                       [2, 0, 2, 1]])\n",
    "\n",
    "maxto0(x_expected)"
   ]
  },
  {
   "cell_type": "code",
   "execution_count": 123,
   "metadata": {},
   "outputs": [],
   "source": [
    "def maxto0_v2(x):\n",
    "    temp = np.amax(x)\n",
    "    #print(temp)\n",
    "    return np.where(x == temp, 0, x)"
   ]
  },
  {
   "cell_type": "code",
   "execution_count": 124,
   "metadata": {},
   "outputs": [
    {
     "data": {
      "text/plain": [
       "array([[1, 0, 1, 2],\n",
       "       [0, 2, 1, 0],\n",
       "       [2, 0, 2, 1]])"
      ]
     },
     "execution_count": 124,
     "metadata": {},
     "output_type": "execute_result"
    }
   ],
   "source": [
    "x_expected = np.array([[1, 3, 1, 2],\n",
    "                       [0, 2, 1, 0],\n",
    "                       [2, 0, 2, 1]])\n",
    "\n",
    "maxto0_v2(x_expected)"
   ]
  },
  {
   "cell_type": "code",
   "execution_count": 125,
   "metadata": {
    "deletable": false,
    "editable": false,
    "nbgrader": {
     "cell_type": "code",
     "checksum": "1ed8fd067a722e4c92ef409378f4664d",
     "grade": true,
     "grade_id": "cell-9bd94b25f5056812",
     "locked": true,
     "points": 2,
     "schema_version": 3,
     "solution": false
    }
   },
   "outputs": [],
   "source": [
    "x_expected = np.array([[1, 0, 1, 2],\n",
    "                       [0, 2, 1, 0],\n",
    "                       [2, 0, 2, 1]])\n",
    "\n",
    "x = np.array([[1, 3, 1, 2],\n",
    "                   [3, 2, 1, 3],\n",
    "                   [2, 0, 2, 1]])\n",
    "np.testing.assert_equal(maxto0(x),x_expected)"
   ]
  },
  {
   "cell_type": "markdown",
   "metadata": {
    "deletable": false,
    "editable": false,
    "lang": "pl",
    "nbgrader": {
     "cell_type": "markdown",
     "checksum": "77b2392b6e5d9c1c72213b3c18e8a95e",
     "grade": false,
     "grade_id": "cell-f2915e27c6193866",
     "locked": true,
     "schema_version": 3,
     "solution": false
    }
   },
   "source": [
    "## Broadcasting\n",
    "\n",
    "Niech będzie dana tablica  $k$ parametrów  zmierzonych w  $n$  pomiarach: \n",
    "\n",
    " - $ x_{ij} $: $j$-ty parametr w $i$-tym pomiarze\n",
    "\n",
    "Oblicz korzystając z ``numpy`` nie używając pętli:\n",
    "\n",
    " - średnią po pomiarach dla wszyskich zmiennych: $$\\mu_j = \\frac{1}{n} \\sum_{i=1}^n x_{ij}$$\n",
    " - odchylenie od wartości średniej dla każdej zmiennej we wszystkich pomiarach:$$\\Delta_{ij} = x_{ij}-\\mu_j$$\n",
    " - odchylenie średniokwadratowe dla każdej zmiennej: $$\\sigma_j^2 = \\frac{1}{n} \\sum_{j=1}^n (x_{ij}-\\mu_j)^2$$\n",
    " "
   ]
  },
  {
   "cell_type": "code",
   "execution_count": 126,
   "metadata": {
    "deletable": false,
    "nbgrader": {
     "cell_type": "code",
     "checksum": "369a17345764e42857b73f1f414ac24d",
     "grade": false,
     "grade_id": "cell-3ba3e7c55658e301",
     "locked": false,
     "schema_version": 3,
     "solution": true
    }
   },
   "outputs": [],
   "source": [
    "def data_stats(x):\n",
    "    x_avg = np.sum(x, axis=0) / x.shape[0]\n",
    "    Delta = x - x_avg\n",
    "    sigma = np.sum((x - x_avg)**2, axis=0) / x.shape[0]\n",
    "    \n",
    "    return x_avg, Delta, sigma"
   ]
  },
  {
   "cell_type": "code",
   "execution_count": 130,
   "metadata": {},
   "outputs": [
    {
     "data": {
      "text/plain": [
       "(array([2.        , 1.66666667, 1.33333333, 2.        ]),\n",
       " array([[-1.        ,  1.33333333, -0.33333333,  0.        ],\n",
       "        [ 1.        ,  0.33333333, -0.33333333,  1.        ],\n",
       "        [ 0.        , -1.66666667,  0.66666667, -1.        ]]),\n",
       " array([0.66666667, 1.55555556, 0.22222222, 0.66666667]))"
      ]
     },
     "execution_count": 130,
     "metadata": {},
     "output_type": "execute_result"
    }
   ],
   "source": [
    "x = np.array([[1, 3, 1, 2], [3, 2, 1, 3], [2, 0, 2, 1]])\n",
    "\n",
    "data_stats(x)"
   ]
  },
  {
   "cell_type": "code",
   "execution_count": 134,
   "metadata": {},
   "outputs": [
    {
     "data": {
      "text/plain": [
       "array([3.2, 3. , 2.2, 2.4])"
      ]
     },
     "execution_count": 134,
     "metadata": {},
     "output_type": "execute_result"
    }
   ],
   "source": [
    "data_stats(x)[0]  # x_avg"
   ]
  },
  {
   "cell_type": "code",
   "execution_count": 135,
   "metadata": {},
   "outputs": [
    {
     "data": {
      "text/plain": [
       "array([[-0.2,  1. , -0.2,  0.6],\n",
       "       [-0.2,  1. ,  0.8,  1.6],\n",
       "       [ 0.8,  0. , -0.2, -0.4],\n",
       "       [-0.2, -1. , -1.2, -0.4],\n",
       "       [-0.2, -1. ,  0.8, -1.4]])"
      ]
     },
     "execution_count": 135,
     "metadata": {},
     "output_type": "execute_result"
    }
   ],
   "source": [
    "data_stats(x)[1]  # Delta"
   ]
  },
  {
   "cell_type": "code",
   "execution_count": 136,
   "metadata": {},
   "outputs": [
    {
     "data": {
      "text/plain": [
       "array([0.16, 0.8 , 0.56, 1.04])"
      ]
     },
     "execution_count": 136,
     "metadata": {},
     "output_type": "execute_result"
    }
   ],
   "source": [
    "data_stats(x)[2]  # sigma"
   ]
  },
  {
   "cell_type": "code",
   "execution_count": 131,
   "metadata": {
    "deletable": false,
    "editable": false,
    "nbgrader": {
     "cell_type": "code",
     "checksum": "11486c2f1182464f969b6e7fa3812baf",
     "grade": true,
     "grade_id": "cell-6c8208eb3399b3a4",
     "locked": true,
     "points": 4,
     "schema_version": 3,
     "solution": false
    }
   },
   "outputs": [],
   "source": [
    "x = np.array([[3, 4, 2, 3],\n",
    "       [3, 4, 3, 4],\n",
    "       [4, 3, 2, 2],\n",
    "       [3, 2, 1, 2],\n",
    "       [3, 2, 3, 1]])\n",
    "x_avg,Delta,sigma = data_stats(x)\n",
    "\n",
    "\n",
    "np.testing.assert_allclose(x_avg,np.array([ 3.2,  3. ,  2.2,  2.4]))\n",
    "np.testing.assert_allclose(Delta,\\\n",
    "  np.array([[-0.2,  1. , -0.2,  0.6],\n",
    "           [-0.2,  1. ,  0.8,  1.6],\n",
    "           [ 0.8,  0. , -0.2, -0.4],\n",
    "           [-0.2, -1. , -1.2, -0.4],\n",
    "           [-0.2, -1. ,  0.8, -1.4]]) )                           \n",
    "np.testing.assert_allclose(sigma,np.array([ 0.16,  0.8 ,  0.56,  1.04]))\n",
    "\n",
    "import inspect\n",
    "blacklist = [\".mean\",\".average\",\"for\",\"while\",\"std\",'var']\n",
    "assert all([ not keyword  in inspect.getsource(data_stats) for keyword in blacklist])\n"
   ]
  }
 ],
 "metadata": {
  "kernelspec": {
   "display_name": "Python 3",
   "language": "python",
   "name": "python3"
  },
  "language_info": {
   "codemirror_mode": {
    "name": "ipython",
    "version": 3
   },
   "file_extension": ".py",
   "mimetype": "text/x-python",
   "name": "python",
   "nbconvert_exporter": "python",
   "pygments_lexer": "ipython3",
   "version": "3.7.4"
  },
  "latex_envs": {
   "LaTeX_envs_menu_present": true,
   "autoclose": false,
   "autocomplete": true,
   "bibliofile": "biblio.bib",
   "cite_by": "apalike",
   "current_citInitial": 1,
   "eqLabelWithNumbers": true,
   "eqNumInitial": 1,
   "hotkeys": {
    "equation": "Ctrl-E",
    "itemize": "Ctrl-I"
   },
   "labels_anchors": false,
   "latex_user_defs": false,
   "report_style_numbering": false,
   "user_envs_cfg": false
  },
  "nbTranslate": {
   "displayLangs": [
    "pl",
    "en"
   ],
   "hotkey": "alt-t",
   "langInMainMenu": true,
   "sourceLang": "pl",
   "targetLang": "en",
   "useGoogleTranslate": true
  }
 },
 "nbformat": 4,
 "nbformat_minor": 1
}
