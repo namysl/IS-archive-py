{
 "cells": [
  {
   "cell_type": "markdown",
   "metadata": {},
   "source": [
    "# Podstawy Sztucznej Inteligencji 2020/2021\n"
   ]
  },
  {
   "cell_type": "markdown",
   "metadata": {},
   "source": [
    "Prosze uzupelnic kod tam gdzie znajduje napis `YOUR CODE HERE` lub 'YOUR ANSWER HERE'.\n",
    "\n",
    "Warto zresetowac 'kernel' i sprawdzic czy caly notatnik uruchamiany od poczatku nie daje bledow."
   ]
  },
  {
   "cell_type": "markdown",
   "metadata": {},
   "source": [
    "---"
   ]
  },
  {
   "cell_type": "markdown",
   "metadata": {
    "deletable": false,
    "editable": false,
    "lang": "pl",
    "nbgrader": {
     "cell_type": "markdown",
     "checksum": "fc0feaaf295c6b0a9d6872ac1336190f",
     "grade": false,
     "grade_id": "cell-6c1f2751cafbd1c1",
     "locked": true,
     "schema_version": 3,
     "solution": false
    }
   },
   "source": [
    "## Iloczyn skalarny\n",
    "\n",
    "Mając wektory $n$-elementowe $\\mathbf{a}$ i $\\mathbf{b}$ napisać funkcję obliczającą ich iloczyn skalarny:\n",
    "\n",
    "$$s =\\mathbf{a}\\cdot \\mathbf{b} =  \\sum_{i=1}^{n} a_i b_i $$ \n",
    "\n",
    " - za pomocą iteracji po elementach\n",
    " - używając funkcjonalności `numpy`"
   ]
  },
  {
   "cell_type": "code",
   "execution_count": 474,
   "metadata": {},
   "outputs": [],
   "source": [
    "import numpy as np"
   ]
  },
  {
   "cell_type": "code",
   "execution_count": 475,
   "metadata": {
    "deletable": false,
    "nbgrader": {
     "cell_type": "code",
     "checksum": "2f16d78dfd7298be2c5a66046c277555",
     "grade": false,
     "grade_id": "cell-06e5e3a8f5681458",
     "locked": false,
     "schema_version": 3,
     "solution": true
    }
   },
   "outputs": [],
   "source": [
    "def s1(a, b):\n",
    "    if len(a) != len(b):\n",
    "        raise ValueError(\"Wektory o różnych wymiarach\")\n",
    "        \n",
    "    temp = []\n",
    "    for i in range(len(a)):\n",
    "        temp.append(a[i] * b[i])\n",
    "    return sum(temp)\n",
    "\n",
    "\n",
    "def s2(a, b):\n",
    "    if len(a) != len(b):\n",
    "        raise ValueError(\"Wektory o różnych wymiarach\")\n",
    "    \n",
    "    return np.dot(a, b)"
   ]
  },
  {
   "cell_type": "code",
   "execution_count": 476,
   "metadata": {},
   "outputs": [],
   "source": [
    "def s1_v2(a, b):\n",
    "    if len(a) != len(b):\n",
    "        raise ValueError(\"Wektory o różnych wymiarach\")\n",
    "    \n",
    "    return sum([i*j for i, j in zip(a, b)])"
   ]
  },
  {
   "cell_type": "code",
   "execution_count": 477,
   "metadata": {
    "deletable": false,
    "editable": false,
    "nbgrader": {
     "cell_type": "code",
     "checksum": "3ef7549f8829cd6224b7b6e90dd59d94",
     "grade": true,
     "grade_id": "cell-96f566befa6dfa4f",
     "locked": true,
     "points": 4,
     "schema_version": 3,
     "solution": false
    }
   },
   "outputs": [],
   "source": [
    "assert s1([1,1,1,1],[1,1,1,1]) == 4 \n",
    "assert s2([1,1,1,1],[1,1,1,1]) == 4\n",
    "assert np.isscalar(s2([1,1,1,1],[1,1,1,1]))\n",
    "assert np.isscalar(s1([1,1,1,1],[1,1,1,1]))\n",
    "assert s2([7,7,7],[7,7,7]) == 147\n",
    "assert s1([7,7,7],[7,7,7]) == 147"
   ]
  },
  {
   "cell_type": "markdown",
   "metadata": {
    "deletable": false,
    "editable": false,
    "lang": "pl",
    "nbgrader": {
     "cell_type": "markdown",
     "checksum": "e15c2c66070c865a2c7f41948bb4fa63",
     "grade": false,
     "grade_id": "cell-2b11edc1df47f26a",
     "locked": true,
     "schema_version": 3,
     "solution": false
    }
   },
   "source": [
    "## Mnożenie macierzy przez wektor:\n",
    "\n",
    "Mając wektor $n$-elementowy $\\mathbf{x}$ oraz macierz $\\mathbf{A}$ o wymiarach $m\\times n$ napisać funkcję obliczającą ich iloczyn:\n",
    "\n",
    "$$\\mathbf{y}= \\mathbf{A}\\mathbf{x}.$$\n",
    "\n",
    "Każdy element wektora $\\mathbf{y}$ jest dany przez:\n",
    "\n",
    "$$y_i = \\sum_{j=1}^{n} a_{ij} x_j $$ \n",
    "\n",
    " - za pomocą iteracji po elementach (podwójna pętla)\n",
    " - korzystając z faktu, że\n",
    " każdy element wektora $y_i$ jest iloczynem skalarnym $i$-tego rzędu macierzy $\\mathbf A$ oraz wektora $\\mathbf{x}$ (pojedyncza pętla)\n",
    " - używając funkcji:  `np.dot` lub `np.tensordot` (bez pętli)\n"
   ]
  },
  {
   "cell_type": "code",
   "execution_count": 478,
   "metadata": {
    "deletable": false,
    "nbgrader": {
     "cell_type": "code",
     "checksum": "3a3bd58bb0a6790a618531df19e48030",
     "grade": false,
     "grade_id": "cell-fb522d133295441a",
     "locked": false,
     "schema_version": 3,
     "solution": true
    }
   },
   "outputs": [],
   "source": [
    "def y1(A,x):\n",
    "    #print(np.shape(A)[1], np.shape(x)[0])\n",
    "    if np.shape(A)[1] != np.shape(x)[0]:\n",
    "        raise ValueError(\"Drugi wymiar macierzy nie jest równy wymiarowi wektora\")\n",
    "    \n",
    "    temp = []\n",
    "    wynik = []\n",
    "    \n",
    "    for i in range(len(A)):\n",
    "        for j in range(len(x)):\n",
    "            temp.append(A[i][j] * x[j])\n",
    "        suma = sum(temp)\n",
    "        wynik.append(suma)\n",
    "        temp.clear()\n",
    "        \n",
    "    return np.array(wynik)\n",
    "\n",
    "\n",
    "def y2(A,x):\n",
    "    if np.shape(A)[1] != np.shape(x)[0]:\n",
    "        raise ValueError(\"Drugi wymiar macierzy nie jest równy wymiarowi wektora\")\n",
    "        \n",
    "    temp = []\n",
    "    \n",
    "    for i in range(len(A)):\n",
    "        temp.append(A[i] * x)\n",
    "    \n",
    "    arr = np.array(temp)\n",
    "    column_sums = arr.sum(axis=1)\n",
    "    return column_sums\n",
    "\n",
    "\n",
    "def y3(A,x):\n",
    "    if np.shape(A)[1] != np.shape(x)[0]:\n",
    "        raise ValueError(\"Drugi wymiar macierzy nie jest równy wymiarowi wektora\")\n",
    "        \n",
    "    return np.dot(A, x)"
   ]
  },
  {
   "cell_type": "code",
   "execution_count": 479,
   "metadata": {},
   "outputs": [
    {
     "data": {
      "text/plain": [
       "(array([[10,  6,  7],\n",
       "        [ 3,  9,  1],\n",
       "        [ 5,  5,  5]]), array([9, 5, 5]))"
      ]
     },
     "execution_count": 479,
     "metadata": {},
     "output_type": "execute_result"
    }
   ],
   "source": [
    "A = np.array([[10, 6, 7], [3, 9, 1], [5, 5, 5]]) \n",
    "x = np.array([9, 5, 5])\n",
    "\n",
    "A, x"
   ]
  },
  {
   "cell_type": "code",
   "execution_count": 480,
   "metadata": {},
   "outputs": [
    {
     "name": "stdout",
     "output_type": "stream",
     "text": [
      "y1: [155  77  95]\n",
      "y2: [155  77  95]\n",
      "y3: [155  77  95]\n"
     ]
    }
   ],
   "source": [
    "print('y1:', y1(A, x))\n",
    "print('y2:', y2(A, x))\n",
    "print('y3:', y3(A, x))"
   ]
  },
  {
   "cell_type": "code",
   "execution_count": 481,
   "metadata": {},
   "outputs": [],
   "source": [
    "def y1_v2(A, x):\n",
    "    if np.shape(A)[1] != np.shape(x)[0]:\n",
    "        raise ValueError(\"Drugi wymiar macierzy nie jest równy wymiarowi wektora\")\n",
    "        \n",
    "    for row in A:\n",
    "        for col in x:\n",
    "            return [sum([i*j for i, j in zip(z, x)]) for z in A]\n",
    "        \n",
    "        \n",
    "def y2_v2(A, x):\n",
    "    if np.shape(A)[1] != np.shape(x)[0]:\n",
    "        raise ValueError(\"Drugi wymiar macierzy nie jest równy wymiarowi wektora\")\n",
    "        \n",
    "    temp = []\n",
    "    for row in A:\n",
    "        np.dot(row, x)\n",
    "    return [np.dot(row, x) for row in A]"
   ]
  },
  {
   "cell_type": "code",
   "execution_count": 482,
   "metadata": {},
   "outputs": [
    {
     "name": "stdout",
     "output_type": "stream",
     "text": [
      "y1: [155, 77, 95]\n",
      "y2: [155, 77, 95]\n"
     ]
    }
   ],
   "source": [
    "print('y1:', y1_v2(A, x))\n",
    "print('y2:', y2_v2(A, x))"
   ]
  },
  {
   "cell_type": "code",
   "execution_count": 483,
   "metadata": {
    "deletable": false,
    "editable": false,
    "nbgrader": {
     "cell_type": "code",
     "checksum": "aa6da9af7cb1206c3df2be58505a6506",
     "grade": true,
     "grade_id": "cell-eff8a1c20f8fb28f",
     "locked": true,
     "points": 6,
     "schema_version": 3,
     "solution": false
    }
   },
   "outputs": [],
   "source": [
    "A = np.arange(12).reshape(3,4)\n",
    "x = np.arange(4)\n",
    "np.testing.assert_almost_equal(y1(A,x),np.array([14, 38, 62]))\n",
    "np.testing.assert_almost_equal(y2(A,x),np.array([14, 38, 62]))\n",
    "np.testing.assert_almost_equal(y3(A,x),np.array([14, 38, 62]))\n"
   ]
  },
  {
   "cell_type": "code",
   "execution_count": 484,
   "metadata": {
    "deletable": false,
    "editable": false,
    "nbgrader": {
     "cell_type": "code",
     "checksum": "be481014a09ef3b6ac045cfe8786bd0d",
     "grade": true,
     "grade_id": "cell-982fed0f9cd60244",
     "locked": true,
     "points": 1,
     "schema_version": 3,
     "solution": false
    }
   },
   "outputs": [],
   "source": [
    "try:\n",
    "    y1(np.arange(9).reshape(3,3),np.array([1,1]))\n",
    "except ValueError:\n",
    "    pass\n",
    "else:\n",
    "    raise AssertionError(\"Second dimension of matrix should be the same as dimension of vector!.\")"
   ]
  },
  {
   "cell_type": "markdown",
   "metadata": {
    "deletable": false,
    "editable": false,
    "lang": "pl",
    "nbgrader": {
     "cell_type": "markdown",
     "checksum": "bc98bdbc0600b6cc9dcd835ae8e7f69e",
     "grade": false,
     "grade_id": "cell-09f1ed20d38df5bd",
     "locked": true,
     "schema_version": 3,
     "solution": false
    }
   },
   "source": [
    "## Mnożenie macierzy\n",
    "\n",
    "Mamy dwie macierze $\\mathbf{A}_{m\\times n}$ i $\\mathbf{B}_{n\\times k}$. Napisać funkcję obliczającą ich iloczyn:\n",
    "\n",
    "$$\\mathbf{C}= \\mathbf{A}\\mathbf{B}$$.\n",
    "\n",
    "Każdy element macierzy  $\\mathbf{C}$ jest dany przez:\n",
    "\n",
    "$$c_{ij} = \\sum_{k=1}^{n} a_{ik} b_{kj} $$ \n",
    "\n",
    " - za pomocą iteracji po elementach (potrójna pętla)\n",
    " - korzystając z faktu, że każdy element macierzy $c_{ij}$ jest iloczynem skalarnym $i$-tego rzędu macierzy $\\mathbf A$ oraz  $j$-tego rzędu macierzy $\\mathbf B$ (podwójna pętla)\n",
    " - używając funkcji:  `np.dot` lub `np.tensordot` (bez pętli)\n",
    " "
   ]
  },
  {
   "cell_type": "code",
   "execution_count": 485,
   "metadata": {
    "deletable": false,
    "nbgrader": {
     "cell_type": "code",
     "checksum": "fb3cc25440d694e7d04f1f6f536dba71",
     "grade": false,
     "grade_id": "cell-bc5bc5d32ae48f5f",
     "locked": false,
     "schema_version": 3,
     "solution": true
    },
    "scrolled": true
   },
   "outputs": [],
   "source": [
    "def C1(A,B):\n",
    "    if np.shape(A)[1] != np.shape(B)[0]:\n",
    "        raise ValueError(\"Wymiary macierzy uniemożlwiają ich przemnożenie\")\n",
    "\n",
    "    temp = []\n",
    "    wynik =[]\n",
    "    \n",
    "    for i in range(np.shape(A)[0]):\n",
    "        for j in range(np.shape(B)[1]):\n",
    "            for k in range(np.shape(A)[1]):\n",
    "                #print(A[i][k], B[k][j], A[i][k] * B[k][j])\n",
    "                temp.append(A[i][k] * B[k][j])\n",
    "            suma = sum(temp)\n",
    "            wynik.append(suma)\n",
    "            temp.clear()\n",
    "            #print('WYNIK:', wynik)\n",
    "    \n",
    "    return np.array(wynik).reshape(np.shape(A)[0], np.shape(B)[1])\n",
    "\n",
    "\n",
    "# BŁĘDY MŁODOŚCI:\n",
    "#     temp = []\n",
    "#     wynik =[]\n",
    "    \n",
    "#     for i in range(np.shape(A)[1]):\n",
    "#         for j in range(np.shape(B)[0]):\n",
    "#             for k in range(np.shape(A)[0]):\n",
    "#                 print(A[i][k], B[k][j], A[i][k] * B[k][j])\n",
    "#                 temp.append(A[i][k] * B[k][j])\n",
    "#             suma = sum(temp)\n",
    "#             wynik.append(suma)\n",
    "#             temp.clear()\n",
    "    \n",
    "#     return np.array(wynik).reshape(np.shape(A)[1], np.shape(B)[0])\n",
    "    \n",
    "def C2(A,B):\n",
    "    if np.shape(A)[1] != np.shape(B)[0]:\n",
    "        raise ValueError(\"Wymiary macierzy uniemożlwiają ich przemnożenie\")\n",
    "    \n",
    "    temp = []\n",
    "    wynik = []\n",
    "    \n",
    "    for i in range(np.shape(A)[0]):\n",
    "        for j in range(np.shape(B)[0]):\n",
    "            temp.append(A[i][j] * B[j])\n",
    "    \n",
    "        suma = sum(temp)\n",
    "        wynik.append(suma)\n",
    "        temp.clear()\n",
    "    \n",
    "    arr = np.array(wynik)\n",
    "    return arr\n",
    "\n",
    "\n",
    "def C3(A,B):\n",
    "    if np.shape(A)[1] != np.shape(B)[0]:\n",
    "        raise ValueError(\"Wymiary macierzy uniemożlwiają ich przemnożenie\")\n",
    "        \n",
    "    return np.dot(A, B)"
   ]
  },
  {
   "cell_type": "code",
   "execution_count": 486,
   "metadata": {},
   "outputs": [
    {
     "name": "stdout",
     "output_type": "stream",
     "text": [
      "[[1. 1. 1. 1. 1.]\n",
      " [1. 1. 1. 1. 1.]\n",
      " [1. 1. 1. 1. 1.]\n",
      " [1. 1. 1. 1. 1.]] \n",
      "\n",
      " [[0 1]\n",
      " [2 3]\n",
      " [4 5]\n",
      " [6 7]\n",
      " [8 9]] \n",
      "\n",
      "[[20. 25.]\n",
      " [20. 25.]\n",
      " [20. 25.]\n",
      " [20. 25.]] \n",
      "\n",
      "[[20. 25.]\n",
      " [20. 25.]\n",
      " [20. 25.]\n",
      " [20. 25.]] \n",
      "\n",
      "[[20. 25.]\n",
      " [20. 25.]\n",
      " [20. 25.]\n",
      " [20. 25.]] \n",
      "\n"
     ]
    }
   ],
   "source": [
    "A, B = np.ones((4,5)), np.arange(10).reshape(5,2)\n",
    "print(A, '\\n\\n', B, '\\n')\n",
    "\n",
    "print(C1(A, B), '\\n')\n",
    "print(C2(A, B), '\\n')\n",
    "print(C3(A, B), '\\n')\n"
   ]
  },
  {
   "cell_type": "code",
   "execution_count": 487,
   "metadata": {
    "deletable": false,
    "editable": false,
    "nbgrader": {
     "cell_type": "code",
     "checksum": "73293094ccd20f33e1f82e60beadb227",
     "grade": true,
     "grade_id": "cell-fdb6f13441a02162",
     "locked": true,
     "points": 6,
     "schema_version": 3,
     "solution": false
    }
   },
   "outputs": [],
   "source": [
    "m = np.arange(9).reshape(3,3)\n",
    "assert np.prod(C1(np.eye(3),m) == m)\n",
    "assert np.prod(C1(m,m) == C3(m,m))\n",
    "assert np.prod(C2(m,m) == C3(m,m))\n",
    "\n",
    "\n",
    "A,B = np.ones((4,5)),np.arange(10).reshape(5,2)\n",
    "assert C1(A,B).shape == (4,2)\n",
    "assert C2(A,B).shape == (4,2)\n",
    "assert C3(A,B).shape == (4,2)\n",
    "\n",
    "np.testing.assert_allclose(C1(A,B), A.dot(B))\n",
    "np.testing.assert_allclose(C2(A,B), A.dot(B))\n",
    "np.testing.assert_allclose(C3(A,B), A.dot(B))\n",
    "\n"
   ]
  },
  {
   "cell_type": "code",
   "execution_count": 488,
   "metadata": {
    "deletable": false,
    "editable": false,
    "nbgrader": {
     "cell_type": "code",
     "checksum": "afeb3f794745ca029d450ce78004e538",
     "grade": true,
     "grade_id": "cell-f8df427efe4ce6de",
     "locked": true,
     "points": 1,
     "schema_version": 3,
     "solution": false
    }
   },
   "outputs": [],
   "source": [
    "try:\n",
    "    C1(np.arange(9).reshape(3,3),np.ones((2,3)))\n",
    "except ValueError:\n",
    "    pass\n",
    "else:\n",
    "    raise AssertionError(\"Second dimension of matrix should be the same as dimension of vector!.\")"
   ]
  },
  {
   "cell_type": "markdown",
   "metadata": {
    "deletable": false,
    "editable": false,
    "lang": "pl",
    "nbgrader": {
     "cell_type": "markdown",
     "checksum": "a89e1cedc1197748ecee6cec5e31c2a3",
     "grade": false,
     "grade_id": "cell-f05ced306d8aac81",
     "locked": true,
     "schema_version": 3,
     "solution": false
    }
   },
   "source": [
    "## Ślad macierzy\n",
    "\n",
    "Śladem macierzy nazywamy sumę elementów na przekątnej: \n",
    "\n",
    "$$ Tr(A) = \\sum_{i=1}^{n} a_{ii}$$\n",
    "\n",
    "\n",
    "Obliczyć ślad macierzy $n\\times n$.\n",
    "\n"
   ]
  },
  {
   "cell_type": "code",
   "execution_count": 489,
   "metadata": {
    "deletable": false,
    "nbgrader": {
     "cell_type": "code",
     "checksum": "e062ca353e0e2cfffd61d698be3b6697",
     "grade": false,
     "grade_id": "cell-6cfbc4d0c3f5e8a4",
     "locked": false,
     "schema_version": 3,
     "solution": true
    }
   },
   "outputs": [],
   "source": [
    "def Tr(A):\n",
    "    #print(np.shape(A))\n",
    "    if np.shape(A)[0] != np.shape(A)[1]:\n",
    "        raise ValueError\n",
    "    \n",
    "    output = 0\n",
    "    for i in range(len(A)):\n",
    "        output += A[i][i]\n",
    "    return output"
   ]
  },
  {
   "cell_type": "code",
   "execution_count": 490,
   "metadata": {},
   "outputs": [
    {
     "name": "stdout",
     "output_type": "stream",
     "text": [
      "24\n"
     ]
    }
   ],
   "source": [
    "A1 = np.array([[10, 6, 7], [3, 9, 1], [5, 5, 5]]) \n",
    "print(Tr(A1))"
   ]
  },
  {
   "cell_type": "code",
   "execution_count": 491,
   "metadata": {
    "deletable": false,
    "editable": false,
    "nbgrader": {
     "cell_type": "code",
     "checksum": "e8dbf5a790e4aec1a8e24e5e82c28fec",
     "grade": true,
     "grade_id": "cell-6fcc4a8c88b8f364",
     "locked": true,
     "points": 2,
     "schema_version": 3,
     "solution": false
    }
   },
   "outputs": [],
   "source": [
    "assert Tr(np.diag([1,2,3,4])) == 10"
   ]
  },
  {
   "cell_type": "code",
   "execution_count": 492,
   "metadata": {
    "deletable": false,
    "editable": false,
    "nbgrader": {
     "cell_type": "code",
     "checksum": "c580540de23dbaef7e47fafc8f072ebc",
     "grade": true,
     "grade_id": "cell-3a491937c81d5cfd",
     "locked": true,
     "points": 1,
     "schema_version": 3,
     "solution": false
    },
    "scrolled": true
   },
   "outputs": [],
   "source": [
    "try:\n",
    "    Tr(np.ones((2,3)))\n",
    "except ValueError:\n",
    "    pass\n",
    "else:\n",
    "    raise AssertionError(\"The matrix should be square matrix!.\")"
   ]
  },
  {
   "cell_type": "markdown",
   "metadata": {
    "deletable": false,
    "editable": false,
    "lang": "pl",
    "nbgrader": {
     "cell_type": "markdown",
     "checksum": "ec2840645adad87fde71b56e15995d82",
     "grade": false,
     "grade_id": "cell-66c1029b120699b7",
     "locked": true,
     "schema_version": 3,
     "solution": false
    }
   },
   "source": [
    "## Wyznacznik macierzy\n",
    "\n",
    "Obliczyć wyznacznik macierzy korzystając z rozwinięcia [Laplace'a](https://pl.wikipedia.org/wiki/Rozwini%C4%99cie_Laplace%E2%80%99a)\n"
   ]
  },
  {
   "cell_type": "code",
   "execution_count": 493,
   "metadata": {
    "deletable": false,
    "editable": false,
    "nbgrader": {
     "cell_type": "code",
     "checksum": "655eae17b8e2fec9aca8a7e654f93a0c",
     "grade": false,
     "grade_id": "cell-7456ee5b5864dafa",
     "locked": true,
     "schema_version": 3,
     "solution": false
    }
   },
   "outputs": [],
   "source": [
    "import numpy as np\n",
    "A = np.random.randint(4,size=(4,4)).astype(np.float)\n",
    "x = np.random.randint(4,size=4)"
   ]
  },
  {
   "cell_type": "code",
   "execution_count": 494,
   "metadata": {},
   "outputs": [
    {
     "name": "stdout",
     "output_type": "stream",
     "text": [
      "[[0. 3. 2. 0.]\n",
      " [3. 2. 2. 3.]\n",
      " [0. 1. 3. 2.]\n",
      " [2. 2. 3. 3.]] \n",
      "\n",
      " [3 0 0 2]\n"
     ]
    }
   ],
   "source": [
    "print(A, '\\n\\n', x)"
   ]
  },
  {
   "cell_type": "code",
   "execution_count": 495,
   "metadata": {
    "deletable": false,
    "nbgrader": {
     "cell_type": "code",
     "checksum": "b4104b4157b83d63f161ae49abbc90ec",
     "grade": false,
     "grade_id": "cell-a6b07fe35339bafe",
     "locked": false,
     "schema_version": 3,
     "solution": true
    }
   },
   "outputs": [],
   "source": [
    "def Le(A):\n",
    "    temp = []\n",
    "    \n",
    "    if A.shape[0] > 2:\n",
    "        for j in range(0, A.shape[1]):\n",
    "            new_A = A[:]\n",
    "            #print('*1*:\\n', new_A, '\\n')\n",
    "            new_A = new_A[1:]\n",
    "            #print('*2*:\\n', new_A, '\\n')\n",
    "            new_A = np.delete(new_A, j, 1)\n",
    "            #print('*3*:\\n', new_A, '\\n')\n",
    "            mult = A[0][j] * ((-1)**(2+j))\n",
    "            \n",
    "            det = Le(new_A)\n",
    "            temp.append(mult * det)\n",
    "        return sum(temp)\n",
    "    else:\n",
    "        return A[0][0]*A[1][1] - A[0][1]*A[1][0]\n"
   ]
  },
  {
   "cell_type": "code",
   "execution_count": 496,
   "metadata": {},
   "outputs": [
    {
     "data": {
      "text/plain": [
       "-1"
      ]
     },
     "execution_count": 496,
     "metadata": {},
     "output_type": "execute_result"
    }
   ],
   "source": [
    "dett = np.array([[1,1,2],[2,3,4],[3,4,5]])\n",
    "Le(dett)"
   ]
  },
  {
   "cell_type": "code",
   "execution_count": 497,
   "metadata": {
    "deletable": false,
    "editable": false,
    "nbgrader": {
     "cell_type": "code",
     "checksum": "398778bc811cf3a139e8fa0548a5a0dc",
     "grade": true,
     "grade_id": "cell-dac69a3e1b14c456",
     "locked": true,
     "points": 10,
     "schema_version": 3,
     "solution": false
    }
   },
   "outputs": [],
   "source": [
    "A = np.array([[ 1.,  3.,  0.,  0.],[ 3.,  2.,  3.,  2.],[ 1.,  2.,  2.,  2.],[ 1.,  0.,  0.,  3.]])\n",
    "np.testing.assert_allclose( Le(A), np.linalg.det(A) )"
   ]
  }
 ],
 "metadata": {
  "kernelspec": {
   "display_name": "Python 3",
   "language": "python",
   "name": "python3"
  },
  "language_info": {
   "codemirror_mode": {
    "name": "ipython",
    "version": 3
   },
   "file_extension": ".py",
   "mimetype": "text/x-python",
   "name": "python",
   "nbconvert_exporter": "python",
   "pygments_lexer": "ipython3",
   "version": "3.7.4"
  },
  "nbTranslate": {
   "displayLangs": [
    "pl",
    "en"
   ],
   "hotkey": "alt-t",
   "langInMainMenu": true,
   "sourceLang": "pl",
   "targetLang": "en",
   "useGoogleTranslate": true
  }
 },
 "nbformat": 4,
 "nbformat_minor": 2
}
