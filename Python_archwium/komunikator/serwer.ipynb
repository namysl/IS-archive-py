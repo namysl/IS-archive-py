{
 "cells": [
  {
   "cell_type": "code",
   "execution_count": null,
   "metadata": {},
   "outputs": [],
   "source": [
    "import socket \n",
    "import threading\n",
    "\n",
    "port = 9922\n",
    "\n",
    "proto = socket.getprotobyname('tcp')\n",
    "serv = socket.socket(socket.AF_INET, socket.SOCK_STREAM)\n",
    "serv.bind((\"localhost\", port))\n",
    "client_sockets = set()\n",
    "print(\"[SERWER START]\")\n",
    "print(\"[PORT: {}]\".format(port))\n",
    "serv.listen(5)\n",
    "\n",
    "\n",
    "def clients_msg(client):\n",
    "    while True:\n",
    "        try:\n",
    "            msg = client.recv(1024).decode()\n",
    "        except Exception:\n",
    "            print(\"[BŁĄD]\")\n",
    "            client_sockets.remove(client)\n",
    "        for socket in client_sockets:\n",
    "            socket.send(msg.encode())\n",
    "\n",
    "            \n",
    "while True:\n",
    "    conn, addr = serv.accept()\n",
    "    print('[{} POŁĄCZONY]'.format(addr))\n",
    "    client_sockets.add(conn)\n",
    "    thr = threading.Thread(target=clients_msg, args=(conn, ))\n",
    "    thr.daemon = True\n",
    "    thr.start()\n",
    "\n",
    "    \n",
    "for client in client_sockets:\n",
    "    client.close()\n",
    "    \n",
    "\n",
    "serv.close()\n"
   ]
  },
  {
   "cell_type": "code",
   "execution_count": null,
   "metadata": {},
   "outputs": [],
   "source": []
  }
 ],
 "metadata": {
  "kernelspec": {
   "display_name": "Python 3",
   "language": "python",
   "name": "python3"
  },
  "language_info": {
   "codemirror_mode": {
    "name": "ipython",
    "version": 3
   },
   "file_extension": ".py",
   "mimetype": "text/x-python",
   "name": "python",
   "nbconvert_exporter": "python",
   "pygments_lexer": "ipython3",
   "version": "3.7.3"
  }
 },
 "nbformat": 4,
 "nbformat_minor": 4
}
