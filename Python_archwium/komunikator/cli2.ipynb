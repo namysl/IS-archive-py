{
 "cells": [
  {
   "cell_type": "code",
   "execution_count": null,
   "metadata": {},
   "outputs": [],
   "source": [
    "import socket\n",
    "import random\n",
    "from threading import Thread\n",
    "from datetime import datetime\n",
    "\n",
    "# server's IP address\n",
    "# if the server is not on this machine, \n",
    "# put the private (network) IP address (e.g 192.168.1.2)\n",
    "SERVER_HOST = \"127.0.0.1\"\n",
    "SERVER_PORT = 5002 # server's port\n",
    "separator_token = \"<SEP>\" # we will use this to separate the client name & message\n",
    "\n",
    "# initialize TCP socket\n",
    "s = socket.socket()\n",
    "print(f\"[*] Connecting to {SERVER_HOST}:{SERVER_PORT}...\")\n",
    "# connect to the server\n",
    "s.connect((SERVER_HOST, SERVER_PORT))\n",
    "print(\"[+] Connected.\")\n",
    "# prompt the client for a name\n",
    "name = input(\"Enter your name: \")\n",
    "\n",
    "def listen_for_messages():\n",
    "    while True:\n",
    "        message = s.recv(1024).decode()\n",
    "        print(\"\\n\" + message)\n",
    "\n",
    "# make a thread that listens for messages to this client & print them\n",
    "t = Thread(target=listen_for_messages)\n",
    "# make the thread daemon so it ends whenever the main thread ends\n",
    "t.daemon = True\n",
    "# start the thread\n",
    "t.start()\n",
    "\n",
    "while True:\n",
    "    # input message we want to send to the server\n",
    "    to_send =  input()\n",
    "    # a way to exit the program\n",
    "    if to_send.lower() == 'q':\n",
    "        break\n",
    "    # add the datetime, name & the color of the sender\n",
    "    date_now = datetime.now().strftime('%Y-%m-%d %H:%M:%S') \n",
    "    to_send = f\"[{date_now}] {name}{separator_token}{to_send}\"\n",
    "    # finally, send the message\n",
    "    s.send(to_send.encode())\n",
    "\n",
    "# close the socket\n",
    "s.close()"
   ]
  },
  {
   "cell_type": "code",
   "execution_count": null,
   "metadata": {},
   "outputs": [],
   "source": []
  }
 ],
 "metadata": {
  "kernelspec": {
   "display_name": "Python 3",
   "language": "python",
   "name": "python3"
  },
  "language_info": {
   "codemirror_mode": {
    "name": "ipython",
    "version": 3
   },
   "file_extension": ".py",
   "mimetype": "text/x-python",
   "name": "python",
   "nbconvert_exporter": "python",
   "pygments_lexer": "ipython3",
   "version": "3.7.3"
  }
 },
 "nbformat": 4,
 "nbformat_minor": 2
}
