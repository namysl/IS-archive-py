{
 "cells": [
  {
   "cell_type": "markdown",
   "metadata": {},
   "source": [
    "#### Kolokwium 1. \n",
    "\n",
    "Można korzystać z własnych notatek, kodów itp. ale nie z pomocy innych osób - zadania z tym samym kodem będą oceniane na 0 pkt."
   ]
  },
  {
   "cell_type": "markdown",
   "metadata": {},
   "source": [
    "#### Zadanie 1 (30 pkt)\n",
    "\n",
    "Napisz program, w którym pytamy użytkownika o jego dane: imię, nazwisko, numer miejsca w samolocie - prawidłowy format to 25D (01-38, A-F). W przypadku podania złych danych informujemy użytkownika o tym i prosimy o poprawę (do momentu, aż będą poprawne). Następnie należy je wypisać.\n",
    "\n",
    "Dla danych: `jAn` `kowalski`, `25f` należy je wyświetlić w następujacy sposób: \n",
    "\n",
    "”Jan KOWALSKI, miejsce: 25F, skrót: JK25F”."
   ]
  },
  {
   "cell_type": "code",
   "execution_count": 1,
   "metadata": {},
   "outputs": [
    {
     "name": "stdout",
     "output_type": "stream",
     "text": [
      "Podaj imie: \n",
      "Podaj nazwisko: \n",
      "Podaj numer miejsca: \n",
      "Prosze poprawic dane dt. miejsca\n",
      "Podaj numer miejsca: \n",
      "Prosze poprawic dane dt. miejsca\n",
      "Podaj numer miejsca: \n",
      "Prosze poprawic dane dt. miejsca\n",
      "Podaj numer miejsca: \n",
      "Kam WIELGUS , miejsce: 16A , skrot: KW16A\n"
     ]
    }
   ],
   "source": [
    "lista_litery = [\"A\", \"B\", \"C\", \"D\", \"E\", \"F\"]\n",
    "lista_liczby1 = [\"01\", \"02\", \"03\", \"04\", \"05\", \"06\", \"07\", \"08\", \"09\"]\n",
    "lista_liczby2 = [str(x) for x in range(10, 39)]\n",
    "lista_liczby = lista_liczby1 + lista_liczby2\n",
    "\n",
    "print(\"Podaj imie: \")\n",
    "imie = input()\n",
    "print(\"Podaj nazwisko: \")\n",
    "nazwisko = input()\n",
    "\n",
    "while True:\n",
    "    print(\"Podaj numer miejsca: \")\n",
    "    miejsce = input()\n",
    "    \n",
    "    if miejsce[0:2] in lista_liczby:\n",
    "        if miejsce[2] in lista_litery:\n",
    "            break\n",
    "        else:\n",
    "            print(\"Prosze poprawic dane dt. miejsca\")\n",
    "            continue\n",
    "    else:\n",
    "        print(\"Prosze poprawic dane dt. miejsca\")\n",
    "        continue\n",
    "\n",
    "print(imie.title(), nazwisko.upper(), \", miejsce:\", miejsce, \", skrot:\", imie[0].upper()+nazwisko[0].upper()+miejsce)"
   ]
  },
  {
   "cell_type": "markdown",
   "metadata": {},
   "source": [
    "#### Zadanie 2 (15 pkt)\n",
    "\n",
    "Korzystając z **wyrażenia listowego** stwórz listę liczb nieparzystych z przedziału $[a,b], a,b\\in\\mathbb{Z}$, które są podzielne przez 7."
   ]
  },
  {
   "cell_type": "code",
   "execution_count": 3,
   "metadata": {},
   "outputs": [
    {
     "name": "stdout",
     "output_type": "stream",
     "text": [
      "Podaj a: \n",
      "Podaj b: \n",
      "[7]\n"
     ]
    }
   ],
   "source": [
    "print(\"Podaj a: \")\n",
    "a = int(input())\n",
    "print(\"Podaj b: \")\n",
    "b = int(input())\n",
    "\n",
    "lista2 = [x for x in range (a, b+1) if x % 2 == 1 and x % 7 == 0]\n",
    "\n",
    "print(lista2)"
   ]
  },
  {
   "cell_type": "markdown",
   "metadata": {},
   "source": [
    "#### Zadanie 3 (30 pkt)\n",
    "\n",
    "Stwórz 20-elementową listę losowych liczb mniejszych niż 15.\n",
    "\n",
    "Następnie wypisz element minimalny oraz wszystkie indeksy listy, gdzie ten element się znajduje."
   ]
  },
  {
   "cell_type": "code",
   "execution_count": 4,
   "metadata": {},
   "outputs": [
    {
     "name": "stdout",
     "output_type": "stream",
     "text": [
      "[-2, 0, 11, 12, -11, 0, 6, 14, -14, 11, 6, -12, 0, -9, -2, 5, 7, -14, -15, 3]\n",
      "element minimalny: -15 indeksy elementu minimalnego: [18]\n"
     ]
    }
   ],
   "source": [
    "import random\n",
    "\n",
    "lista3 = []\n",
    "\n",
    "for x in range(20):\n",
    "    lista3.append(random.randint(-15, 15))\n",
    "\n",
    "minimum = min(lista3)\n",
    "indeks = 0\n",
    "indeksy_min = []  # wszystkie\n",
    "\n",
    "print(lista3)\n",
    "\n",
    "for x in lista3:\n",
    "    if x == minimum:\n",
    "        indeksy_min.append(indeks)\n",
    "    indeks += 1\n",
    "\n",
    "print(\"element minimalny:\", minimum, \"indeksy elementu minimalnego:\", indeksy_min)"
   ]
  },
  {
   "cell_type": "markdown",
   "metadata": {},
   "source": [
    "#### Zadanie 4 (25 pkt)\n",
    "\n",
    "Napisz program, który będzie przeliczał złotówki na inną walutę wybraną przez użytkownika. Do wyboru mamy: euro, dolary, funty, korony czeskie. Waluty wraz z odpowiednimi kursami należy zapisać w słowniku. Przeliczoną kwotę należy wypisać używając formatowania (do 2. miejsca po przecinku)."
   ]
  },
  {
   "cell_type": "code",
   "execution_count": 6,
   "metadata": {},
   "outputs": [
    {
     "name": "stdout",
     "output_type": "stream",
     "text": [
      "Podaj walute: \n",
      "Podaj kwote: \n",
      "po przeliczeniu: 25.17\n"
     ]
    }
   ],
   "source": [
    "slownik = {\"euro\" : 4.56 , \"dolary\" : 3.78, \"funty\" : 5.28, \"korony czeskie\" : 0.18}\n",
    "\n",
    "print(\"Podaj walute: \")\n",
    "waluta = input()\n",
    "\n",
    "print(\"Podaj kwote: \")\n",
    "kwota = float(input())\n",
    "\n",
    "przeliczone = (kwota * slownik[waluta])\n",
    "\n",
    "print(\"po przeliczeniu:\", \"%.2f\" % przeliczone)"
   ]
  },
  {
   "cell_type": "code",
   "execution_count": null,
   "metadata": {},
   "outputs": [],
   "source": []
  },
  {
   "cell_type": "code",
   "execution_count": null,
   "metadata": {},
   "outputs": [],
   "source": []
  }
 ],
 "metadata": {
  "kernelspec": {
   "display_name": "Python 3",
   "language": "python",
   "name": "python3"
  },
  "language_info": {
   "codemirror_mode": {
    "name": "ipython",
    "version": 3
   },
   "file_extension": ".py",
   "mimetype": "text/x-python",
   "name": "python",
   "nbconvert_exporter": "python",
   "pygments_lexer": "ipython3",
   "version": "3.6.7"
  }
 },
 "nbformat": 4,
 "nbformat_minor": 2
}
