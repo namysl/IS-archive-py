{
 "cells": [
  {
   "cell_type": "markdown",
   "metadata": {
    "colab_type": "text",
    "id": "537aWMc9HfO2"
   },
   "source": [
    "# Algorytmy i programowanie\n",
    "\n",
    "## lab 05 (algorytmy) - problem wyszukiwania wartości wyróżnionej w zbiorze\n",
    "\n",
    "Jest to uzupełnienie (zamiennik) wykładu. Omówimy sobie jak znajdywać **wierzchołek** w liście 1D oraz jak się dowiedzieć **czy dany element w liście występuje**. \n",
    "\n",
    "> **Uwaga 1** treść z gwiazdką `*` jest ponadpodstawowa\n",
    "\n",
    "Będzie to w zasadzie pierwsze spotkanie z algorytmmami. Proszę sobie poszukać definicji (Cormen), co to takiego jest algorytm. "
   ]
  },
  {
   "cell_type": "code",
   "execution_count": null,
   "metadata": {
    "colab": {},
    "colab_type": "code",
    "id": "ri7oPMCVHfO6"
   },
   "outputs": [],
   "source": []
  },
  {
   "cell_type": "markdown",
   "metadata": {
    "colab_type": "text",
    "id": "F12WEh0cHfP3"
   },
   "source": [
    "## Wierzchołek listy\n",
    "\n",
    "Powtarzając za wykładem, wierzchołek niepustej listy L możemy zdefiniować jako **pozycję** (indeks) $k$ w tablicy (liście, krotce - numerowanej strukturze), dla której spełnione mamy nierówności\n",
    "\n",
    "$$L[k] \\ge L[k-1] \\;\\;\\text{oraz}\\;\\;  L[k] \\ge L[k+1]$$\n",
    "\n",
    "Wierzchołkiem jest pozycja (indeks) a nie wartość. Przykładowo\n",
    "\n",
    "* w liście `[1, 2, 3, 4, 3, 2, 1]`, wierzchołkiem będzie indeks `k = 3`\n",
    "* w liście `[40, 30, 20, 10, 0, 10, 20]`, wierzchołki będą dwa: `k = 0` oraz `k = -1`\n",
    "* w liście `[3, 6, 9, 9, 9]`, wierzchołki będą trzy: `k = 2, 3, 4`\n",
    "\n",
    "Jak widać, ta definicja gwarantuje, że nie można zbudować listy liczb, która nie będzie miała wierzchołka.\n",
    "\n",
    "> **Uwaga** Problem znajdowania wierzchołka w takiej nieuporządkowanej liście jest oczywiście szerszy. Nie zawsze będziemy szukali największej wartości, czasami będzie to najmniejsza. W ogólności chodzi o wyszukiwanie wartości wyróżnionej w nieuporządkowanym zbiorze. Wyróżnienie nie musi polegać na wielkości liczb - może być to dowolna cecha, dla której możemy zdefiniować relację pomiędzy elementami zbioru. Proszę sobie przypomnieć jak programowaliśmy funkcje `__ge__` w przypadku klasy `Kwadrat`. Mając listę instancji tej klasy też możemy znaleźć w niej wierzchołek, ponieważ zadziałają nam relacje większości i równości.\n"
   ]
  },
  {
   "cell_type": "code",
   "execution_count": null,
   "metadata": {
    "colab": {},
    "colab_type": "code",
    "id": "7xqIeebmHfP5"
   },
   "outputs": [],
   "source": []
  },
  {
   "cell_type": "markdown",
   "metadata": {
    "colab_type": "text",
    "id": "dnEuSIpOHfQR"
   },
   "source": [
    "Zanim przejdziemy do szukania, należy podkreślić, że celem jest znalezienie *jakiegokolwiek* wierzchołka, nie *wszystkich* wierzchołków. Wystarczy nam jeden, którykolwiek - nie musi być pierwszy.\n",
    "\n",
    "### Algorytm naiwny wyszykiwania wierzchołka w liście 1D\n",
    "\n",
    "To do dzieła - pierwszy algorytm wyszukiwania będzie oczywiście siłowy. Załóżmy, że mamy listę `L` liczb\n",
    "\n",
    "    L = [a, b, c, d, e]\n",
    "\n",
    "Przecież wystarczy zerknąć w każdy element listy `L` **po kolei** i sprawdzić, czy wartości u sąsiadów są mniejsze lub równe. Jeżeli tak - mamy wierzchołek. \n",
    "\n",
    "#### Algorytm\n",
    "\n",
    "Mamy 4 przypadki:\n",
    "* dla 1-elementowej listy wierzchołek jest oczywisty\n",
    "* jeżeli pierwszy element listy `L[0]` (a) jest większy od drugiego elementu `L[1]` (b) to wierzchołkiem jest `k = 0`\n",
    "* wierzchołek jest gdzieś w środku listy `L` pod jakimś indeksem `k`, tak że dla każdego elementu, oprócz początkowego i końcowego, należy spojrzeć w prawo na element kolejny `L[k+1]` jak i w lewo na element poprzedzający `L[k-1]`, jeżeli jakikolwiek element spełnia nam definicję, to należy zwrócić indeks tego elementu\n",
    "* jeżeli ostatni element `L[-1]` (e) jest większy od przedostatniego `L[-2]` (d) to wierzchołkiem jest ostatni element listy `k = len(L) - 1`"
   ]
  },
  {
   "cell_type": "code",
   "execution_count": null,
   "metadata": {
    "colab": {},
    "colab_type": "code",
    "id": "01WRg7ZbHfQz"
   },
   "outputs": [],
   "source": [
    "def peak_1d_naive(L):\n",
    "    \"\"\"Naive algorithm for 1D peak detection\"\"\"\n",
    "    assert L, \"L has to be a non empty list\"\n",
    "    \n",
    "    # jednoelementowa lista\n",
    "    if len(L) == 1:\n",
    "        return 0\n",
    "    \n",
    "    # przypadek gdy wierzcholek jest na pierwszej pozycji listy\n",
    "    if L[0] >= L[1]:\n",
    "        return 0\n",
    "        \n",
    "    # przypadek gdy wierzcholek jest innej pozycji, gdzies w srodku listy\n",
    "    for k in range(1, len(L) - 1):\n",
    "        if L[k - 1] <= L[k] >= L[k + 1]:\n",
    "            return k\n",
    "        \n",
    "    # przypadek gdy wierzcholek jest na ostatniej pozycji listy\n",
    "    if L[-1] >= L[-2]:\n",
    "        return len(L) - 1"
   ]
  },
  {
   "cell_type": "markdown",
   "metadata": {
    "colab_type": "text",
    "id": "iIXFOJsmHfRu"
   },
   "source": [
    "Oczywiście można napisać tą funkcję nieco lepiej (patrz wykład), ale tutaj widać wszystkie kolejne przypadki wyróżnione w opisie algorytmu. "
   ]
  },
  {
   "cell_type": "code",
   "execution_count": null,
   "metadata": {
    "colab": {},
    "colab_type": "code",
    "id": "32BYK9geHfR3",
    "outputId": "1fa3722b-56be-400e-844d-f524c50c6c8a"
   },
   "outputs": [
    {
     "name": "stdout",
     "output_type": "stream",
     "text": [
      "[1] --> 0\n",
      "[1, 2, 3, 4, 5] --> 4\n",
      "[5, 4, 3, 2, 1] --> 0\n",
      "[1, 2, 3, 2, 1] --> 2\n",
      "[1, 1, 1, 1, 1] --> 0\n",
      "[0, 1, 1, 1, 0] --> 1\n",
      "[0, 1, 0, 1, 0] --> 1\n"
     ]
    }
   ],
   "source": [
    "# testy\n",
    "L0 = [1]\n",
    "L1 = [1, 2, 3, 4, 5]  # 4 lub -1\n",
    "L2 = [5, 4, 3, 2, 1]  # 0\n",
    "L3 = [1, 2, 3, 2, 1]  # 2\n",
    "L4 = [1, 1, 1, 1, 1]  # 0\n",
    "L5 = [0, 1, 1, 1, 0]  # 1\n",
    "L6 = [0, 1, 0, 1, 0]  # 1\n",
    "\n",
    "for L in [L0, L1, L2, L3, L4, L5, L6]:\n",
    "    print(L, \"-->\", peak_1d_naive(L))"
   ]
  },
  {
   "cell_type": "markdown",
   "metadata": {
    "colab_type": "text",
    "id": "sOQ58gvpHfUt"
   },
   "source": [
    "Jaka będzie złożoność obliczeniowa tego algorytmu? \n",
    "\n",
    "W pesymistycznym przypadku wierzchołek będzie znajdował się na ostatniej pozycji, to mamy dwa sprawdzenia (dwie instrukcje `if`) o złożoności $\\mathcal{O}(1)$ oraz jedną pętlę z $|L| - 2$ wywołaniami o złożoności $\\mathcal{O}(|L|)$. Jeżeli oznaczymy długość listy `|L|` jako $n$, to asymptotyczna złożoność obiczeniowa tego algorytmu będzie liniowa $\\mathcal{O}(n)$.\n",
    "\n",
    "Da się lepiej?\n",
    "\n",
    "Oczywiście, że się da - trzeba rozbić problem na podproblemy, posprawdzać na mniejszych danych... Znają już Państwo tą strategię - Dziel i Zwyciężaj, a problem jest znów binarny...\n",
    "\n",
    "### Binarny algorytm wyszukiwania wierzchołka w liście 1D\n",
    "\n",
    "Znów zakładamy, że mamy listę liczb `L` o dlugości `n = len(L)`. \n",
    "\n",
    "#### Algorytm\n",
    "\n",
    "1. Jeżeli lista jest 1 elementowa to sprawa jest oczywista, zwracamy `0`.\n",
    "\n",
    "2. Wybieramy sobie środek tej listy `k = n // 2` i patrzymy czy jest wierzchołkiem - sprawdzamy definicję wierzchołka, czyli patrzymy czy \n",
    "    \n",
    "        L[k - 1] <= L[k]   oraz   L[k] >= L[k + 1]\n",
    "    \n",
    "    Jeżeli tak: koniec szukania, mamy odpowiedź, jeżeli nie, to...\n",
    "\n",
    "3. ...jeżeli nie to patrzymy, czy większy element jest po lewej (niższy indeks) czy po prawej (wyższy indeks). Jeżeli po lewej to odrzucamy całą prawą stronę listy (indeksy większe niż `n // 2`) i skupiamy się na liście \n",
    "   \n",
    "        L <- L[:n//2] \n",
    "        \n",
    "    jeżeli po prawej, to odrzucamy całą lewą stronę listy (indeksy mniejsze niż `n//2`) i skupiamy się na liście \n",
    "    \n",
    "        L <- L[n//2+1:]\n",
    "        \n",
    "    i wracamy do punktu 1\n",
    "    \n",
    "> **Uwaga** musimy pamiętać oryginalną długość listy!"
   ]
  },
  {
   "cell_type": "code",
   "execution_count": null,
   "metadata": {
    "colab": {},
    "colab_type": "code",
    "id": "R3aKqXjKHfUw"
   },
   "outputs": [],
   "source": [
    "def peak_1d_bin(L):\n",
    "    \"\"\"Binary version for 1D peak detection\"\"\"\n",
    "    assert L, \"L has to be a non empty list\"\n",
    "    _L = L[:]\n",
    "    n = len(L)\n",
    "    \n",
    "    # list with one single element\n",
    "    if n == 1:\n",
    "        return 0\n",
    "\n",
    "    rec = 0\n",
    "    k = n // 2 - 1\n",
    "    while len(_L) > 1:\n",
    "        if _L[k+1] > _L[k]:\n",
    "            rec += k + 1\n",
    "            _L = _L[k+1:]\n",
    "        elif _L[k-1] > _L[k]:\n",
    "            _L = _L[:k]\n",
    "        else:\n",
    "            return rec + k\n",
    "        k = len(_L) // 2 - 1\n",
    "    else:\n",
    "        return rec + k + 1"
   ]
  },
  {
   "cell_type": "markdown",
   "metadata": {
    "colab_type": "text",
    "id": "13oefBO5HfWC"
   },
   "source": [
    "Funkcja ta ma większy sens rekurencyjnie (patrz wykład), ale i ta zadziała."
   ]
  },
  {
   "cell_type": "code",
   "execution_count": null,
   "metadata": {
    "colab": {},
    "colab_type": "code",
    "id": "G2TWpsWaHfWE",
    "outputId": "14f2a663-c76b-4f1c-88b2-8780f6952890"
   },
   "outputs": [
    {
     "name": "stdout",
     "output_type": "stream",
     "text": [
      "[1] --> 0\n",
      "[1, 2, 3, 4, 5] --> 4\n",
      "[5, 4, 3, 2, 1] --> 0\n",
      "[1, 2, 3, 2, 1] --> 2\n",
      "[1, 1, 1, 1, 1] --> 1\n",
      "[0, 1, 1, 1, 0] --> 1\n",
      "[0, 1, 0, 1, 0] --> 1\n"
     ]
    }
   ],
   "source": [
    "#testy\n",
    "for L in [L0, L1, L2, L3, L4, L5, L6]:\n",
    "    print(L, \"-->\", peak_1d_bin(L))"
   ]
  },
  {
   "cell_type": "markdown",
   "metadata": {
    "colab_type": "text",
    "id": "OcaqKr2oHfXB"
   },
   "source": [
    "Zobaczmy poniżej dla naszych prostych testów, że nie zawsze dostaniemy taką samą odpowiedź jak w przypadku algorytmu naiwnego!"
   ]
  },
  {
   "cell_type": "code",
   "execution_count": null,
   "metadata": {
    "colab": {},
    "colab_type": "code",
    "id": "wgdcRPAhHfXD",
    "outputId": "869630fa-a3ce-4d0e-8d53-6def93813a99"
   },
   "outputs": [
    {
     "name": "stdout",
     "output_type": "stream",
     "text": [
      "|L| = 2\n",
      "naive: 0, [114, 56...,\tbin: 0, [114, 56...\n",
      "naive: 1, ...97, 100],\tbin: 1, ...97, 100]\n",
      "naive: 1, ...37, 43],\tbin: 1, ...37, 43]\n",
      "naive: 0, [67, 21...,\tbin: 0, [67, 21...\n",
      "naive: 0, [87, 71...,\tbin: 0, [87, 71...\n",
      "|L| = 10\n",
      "naive: 0, [19, 9...,\tbin: 5, ...81, 118, 112...\n",
      "naive: 0, [116, 91...,\tbin: 0, [116, 91...\n",
      "naive: 0, [113, 108...,\tbin: 7, ...2, 123, 48...\n",
      "naive: 0, [108, 42...,\tbin: 4, ...32, 39, 17...\n",
      "naive: 0, [55, 44...,\tbin: 0, [55, 44...\n",
      "|L| = 50\n",
      "naive: 0, [53, 36...,\tbin: 17, ...33, 75, 42...\n",
      "naive: 3, ...121, 123, 10...,\tbin: 30, ...59, 102, 71...\n",
      "naive: 2, ...40, 97, 50...,\tbin: 35, ...78, 101, 78...\n",
      "naive: 1, [68, 122, 38...,\tbin: 36, ...99, 113, 47...\n",
      "naive: 1, [47, 66, 51...,\tbin: 24, ...108, 112, 80...\n",
      "|L| = 100\n",
      "naive: 0, [94, 29...,\tbin: 49, ...95, 103, 18...\n",
      "naive: 0, [91, 16...,\tbin: 92, ...87, 107, 90...\n",
      "naive: 1, [43, 67, 36...,\tbin: 49, ...80, 112, 45...\n",
      "naive: 0, [87, 9...,\tbin: 74, ...33, 34, 30...\n",
      "naive: 1, [42, 53, 37...,\tbin: 49, ...45, 75, 13...\n",
      "|L| = 500\n",
      "naive: 1, [75, 89, 23...,\tbin: 436, ...29, 85, 0...\n",
      "naive: 0, [60, 42...,\tbin: 123, ...39, 71, 19...\n",
      "naive: 0, [123, 90...,\tbin: 232, ...71, 86, 78...\n",
      "naive: 3, ...73, 120, 19...,\tbin: 249, ...3, 57, 3...\n",
      "naive: 0, [6, 0...,\tbin: 249, ...1, 82, 43...\n",
      "|L| = 1000\n",
      "naive: 0, [121, 59...,\tbin: 874, ...81, 91, 42...\n",
      "naive: 3, ...71, 113, 112...,\tbin: 499, ...0, 107, 49...\n",
      "naive: 1, [109, 110, 72...,\tbin: 499, ...46, 54, 21...\n",
      "naive: 0, [117, 66...,\tbin: 248, ...80, 118, 102...\n",
      "naive: 1, [9, 44, 38...,\tbin: 499, ...76, 86, 46...\n"
     ]
    }
   ],
   "source": [
    "# większe testy obu funkcji\n",
    "from random import randint\n",
    "\n",
    "def show_peak(p, L):\n",
    "    left = right = '...'\n",
    "    if p == 0:\n",
    "        return '[' + str(L[p]) + ', ' + str(L[p+1]) + '...'\n",
    "    elif p == len(L) - 1:\n",
    "        return '...' + str(L[p-1]) + ', ' + str(L[p]) + ']'\n",
    "    elif p == 1:\n",
    "        left = '['\n",
    "    elif p == len(L) - 2:\n",
    "        right = ']'\n",
    "    return left + str(L[p-1]) + ', ' + str(L[p]) + ', ' + str(L[p+1]) + right\n",
    "\n",
    "\n",
    "for N in [2, 10, 50, 100, 500, 1000]:\n",
    "    print(f\"|L| = {N}\")\n",
    "    for _ in range(5):\n",
    "        L = [randint(0, 123) for i in range(N)]\n",
    "        p = peak_1d_naive(L)\n",
    "        print(f\"naive: {p}, {show_peak(p, L)}\", end=\",\\t\")\n",
    "        p = peak_1d_bin(L)\n",
    "        print(f\"bin: {p}, {show_peak(p, L)}\")"
   ]
  },
  {
   "cell_type": "markdown",
   "metadata": {
    "colab_type": "text",
    "id": "aD0gKdz4HfZC"
   },
   "source": [
    "Jaka będzie złożoność obliczeniowa algorytmu implementującego podział binarny? Jak to w tego typu przypadkach, za każdym razem dzielimy listę na pół w każdym kroku i pytamy czy w środku nowej, mniejszej o połowę listy zlokalizowany jest wierzchołek. W pesymistycznej wersji dojdziemy do jednowymiarowej listy, której element z definicji będzie wierzchołkiem. Znacznie lepiej widać to w algorytmie napisanym z pomocą rekurencji (naprawdę polecam zerknąć w plik stowarzyszony z wykładem)\n",
    "\n",
    "Zakładając wciąż, że $n = |L|$, podziały będą następujące\n",
    "\n",
    "$$n \\rightarrow n/2  \\rightarrow n/4  \\rightarrow n/8 \\rightarrow ... \\rightarrow 1$$\n",
    "\n",
    "co możemy zapisać jako\n",
    "\n",
    "$$n \\rightarrow n/2  \\rightarrow n/2^2  \\rightarrow n/2^3 \\rightarrow ... \\rightarrow \\color{red}n/2^x = 1 $$\n",
    "\n",
    "Teraz ten $x$ definiuje nam ilość podziałów, znajdziemy go rozwiązując czerwone równanie po prawej\n",
    "\n",
    "$$x = \\log_2(n)$$\n",
    "\n",
    "Jako, że żadne stałe multiplikatywne nie mają żadnego znaczenia, to nie ma znaczenia jaką podstawę ma logarytm i asymptotyczna złożoność obliczeniowa tego algorytmu będzie logarytmiczna $\\mathcal{O}(\\log n)$."
   ]
  },
  {
   "cell_type": "code",
   "execution_count": null,
   "metadata": {
    "colab": {},
    "colab_type": "code",
    "id": "f1SEllB_HfZD"
   },
   "outputs": [],
   "source": []
  },
  {
   "cell_type": "markdown",
   "metadata": {
    "colab_type": "text",
    "id": "czXZFRJKHfaE"
   },
   "source": [
    "## Wyszukiwanie wzorca w jednowymiarowej liście\n",
    "\n",
    "Nie będziemy się tu rozpisywać na ten temat, jako że był wałkowany na Wprowadzeniu do programowania. Jeżeli chcemy dowiedzieć się, czy jakiś element `s` istnieje w nieuporządkowanej liście `L` o długości `n`, to musimy sprawdzić **każdy** jej element. Nie ma innej możliwości. Koniec. Kropka. Z tego prostego powodu asymptotyczna złożoność obliczeniowa tego algorytmu będzie liniowa $\\mathcal{O}(n)$.\n",
    "\n",
    "#### Algorytm wyszukiwania liniowego (wyczerpujący)\n",
    "Sprawdź każdy element listy, czy przypadkiem nie jest równy szukanemu.\n",
    "\n",
    "Mogą to Państwo oprogramować jak tylko chcą, korzystając z pętli `for` albo `while`, lub też wykorzystać jakieś wyższopoziomowe instrukcje wbudowane w jP (czy inny język). Tutaj zakładam, że wystarczy wiedza `True` / `False`. Czasem trzeba będzie znać położenie elementu, ale to inne zagadnienie."
   ]
  },
  {
   "cell_type": "code",
   "execution_count": null,
   "metadata": {
    "colab": {},
    "colab_type": "code",
    "id": "m6hLnC50HfaG"
   },
   "outputs": [],
   "source": [
    "def linear_search_for(s, L):\n",
    "    \"linear search\"\n",
    "    for idx in range(len(L)):\n",
    "        if L[idx] == s:\n",
    "            return True\n",
    "    return False\n",
    "        \n",
    "        \n",
    "def linear_search_while(s, L):\n",
    "    \"another linear search\"\n",
    "    idx = 0\n",
    "    while idx < len(L):\n",
    "        if L[idx] == s:\n",
    "            return True\n",
    "        idx += 1\n",
    "    return False\n",
    "        \n",
    "        \n",
    "def linear_search_jP(s, L):\n",
    "    \"aaaand another linear search\"\n",
    "    return s in L"
   ]
  },
  {
   "cell_type": "code",
   "execution_count": null,
   "metadata": {
    "colab": {},
    "colab_type": "code",
    "id": "d1wIHOVWHfa7",
    "outputId": "8130bcf6-ee7d-425d-a68f-ca7977987d39"
   },
   "outputs": [
    {
     "name": "stdout",
     "output_type": "stream",
     "text": [
      "[1, 2, 3, 4, 5]\n",
      "linear for: False\tlinear while: False\tlinear jP: False\n",
      "\n",
      "[200, 150, 100, 150, 200]\n",
      "linear for: True\tlinear while: True\tlinear jP: True\n",
      "\n",
      "[100, 200, 300, 400, 500]\n",
      "linear for: True\tlinear while: True\tlinear jP: True\n",
      "\n",
      "[94, 86, 86, 114, 118, 109, 87, 110, 105, 99, 117, 97, 118, 93, 100, 119, 97, 112, 87, 107, 100, 111, 96]\n",
      "linear for: True\tlinear while: True\tlinear jP: True\n",
      "\n"
     ]
    }
   ],
   "source": [
    "L1 = [1, 2, 3, 4, 5]\n",
    "L2 = [200, 150, 100, 150, 200]\n",
    "L3 = [100, 200, 300, 400, 500]\n",
    "L4 = [randint(80, 120) for i in range(23)]\n",
    "\n",
    "s = 100\n",
    "for L in [L1, L2, L3, L4]:\n",
    "    print(L)\n",
    "    print('linear for:', linear_search_for(s, L), end='\\t')\n",
    "    print('linear while:', linear_search_while(s, L), end='\\t')\n",
    "    print('linear jP:', linear_search_jP(s, L), end='\\n\\n')    "
   ]
  },
  {
   "cell_type": "markdown",
   "metadata": {
    "colab_type": "text",
    "id": "GgeZeBSGHfc-"
   },
   "source": [
    "Znów pojawia się naturalne pytanie: na pewno nie da się lepiej?\n",
    "\n",
    "Dla list nieuporządkowanych - naprawdę się nie da. Co innego, jeżeli lista będzie uporządkowana, np: ustawimy sobie liczby w kolejności niemalejącej. Wtedy możemy skorzystać z opcji przeszukiwania binarnego. Wtedy koszt wyszukiwania spadnie nam asymptotycznie do zależności logarytmicznej $\\mathcal{O}(\\log n)$.\n",
    "\n",
    "#### Algorytm wyszukiwania binarnego\n",
    "1. Posortuj listę \n",
    "2. Użyj metody równego podziału na posortowanej liście - wykład 3, Wstęp do programowania.\n",
    "\n",
    "Proszę zauważyć, że ten sposób może tylko odpowiedzieć na pytanie, czy dany element występuje w liście, nie na pytanie gdzie jest zlokalizowany, ponieważ operacja sortowania na zawsze niszczy oryginalną strukturę listy. "
   ]
  },
  {
   "cell_type": "code",
   "execution_count": null,
   "metadata": {
    "colab": {},
    "colab_type": "code",
    "id": "VgTYuHXqHfdN"
   },
   "outputs": [],
   "source": [
    "def binary_search(item, alist):\n",
    "    \"binary search\"\n",
    "    first = 0\n",
    "    last = len(alist)-1\n",
    "    found = False\n",
    "\n",
    "    while first<=last and not found:\n",
    "        midpoint = (first + last) // 2\n",
    "        if alist[midpoint] == item:\n",
    "            found = True\n",
    "        else:\n",
    "            if item < alist[midpoint]:\n",
    "                last = midpoint-1\n",
    "            else:\n",
    "                first = midpoint+1\n",
    "\n",
    "    return found"
   ]
  },
  {
   "cell_type": "code",
   "execution_count": null,
   "metadata": {
    "colab": {},
    "colab_type": "code",
    "id": "vWMw2uIHHfd3",
    "outputId": "4f67b83f-7afa-43eb-dc0b-645511089f29"
   },
   "outputs": [
    {
     "name": "stdout",
     "output_type": "stream",
     "text": [
      "[1, 2, 3, 4, 5]\n",
      "binary_search: False\n",
      "\n",
      "[100, 150, 150, 200, 200]\n",
      "binary_search: True\n",
      "\n",
      "[100, 200, 300, 400, 500]\n",
      "binary_search: True\n",
      "\n",
      "[84, 85, 88, 88, 88, 93, 94, 95, 97, 99, 100, 100, 102, 105, 108, 109, 109, 112, 114, 116, 117, 118, 119]\n",
      "binary_search: True\n",
      "\n"
     ]
    }
   ],
   "source": [
    "s = 100\n",
    "for L in [L1, L2, L3, L4]:\n",
    "    L = sorted(L)\n",
    "    print(L)\n",
    "    print('binary_search:', binary_search(s, L), end='\\n\\n')"
   ]
  },
  {
   "cell_type": "markdown",
   "metadata": {
    "colab_type": "text",
    "id": "gm_CTUUwHfeI"
   },
   "source": [
    "Powyższy program znajdziecie w całkiem niezłym podręczniku [Problem Solving with Algorithms and Data Structures using Python](https://runestone.academy/runestone/books/published/pythonds/SortSearch/TheBinarySearch.html), z dodatkową pełną i bardzo fajnie zrobioną analizą. Zainteresowanych odsyłam do tego źródła.\n",
    "\n",
    "### Koszt zamortyzowany\n",
    "\n",
    "To super - mamy metodę szybszą od liniowej. Problem polega jedynie na tym, że musimy wstępnie taką listę posortować, a to kosztuje nas już dużo więcej niż samo wyszukiwanie. Najszybsze algorytmy sortujące (niewspółbieżnie) to złożoność $\\mathcal{O}(n\\log n)$. Tak więc - mamy szybki algorytm wyszukujący kosztem sortowania. \n",
    "\n",
    "To po co nam taki algorytm? \n",
    "\n",
    "Jeżeli musimy wyszukiwanie przeprowadzić tylko 1 raz, to oczywiście nie ma sensu programować (a) sortowania oraz (b) wyszukiwania binarnego. Znacznie szybciej i wydajniej będzie po prostu przejrzeć wyczerpująco element po elemencie i dać odpowiedź Tak/Nie. Zrobimy to w $\\mathcal{O}(n)$.\n",
    "A jeżeli musimy przeszukać więcej niż raz? Np: milion razy? Albo w ogólności $m$ razy, a $m$ jest relatywnie duże? Wtedy zdecydowanie lepiej najpierw posortować listę (zbiór) a później korzystać z algorytmu o złożoności logarytmicznej. Zdecydowanie przyspieszy nam to obliczenia.\n",
    "\n",
    "W przypadku, gdy musimy dany program uruchomić $m$ razy, powinniśmy pokusić się o oszacowanie **kosztu zamortyzowanego**.\n",
    "\n",
    "> **Koszt zamortyzowany operacji (K)** jest średnim czasem wykonania przypadającym na jedną operację w pesymistycznym ciągu operacji. (za [Wikipedią](https://pl.wikipedia.org/wiki/Koszt_zamortyzowany))\n",
    "\n",
    "Metod szacowania takiego kosztu jest kilka, ale najprostszy to iloraz asymptotycznej złożoności obliczeniowej i ilości wywołań\n",
    "\n",
    "$$K = \\mathcal{O}(f(n)) / m$$\n",
    "\n",
    "Oznacza to, że wykonując raz sortowanie o koszcie $\\mathcal{O}(n \\log n)$ a później $m$ wywołań wyszukiwania, dla każdego binarnego wyszukiwania mamy amortyzację takiego sortwoania do wielkości $\\mathcal{O}(n \\log n) / m$. Im $m$ większe tym mniejszy koszt tego wstępnego sortowania *na pojedyncze wyszukiwanie*. Oczywiście w przypadku wyszukiwania liniowego nie mamy kosztów związanych z sortowaniem.\n",
    "\n",
    "Przykłady poniżej: $n$ to długość listy, $m$ ilość wyszukiwań. Obliczymy stosunek kosztów $m-$krotnego wyszukiwania liniowego ($n \\cdot m$) i binarnego $n \\cdot \\log(n) / m + \\log(n) \\cdot m$. Ta wielkość mówi ilukrotnie gorsze (>1) lub lepsze (<1) jest wyszukiwanie liniowe."
   ]
  },
  {
   "cell_type": "code",
   "execution_count": null,
   "metadata": {
    "colab": {},
    "colab_type": "code",
    "id": "7QhszzyxHfeJ",
    "outputId": "75796a4e-00da-46c2-e302-efe8b0c4ac3f"
   },
   "outputs": [
    {
     "name": "stdout",
     "output_type": "stream",
     "text": [
      "n = 10\n",
      "m = 1 \t lin/bin = 0.39\n",
      "m = 10 \t lin/bin = 3.95\n",
      "m = 100 \t lin/bin = 4.34\n",
      "m = 1000 \t lin/bin = 4.34\n",
      "m = 1000000 \t lin/bin = 4.34\n",
      "\n",
      "n = 100\n",
      "m = 1 \t lin/bin = 0.21\n",
      "m = 10 \t lin/bin = 10.86\n",
      "m = 100 \t lin/bin = 21.5\n",
      "m = 1000 \t lin/bin = 21.71\n",
      "m = 1000000 \t lin/bin = 21.71\n",
      "\n",
      "n = 1000\n",
      "m = 1 \t lin/bin = 0.14\n",
      "m = 10 \t lin/bin = 13.16\n",
      "m = 100 \t lin/bin = 131.6\n",
      "m = 1000 \t lin/bin = 144.62\n",
      "m = 1000000 \t lin/bin = 144.76\n",
      "\n",
      "n = 10000\n",
      "m = 1 \t lin/bin = 0.11\n",
      "m = 10 \t lin/bin = 10.75\n",
      "m = 100 \t lin/bin = 542.87\n",
      "m = 1000 \t lin/bin = 1074.99\n",
      "m = 1000000 \t lin/bin = 1085.74\n",
      "\n",
      "n = 100000\n",
      "m = 1 \t lin/bin = 0.09\n",
      "m = 10 \t lin/bin = 8.68\n",
      "m = 100 \t lin/bin = 789.63\n",
      "m = 1000 \t lin/bin = 7896.26\n",
      "m = 1000000 \t lin/bin = 8685.89\n",
      "\n",
      "n = 1000000\n",
      "m = 1 \t lin/bin = 0.07\n",
      "m = 10 \t lin/bin = 7.24\n",
      "m = 100 \t lin/bin = 716.66\n",
      "m = 1000 \t lin/bin = 36191.21\n",
      "m = 1000000 \t lin/bin = 72382.34\n",
      "\n"
     ]
    }
   ],
   "source": [
    "from math import log \n",
    "\n",
    "zamortyzowany_koszt_liniowy = lambda n, m: n * m\n",
    "zamortyzowany_koszt_binarny = lambda n, m: n * log(n) / m + log(n) * m\n",
    "\n",
    "for n in [10, 100, 1000, 10000, 100000, 1000000]:\n",
    "    print(f\"n = {n}\")\n",
    "    for m in [1, 10, 100, 1000, 1000000]:\n",
    "        print(f\"m = {m} \\t lin/bin = {round(zamortyzowany_koszt_liniowy(n, m)/zamortyzowany_koszt_binarny(n, m), 2)}\")\n",
    "    print()"
   ]
  },
  {
   "cell_type": "markdown",
   "metadata": {
    "colab_type": "text",
    "id": "fe6cvWD4HfkZ"
   },
   "source": [
    "To wszystko. Proszę nie zapomnieć zrobić dość sporej pracy domowej związanej z wyszukiwaniem wierzchołka w strukturach dwuwymiarowych."
   ]
  },
  {
   "cell_type": "code",
   "execution_count": null,
   "metadata": {
    "colab": {},
    "colab_type": "code",
    "id": "vWxfJFZ_Hfk3"
   },
   "outputs": [],
   "source": []
  }
 ],
 "metadata": {
  "colab": {
   "name": "is19_aip_lab05_alg1_peak.ipynb",
   "provenance": []
  },
  "kernelspec": {
   "display_name": "Python 3",
   "language": "python",
   "name": "python3"
  },
  "language_info": {
   "codemirror_mode": {
    "name": "ipython",
    "version": 3
   },
   "file_extension": ".py",
   "mimetype": "text/x-python",
   "name": "python",
   "nbconvert_exporter": "python",
   "pygments_lexer": "ipython3",
   "version": "3.6.3"
  }
 },
 "nbformat": 4,
 "nbformat_minor": 2
}
