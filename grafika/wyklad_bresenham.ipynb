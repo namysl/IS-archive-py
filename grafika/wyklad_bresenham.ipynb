{
 "cells": [
  {
   "cell_type": "code",
   "execution_count": 1,
   "metadata": {},
   "outputs": [],
   "source": [
    "import matplotlib.pyplot as rys\n",
    "%matplotlib inline\n",
    "%matplotlib notebook"
   ]
  },
  {
   "cell_type": "code",
   "execution_count": 4,
   "metadata": {},
   "outputs": [],
   "source": [
    "def linia(x1, y1, x2, y2):\n",
    "    dy = y2 - y1\n",
    "    dx = x2 - x1\n",
    "    d = dy - (dx / 2)\n",
    "    x = x1\n",
    "    y = y1\n",
    "    \n",
    "    argumenty = [x1]\n",
    "    wartosci = [y1]\n",
    "    \n",
    "    while (x < x2):\n",
    "        x = x + 1\n",
    "        argumenty.append(x)\n",
    "        if (d<0):\n",
    "            d = d + dy\n",
    "        else:\n",
    "            d = d + dy - dx\n",
    "            y = y + 1\n",
    "        wartosci.append(y)\n",
    "    \n",
    "    print(argumenty, wartosci)\n",
    "    odcinek = rys.plot(argumenty, wartosci, \"s\", markersize=15)\n",
    "    rys.axis([x1-1, x2+1, y1-1, y2+1])\n",
    "    rys.show(odcinek)"
   ]
  },
  {
   "cell_type": "code",
   "execution_count": 5,
   "metadata": {},
   "outputs": [
    {
     "name": "stdout",
     "output_type": "stream",
     "text": [
      "[1, 2, 3, 4, 5, 6, 7, 8, 9, 10] [1, 1, 2, 2, 3, 3, 4, 4, 5, 5]\n"
     ]
    },
    {
     "data": {
      "image/png": "[encoded data removed]",
      "text/plain": [
       "<Figure size 432x288 with 1 Axes>"
      ]
     },
     "metadata": {},
     "output_type": "display_data"
    }
   ],
   "source": [
    "linia(1, 1, 10, 5)"
   ]
  },
  {
   "cell_type": "code",
   "execution_count": null,
   "metadata": {},
   "outputs": [],
   "source": []
  }
 ],
 "metadata": {
  "kernelspec": {
   "display_name": "Python 3",
   "language": "python",
   "name": "python3"
  },
  "language_info": {
   "codemirror_mode": {
    "name": "ipython",
    "version": 3
   },
   "file_extension": ".py",
   "mimetype": "text/x-python",
   "name": "python",
   "nbconvert_exporter": "python",
   "pygments_lexer": "ipython3",
   "version": "3.6.7"
  }
 },
 "nbformat": 4,
 "nbformat_minor": 2
}
