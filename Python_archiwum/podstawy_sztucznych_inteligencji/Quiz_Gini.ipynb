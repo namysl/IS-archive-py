{
 "cells": [
  {
   "cell_type": "markdown",
   "metadata": {},
   "source": [
    "# Podstawy Sztucznej Inteligencji 2020/2021\n"
   ]
  },
  {
   "cell_type": "markdown",
   "metadata": {},
   "source": [
    "Prosze uzupelnic kod tam gdzie znajduje napis `YOUR CODE HERE` lub 'YOUR ANSWER HERE'.\n",
    "\n",
    "Warto zresetowac 'kernel' i sprawdzic czy caly notatnik uruchamiany od poczatku nie daje bledow."
   ]
  },
  {
   "cell_type": "markdown",
   "metadata": {},
   "source": [
    "---"
   ]
  },
  {
   "cell_type": "markdown",
   "metadata": {
    "deletable": false,
    "editable": false,
    "lang": "pl",
    "nbgrader": {
     "cell_type": "markdown",
     "checksum": "e2681478bacb33eef742f73ea0e46f8b",
     "grade": false,
     "grade_id": "cell-c891fff8a11e7256",
     "locked": true,
     "schema_version": 3,
     "solution": false
    }
   },
   "source": [
    "# Gini index\n",
    "\n",
    "Indeksem Giniego zbioru $X_{train}=\\{(x_i,y_i), i=1,...,N, y_i \\in\\{1,...,K\\}\\}$\n",
    "gdzie $x_i$ jest wektorem cech a $y_i$ klasą nazywamy wartość:\n",
    "\n",
    "$$ Gini(X_{train})=1−\\sum_{i=1}^K \\left(\\frac{N_i}{N}\\right)^2$$\n",
    "gdzie $N_i$ jest ilością elementów zbioru uczącego z klasy $i$.\n",
    "\n",
    "\n",
    "Indeksem Giniego zbioru $X_{train}$ ze względu na test $t$ nazywamy średnią ważoną indeksów Giniego dla podzbiorów zbioru uczącego spełniających test $t$ w każdym z możliwych wyników tego testu $r$:\n",
    "\n",
    "$$ Gini(X_{train},t)=\\sum_r \\frac{N(t,r)}{N}Gini(X^{t,r}_{train}),$$\n",
    "\n",
    "gdzie $X^{t,r}_{train}$  jest podzbiorem zbioru uczącego złożonym z elementów które dla testu $t$ dają wartość $r$, natomiast $N(t,r)$ jest liczebnością tego podzbioru.\n",
    "\n",
    "\n",
    "import numpy as np "
   ]
  },
  {
   "cell_type": "markdown",
   "metadata": {
    "deletable": false,
    "editable": false,
    "lang": "pl",
    "nbgrader": {
     "cell_type": "markdown",
     "checksum": "7851918675c3247372a551b353eb928a",
     "grade": false,
     "grade_id": "cell-288d08a3f93c941d",
     "locked": true,
     "schema_version": 3,
     "solution": false
    }
   },
   "source": [
    "### Zadanie 1\n",
    "\n",
    "Zaimplementuj funkcję  zwaracjącą indeks Giniego dla zbioru zawierającego wiele klas. Niech liczebości będą kolejno wartościami na liscie, np:\n",
    "\n",
    "    Ni =  [1, 3, 10]\n",
    "    \n",
    "oznacza ze mamy:\n",
    " - jednego reprezentanta klasy pierwszej, \n",
    " - trzech klasy drugiej \n",
    " - dziesięciu klasy trzeciej."
   ]
  },
  {
   "cell_type": "code",
   "execution_count": 5,
   "metadata": {},
   "outputs": [],
   "source": [
    "import numpy as np "
   ]
  },
  {
   "cell_type": "code",
   "execution_count": 8,
   "metadata": {
    "deletable": false,
    "nbgrader": {
     "cell_type": "code",
     "checksum": "c2ab45c1cb601da655f9923fb0267021",
     "grade": false,
     "grade_id": "cell-a914bbc498d4c05d",
     "locked": false,
     "schema_version": 3,
     "solution": true
    }
   },
   "outputs": [],
   "source": [
    "# Gini = lambda Ni:1-sum(ni**2/sum(Ni)**2 for ni in Ni)\n",
    "\n",
    "def Gini(Ni): \n",
    "    Gini_ = 1 - np.sum([(k_/np.sum(Ni))**2 for k_ in Ni])\n",
    "    return Gini_"
   ]
  },
  {
   "cell_type": "code",
   "execution_count": 9,
   "metadata": {
    "deletable": false,
    "editable": false,
    "nbgrader": {
     "cell_type": "code",
     "checksum": "28171b9379169adacafcc3c3e9c3ff99",
     "grade": true,
     "grade_id": "cell-62c7e949d31e2058",
     "locked": true,
     "points": 2,
     "schema_version": 3,
     "solution": false
    }
   },
   "outputs": [],
   "source": [
    "Ni = [0,90]\n",
    "assert Gini(Ni) == 0 \n",
    "\n",
    "\n",
    "Ni = [2,2]\n",
    "np.testing.assert_allclose(Gini(Ni) , 0.5, rtol=1e-6)\n",
    "\n",
    "\n",
    "Ni = 100*[2]\n",
    "np.testing.assert_allclose(Gini(Ni) , 0.99, rtol=1e-6)"
   ]
  },
  {
   "cell_type": "markdown",
   "metadata": {
    "deletable": false,
    "editable": false,
    "lang": "pl",
    "nbgrader": {
     "cell_type": "markdown",
     "checksum": "cc54e3eccaad08dc507dfcbe2cf0aec5",
     "grade": false,
     "grade_id": "cell-2807e35d754d72cf",
     "locked": true,
     "schema_version": 3,
     "solution": false
    }
   },
   "source": [
    "### Zadanie 2.\n",
    "\n",
    "Oblicz współczynnik Giniego zbioru który zawiera 12 reprezentatnów klasy A i 22 klasy B. W tescie zbiór ten jest podzielony na zbiory `Ni1` i `Ni2`. Oblicz indeks Giniego względem tego testu w następujących przypadkach:\n",
    "\n"
   ]
  },
  {
   "cell_type": "code",
   "execution_count": 10,
   "metadata": {
    "deletable": false,
    "nbgrader": {
     "cell_type": "code",
     "checksum": "6fb03ea704962ae4a87975e45bdd9c3a",
     "grade": false,
     "grade_id": "cell-f9be313ff987a5d0",
     "locked": false,
     "schema_version": 3,
     "solution": true
    }
   },
   "outputs": [],
   "source": [
    "Ni = [12, 22]"
   ]
  },
  {
   "cell_type": "code",
   "execution_count": 11,
   "metadata": {
    "deletable": false,
    "editable": false,
    "nbgrader": {
     "cell_type": "code",
     "checksum": "14af8a67172dd8c74fc929a3c1cd5c10",
     "grade": true,
     "grade_id": "cell-e1de9545be4a3ae2",
     "locked": true,
     "points": 1,
     "schema_version": 3,
     "solution": false
    }
   },
   "outputs": [],
   "source": [
    "np.testing.assert_allclose( Gini(Ni) ,0.45674740484429066, rtol=1e-6)"
   ]
  },
  {
   "cell_type": "code",
   "execution_count": 12,
   "metadata": {
    "deletable": false,
    "nbgrader": {
     "cell_type": "code",
     "checksum": "dc25388df3dbaf58d5c8c7557e9548c3",
     "grade": false,
     "grade_id": "cell-348e9e507cb186d7",
     "locked": false,
     "schema_version": 3,
     "solution": true
    }
   },
   "outputs": [
    {
     "name": "stdout",
     "output_type": "stream",
     "text": [
      "0.15556992027580266\n"
     ]
    }
   ],
   "source": [
    "Ni1, Ni2 = [11,2], [1,20]\n",
    "assert sum(Ni) == sum(Ni1)+sum(Ni2)\n",
    "\n",
    "Gt = (Gini(Ni1) * sum(Ni1) + Gini(Ni2) * sum(Ni2)) / sum(Ni)\n",
    "\n",
    "print(Gt)"
   ]
  },
  {
   "cell_type": "code",
   "execution_count": 13,
   "metadata": {
    "deletable": false,
    "editable": false,
    "nbgrader": {
     "cell_type": "code",
     "checksum": "3b0df070d6bc72a0d5f11e3ee2963261",
     "grade": true,
     "grade_id": "cell-4a63a87bfdf8d3a2",
     "locked": true,
     "points": 1,
     "schema_version": 3,
     "solution": false
    }
   },
   "outputs": [],
   "source": [
    "np.testing.assert_allclose( Gt ,0.1555, rtol=1e-3)"
   ]
  },
  {
   "cell_type": "code",
   "execution_count": 14,
   "metadata": {
    "deletable": false,
    "nbgrader": {
     "cell_type": "code",
     "checksum": "83c54b92fdb70956d1f8b887faa0e67e",
     "grade": false,
     "grade_id": "cell-444ec9ae74954ff8",
     "locked": false,
     "schema_version": 3,
     "solution": true
    }
   },
   "outputs": [
    {
     "name": "stdout",
     "output_type": "stream",
     "text": [
      "0.45674740484429055\n"
     ]
    }
   ],
   "source": [
    "Ni1,Ni2 = [6,11], [6,11]\n",
    "\n",
    "assert sum(Ni) == sum(Ni1)+sum(Ni2)\n",
    "\n",
    "Gt = (Gini(Ni1) * sum(Ni1) + Gini(Ni2) * sum(Ni2)) / sum(Ni)\n",
    "\n",
    "print(Gt)\n",
    "\n"
   ]
  },
  {
   "cell_type": "code",
   "execution_count": 15,
   "metadata": {
    "deletable": false,
    "editable": false,
    "nbgrader": {
     "cell_type": "code",
     "checksum": "3a0230dbc664096724f6ef4671b387ee",
     "grade": true,
     "grade_id": "cell-3edb43dc9a9ea037",
     "locked": true,
     "points": 1,
     "schema_version": 3,
     "solution": false
    }
   },
   "outputs": [],
   "source": [
    "np.testing.assert_allclose( Gt ,0.45674740, rtol=1e-3)"
   ]
  },
  {
   "cell_type": "code",
   "execution_count": 16,
   "metadata": {
    "deletable": false,
    "nbgrader": {
     "cell_type": "code",
     "checksum": "14cb425e207ef361eab39146fe216b42",
     "grade": false,
     "grade_id": "cell-ba370522c770968c",
     "locked": false,
     "schema_version": 3,
     "solution": true
    }
   },
   "outputs": [
    {
     "name": "stdout",
     "output_type": "stream",
     "text": [
      "0.5\n"
     ]
    }
   ],
   "source": [
    "Ni1,Ni2 = [10,10], [7,7]\n",
    "assert sum(Ni) == sum(Ni1)+sum(Ni2)\n",
    "Gt = (Gini(Ni1) * sum(Ni1) + Gini(Ni2) * sum(Ni2)) / sum(Ni)\n",
    "\n",
    "print(Gt)"
   ]
  },
  {
   "cell_type": "code",
   "execution_count": 17,
   "metadata": {
    "deletable": false,
    "editable": false,
    "nbgrader": {
     "cell_type": "code",
     "checksum": "70f9f19285ae202a049db26de3af067b",
     "grade": true,
     "grade_id": "cell-4cf283f1c7a023a4",
     "locked": true,
     "points": 1,
     "schema_version": 3,
     "solution": false
    }
   },
   "outputs": [],
   "source": [
    "np.testing.assert_allclose( Gt ,0.5, rtol=1e-3)"
   ]
  }
 ],
 "metadata": {
  "kernelspec": {
   "display_name": "Python 3",
   "language": "python",
   "name": "python3"
  },
  "language_info": {
   "codemirror_mode": {
    "name": "ipython",
    "version": 3
   },
   "file_extension": ".py",
   "mimetype": "text/x-python",
   "name": "python",
   "nbconvert_exporter": "python",
   "pygments_lexer": "ipython3",
   "version": "3.7.4"
  },
  "latex_envs": {
   "LaTeX_envs_menu_present": true,
   "autoclose": false,
   "autocomplete": true,
   "bibliofile": "biblio.bib",
   "cite_by": "apalike",
   "current_citInitial": 1,
   "eqLabelWithNumbers": true,
   "eqNumInitial": 1,
   "hotkeys": {
    "equation": "Ctrl-E",
    "itemize": "Ctrl-I"
   },
   "labels_anchors": false,
   "latex_user_defs": false,
   "report_style_numbering": false,
   "user_envs_cfg": false
  },
  "nbTranslate": {
   "displayLangs": [
    "pl",
    "en"
   ],
   "hotkey": "alt-t",
   "langInMainMenu": true,
   "sourceLang": "pl",
   "targetLang": "en",
   "useGoogleTranslate": true
  }
 },
 "nbformat": 4,
 "nbformat_minor": 2
}
