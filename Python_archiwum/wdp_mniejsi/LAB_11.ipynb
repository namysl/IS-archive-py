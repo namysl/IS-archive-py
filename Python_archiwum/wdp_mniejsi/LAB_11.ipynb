{
 "cells": [
  {
   "cell_type": "code",
   "execution_count": 18,
   "metadata": {},
   "outputs": [
    {
     "data": {
      "text/plain": [
       "-1"
      ]
     },
     "execution_count": 18,
     "metadata": {},
     "output_type": "execute_result"
    }
   ],
   "source": [
    "lista=[[1,2,3],[2,3,4],[0,-1,1]]\n",
    "lista[2][1]"
   ]
  },
  {
   "cell_type": "code",
   "execution_count": 20,
   "metadata": {},
   "outputs": [
    {
     "data": {
      "text/plain": [
       "2"
      ]
     },
     "execution_count": 20,
     "metadata": {},
     "output_type": "execute_result"
    }
   ],
   "source": [
    "# 1,2,3\n",
    "# 3,-1,9\n",
    "# 4,-2,-6\n",
    "# 8,-4,5\n",
    "A=[[1,2,3],[3,-1,9],[4,-2,-6],[8,-4,5]]\n",
    "A[3][0] + A[2][2]"
   ]
  },
  {
   "cell_type": "code",
   "execution_count": 22,
   "metadata": {},
   "outputs": [
    {
     "data": {
      "text/plain": [
       "-2"
      ]
     },
     "execution_count": 22,
     "metadata": {},
     "output_type": "execute_result"
    }
   ],
   "source": [
    "B=[[[2,3],[4,5]],[[-2,0],[12,34]]]\n",
    "B[1][0][0]"
   ]
  },
  {
   "cell_type": "code",
   "execution_count": 29,
   "metadata": {},
   "outputs": [
    {
     "data": {
      "text/plain": [
       "'i'"
      ]
     },
     "execution_count": 29,
     "metadata": {},
     "output_type": "execute_result"
    }
   ],
   "source": [
    "ord(\"Z\")\n",
    "#\"kwiatek\"\n",
    "#\"wkaietk\"\n",
    "slowo=\"kwiatek\"\n",
    "slowo[2]"
   ]
  },
  {
   "cell_type": "code",
   "execution_count": 27,
   "metadata": {},
   "outputs": [
    {
     "name": "stdout",
     "output_type": "stream",
     "text": [
      "4 2\n"
     ]
    }
   ],
   "source": [
    "a=2\n",
    "b=4\n",
    "a,b=b,a\n",
    "print(a,b)"
   ]
  },
  {
   "cell_type": "code",
   "execution_count": 37,
   "metadata": {},
   "outputs": [
    {
     "name": "stdout",
     "output_type": "stream",
     "text": [
      "komputerAld\n",
      "okpmturelAd\n",
      "komputerAld\n"
     ]
    }
   ],
   "source": [
    "def szyfruj(slowo):\n",
    "    szyfr=\"\"\n",
    "    n=len(slowo)\n",
    "    if n%2==0:\n",
    "        for i in range(0,n,2):\n",
    "            #kwiatek\n",
    "            a=slowo[i]\n",
    "            b=slowo[i+1]\n",
    "            szyfr=szyfr+b+a\n",
    "    else:\n",
    "        for i in range(0,n-1,2):\n",
    "            #kwiatek\n",
    "            a=slowo[i]\n",
    "            b=slowo[i+1]\n",
    "            szyfr=szyfr+b+a\n",
    "        szyfr+=slowo[-1]\n",
    "    return szyfr\n",
    "\n",
    "z=\"komputerAld\"\n",
    "w=szyfruj(z)\n",
    "y=szyfruj(w)\n",
    "print(z)\n",
    "print(w)\n",
    "print(y)\n",
    "        \n",
    "    \n",
    "            "
   ]
  },
  {
   "cell_type": "markdown",
   "metadata": {},
   "source": [
    "Napisz funkcję znajdującą rozkład liczby na czynniki pierwsze.  [D]\n"
   ]
  },
  {
   "cell_type": "code",
   "execution_count": null,
   "metadata": {},
   "outputs": [],
   "source": [
    "#100, 50, 25, 5, 1\n",
    "#2,2, 5,5\n",
    "#121 [2, ..., 11]"
   ]
  },
  {
   "cell_type": "code",
   "execution_count": null,
   "metadata": {},
   "outputs": [],
   "source": []
  },
  {
   "cell_type": "markdown",
   "metadata": {},
   "source": [
    "* Problem \"plecakowy\""
   ]
  },
  {
   "cell_type": "markdown",
   "metadata": {},
   "source": [
    "Napisz program, który rozwiązuje \"problem plecakowy\". Polega on na zapakowaniu do plecaka o pewnej podanej pojemności najbardziej wartościowych rzeczy. \n",
    "\n",
    "\n",
    "* Dane: $n$ rzeczy $a_1, a_2, \\ldots, a_n$, z których każda ma wielkość (wagę) $w_i$ oraz wartość $p_i,$ $i\\in\\{1,\\ldots, n\\}$, pojemność (dopuszczalna waga) całego plecaka $W$.\n",
    "\n",
    "* Wynik: ilości poszczególnych rzeczy $q_1, \\ldots, q_n$, których sumaryczna waga nie przekracza $W$, a wartość jest największa wśród wszystkich możliwych wypełnień plecaka nieprzekraczających $W$:\n",
    "$$\n",
    "w_1 q_1+ \\cdots + w_n q_n \\leq W.\n",
    "$$\n",
    "Przykład.\n",
    "\n",
    "\\begin{equation*}\n",
    "\\begin{array}{*{6}{|c|}}\n",
    "n & 1 & 2 & 3 & 4 & 5 \\\\\n",
    "\\hline\n",
    "p_i & 5 & 2& 8 & 6 & 1 \\\\\n",
    "\\hline\n",
    "w_i & 2 & 1& 3 & 2 & 1\n",
    "\\end{array}\n",
    "\\end{equation*}\n",
    "\n",
    "$W=20$, wtedy można przykładowo zabrać 6 rzeczy nr 3 i 1 rzecz nr 4, wartość wynosi $54$ lub 9 rzeczy nr 4 i 1 rzecz nr 1, wartość = 59."
   ]
  },
  {
   "cell_type": "code",
   "execution_count": 2,
   "metadata": {},
   "outputs": [
    {
     "name": "stdout",
     "output_type": "stream",
     "text": [
      "przedmiot  2  o wadze  6  i wart.:  8\n",
      "przedmiot  2  o wadze  6  i wart.:  8\n",
      "przedmiot  2  o wadze  6  i wart.:  8\n",
      "przedmiot  2  o wadze  2  i wart.:  6\n",
      "przedmiot  2  o wadze  2  i wart.:  6\n",
      "przedmiot  0  o wadze  1  i wart.:  5\n"
     ]
    }
   ],
   "source": [
    "p=[5,2,8,6,1]\n",
    "w=[2,1,6,2,1]\n",
    "W=23\n",
    "maxi=0\n",
    "while W>0:\n",
    "    for i in range(len(p)):\n",
    "        if p[i]>p[maxi]:\n",
    "            maxi=i\n",
    "    while W-w[maxi]>=0:\n",
    "        print(\"przedmiot \", maxi, \" o wadze \", w[maxi], \" i wart.: \", p[maxi])\n",
    "        W=W-w[maxi]\n",
    "    w.remove(w[maxi])\n",
    "    p.remove(p[maxi])\n"
   ]
  },
  {
   "cell_type": "markdown",
   "metadata": {},
   "source": [
    "Proszę napisać to zadanie, gdy dane są zapisane w jednej liście jako pary - wykorzystując funkcję `sorted` [D]."
   ]
  },
  {
   "cell_type": "code",
   "execution_count": 3,
   "metadata": {},
   "outputs": [
    {
     "name": "stdout",
     "output_type": "stream",
     "text": [
      "[(1, 1), (2, 1), (5, 2), (6, 2), (8, 3)]\n"
     ]
    }
   ],
   "source": [
    "#Przykład \n",
    "lista2=[(5,2), (2,1), (8,3),(6,2), (1,1)]\n",
    "lista2_s=sorted(lista2)\n",
    "print(lista2_s) # sortowanie wg 0 elemnetu z krotki"
   ]
  },
  {
   "cell_type": "code",
   "execution_count": null,
   "metadata": {},
   "outputs": [],
   "source": [
    "#Przykład 2"
   ]
  },
  {
   "cell_type": "markdown",
   "metadata": {},
   "source": [
    "Jeśli chcemy sortować wg innego elementu możemy to zrobić używając funkcji `lambda` - jest to funkcja postaci `nazwa = lambda arg : wyr`, `arg` - argumenty (może być kilka), `wyr` - wyrażenie (jedno)\n"
   ]
  },
  {
   "cell_type": "code",
   "execution_count": 46,
   "metadata": {},
   "outputs": [
    {
     "data": {
      "text/plain": [
       "8"
      ]
     },
     "execution_count": 46,
     "metadata": {},
     "output_type": "execute_result"
    }
   ],
   "source": [
    "f1=lambda x:x+2 \n",
    "f1(6)"
   ]
  },
  {
   "cell_type": "code",
   "execution_count": 47,
   "metadata": {},
   "outputs": [
    {
     "data": {
      "text/plain": [
       "6"
      ]
     },
     "execution_count": 47,
     "metadata": {},
     "output_type": "execute_result"
    }
   ],
   "source": [
    "f2= lambda x,y,z : x**2+2*y-z\n",
    "f2(1,2,-1)"
   ]
  },
  {
   "cell_type": "code",
   "execution_count": 49,
   "metadata": {},
   "outputs": [
    {
     "name": "stdout",
     "output_type": "stream",
     "text": [
      "[(6, -12), (8, -3), (-2, 1), (1, 1), (5, 2)]\n"
     ]
    }
   ],
   "source": [
    "k=lambda x : x[1] # ze zmiennej x zwracamy element o indeksie 1\n",
    "lista3=[(5,2), (-2,1), (8,-3),(6,-12), (1,1)] #może być też lista list\n",
    "lista3_s=sorted(lista3, key = k)\n",
    "print(lista3_s) # sortowanie wg 1 elemnetu z krotki"
   ]
  },
  {
   "cell_type": "code",
   "execution_count": null,
   "metadata": {},
   "outputs": [],
   "source": []
  },
  {
   "cell_type": "markdown",
   "metadata": {},
   "source": [
    "Jakie kryterium wyboru można zastosować?\n"
   ]
  },
  {
   "cell_type": "markdown",
   "metadata": {},
   "source": [
    "* najmniejsza waga\n",
    "* najcenniejszy w stosunku do swojej wagi $(\\frac{p_i}{w_i})$"
   ]
  },
  {
   "cell_type": "code",
   "execution_count": null,
   "metadata": {},
   "outputs": [],
   "source": []
  }
 ],
 "metadata": {
  "kernelspec": {
   "display_name": "Python 3",
   "language": "python",
   "name": "python3"
  },
  "language_info": {
   "codemirror_mode": {
    "name": "ipython",
    "version": 3
   },
   "file_extension": ".py",
   "mimetype": "text/x-python",
   "name": "python",
   "nbconvert_exporter": "python",
   "pygments_lexer": "ipython3",
   "version": "3.6.7"
  }
 },
 "nbformat": 4,
 "nbformat_minor": 2
}
