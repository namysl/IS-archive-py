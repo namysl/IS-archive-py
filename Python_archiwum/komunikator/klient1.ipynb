{
 "cells": [
  {
   "cell_type": "code",
   "execution_count": null,
   "metadata": {},
   "outputs": [],
   "source": [
    "import socket\n",
    "import threading\n",
    "\n",
    "port = 9922\n",
    "\n",
    "proto = socket.getprotobyname('tcp')\n",
    "s = socket.socket(socket.AF_INET, socket.SOCK_STREAM, proto)\n",
    "s.connect((\"localhost\", port))\n",
    "nickname = input(\"Twoja nazwa użytkownika: \")\n",
    "name = '[{}]'.format(nickname) \n",
    "\n",
    "def incoming_msg():\n",
    "    while True:\n",
    "        message = s.recv(1024).decode()\n",
    "        print(message)\n",
    "\n",
    "thr = threading.Thread(target=incoming_msg)\n",
    "thr.daemon = True\n",
    "thr.start()\n",
    "\n",
    "while True:\n",
    "    to_send =  input('>> ')\n",
    "    if to_send == ':q!':\n",
    "        break\n",
    "    new_msg = \"{}: {}\".format(name, to_send)\n",
    "    s.send(new_msg.encode())\n",
    "\n",
    "\n",
    "s.close()"
   ]
  },
  {
   "cell_type": "code",
   "execution_count": null,
   "metadata": {},
   "outputs": [],
   "source": []
  }
 ],
 "metadata": {
  "kernelspec": {
   "display_name": "Python 3",
   "language": "python",
   "name": "python3"
  },
  "language_info": {
   "codemirror_mode": {
    "name": "ipython",
    "version": 3
   },
   "file_extension": ".py",
   "mimetype": "text/x-python",
   "name": "python",
   "nbconvert_exporter": "python",
   "pygments_lexer": "ipython3",
   "version": "3.7.3"
  }
 },
 "nbformat": 4,
 "nbformat_minor": 4
}
