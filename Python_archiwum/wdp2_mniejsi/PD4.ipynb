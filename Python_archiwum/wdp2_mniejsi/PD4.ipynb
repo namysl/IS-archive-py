{
 "cells": [
  {
   "cell_type": "markdown",
   "metadata": {},
   "source": [
    "## MATEMATYKA 2021-2022\n",
    "## Programowanie zaawansowane \n",
    "## III rok - licencjat\n",
    "## PRACA domowa 4"
   ]
  },
  {
   "cell_type": "markdown",
   "metadata": {},
   "source": [
    "### Zadanie (40)\n",
    "Wykonaj zadanie 4 (Szyfry) z matury rozszerzonej 2012. Arkusz (arkusz2) dostępny pod adresem: \n",
    "https://www.cke.gov.pl/egzamin-maturalny/egzamin-w-starej-formule/arkusze/2012-2/maj-2012/"
   ]
  },
  {
   "cell_type": "code",
   "execution_count": 1,
   "metadata": {},
   "outputs": [
    {
     "name": "stdout",
     "output_type": "stream",
     "text": [
      "WODWODWOD\n"
     ]
    }
   ],
   "source": [
    "import string\n",
    "\n",
    "def pozycja_w_alfabecie(litera):\n",
    "    return string.ascii_uppercase.index(litera) + 1\n",
    "\n",
    "def klucz_za_krotki(tekst, klucz):\n",
    "    i = 0\n",
    "    while len(klucz) != len(tekst):\n",
    "        klucz += klucz[i]\n",
    "        i += 1\n",
    "        if i == 3:\n",
    "            i = 0\n",
    "    return klucz\n",
    "    \n",
    "print(klucz_za_krotki(\"LATOOOOOO\", \"WOD\"))"
   ]
  },
  {
   "cell_type": "code",
   "execution_count": 2,
   "metadata": {},
   "outputs": [
    {
     "name": "stdout",
     "output_type": "stream",
     "text": [
      "IPXP\n"
     ]
    }
   ],
   "source": [
    "tekst1 = \"LATO\"\n",
    "klucz1 = \"WODA\"\n",
    "\n",
    "def szyfruj(tekst, klucz):\n",
    "    lista = []\n",
    "    \n",
    "    if len(klucz) < len(tekst):\n",
    "        klucz = klucz_za_krotki(tekst, klucz)\n",
    "        print(\"Klucz był za krótki, nowy klucz:\", klucz)\n",
    "        \n",
    "    for i in range(len(tekst)):\n",
    "        proba = ord(tekst[i]) + pozycja_w_alfabecie(klucz[i])\n",
    "        if proba > 90:\n",
    "            proba = proba - 26\n",
    "        \n",
    "        lista.append(proba)\n",
    "        \n",
    "    zaszyfrowane = \"\"\n",
    "    for i in range(len(lista)):\n",
    "        zaszyfrowane += chr(lista[i])\n",
    "    return zaszyfrowane\n",
    "\n",
    "zaszyfrowane1 = szyfruj(tekst1, klucz1)\n",
    "print(zaszyfrowane1)"
   ]
  },
  {
   "cell_type": "code",
   "execution_count": 3,
   "metadata": {},
   "outputs": [
    {
     "name": "stdout",
     "output_type": "stream",
     "text": [
      "LATO\n"
     ]
    }
   ],
   "source": [
    "def odszyfruj(zaszyfrowane, klucz):\n",
    "    lista = []\n",
    "    for i in range(len(zaszyfrowane)):\n",
    "        proba = ord(zaszyfrowane[i]) - pozycja_w_alfabecie(klucz[i])\n",
    "        if proba < 65:\n",
    "            proba = proba + 26\n",
    "            \n",
    "        lista.append(proba)\n",
    "        \n",
    "    odszyfrowane = \"\"\n",
    "    for i in range(len(lista)):\n",
    "        odszyfrowane += chr(lista[i])    \n",
    "    return odszyfrowane\n",
    "\n",
    "odszyfrowane1 = odszyfruj(zaszyfrowane1, klucz1)\n",
    "print(odszyfrowane1)"
   ]
  },
  {
   "cell_type": "markdown",
   "metadata": {},
   "source": [
    "### Zadanie (40)\n",
    "Wykonaj zadanie 6 z matury rozszerzonej 2013. Arkusz (arkusz2) dostępny pod adresem:\n",
    "https://cke.gov.pl/egzamin-maturalny/egzamin-w-starej-formule/arkusze/2013-2/    "
   ]
  },
  {
   "cell_type": "code",
   "execution_count": 9,
   "metadata": {},
   "outputs": [
    {
     "name": "stdout",
     "output_type": "stream",
     "text": [
      "447 liczb (w systemie ósemkowym) w pliku ma taką samą pierwszą i ostatnią cyfrę\n"
     ]
    }
   ],
   "source": [
    "f = open(\"dane.txt\", 'r')\n",
    "\n",
    "pytanie1 = 0\n",
    "for line in f:\n",
    "    if line[0] == line[-2]:\n",
    "        pytanie1 += 1\n",
    "f.close()\n",
    "\n",
    "print(pytanie1, \"liczb (w systemie ósemkowym) w pliku ma taką samą pierwszą i ostatnią cyfrę\")"
   ]
  },
  {
   "cell_type": "code",
   "execution_count": 11,
   "metadata": {},
   "outputs": [
    {
     "name": "stdout",
     "output_type": "stream",
     "text": [
      "324 liczb (w systemie dziesiętnym) ma taką samą pierwszą i ostatnią cyfrę\n"
     ]
    }
   ],
   "source": [
    "g = open(\"dane.txt\", 'r')\n",
    "\n",
    "pytanie2 = 0        \n",
    "for line in g:\n",
    "    string = str(int(line, 8))\n",
    "    if string[0] == string[-1]:\n",
    "        #print(string, string[0], string[-1])\n",
    "        pytanie2 += 1\n",
    "g.close()\n",
    "\n",
    "print(pytanie2, \"liczb (w systemie dziesiętnym) ma taką samą pierwszą i ostatnią cyfrę\")"
   ]
  },
  {
   "cell_type": "code",
   "execution_count": 6,
   "metadata": {},
   "outputs": [
    {
     "name": "stdout",
     "output_type": "stream",
     "text": [
      "Tyle liczb ma cyfry nie mniejsze od poprzednich: 49\n",
      "Najmniejsza: 24\n",
      "Największa: 1133357\n"
     ]
    }
   ],
   "source": [
    "h = open(\"dane.txt\", 'r')\n",
    "    \n",
    "def niemalejacy(x):\n",
    "    for i in range(1, len(x)):\n",
    "        if x[i-1] < x[i]:\n",
    "            continue\n",
    "        elif x[i-1] > x[i]:\n",
    "            return False\n",
    "        \n",
    "    return True\n",
    "    \n",
    "\n",
    "pytanie3 = 0\n",
    "wyniki = []\n",
    "for line in h:\n",
    "    if niemalejacy(line[:-1]) != False:\n",
    "        wyniki.append(int(line[:-1]))\n",
    "        \n",
    "h.close()\n",
    "\n",
    "wyniki.sort()\n",
    "print(\"Tyle liczb ma cyfry nie mniejsze od poprzednich:\", len(wyniki))\n",
    "print(\"Najmniejsza:\", wyniki[0])\n",
    "print(\"Największa:\", wyniki[-1])"
   ]
  },
  {
   "cell_type": "markdown",
   "metadata": {},
   "source": [
    "### Zadanie (20) \n",
    "Napisz dekorator, który wywoła funkcję tylko jeżeli argumenty będą poprawne. Funkcja udekorowana:  iloraz"
   ]
  },
  {
   "cell_type": "code",
   "execution_count": 41,
   "metadata": {},
   "outputs": [
    {
     "name": "stdout",
     "output_type": "stream",
     "text": [
      "Nie można dzielić przez 0!\n"
     ]
    }
   ],
   "source": [
    "#w. 1\n",
    "def dekor_iloraz(x):\n",
    "    def iloraz(y):\n",
    "        if y == 0:\n",
    "            return \"Nie można dzielić przez 0!\"\n",
    "        return x/y\n",
    " \n",
    "    return iloraz\n",
    " \n",
    "nowy = dekor_iloraz(10) \n",
    "print(nowy(0))"
   ]
  },
  {
   "cell_type": "code",
   "execution_count": 40,
   "metadata": {},
   "outputs": [
    {
     "name": "stdout",
     "output_type": "stream",
     "text": [
      "Nie można dzielić przez 0!\n",
      "5.0\n"
     ]
    }
   ],
   "source": [
    "#w. 2\n",
    "def sprawdz(funkcja):\n",
    "    def iloraz(x, y):\n",
    "        if y == 0:\n",
    "            return \"Nie można dzielić przez 0!\"\n",
    "        return funkcja(x, y)\n",
    "    return iloraz\n",
    "\n",
    "@sprawdz\n",
    "def dzielenie(a, b):\n",
    "    return a/b\n",
    " \n",
    "\n",
    "print(dzielenie(10, 0))\n",
    "print(dzielenie(10, 2))"
   ]
  },
  {
   "cell_type": "markdown",
   "metadata": {},
   "source": [
    "###  Zadanie (dla ambitnych) (dodatkowe 30)\n",
    "Czy można udekorować dekorator? Sporządź dowolny przykład."
   ]
  },
  {
   "cell_type": "code",
   "execution_count": null,
   "metadata": {},
   "outputs": [],
   "source": []
  }
 ],
 "metadata": {
  "kernelspec": {
   "display_name": "Python 3",
   "language": "python",
   "name": "python3"
  },
  "language_info": {
   "codemirror_mode": {
    "name": "ipython",
    "version": 3
   },
   "file_extension": ".py",
   "mimetype": "text/x-python",
   "name": "python",
   "nbconvert_exporter": "python",
   "pygments_lexer": "ipython3",
   "version": "3.6.7"
  }
 },
 "nbformat": 4,
 "nbformat_minor": 5
}
