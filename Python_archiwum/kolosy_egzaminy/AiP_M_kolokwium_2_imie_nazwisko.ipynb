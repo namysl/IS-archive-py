{
 "cells": [
  {
   "cell_type": "markdown",
   "metadata": {},
   "source": [
    "#### Kolokwium 2.  (30 pkt)\n",
    "\n",
    "Można korzystać z własnych notatek, kodów itp. ale nie z pomocy innych osób - zadania z tym samym kodem będą oceniane na 0 pkt.\n",
    "\n",
    "UWAGA!!!\n",
    "\n",
    "Przed wysłaniem pracy proszę __zrestartować kernel__ i sprawdzić wtedy czy wszystko działa (np. czy zmienne i funkcje mają odpowiednie nazwy, czy nie zostały usunięte lub czy jest zaimportowany potrzebny moduł itp.)\n",
    "\n",
    "\n",
    "Każdą funkcję należy przetestować dla przykładowych danych."
   ]
  },
  {
   "cell_type": "code",
   "execution_count": null,
   "metadata": {},
   "outputs": [],
   "source": []
  },
  {
   "cell_type": "markdown",
   "metadata": {},
   "source": [
    "#### Zadanie 1 (7 pkt)\n",
    "Napisz funkcję rekurencyjną która oblicza liczbę Eulera I rodzaju -  https://pl.wikipedia.org/wiki/Liczby_Eulera.\n",
    "\n",
    "Wykorzystaj rekurencyjną definicję tego ciągu:\n",
    "\n",
    "$$\n",
    "E(n,k) = (k+1)\\cdot E(n-1,k) + (n-k)\\cdot E(n-1,k-1),\n",
    "$$\n",
    "\n",
    "z następującymi warunkami:\n",
    "$E(0,0) = 1, \\; E(n,0) = 1, \\; E(n,n) = 0$."
   ]
  },
  {
   "cell_type": "code",
   "execution_count": 1,
   "metadata": {},
   "outputs": [
    {
     "name": "stdout",
     "output_type": "stream",
     "text": [
      "66\n",
      "11\n",
      "57\n",
      "1\n"
     ]
    }
   ],
   "source": [
    "def euler(n, k):\n",
    "    if k >= n or n == 0:\n",
    "        return 0\n",
    "    elif k == 0:\n",
    "        return 1\n",
    "    else:\n",
    "        return (k+1) * euler(n-1, k) + (n - k) * euler(n-1, k-1)\n",
    "\n",
    "print(euler(5, 2))\n",
    "print(euler(4, 2))\n",
    "print(euler(6, 1))\n",
    "print(euler(8, 0))"
   ]
  },
  {
   "cell_type": "markdown",
   "metadata": {},
   "source": [
    "#### Zadanie 2 (8 pkt)\n",
    "Napisz funkcję, która sortuje listę słów, gdzie \"mniejsze\" są te wyrazy, które mają mniejszą liczbę liter. \n",
    "\n",
    "Inaczej, `slowo1`$<$ `slowo2` $\\Leftrightarrow$ liczba liter w `slowo1` $<$ liczba liter w `slowo2`. \n",
    "\n",
    "Wykorzystaj w funkcji dowolny poznany __algorytm sortujący__."
   ]
  },
  {
   "cell_type": "code",
   "execution_count": 2,
   "metadata": {},
   "outputs": [
    {
     "name": "stdout",
     "output_type": "stream",
     "text": [
      "['smi', 'mysz', 'zając', 'chomik', 'królik', 'szczur', 'kapibara', 'koszatniczka', 'myszoskoczek', 'gryzoniozajęczakopodobne']\n"
     ]
    }
   ],
   "source": [
    "li = ['chomik', 'koszatniczka', 'królik', 'mysz', 'szczur', 'myszoskoczek', 'kapibara', 'zając', 'smi', 'gryzoniozajęczakopodobne']\n",
    "\n",
    "def sortuj(lista_slow):\n",
    "    #bubble sort\n",
    "    \n",
    "    n = len(lista_slow)\n",
    "\n",
    "    for i in range(n):\n",
    "        for j in range(0, n-i-1):\n",
    "            if len(lista_slow[j]) > len(lista_slow[j+1]):\n",
    "                lista_slow[j], lista_slow[j+1] = lista_slow[j+1], lista_slow[j]\n",
    "    return lista_slow\n",
    "\n",
    "print(sortuj(li))"
   ]
  },
  {
   "cell_type": "markdown",
   "metadata": {},
   "source": [
    "#### Zadanie 3 (7 pkt)\n",
    "Napisz funkcję, której argumentem jest lista liczb. Funkcja ta ma obliczać ile razy każda z liczb występuje w liście i zwracać wynik z postaci słownika.\n",
    "\n",
    "Przykład:\n",
    "\n",
    "Dla listy `[2,3,4,2,2,3,0,-1,-1,7,2]` wynikiem jest słownik\n",
    "\n",
    "`{2:4, 3:2, 4:1, 0 : 1, -1:2, 7:1}`."
   ]
  },
  {
   "cell_type": "code",
   "execution_count": 3,
   "metadata": {},
   "outputs": [
    {
     "name": "stdout",
     "output_type": "stream",
     "text": [
      "{1: 7, 100: 1}\n",
      "{2: 4, 3: 2, 4: 1, 0: 1, -1: 2, 7: 1}\n"
     ]
    }
   ],
   "source": [
    "D = [1, 1, 1, 1, 1, 1, 1, 100]\n",
    "E = [2,3,4,2,2,3,0,-1,-1,7,2]\n",
    "\n",
    "def lider(lista):\n",
    "    slownik = {}\n",
    "\n",
    "    for i in lista:\n",
    "        if i in slownik:\n",
    "            slownik[i] += 1\n",
    "        else:\n",
    "            slownik[i] = 1\n",
    "\n",
    "    return slownik\n",
    "    \n",
    "print(lider(D))\n",
    "print(lider(E))"
   ]
  },
  {
   "cell_type": "markdown",
   "metadata": {},
   "source": [
    "#### Zadanie 4 (8 pkt)\n",
    "Napisz funkcję, w której dla listy słów (argument) zwracane jest słowo, którego suma wartości znaków w kodzie ASCII jest najmniejsza.\n",
    "\n",
    "Przykład:\n",
    "\n",
    "Dla listy `[\"żuk\", \"pies\", \"żółw\", \"komputer\", \"aaaaa\"]` wartością funkcji jest `pies`."
   ]
  },
  {
   "cell_type": "code",
   "execution_count": 4,
   "metadata": {},
   "outputs": [
    {
     "name": "stdout",
     "output_type": "stream",
     "text": [
      "[604, 433, 1064, 887, 485]\n",
      "pies\n"
     ]
    }
   ],
   "source": [
    "lista_sl = [\"żuk\", \"pies\", \"żółw\", \"komputer\", \"aaaaa\"] \n",
    "\n",
    "def ascii(lista):\n",
    "    wartosci = []\n",
    "\n",
    "    for slowo in lista:\n",
    "        ile = 0\n",
    "        for znak in slowo:\n",
    "            ile += ord(znak)\n",
    "            \n",
    "        wartosci.append(ile)\n",
    "    print(wartosci)\n",
    "    \n",
    "    indeks = 0\n",
    "    indeks_minimum = 0\n",
    "    minimum = wartosci[0]\n",
    "    for i in range(len(wartosci)):\n",
    "        if wartosci[i] < minimum:\n",
    "            minimum = wartosci[i]\n",
    "            indeks_minimum = indeks\n",
    "        indeks += 1\n",
    "    \n",
    "    return lista[indeks_minimum]\n",
    "\n",
    "print(ascii(lista_sl))"
   ]
  }
 ],
 "metadata": {
  "kernelspec": {
   "display_name": "Python 3",
   "language": "python",
   "name": "python3"
  },
  "language_info": {
   "codemirror_mode": {
    "name": "ipython",
    "version": 3
   },
   "file_extension": ".py",
   "mimetype": "text/x-python",
   "name": "python",
   "nbconvert_exporter": "python",
   "pygments_lexer": "ipython3",
   "version": "3.6.7"
  }
 },
 "nbformat": 4,
 "nbformat_minor": 2
}
