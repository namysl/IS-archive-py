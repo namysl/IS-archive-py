{
 "cells": [
  {
   "cell_type": "markdown",
   "metadata": {},
   "source": [
    "Proszę zapoznać się z informacjami dotyczącymi słowników, krotek, zbiorów."
   ]
  },
  {
   "cell_type": "markdown",
   "metadata": {},
   "source": [
    "#### Zadanie 1.\n",
    "Stwórz słownik składający się z przedmiotów jako klucze oraz ocen jako wartości. Dodaj kilka nowych przedmiotów podanych przez użytkownika do słownika.\n"
   ]
  },
  {
   "cell_type": "code",
   "execution_count": 1,
   "metadata": {},
   "outputs": [
    {
     "name": "stdout",
     "output_type": "stream",
     "text": [
      "Liczba dodawanych przedmiotów: \n",
      "Podaj przedmiot: \n",
      "Wpisz ocenę: \n",
      "Podaj przedmiot: \n",
      "Wpisz ocenę: \n",
      "{'matematyka': 5, 'informatyka': 4, 'fizyka': 6, 'll': 2, 'm': 5}\n"
     ]
    }
   ],
   "source": [
    "slownik = {\"matematyka\": 5, \"informatyka\": 4, \"fizyka\": 6}\n",
    "print(\"Liczba dodawanych przedmiotów: \")\n",
    "x = int(input())\n",
    "\n",
    "for y in range(x):\n",
    "    print(\"Podaj przedmiot: \")\n",
    "    nowyprzedmiot = input()\n",
    "    \n",
    "    print(\"Wpisz ocenę: \")\n",
    "    ocena = int(input())\n",
    "    slownik[nowyprzedmiot] = ocena\n",
    "\n",
    "print(slownik)"
   ]
  },
  {
   "cell_type": "markdown",
   "metadata": {},
   "source": [
    "#### Zadanie 2.\n",
    "Wygeneruj 10 20-elementowych list losowych liczb z $[1,100]$, a następnie dla każdej listy oblicz średnią arytmetyczną, wynik zapisz w krotce wg wzoru: `([1,....], średnia)` itd. Następnie znajdź maksymalną średnią spośród 10 obliczonych."
   ]
  },
  {
   "cell_type": "code",
   "execution_count": 2,
   "metadata": {},
   "outputs": [
    {
     "name": "stdout",
     "output_type": "stream",
     "text": [
      "([22, 45, 90, 18, 49, 81, 71, 78, 23, 34, 7, 16, 73, 78, 47, 40, 64, 20, 75, 82], 50.65, [26, 30, 84, 64, 65, 20, 57, 85, 53, 25, 56, 56, 67, 87, 56, 80, 79, 22, 39, 31], 54.1, [14, 55, 1, 89, 13, 19, 67, 5, 96, 1, 69, 74, 76, 6, 86, 64, 2, 20, 68, 28], 42.65, [60, 92, 5, 68, 80, 75, 46, 37, 17, 98, 41, 34, 50, 18, 75, 30, 49, 13, 55, 50], 49.65, [38, 34, 68, 72, 37, 27, 31, 82, 14, 24, 6, 81, 27, 52, 49, 87, 100, 6, 56, 3], 44.7, [11, 31, 44, 49, 99, 18, 98, 46, 21, 61, 63, 62, 15, 21, 51, 76, 49, 32, 15, 36], 44.9, [42, 46, 52, 50, 72, 59, 69, 1, 32, 74, 66, 51, 81, 3, 88, 28, 24, 12, 24, 61], 46.75, [56, 77, 72, 84, 64, 33, 14, 99, 26, 12, 12, 73, 91, 43, 22, 40, 74, 88, 11, 100], 54.55, [82, 100, 17, 49, 51, 67, 53, 25, 10, 94, 69, 87, 100, 46, 99, 84, 79, 61, 13, 55], 62.05, [15, 10, 88, 23, 12, 78, 55, 78, 62, 20, 70, 82, 6, 60, 28, 91, 77, 25, 70, 48], 49.9)\n",
      "[50.65, 54.1, 42.65, 49.65, 44.7, 44.9, 46.75, 54.55, 62.05, 49.9]\n",
      "Maksymalna średnia: 62.05\n"
     ]
    }
   ],
   "source": [
    "import random\n",
    "lista1 = []\n",
    "lista2 = []\n",
    "lista3 = []\n",
    "lista4 = []\n",
    "lista5 = []\n",
    "lista6 = []\n",
    "lista7 = []\n",
    "lista8 = []\n",
    "lista9 = []\n",
    "lista10 = []\n",
    "\n",
    "for x in range(0, 20):\n",
    "    lista1.append(random.randint(1, 100))\n",
    "    lista2.append(random.randint(1, 100))\n",
    "    lista3.append(random.randint(1, 100))\n",
    "    lista4.append(random.randint(1, 100))\n",
    "    lista5.append(random.randint(1, 100))\n",
    "    lista6.append(random.randint(1, 100))\n",
    "    lista7.append(random.randint(1, 100))\n",
    "    lista8.append(random.randint(1, 100))\n",
    "    lista9.append(random.randint(1, 100))\n",
    "    lista10.append(random.randint(1, 100))\n",
    "    \n",
    "duzalista = [lista1, lista2, lista3, lista4, lista5, lista6, lista7, lista8, lista9, lista10]\n",
    "listasrednich = []\n",
    "    \n",
    "for y in range (len(duzalista)):\n",
    "    srednia = 0\n",
    "    suma = 0\n",
    "    for x in range(len(lista1)):\n",
    "        suma += duzalista[y][x]  # y = lista1,... x = elementy z lista1, lista2...\n",
    "     \n",
    "    srednia = suma/len(lista1)\n",
    "    listasrednich.append(srednia)\n",
    "    \n",
    "krotka = (lista1, listasrednich[0], lista2, listasrednich[1], lista3, listasrednich[2], lista4, listasrednich[3],\n",
    "          lista5, listasrednich[4], lista6, listasrednich[5], lista7, listasrednich[6], lista8, listasrednich[7],\n",
    "          lista9, listasrednich[8], lista10, listasrednich[9])\n",
    "\n",
    "print(krotka)\n",
    "\n",
    "maks = listasrednich[0]\n",
    "indeks = 0\n",
    "indeks_maks = 0\n",
    "\n",
    "for z in listasrednich:\n",
    "    if z > maks:\n",
    "        maks = z\n",
    "        indeks_maks = indeks\n",
    "    indeks += 1\n",
    "    \n",
    "print(listasrednich)\n",
    "print('Maksymalna średnia:', maks)\n"
   ]
  },
  {
   "cell_type": "markdown",
   "metadata": {},
   "source": [
    "#### Zadanie 3.\n",
    "Dla dowolnego tekstu stwórz słownik, w którym kluczami są słowa, a wartościami liczba samogłosek w słowie.\n",
    "\n",
    "np. dla `napis=Ala ma kota`, `slownik={\"Ala\":2, \"ma\":1, \"kota\":2}`."
   ]
  },
  {
   "cell_type": "code",
   "execution_count": 3,
   "metadata": {},
   "outputs": [
    {
     "name": "stdout",
     "output_type": "stream",
     "text": [
      "Wpisz tekst: \n",
      "{'lllll': 0}\n"
     ]
    }
   ],
   "source": [
    "print(\"Wpisz tekst: \")\n",
    "tekst = input()\n",
    "\n",
    "lista_slow = tekst.split()\n",
    "\n",
    "#print(slowa_split)\n",
    "\n",
    "ile = []\n",
    "\n",
    "for slowo in lista_slow:\n",
    "    #print(slowo)\n",
    "    ilesamoglosek = 0\n",
    "    for znak in slowo:\n",
    "        #print(znak)\n",
    "        if znak == \"a\" or znak == \"A\" or znak == \"ą\" or znak == \"E\" or znak == \"e\" or znak == \"ę\" or znak == \"i\" or znak == \"I\" or znak == \"O\" or znak == 'o' or znak == 'Ó' or znak == 'ó' or znak == 'U' or znak == 'u' or znak == 'Y' or znak == 'y':\n",
    "            ilesamoglosek += 1\n",
    "    ile.append(ilesamoglosek) # dopisuje do listy ilosc samoglosek w kazdym slowie\n",
    "    \n",
    "#print(ile)\n",
    "\n",
    "slownik = {}\n",
    "for x in range(len(lista_slow)):\n",
    "    slownik[lista_slow[x]] = ile[x] # np. slownik[ala] = 2  -> slownik = {'ala': 2}\n",
    "    \n",
    "print(slownik)"
   ]
  },
  {
   "cell_type": "markdown",
   "metadata": {},
   "source": [
    "#### Zadanie 4.\n",
    "Dla listy liczb znajdź element minimalny spośród elementów o indeksach nieparzystych, a maksymalny dla elementów parzystych."
   ]
  },
  {
   "cell_type": "code",
   "execution_count": 4,
   "metadata": {},
   "outputs": [
    {
     "name": "stdout",
     "output_type": "stream",
     "text": [
      "Element maksymalny: 2137 o indeksie: 6\n",
      "Element minimalny: -99 o indeksie: 15\n"
     ]
    }
   ],
   "source": [
    "lista = [1, 8, 500, 40, 88, 111, 2137, 666, 69, 7, 13, 4, 404, 420, 0, -99, -169, -37, -10000, -5]\n",
    "\n",
    "maks = lista[0]\n",
    "mini = lista[0]\n",
    "indeks = 0\n",
    "indeks_maks = 0\n",
    "indeks_mini = 0\n",
    "\n",
    "for x in lista:\n",
    "    if x > maks and indeks % 2 == 0:\n",
    "        maks = x\n",
    "        indeks_maks = indeks\n",
    "    indeks += 1\n",
    "    \n",
    "indeks = 0\n",
    "for x in lista:\n",
    "    if x < mini and indeks % 2 != 0:\n",
    "        mini = x\n",
    "        indeks_mini = indeks\n",
    "    indeks += 1\n",
    "    \n",
    "print('Element maksymalny:', maks, 'o indeksie:', indeks_maks)\n",
    "print('Element minimalny:', mini, 'o indeksie:', indeks_mini)\n"
   ]
  },
  {
   "cell_type": "code",
   "execution_count": null,
   "metadata": {},
   "outputs": [],
   "source": []
  }
 ],
 "metadata": {
  "kernelspec": {
   "display_name": "Python 3",
   "language": "python",
   "name": "python3"
  },
  "language_info": {
   "codemirror_mode": {
    "name": "ipython",
    "version": 3
   },
   "file_extension": ".py",
   "mimetype": "text/x-python",
   "name": "python",
   "nbconvert_exporter": "python",
   "pygments_lexer": "ipython3",
   "version": "3.6.7"
  }
 },
 "nbformat": 4,
 "nbformat_minor": 2
}
