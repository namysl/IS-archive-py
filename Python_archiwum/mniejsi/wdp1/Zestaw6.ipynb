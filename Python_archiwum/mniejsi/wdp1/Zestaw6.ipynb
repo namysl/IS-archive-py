{
 "cells": [
  {
   "cell_type": "markdown",
   "metadata": {},
   "source": [
    "#### Zadanie 1.\n",
    "Napisz program, w którym pytamy użytkownika o imię, nazwisko, PESEL. Na podstawie tych informacji tworzymy słownik z następującymi kluczami: imię, nazwisko, rok urodzenia, miesiąc ur, dzień, płeć (dane odczytujemy z numeru PESEL)."
   ]
  },
  {
   "cell_type": "code",
   "execution_count": null,
   "metadata": {},
   "outputs": [],
   "source": [
    "print(\"IMIĘ: \")\n",
    "i = input()\n",
    "print(\"NAZWISKO: \")\n",
    "n = input()\n",
    "print(\"PESEL: \")\n",
    "p = int(input())\n",
    "\n",
    "plec = (str(p)[9])\n",
    "\n",
    "if int(plec) % 2 == 0:\n",
    "    plec = \"K\"\n",
    "else:\n",
    "    plec = \"M\"\n",
    "    \n",
    "rok = (str(p))[0:2]\n",
    "mies = (str(p))[2:4]\n",
    "dzien = (str(p))[4:6]\n",
    "\n",
    "print(plec, rok, mies, dzien)\n",
    "\n",
    "baza = {}\n",
    "baza['imie'] = i\n",
    "baza['nazwisko'] = n\n",
    "baza['pesel'] = p\n",
    "baza['plec'] = plec\n",
    "baza['rok'] = rok\n",
    "baza['miesiac'] = mies\n",
    "baza['dzien'] = dzien\n",
    "\n",
    "print(baza)"
   ]
  },
  {
   "cell_type": "markdown",
   "metadata": {},
   "source": [
    "#### Zadanie 2.\n",
    "Napisz program, w którym tworzymy słownik z n kluczami 1 - n, a wartościami są krotki postaci $(i,i^2,i^3), \\; i\\in\\{1,\\ldots, n\\}$."
   ]
  },
  {
   "cell_type": "code",
   "execution_count": null,
   "metadata": {},
   "outputs": [],
   "source": [
    "n = int(input())\n",
    "\n",
    "lista_glowna = []\n",
    "\n",
    "for i in range(1, n+1):\n",
    "    lista_pomocnicza = []\n",
    "    \n",
    "    for j in range(1, 4):\n",
    "        lista_pomocnicza.append(i ** j)\n",
    "        \n",
    "    lista_glowna.append(tuple(lista_pomocnicza))\n",
    "\n",
    "slownik = {}\n",
    "for k in range(1, n+1):\n",
    "    slownik[k] = lista_glowna[k-1]\n",
    "    \n",
    "print(slownik)"
   ]
  },
  {
   "cell_type": "markdown",
   "metadata": {},
   "source": [
    "#### Zadanie 3.\n",
    "Napisz program, w którym obliczamy średnią arytmetyczną dla elemntów listy o indeksach parzystych oraz średnią geometryczną dla elementów o indeksach nieparzystych. Wyniki zapisz w słowniku."
   ]
  },
  {
   "cell_type": "code",
   "execution_count": 3,
   "metadata": {},
   "outputs": [
    {
     "name": "stdout",
     "output_type": "stream",
     "text": [
      "-2\n",
      "11\n",
      "0\n",
      "43\n",
      "{'srednia geometryczna': 8.323582900575634, 'srednia arytmetyczna': 13.0}\n"
     ]
    }
   ],
   "source": [
    "lista = [-2, 10, 11, 80, 0, 6, 43, 1]\n",
    "slownik_srednie = {}\n",
    "\n",
    "\n",
    "suma = 0\n",
    "srednia_geom = 1\n",
    "\n",
    "ile_arytm = 0  # przez ile elementow trzeba podzielic sume\n",
    "ile_geom = 0\n",
    "\n",
    "for x in range(len(lista)):\n",
    "    if x % 2 == 0:\n",
    "        suma += lista[x]\n",
    "        print(lista[x])\n",
    "        ile_arytm += 1\n",
    "    else:\n",
    "        srednia_geom *= lista[x]\n",
    "        ile_geom += 1\n",
    "\n",
    "slownik_srednie['srednia geometryczna'] = srednia_geom ** (1/ile_geom)\n",
    "slownik_srednie['srednia arytmetyczna'] = suma/ile_arytm\n",
    "\n",
    "print(slownik_srednie)"
   ]
  },
  {
   "cell_type": "markdown",
   "metadata": {},
   "source": [
    "#### Zadanie 4.\n",
    "Korzystając z wyrażeń listowych stwórz następujące listy:\n",
    "* listę liczb parzystych z przedziału $[a,b]$,\n",
    "* listę liczb podzielnych przez 7 i 11 w przedziale $[-100,500]$,\n",
    "* listę liczb odwrotności liczb nieparzystych z przedziału $[1,30]$."
   ]
  },
  {
   "cell_type": "code",
   "execution_count": null,
   "metadata": {},
   "outputs": [],
   "source": [
    "a = int(input(\"a: \"))\n",
    "b = int(input(\"b: \"))\n",
    "\n",
    "lista1 = [x for x in range (a, b+1) if x % 2 == 0]\n",
    "print(lista1)\n",
    "\n",
    "lista2 = [x for x in range(-100, 501) if x % 7 == 0 and x % 11 == 0]\n",
    "print(lista2)\n",
    "\n",
    "lista3 = [1/x for x in range(1, 31) if x % 2 != 0]\n",
    "print(lista3)"
   ]
  },
  {
   "cell_type": "markdown",
   "metadata": {},
   "source": [
    "#### Ćwiczenia.\n",
    "Pisanie prostych programów można poćwiczyć korzystając np. ze strony\n",
    "https://szkopul.edu.pl/\n",
    "Przykładowe proste zadania:\n",
    "* https://szkopul.edu.pl/problemset/problem/-sW59iNCsLGhh8xyFPEmtn7F/site/?key=statement\n",
    "\n",
    "* https://szkopul.edu.pl/problemset/problem/D-n2vfNHbu5eyM6F9Mwc8Hpn/site/?key=statement\n",
    "\n",
    "* https://szkopul.edu.pl/problemset/problem/nLYlfIBvqshVtYd0-a_XNzOx/site/?key=statement\n",
    "\n",
    "* https://szkopul.edu.pl/problemset/problem/wm8QSdwIvTVCvh0HlrY6PjCy/site/?key=statement\n",
    "\n",
    "* https://szkopul.edu.pl/problemset/problem/3vbB7H6-14NLpfyrm3ANEHPg/site/?key=statement\n",
    "\n",
    "* https://szkopul.edu.pl/problemset/problem/Z8PKOdympSyxa7XU9YUYmC0b/site/?key=statement\n",
    "\n",
    "* https://szkopul.edu.pl/problemset/problem/_X8vz1GyYV67RyrXmXq-_NMW/site/?key=statement\n",
    "\n",
    "* https://szkopul.edu.pl/problemset/problem/YqMCZQAgBAOuE4IBiz2WYGK-/site/?key=statement\n",
    "\n",
    "* https://szkopul.edu.pl/problemset/problem/67tSwosdIiE1nQrHXz8ogjWS/site/?key=statement\n"
   ]
  },
  {
   "cell_type": "code",
   "execution_count": null,
   "metadata": {},
   "outputs": [],
   "source": []
  }
 ],
 "metadata": {
  "kernelspec": {
   "display_name": "Python 3",
   "language": "python",
   "name": "python3"
  },
  "language_info": {
   "codemirror_mode": {
    "name": "ipython",
    "version": 3
   },
   "file_extension": ".py",
   "mimetype": "text/x-python",
   "name": "python",
   "nbconvert_exporter": "python",
   "pygments_lexer": "ipython3",
   "version": "3.6.7"
  }
 },
 "nbformat": 4,
 "nbformat_minor": 2
}
