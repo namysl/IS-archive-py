{
 "cells": [
  {
   "cell_type": "markdown",
   "metadata": {},
   "source": [
    "## MATEMATYKA 2021-2022\n",
    "## Programowanie zaawansowane \n",
    "## III rok - licencjat\n",
    "## PRACA domowa 2\n",
    "\n"
   ]
  },
  {
   "cell_type": "markdown",
   "metadata": {},
   "source": [
    "Każde zadanie 10 punktów"
   ]
  },
  {
   "cell_type": "markdown",
   "metadata": {},
   "source": [
    "#### Zadanie 1 \n",
    "Napisz funkcję, która dzieli daną listę na podlisty o zadanej długości."
   ]
  },
  {
   "cell_type": "code",
   "execution_count": 7,
   "metadata": {},
   "outputs": [
    {
     "name": "stdout",
     "output_type": "stream",
     "text": [
      "Czosnek\n",
      "Pierwiosnek\n",
      "Szczypiorek\n",
      "Łałok\n",
      "Szwagierek\n",
      "Smi\n"
     ]
    },
    {
     "data": {
      "text/plain": [
       "[['Czosnek', 'Pierwiosnek'], ['Szczypiorek', 'Łałok'], ['Szwagierek', 'Smi']]"
      ]
     },
     "execution_count": 7,
     "metadata": {},
     "output_type": "execute_result"
    }
   ],
   "source": [
    "lista = [\"Czosnek\", \"Pierwiosnek\", \"Szczypiorek\", \"Łałok\", \"Szwagierek\", \"Smi\"]\n",
    "def f(l, dlugosc):\n",
    "    listka = []\n",
    "    listowina = []\n",
    "    licznik = 0\n",
    "    for x in l:\n",
    "        listowina.append(x)\n",
    "        licznik += 1\n",
    "        if licznik == dlugosc:\n",
    "            listka.append(listowina)\n",
    "            listowina = []\n",
    "            licznik = 0\n",
    "        print(x)\n",
    "        \n",
    "    return listka\n",
    "        \n",
    "f(lista, 2)\n",
    "        "
   ]
  },
  {
   "cell_type": "markdown",
   "metadata": {},
   "source": [
    "#### Zadanie 2  \n",
    "Napisz funkcję, która sprawdza czy elementy listy tworzą ciąg rosnący (malejący, stały, nierosnący, niemalejący)"
   ]
  },
  {
   "cell_type": "code",
   "execution_count": 19,
   "metadata": {},
   "outputs": [
    {
     "name": "stdout",
     "output_type": "stream",
     "text": [
      "Ciąg nierosnący\n"
     ]
    }
   ],
   "source": [
    "lista_rosnaca = [1, 2, 3, 4, 5, 6, 7]\n",
    "lista_malejaca = [7, 6, 5, 4, 3, 2, 1]\n",
    "lista_stala = [1, 1, 1, 1, 1, 1, 1]\n",
    "lista_niemalejaca = [1, 1, 1, 2, 3, 4, 4]\n",
    "lista_nierosnaca = [5, 5, 5, 2, 2, 2, 2]\n",
    "\n",
    "def g(x):\n",
    "    licznik = 0\n",
    "    for i in range(len(x) - 1):\n",
    "        if x[i] < x[i + 1]:\n",
    "            licznik += 1\n",
    "        elif x[i] > x[i + 1]:\n",
    "            licznik -= 1\n",
    "        elif x[i] == x[i + 1]:\n",
    "            continue\n",
    "            \n",
    "    if licznik == 0:\n",
    "        print(\"Ciąg stały\")\n",
    "    elif licznik == len(x) - 1 :\n",
    "        print(\"Ciąg rosnący\")\n",
    "    elif licznik == - len(x) + 1:\n",
    "        print(\"Ciąg malejący\")\n",
    "    elif licznik > 0 and licznik < len(x) - 1:\n",
    "        print(\"Ciąg niemalejący\")\n",
    "    elif licznik < 0 and licznik > - len(x) + 1:\n",
    "        print(\"Ciąg nierosnący\")\n",
    "            \n",
    "g(lista_nierosnaca)\n",
    "            "
   ]
  },
  {
   "cell_type": "markdown",
   "metadata": {},
   "source": [
    "#### Zadanie 3 \n",
    "Napisz funkcję, która sprawdza czy elementy są ciągiem naprzemiennym."
   ]
  },
  {
   "cell_type": "code",
   "execution_count": 87,
   "metadata": {},
   "outputs": [
    {
     "name": "stdout",
     "output_type": "stream",
     "text": [
      "Ciąg nie jest naprzemienny\n"
     ]
    }
   ],
   "source": [
    "lista_naprzemienna = [1, -1, 1, -1, 1, -1, 1]\n",
    "lista_malejaca = [7, 6, 5, 4, 3, 2, 1]\n",
    "\n",
    "def h(x):\n",
    "    licznik = 0\n",
    "    for i in range(len(x) - 1):\n",
    "        if x[i] == - x[(i + 1)]:\n",
    "            licznik += 1\n",
    "       \n",
    "            \n",
    "    if licznik == len(x) - 1:\n",
    "        print(\"Ciąg jest naprzemienny\")\n",
    "    else:\n",
    "        print(\"Ciąg nie jest naprzemienny\")\n",
    "            \n",
    "h(lista_malejaca)"
   ]
  },
  {
   "cell_type": "markdown",
   "metadata": {},
   "source": [
    "#### Zadanie 4\n",
    "Wykorzystaując zadania poprzednie napisz program który wypisuje wszystkie podciągi rosnące danej listy."
   ]
  },
  {
   "cell_type": "code",
   "execution_count": 86,
   "metadata": {},
   "outputs": [
    {
     "data": {
      "text/plain": [
       "[[(1, 2),\n",
       "  (1, 3),\n",
       "  (1, 4),\n",
       "  (1, 5),\n",
       "  (2, 3),\n",
       "  (2, 4),\n",
       "  (2, 5),\n",
       "  (3, 4),\n",
       "  (3, 5),\n",
       "  (4, 5)],\n",
       " [(1, 2, 3),\n",
       "  (1, 2, 4),\n",
       "  (1, 2, 5),\n",
       "  (1, 3, 4),\n",
       "  (1, 3, 5),\n",
       "  (1, 4, 5),\n",
       "  (2, 3, 4),\n",
       "  (2, 3, 5),\n",
       "  (2, 4, 5),\n",
       "  (3, 4, 5)],\n",
       " [(1, 2, 3, 4), (1, 2, 3, 5), (1, 2, 4, 5), (1, 3, 4, 5), (2, 3, 4, 5)]]"
      ]
     },
     "execution_count": 86,
     "metadata": {},
     "output_type": "execute_result"
    }
   ],
   "source": [
    "import itertools as it\n",
    "\n",
    "lista_podciagi = [5, 1, 2, 3, 4, 5, 1, 2, 3, 4, 1, 2, 3]\n",
    "\n",
    "def t(lista):\n",
    "    lista_bez_powt = []\n",
    "    \n",
    "    for i in lista:\n",
    "        if i in lista_bez_powt:\n",
    "            continue\n",
    "        else:\n",
    "            lista_bez_powt.append(i)\n",
    "            \n",
    "    lista_bez_powt.sort()\n",
    "\n",
    "    n = len(lista_bez_powt)\n",
    "    \n",
    "    nowa = []\n",
    "    for j in range(2, n):\n",
    "        nowa.append(list(it.combinations(lista_bez_powt, j)))\n",
    "    \n",
    "    return nowa\n",
    "\n",
    "t(lista_podciagi)"
   ]
  },
  {
   "cell_type": "markdown",
   "metadata": {},
   "source": [
    "#### Zadanie 5\n",
    " - Wygeneruj listę par wszystkich możliwych rzutów trzema kostkami do gry $[(1,1,1),({1,1,2),...)]$\n",
    " - Wygeneruj listę par wszystkich możliwych rzutów dwoma kostkami do gry w których na pierwszej kostce wyrzucono\n",
    " więcej oczek niż na drugiej i trzeciej razem.\n",
    " \n",
    " Oblicz jakie jest prawdopodobienstwo wyrzucenia         na pierwszej kostce \n",
    " więcej oczek niż na drugiej i trzeciej razem.                                                                   "
   ]
  },
  {
   "cell_type": "code",
   "execution_count": 65,
   "metadata": {},
   "outputs": [
    {
     "name": "stdout",
     "output_type": "stream",
     "text": [
      "Omega: [(1, 1, 1), (1, 1, 2), (1, 1, 3), (1, 1, 4), (1, 1, 5), (1, 1, 6), (1, 2, 1), (1, 2, 2), (1, 2, 3), (1, 2, 4), (1, 2, 5), (1, 2, 6), (1, 3, 1), (1, 3, 2), (1, 3, 3), (1, 3, 4), (1, 3, 5), (1, 3, 6), (1, 4, 1), (1, 4, 2), (1, 4, 3), (1, 4, 4), (1, 4, 5), (1, 4, 6), (1, 5, 1), (1, 5, 2), (1, 5, 3), (1, 5, 4), (1, 5, 5), (1, 5, 6), (1, 6, 1), (1, 6, 2), (1, 6, 3), (1, 6, 4), (1, 6, 5), (1, 6, 6), (2, 1, 1), (2, 1, 2), (2, 1, 3), (2, 1, 4), (2, 1, 5), (2, 1, 6), (2, 2, 1), (2, 2, 2), (2, 2, 3), (2, 2, 4), (2, 2, 5), (2, 2, 6), (2, 3, 1), (2, 3, 2), (2, 3, 3), (2, 3, 4), (2, 3, 5), (2, 3, 6), (2, 4, 1), (2, 4, 2), (2, 4, 3), (2, 4, 4), (2, 4, 5), (2, 4, 6), (2, 5, 1), (2, 5, 2), (2, 5, 3), (2, 5, 4), (2, 5, 5), (2, 5, 6), (2, 6, 1), (2, 6, 2), (2, 6, 3), (2, 6, 4), (2, 6, 5), (2, 6, 6), (3, 1, 1), (3, 1, 2), (3, 1, 3), (3, 1, 4), (3, 1, 5), (3, 1, 6), (3, 2, 1), (3, 2, 2), (3, 2, 3), (3, 2, 4), (3, 2, 5), (3, 2, 6), (3, 3, 1), (3, 3, 2), (3, 3, 3), (3, 3, 4), (3, 3, 5), (3, 3, 6), (3, 4, 1), (3, 4, 2), (3, 4, 3), (3, 4, 4), (3, 4, 5), (3, 4, 6), (3, 5, 1), (3, 5, 2), (3, 5, 3), (3, 5, 4), (3, 5, 5), (3, 5, 6), (3, 6, 1), (3, 6, 2), (3, 6, 3), (3, 6, 4), (3, 6, 5), (3, 6, 6), (4, 1, 1), (4, 1, 2), (4, 1, 3), (4, 1, 4), (4, 1, 5), (4, 1, 6), (4, 2, 1), (4, 2, 2), (4, 2, 3), (4, 2, 4), (4, 2, 5), (4, 2, 6), (4, 3, 1), (4, 3, 2), (4, 3, 3), (4, 3, 4), (4, 3, 5), (4, 3, 6), (4, 4, 1), (4, 4, 2), (4, 4, 3), (4, 4, 4), (4, 4, 5), (4, 4, 6), (4, 5, 1), (4, 5, 2), (4, 5, 3), (4, 5, 4), (4, 5, 5), (4, 5, 6), (4, 6, 1), (4, 6, 2), (4, 6, 3), (4, 6, 4), (4, 6, 5), (4, 6, 6), (5, 1, 1), (5, 1, 2), (5, 1, 3), (5, 1, 4), (5, 1, 5), (5, 1, 6), (5, 2, 1), (5, 2, 2), (5, 2, 3), (5, 2, 4), (5, 2, 5), (5, 2, 6), (5, 3, 1), (5, 3, 2), (5, 3, 3), (5, 3, 4), (5, 3, 5), (5, 3, 6), (5, 4, 1), (5, 4, 2), (5, 4, 3), (5, 4, 4), (5, 4, 5), (5, 4, 6), (5, 5, 1), (5, 5, 2), (5, 5, 3), (5, 5, 4), (5, 5, 5), (5, 5, 6), (5, 6, 1), (5, 6, 2), (5, 6, 3), (5, 6, 4), (5, 6, 5), (5, 6, 6), (6, 1, 1), (6, 1, 2), (6, 1, 3), (6, 1, 4), (6, 1, 5), (6, 1, 6), (6, 2, 1), (6, 2, 2), (6, 2, 3), (6, 2, 4), (6, 2, 5), (6, 2, 6), (6, 3, 1), (6, 3, 2), (6, 3, 3), (6, 3, 4), (6, 3, 5), (6, 3, 6), (6, 4, 1), (6, 4, 2), (6, 4, 3), (6, 4, 4), (6, 4, 5), (6, 4, 6), (6, 5, 1), (6, 5, 2), (6, 5, 3), (6, 5, 4), (6, 5, 5), (6, 5, 6), (6, 6, 1), (6, 6, 2), (6, 6, 3), (6, 6, 4), (6, 6, 5), (6, 6, 6)]\n",
      "A =  [(3, 1, 1), (4, 1, 1), (4, 1, 2), (4, 2, 1), (5, 1, 1), (5, 1, 2), (5, 1, 3), (5, 2, 1), (5, 2, 2), (5, 3, 1), (6, 1, 1), (6, 1, 2), (6, 1, 3), (6, 1, 4), (6, 2, 1), (6, 2, 2), (6, 2, 3), (6, 3, 1), (6, 3, 2), (6, 4, 1)]\n",
      "|A| =  20\n",
      "|Omega| =  216\n",
      "P(A) =  0.09259259259259259\n"
     ]
    }
   ],
   "source": [
    "kostka1 = [1, 2, 3, 4, 5, 6]\n",
    "kostka2 = [1, 2, 3, 4, 5, 6]\n",
    "kostka3 = [1, 2, 3, 4, 5, 6]\n",
    "\n",
    "lista_wyniki = []\n",
    "#wszystkie rzuty trzema kostkami\n",
    "\n",
    "for x in kostka1:\n",
    "    for y in kostka2:\n",
    "        for z in kostka3:\n",
    "            lista_wyniki.append((x, y, z))\n",
    "            \n",
    "print(\"Omega:\", lista_wyniki)\n",
    "\n",
    "lista_wyniki2 = []\n",
    "#trzy kostki, pierwsza > druga + trzecia \n",
    "\n",
    "for x in kostka1:\n",
    "    for y in kostka2:\n",
    "        for z in kostka3:\n",
    "            if x > y+z:\n",
    "                lista_wyniki2.append((x, y, z))\n",
    "\n",
    "print(\"A = \", lista_wyniki2)\n",
    "\n",
    "A = len(lista_wyniki2)\n",
    "omega = len(lista_wyniki)\n",
    "\n",
    "prawdopodobienstwo = A / omega\n",
    "print(\"|A| = \", A)\n",
    "print(\"|Omega| = \", omega)\n",
    "print(\"P(A) = \", prawdopodobienstwo)"
   ]
  },
  {
   "cell_type": "markdown",
   "metadata": {},
   "source": [
    "#### Zadanie 5\n",
    " - Wygeneruj listę par wszystkich możliwych rzutów kostką do gry  i dwoma monetami.\n",
    " - Wygeneruj listę par wszystkich możliwych rzutów kostką do gry i dwoama monetami przyczym na kostce wyrzucono\n",
    "mniej niż 3 oczka i jest conajmniej jeden orzeł.\n",
    " \n",
    " Oblicz ile jest zdarzeń sprzyjajacych opisanemu powyżej zdarzeniu."
   ]
  },
  {
   "cell_type": "code",
   "execution_count": 69,
   "metadata": {},
   "outputs": [
    {
     "name": "stdout",
     "output_type": "stream",
     "text": [
      "Omega: [(1, 'orzeł', 'orzeł'), (1, 'orzeł', 'reszka'), (1, 'reszka', 'orzeł'), (1, 'reszka', 'reszka'), (2, 'orzeł', 'orzeł'), (2, 'orzeł', 'reszka'), (2, 'reszka', 'orzeł'), (2, 'reszka', 'reszka'), (3, 'orzeł', 'orzeł'), (3, 'orzeł', 'reszka'), (3, 'reszka', 'orzeł'), (3, 'reszka', 'reszka'), (4, 'orzeł', 'orzeł'), (4, 'orzeł', 'reszka'), (4, 'reszka', 'orzeł'), (4, 'reszka', 'reszka'), (5, 'orzeł', 'orzeł'), (5, 'orzeł', 'reszka'), (5, 'reszka', 'orzeł'), (5, 'reszka', 'reszka'), (6, 'orzeł', 'orzeł'), (6, 'orzeł', 'reszka'), (6, 'reszka', 'orzeł'), (6, 'reszka', 'reszka')]\n",
      "B =  [(1, 'orzeł', 'orzeł'), (1, 'orzeł', 'reszka'), (1, 'reszka', 'orzeł'), (2, 'orzeł', 'orzeł'), (2, 'orzeł', 'reszka'), (2, 'reszka', 'orzeł')]\n",
      "|B| =  6\n"
     ]
    }
   ],
   "source": [
    "kostka = [1, 2, 3, 4, 5, 6]\n",
    "moneta1 = [\"orzeł\", \"reszka\"]\n",
    "moneta2 = [\"orzeł\", \"reszka\"]\n",
    "\n",
    "wyniki1 = []\n",
    "\n",
    "for x in kostka:\n",
    "    for y in moneta1:\n",
    "        for z in moneta2:\n",
    "            wyniki1.append((x, y, z))\n",
    "            \n",
    "print(\"Omega:\", wyniki1)\n",
    "\n",
    "\n",
    "wyniki2 = []\n",
    "\n",
    "for x in kostka:\n",
    "    for y in moneta1:\n",
    "        for z in moneta2:\n",
    "            if x < 3 and ((y == \"orzeł\" or z == \"orzeł\") or (y == \"orzeł\" and z == \"orzeł\")):\n",
    "                wyniki2.append((x, y, z))\n",
    "                \n",
    "print(\"B = \", wyniki2)\n",
    "\n",
    "print(\"|B| = \", len(wyniki2))"
   ]
  },
  {
   "cell_type": "code",
   "execution_count": null,
   "metadata": {},
   "outputs": [],
   "source": []
  }
 ],
 "metadata": {
  "kernelspec": {
   "display_name": "Python 3 (ipykernel)",
   "language": "python",
   "name": "python3"
  },
  "language_info": {
   "codemirror_mode": {
    "name": "ipython",
    "version": 3
   },
   "file_extension": ".py",
   "mimetype": "text/x-python",
   "name": "python",
   "nbconvert_exporter": "python",
   "pygments_lexer": "ipython3",
   "version": "3.9.5"
  }
 },
 "nbformat": 4,
 "nbformat_minor": 4
}
