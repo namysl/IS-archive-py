{
 "cells": [
  {
   "cell_type": "markdown",
   "metadata": {},
   "source": [
    "#### Zadanie 1  Suma A\n",
    "Oblicz sumę `s`. Użyj takich samych zmiennych jakie widzisz we wzorze poniżej. Użyj pętli `while`. W przypadku, gdy wzór podniesie jakiś wyjątek (błąd) użyj instrukcji warunkowej `if`, by pominąć daną liczbę w pętli.\n",
    "$$s = \\sum_{i=-10}^{10} \\frac{i - 1}{i - 2}$$"
   ]
  },
  {
   "cell_type": "code",
   "execution_count": 7,
   "metadata": {},
   "outputs": [
    {
     "name": "stdout",
     "output_type": "stream",
     "text": [
      "19.614646464646466\n"
     ]
    }
   ],
   "source": [
    "i = -10\n",
    "s = 0\n",
    "\n",
    "while i <= 10:\n",
    "    if (i == 2 or i == 1):\n",
    "        i += 1\n",
    "    else:\n",
    "        s += (i - 1)/(i - 2)\n",
    "        i += 1\n",
    "        \n",
    "print(s)"
   ]
  },
  {
   "cell_type": "markdown",
   "metadata": {},
   "source": [
    "#### Zadanie 2  Suma B\n",
    "Oblicz sumę `s`. Użyj takich samych zmiennych jakie widzisz we wzorze poniżej. Użyj pętli `for`. W przypadku, gdy wzór podniesie jakiś wyjątek (błąd) użyj instrukcji warunkowej `if`, by pominąć daną liczbę w pętli.\n",
    "$$s = \\sum_{i=-10}^{10} \\log {i-3}$$"
   ]
  },
  {
   "cell_type": "code",
   "execution_count": 9,
   "metadata": {},
   "outputs": [
    {
     "name": "stdout",
     "output_type": "stream",
     "text": [
      "3.702430536445525\n"
     ]
    }
   ],
   "source": [
    "import math\n",
    "\n",
    "s = 0\n",
    "\n",
    "for i in range(-10, 11): \n",
    "    if (i - 3) <= 0:\n",
    "        i += 1\n",
    "    else:\n",
    "        s += math.log(i - 3, 10)\n",
    "        i += 1\n",
    "\n",
    "print(s)"
   ]
  },
  {
   "cell_type": "markdown",
   "metadata": {},
   "source": [
    "#### Zadanie 3 Dane osobowe\n",
    "\n",
    "Wczytaj imię, nazwisko i numer telefonu. \n",
    "Wpisując dane popełnamy (czasami) błędy. \n",
    "Popraw dane - tzn - imię i nazwisko mają zostać wypisane z wielkiej litery. \n",
    "Sprawdź czy nie zawierają liczb. Sprawdź czy nr telefonu składa się z cyfr.\n",
    "\n",
    "Wykorzystaj funkcje\n",
    "- `isalpha, isnumeric, capitalize, `"
   ]
  },
  {
   "cell_type": "code",
   "execution_count": 10,
   "metadata": {},
   "outputs": [
    {
     "name": "stdout",
     "output_type": "stream",
     "text": [
      "Imię:\n",
      "Nazwisko:\n",
      "Numer telefonu:\n",
      "Czy w imieniu są same litery? False\n",
      "Czy w nazwisku są same litery? True\n",
      "Czy numer zawiera tylko cyfry? True\n",
      "imię: Kamila2 nazwisko: Wielgus\n",
      "telefon: 1234\n"
     ]
    }
   ],
   "source": [
    "print(\"Imię:\")\n",
    "imie = input()\n",
    "\n",
    "print(\"Nazwisko:\")\n",
    "nazwisko = input()\n",
    "\n",
    "print(\"Numer telefonu:\")\n",
    "nr_tel = input()\n",
    "\n",
    "imie = imie.capitalize()\n",
    "nazwisko = nazwisko.capitalize()\n",
    "\n",
    "print(\"Czy w imieniu są same litery?\", imie.isalpha())\n",
    "print(\"Czy w nazwisku są same litery?\", nazwisko.isalpha())\n",
    "print(\"Czy numer zawiera tylko cyfry?\", nr_tel.isnumeric())\n",
    "\n",
    "print(\"imię:\", imie, \"nazwisko:\", nazwisko)\n",
    "print(\"telefon:\", nr_tel)"
   ]
  },
  {
   "cell_type": "code",
   "execution_count": null,
   "metadata": {},
   "outputs": [],
   "source": []
  }
 ],
 "metadata": {
  "kernelspec": {
   "display_name": "Python 3 (ipykernel)",
   "language": "python",
   "name": "python3"
  },
  "language_info": {
   "codemirror_mode": {
    "name": "ipython",
    "version": 3
   },
   "file_extension": ".py",
   "mimetype": "text/x-python",
   "name": "python",
   "nbconvert_exporter": "python",
   "pygments_lexer": "ipython3",
   "version": "3.9.5"
  }
 },
 "nbformat": 4,
 "nbformat_minor": 2
}
