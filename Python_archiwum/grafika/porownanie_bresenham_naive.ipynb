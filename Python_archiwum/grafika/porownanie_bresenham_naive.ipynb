{
 "cells": [
  {
   "cell_type": "code",
   "execution_count": 2,
   "metadata": {},
   "outputs": [],
   "source": [
    "import math\n",
    "import numpy as np\n",
    "import matplotlib.pyplot as plt\n",
    "import time\n",
    "import random\n",
    "\n",
    "def liniaN(x1, y1, x2, y2, rysowac=False, kolor_linii=[0, 0, 0]):\n",
    "    assert isinstance(kolor_linii, list)\n",
    "    assert x1 < 100\n",
    "    assert x2 < 100\n",
    "    assert y1 < 100\n",
    "    assert y2 < 100\n",
    "    \n",
    "    if x1 > x2:\n",
    "        x1, x2 = x2, x1\n",
    "        y1, y2 = y2, y1\n",
    "\n",
    "    data = np.zeros((100, 100, 3), dtype=np.uint8)\n",
    "    data.fill(255)\n",
    "    \n",
    "    delta_y = (y2 - y1)\n",
    "    delta_x = (x2 - x1)\n",
    "    \n",
    "    m = delta_y / delta_x\n",
    "    #print('m =', m)\n",
    "    \n",
    "    c = y1\n",
    "\n",
    "    for x in range(x1, x2):\n",
    "        y = math.floor(m * (x - x1) + c)\n",
    "        data[x, y, 0] = kolor_linii[0]\n",
    "        data[x, y, 1] = kolor_linii[1]\n",
    "        data[x, y, 2] = kolor_linii[2]\n",
    "    \n",
    "    if rysowac is True:\n",
    "        print('x0:', x1, 'y0:', y1, 'xk:', x2, 'yk:', y2)\n",
    "        plt.imshow(data, interpolation='none', aspect=1)\n",
    "        plt.show()\n",
    "    \n",
    "    return data\n"
   ]
  },
  {
   "cell_type": "code",
   "execution_count": 3,
   "metadata": {},
   "outputs": [],
   "source": [
    "# liniaN(50, 50, 2, 2, True, [0, 206, 209])\n",
    "# liniaN(2, 3, 50, 50, True)\n",
    "# liniaN(30, 60, 80, 20, True)\n",
    "# liniaN(50, 51, 30, 30, True)\n",
    "# liniaN(15, 80, 60, 10, True)\n",
    "# liniaN(1, 99, 20, 20, True)"
   ]
  },
  {
   "cell_type": "code",
   "execution_count": 4,
   "metadata": {},
   "outputs": [],
   "source": [
    "def liniaBresenham(x0, y0, xk, yk, rysowac=False):\n",
    "    assert x0 < 100\n",
    "    assert xk < 100\n",
    "    assert y0 < 100\n",
    "    assert yk < 100\n",
    "    \n",
    "    dx = xk - x0\n",
    "    dy = yk - y0\n",
    "    \n",
    "    #print(\"dx:\", dx, \"dy:\", dy)\n",
    "    data = np.zeros((100, 100, 3), dtype=np.uint8)\n",
    "    data.fill(255)\n",
    "    \n",
    "    if abs(dx) > abs(dy):\n",
    "        if x0 > xk:\n",
    "            x0, xk = xk, x0\n",
    "            y0, yk = yk, y0\n",
    "\n",
    "        dx = xk - x0\n",
    "        dy = yk - y0\n",
    "\n",
    "        D = 2*dy - dx\n",
    "        y = y0\n",
    "\n",
    "        for x in range(x0, xk):\n",
    "            data[y, x, 0] = 0\n",
    "            data[y, x, 1] = 0\n",
    "            data[y, x, 2] = 0\n",
    "\n",
    "            if D > 0:\n",
    "                y = y + np.sign(dy)\n",
    "                D = D - 2*abs(dx)\n",
    "\n",
    "            D = D + 2*abs(dy)\n",
    "\n",
    "    else:\n",
    "        if y0 > yk:\n",
    "            xk, x0 = x0, xk\n",
    "            yk, y0 = y0, yk\n",
    "        \n",
    "        dx = xk - x0\n",
    "        dy = yk - y0\n",
    "\n",
    "\n",
    "        D = 2*dx - dy\n",
    "        x = x0\n",
    "\n",
    "        for y in range(y0, yk):\n",
    "            data[x, y, 0] = 0\n",
    "            data[x, y, 1] = 0\n",
    "            data[x, y, 2] = 0\n",
    "            \n",
    "            if D > 0:\n",
    "                x = x + np.sign(dx)\n",
    "                D = D - 2*abs(dy)\n",
    "\n",
    "            D = D + 2*abs(dx)\n",
    "    \n",
    "    if rysowac is True:\n",
    "        print('x0:', x0, 'y0:', y0, 'xk:', xk, 'yk:', yk)\n",
    "        plt.imshow(data, interpolation='none', aspect=1)\n",
    "        plt.show()\n",
    "    \n",
    "    return data\n"
   ]
  },
  {
   "cell_type": "code",
   "execution_count": 5,
   "metadata": {
    "scrolled": false
   },
   "outputs": [
    {
     "name": "stdout",
     "output_type": "stream",
     "text": [
      "x0: 2 y0: 3 xk: 50 yk: 50\n"
     ]
    },
    {
     "data": {
      "image/png": "[encoded data removed]",
      "text/plain": [
       "<Figure size 432x288 with 1 Axes>"
      ]
     },
     "metadata": {},
     "output_type": "display_data"
    },
    {
     "name": "stdout",
     "output_type": "stream",
     "text": [
      "x0: 30 y0: 60 xk: 80 yk: 20\n"
     ]
    },
    {
     "data": {
      "image/png": "[encoded data removed]",
      "text/plain": [
       "<Figure size 432x288 with 1 Axes>"
      ]
     },
     "metadata": {},
     "output_type": "display_data"
    },
    {
     "name": "stdout",
     "output_type": "stream",
     "text": [
      "x0: 30 y0: 30 xk: 50 yk: 51\n"
     ]
    },
    {
     "data": {
      "image/png": "[encoded data removed]",
      "text/plain": [
       "<Figure size 432x288 with 1 Axes>"
      ]
     },
     "metadata": {},
     "output_type": "display_data"
    },
    {
     "name": "stdout",
     "output_type": "stream",
     "text": [
      "x0: 60 y0: 10 xk: 15 yk: 80\n"
     ]
    },
    {
     "data": {
      "image/png": "[encoded data removed]",
      "text/plain": [
       "<Figure size 432x288 with 1 Axes>"
      ]
     },
     "metadata": {},
     "output_type": "display_data"
    },
    {
     "name": "stdout",
     "output_type": "stream",
     "text": [
      "x0: 20 y0: 20 xk: 1 yk: 99\n"
     ]
    },
    {
     "data": {
      "image/png": "[encoded data removed]",
      "text/plain": [
       "<Figure size 432x288 with 1 Axes>"
      ]
     },
     "metadata": {},
     "output_type": "display_data"
    },
    {
     "data": {
      "text/plain": [
       "array([[[255, 255, 255],\n",
       "        [255, 255, 255],\n",
       "        [255, 255, 255],\n",
       "        ...,\n",
       "        [255, 255, 255],\n",
       "        [255, 255, 255],\n",
       "        [255, 255, 255]],\n",
       "\n",
       "       [[255, 255, 255],\n",
       "        [255, 255, 255],\n",
       "        [255, 255, 255],\n",
       "        ...,\n",
       "        [255, 255, 255],\n",
       "        [255, 255, 255],\n",
       "        [255, 255, 255]],\n",
       "\n",
       "       [[255, 255, 255],\n",
       "        [255, 255, 255],\n",
       "        [255, 255, 255],\n",
       "        ...,\n",
       "        [  0,   0,   0],\n",
       "        [  0,   0,   0],\n",
       "        [255, 255, 255]],\n",
       "\n",
       "       ...,\n",
       "\n",
       "       [[255, 255, 255],\n",
       "        [255, 255, 255],\n",
       "        [255, 255, 255],\n",
       "        ...,\n",
       "        [255, 255, 255],\n",
       "        [255, 255, 255],\n",
       "        [255, 255, 255]],\n",
       "\n",
       "       [[255, 255, 255],\n",
       "        [255, 255, 255],\n",
       "        [255, 255, 255],\n",
       "        ...,\n",
       "        [255, 255, 255],\n",
       "        [255, 255, 255],\n",
       "        [255, 255, 255]],\n",
       "\n",
       "       [[255, 255, 255],\n",
       "        [255, 255, 255],\n",
       "        [255, 255, 255],\n",
       "        ...,\n",
       "        [255, 255, 255],\n",
       "        [255, 255, 255],\n",
       "        [255, 255, 255]]], dtype=uint8)"
      ]
     },
     "execution_count": 5,
     "metadata": {},
     "output_type": "execute_result"
    }
   ],
   "source": [
    "liniaBresenham(2, 3, 50, 50, True)\n",
    "liniaBresenham(30, 60, 80, 20, True)\n",
    "liniaBresenham(50, 51, 30, 30, True)\n",
    "liniaBresenham(15, 80, 60, 10, True)\n",
    "liniaBresenham(1, 99, 20, 20, True)\n"
   ]
  },
  {
   "cell_type": "code",
   "execution_count": 6,
   "metadata": {},
   "outputs": [
    {
     "data": {
      "image/png": "[encoded data removed]",
      "text/plain": [
       "<Figure size 432x288 with 1 Axes>"
      ]
     },
     "metadata": {},
     "output_type": "display_data"
    },
    {
     "data": {
      "image/png": "[encoded data removed]",
      "text/plain": [
       "<Figure size 432x288 with 1 Axes>"
      ]
     },
     "metadata": {},
     "output_type": "display_data"
    },
    {
     "data": {
      "image/png": "[encoded data removed]",
      "text/plain": [
       "<Figure size 432x288 with 1 Axes>"
      ]
     },
     "metadata": {},
     "output_type": "display_data"
    },
    {
     "data": {
      "image/png": "[encoded data removed]",
      "text/plain": [
       "<Figure size 432x288 with 1 Axes>"
      ]
     },
     "metadata": {},
     "output_type": "display_data"
    },
    {
     "data": {
      "image/png": "[encoded data removed]",
      "text/plain": [
       "<Figure size 432x288 with 1 Axes>"
      ]
     },
     "metadata": {},
     "output_type": "display_data"
    },
    {
     "data": {
      "image/png": "[encoded data removed]",
      "text/plain": [
       "<Figure size 432x288 with 1 Axes>"
      ]
     },
     "metadata": {},
     "output_type": "display_data"
    },
    {
     "data": {
      "image/png": "[encoded data removed]",
      "text/plain": [
       "<Figure size 432x288 with 1 Axes>"
      ]
     },
     "metadata": {},
     "output_type": "display_data"
    },
    {
     "data": {
      "image/png": "[encoded data removed]",
      "text/plain": [
       "<Figure size 432x288 with 1 Axes>"
      ]
     },
     "metadata": {},
     "output_type": "display_data"
    },
    {
     "data": {
      "image/png": "[encoded data removed]",
      "text/plain": [
       "<Figure size 432x288 with 1 Axes>"
      ]
     },
     "metadata": {},
     "output_type": "display_data"
    }
   ],
   "source": [
    "def rysuj(data1, data2):\n",
    "    plt.imshow(data1, interpolation='none', aspect=1)\n",
    "    plt.show()\n",
    "    plt.imshow(data2, interpolation='none', aspect=1)\n",
    "    plt.show()\n",
    "    \n",
    "    new_data = data1 - data2\n",
    "    \n",
    "    plt.imshow(new_data, interpolation='none', aspect=1)\n",
    "    plt.show()\n",
    "    \n",
    "    return new_data\n",
    "    \n",
    "\n",
    "naive = liniaN(1, 99, 20, 20)\n",
    "bresenham = liniaBresenham(1, 99, 20, 20)\n",
    "wynik1 = rysuj(naive, bresenham)\n",
    "\n",
    "naive2 = liniaN(1, 1, 20, 99)\n",
    "bresenham2 = liniaBresenham(1, 1, 20, 99)\n",
    "wynik2 = rysuj(naive2, bresenham2)\n",
    "\n",
    "naive3 = liniaN(20, 20, 80, 80)\n",
    "bresenham3 = liniaBresenham(20, 20, 80, 80)\n",
    "wynik3 = rysuj(naive3, bresenham3)"
   ]
  },
  {
   "cell_type": "code",
   "execution_count": 7,
   "metadata": {},
   "outputs": [
    {
     "name": "stdout",
     "output_type": "stream",
     "text": [
      "3.985404968261719e-05\n",
      "6.289482116699219e-05\n"
     ]
    }
   ],
   "source": [
    "wyniki_naive = []\n",
    "wyniki_bresenham = []\n",
    "\n",
    "for proba in range(50):\n",
    "    x0, y0 = random.randint(0, 99), random.randint(0, 99)\n",
    "    xk, yk = random.randint(0, 99), random.randint(0, 99)\n",
    "    #print(x0, y0, xk, yk)\n",
    "    \n",
    "    try:\n",
    "        start1 = time.time()\n",
    "        liniaN(x0, y0, xk, yk)\n",
    "        end1 = time.time()\n",
    "        wynik_n = end1 - start1\n",
    "\n",
    "        start2 = time.time()\n",
    "        liniaBresenham(x0, y0, xk, yk)\n",
    "        end2 = time.time()\n",
    "        wynik_b = end2 - start2\n",
    "        \n",
    "    except ZeroDivisionError:\n",
    "        continue\n",
    "    \n",
    "    wyniki_naive.append(wynik_n)\n",
    "    wyniki_bresenham.append(wynik_b)\n",
    "    \n",
    "    #print(wynik1, wynik2)\n",
    "    \n",
    "print(np.mean(wyniki_naive))\n",
    "print(np.mean(wyniki_bresenham))"
   ]
  },
  {
   "cell_type": "code",
   "execution_count": null,
   "metadata": {},
   "outputs": [],
   "source": []
  },
  {
   "cell_type": "code",
   "execution_count": null,
   "metadata": {},
   "outputs": [],
   "source": []
  }
 ],
 "metadata": {
  "kernelspec": {
   "display_name": "Python 3",
   "language": "python",
   "name": "python3"
  },
  "language_info": {
   "codemirror_mode": {
    "name": "ipython",
    "version": 3
   },
   "file_extension": ".py",
   "mimetype": "text/x-python",
   "name": "python",
   "nbconvert_exporter": "python",
   "pygments_lexer": "ipython3",
   "version": "3.6.7"
  }
 },
 "nbformat": 4,
 "nbformat_minor": 5
}
