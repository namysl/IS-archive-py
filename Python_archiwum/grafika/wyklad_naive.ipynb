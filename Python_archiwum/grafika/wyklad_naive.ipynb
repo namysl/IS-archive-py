{
 "cells": [
  {
   "cell_type": "code",
   "execution_count": 41,
   "metadata": {},
   "outputs": [
    {
     "name": "stdout",
     "output_type": "stream",
     "text": [
      "0.5833333333333334\n",
      "0.3333333333333333\n",
      "1.3333333333333333\n",
      "1.6666666666666665\n",
      "1.9999999999999998\n",
      "2.333333333333333\n",
      "2.6666666666666665\n",
      "3.0\n"
     ]
    },
    {
     "data": {
      "image/png": "[encoded data removed]",
      "text/plain": [
       "<Figure size 288x288 with 1 Axes>"
      ]
     },
     "metadata": {},
     "output_type": "display_data"
    },
    {
     "name": "stdout",
     "output_type": "stream",
     "text": [
      "([2, 3, 4, 5, 6, 7, 8, 9, 10, 11, 12, 13], [2, 2, 3, 3, 4, 5, 5, 6, 6, 7, 8, 8])\n"
     ]
    },
    {
     "data": {
      "image/png": "[encoded data removed]",
      "text/plain": [
       "<Figure size 288x288 with 1 Axes>"
      ]
     },
     "metadata": {},
     "output_type": "display_data"
    },
    {
     "name": "stdout",
     "output_type": "stream",
     "text": [
      "([1, 2, 3, 4, 5, 6], [1, 1, 1, 2, 2, 3])\n"
     ]
    }
   ],
   "source": [
    "import matplotlib.pyplot as plt\n",
    "from matplotlib.pyplot import figure\n",
    "import math\n",
    "\n",
    "\n",
    "def naive(xa, ya, xb, yb):\n",
    "    y = yb - ya\n",
    "    x = xb - xa\n",
    "    m = y / x\n",
    "    print(m)\n",
    "\n",
    "    x_list = []\n",
    "    y_list = []\n",
    "\n",
    "    x_i = xa\n",
    "    c = 1\n",
    "    while x_i != xb:\n",
    "        y_i = m * x_i + c\n",
    "        y_i = math.floor(y_i)\n",
    "        \n",
    "        x_list.append(x_i)\n",
    "        y_list.append(y_i)\n",
    "        \n",
    "        x_i += 1\n",
    "\n",
    "    return x_list, y_list\n",
    "\n",
    "\n",
    "def przyrostowy(xa, ya, xb, yb):\n",
    "    y = yb - ya\n",
    "    x = xb - xa\n",
    "    m = y / x\n",
    "    print(m)\n",
    "\n",
    "    x_list = []\n",
    "    y_list = []\n",
    "\n",
    "    x_i = xa\n",
    "    y_i = ya\n",
    "    c = 1\n",
    "    while x_i != xb:\n",
    "        y_i = y_i + m\n",
    "        print(y_i)\n",
    "        x_list.append(x_i)\n",
    "        y_list.append(math.floor(y_i))\n",
    "        \n",
    "        x_i += 1\n",
    "\n",
    "    return x_list, y_list\n",
    "\n",
    "\n",
    "def plot(algo):\n",
    "    figure(figsize=(4, 4))\n",
    "    plt.plot(algo[0], algo[1], linewidth=1.0)  #step\n",
    "    plt.xlabel('x')\n",
    "    plt.ylabel('y')\n",
    "    plt.title('algo')\n",
    "    plt.grid(True)\n",
    "    plt.show()\n",
    "\n",
    "xy = naive(2, 2, 14, 9)\n",
    "xy2 = przyrostowy(1, 1, 7, 3)\n",
    "\n",
    "plot(xy)\n",
    "print(xy)\n",
    "plot(xy2)\n",
    "print(xy2)"
   ]
  },
  {
   "cell_type": "code",
   "execution_count": null,
   "metadata": {},
   "outputs": [],
   "source": []
  }
 ],
 "metadata": {
  "kernelspec": {
   "display_name": "Python 3",
   "language": "python",
   "name": "python3"
  },
  "language_info": {
   "codemirror_mode": {
    "name": "ipython",
    "version": 3
   },
   "file_extension": ".py",
   "mimetype": "text/x-python",
   "name": "python",
   "nbconvert_exporter": "python",
   "pygments_lexer": "ipython3",
   "version": "3.6.7"
  }
 },
 "nbformat": 4,
 "nbformat_minor": 2
}
