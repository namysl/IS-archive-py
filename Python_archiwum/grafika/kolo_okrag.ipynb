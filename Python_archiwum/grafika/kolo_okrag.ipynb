{
 "cells": [
  {
   "cell_type": "code",
   "execution_count": 4,
   "metadata": {},
   "outputs": [
    {
     "data": {
      "image/png": "[encoded data removed]",
      "text/plain": [
       "<Figure size 432x288 with 1 Axes>"
      ]
     },
     "metadata": {},
     "output_type": "display_data"
    }
   ],
   "source": [
    "#!/usr/bin/env python\n",
    "# coding: utf-8\n",
    "\n",
    "import numpy as np\n",
    "import matplotlib.pyplot as plt\n",
    "def circleExact(x, y, r):\n",
    "    RGB = np.zeros((200, 200, 3), dtype = np.uint8)\n",
    "    RGB.fill(255)\n",
    "    for i in range(y-r, y+r+1):\n",
    "        for j in range (x-r, x+r+1):    \n",
    "            xx = j - x\n",
    "            yy = i - y\n",
    "            if xx*xx +yy*yy == r*r:\n",
    "                RGB[i][j] = 0\n",
    "    return RGB\n",
    "\n",
    "data = circleExact(120, 120, 70)\n",
    "plt.imshow(data, interpolation='none', aspect=1)\n",
    "plt.show()\n",
    "plt.imsave('test.png', data, format='png')"
   ]
  },
  {
   "cell_type": "code",
   "execution_count": 2,
   "metadata": {},
   "outputs": [
    {
     "data": {
      "image/png": "[encoded data removed]",
      "text/plain": [
       "<Figure size 432x288 with 1 Axes>"
      ]
     },
     "metadata": {},
     "output_type": "display_data"
    }
   ],
   "source": [
    "def circleFill(x, y, r):\n",
    "    RGB = np.zeros((200, 200, 3), dtype = np.uint8)\n",
    "    RGB.fill(255)\n",
    "    \n",
    "    # (x - Ox)^2 + (y - Oy)^2 <= r^2\n",
    "    \n",
    "    for i in range(y-r, y+r+1):\n",
    "        for j in range (x-r, x+r+1):    \n",
    "            xx = j - x\n",
    "            yy = i - y\n",
    "            if xx*xx +yy*yy <= r*r:\n",
    "                RGB[i][j] = 0\n",
    "\n",
    "    return RGB\n",
    "\n",
    "\n",
    "data = circleFill(120, 120, 70)\n",
    "plt.imshow(data, interpolation='none', aspect=1)\n",
    "plt.show()\n",
    "plt.imsave('test2.png', data, format='png')"
   ]
  },
  {
   "cell_type": "code",
   "execution_count": 3,
   "metadata": {},
   "outputs": [
    {
     "data": {
      "image/png": "[encoded data removed]",
      "text/plain": [
       "<Figure size 432x288 with 1 Axes>"
      ]
     },
     "metadata": {},
     "output_type": "display_data"
    }
   ],
   "source": [
    "def circleFill2(x, y, r):\n",
    "    RGB = np.zeros((200, 200, 3), dtype = np.uint8)\n",
    "    RGB.fill(255)\n",
    "    \n",
    "    # (x - Ox)^2 + (y - Oy)^2 <= r^2\n",
    "\n",
    "    for i in range(y-r, y+r+1):\n",
    "        for j in range (x-r, x+r+1):    \n",
    "            xx = j - x\n",
    "            yy = i - y\n",
    "            if xx*xx +yy*yy <= r*r:\n",
    "                RGB[i][j] = 0\n",
    "    \n",
    "    r = r-1\n",
    "    for i in range(y-r, y+r+1):\n",
    "        for j in range (x-r, x+r+1):    \n",
    "            xx = j - x\n",
    "            yy = i - y\n",
    "            if xx*xx +yy*yy <= r*r:\n",
    "                RGB[i][j] = 255\n",
    "    \n",
    "    return RGB\n",
    "\n",
    "\n",
    "data = circleFill2(120, 120, 30)\n",
    "plt.imshow(data, interpolation='none', aspect=1)\n",
    "plt.show()\n",
    "plt.imsave('test3.png', data, format='png')"
   ]
  },
  {
   "cell_type": "code",
   "execution_count": null,
   "metadata": {},
   "outputs": [],
   "source": []
  }
 ],
 "metadata": {
  "kernelspec": {
   "display_name": "Python 3",
   "language": "python",
   "name": "python3"
  },
  "language_info": {
   "codemirror_mode": {
    "name": "ipython",
    "version": 3
   },
   "file_extension": ".py",
   "mimetype": "text/x-python",
   "name": "python",
   "nbconvert_exporter": "python",
   "pygments_lexer": "ipython3",
   "version": "3.6.7"
  }
 },
 "nbformat": 4,
 "nbformat_minor": 5
}
