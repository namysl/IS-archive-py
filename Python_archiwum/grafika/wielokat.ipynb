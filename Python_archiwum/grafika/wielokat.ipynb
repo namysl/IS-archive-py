{
 "cells": [
  {
   "cell_type": "code",
   "execution_count": 1,
   "metadata": {},
   "outputs": [],
   "source": [
    "import numpy as np\n",
    "import matplotlib.pyplot as plt\n",
    "import math"
   ]
  },
  {
   "cell_type": "code",
   "execution_count": 2,
   "metadata": {},
   "outputs": [],
   "source": [
    "def _fpart(x):\n",
    "    return x - int(x)\n",
    "\n",
    " \n",
    "def _rfpart(x):\n",
    "    return 1.0 - _fpart(x)\n",
    "\n",
    " \n",
    "def _round(x):\n",
    "    return int(np.floor(x+0.5))\n",
    "\n",
    "\n",
    "def putpixel(data, x, y, color, alpha=1.0):\n",
    "    x = int(x)\n",
    "    y = int(y)\n",
    "    bg = data[y][x]\n",
    "    \n",
    "    if(alpha>1.0):\n",
    "        alpha=1.\n",
    "\n",
    "    color2 = [0.0, 0.0, 0.0]\n",
    "    color2[0] = alpha * color[0] + (1.0 - alpha) * bg[0]\n",
    "    color2[1] = alpha * color[1] + (1.0 - alpha) * bg[1]\n",
    "    color2[2] = alpha * color[2] + (1.0 - alpha) * bg[2]\n",
    "    data[x, y] = color2\n",
    "    \n",
    "    return data\n",
    "\n",
    "\n",
    "def lineXWColor(x1, y1, x2, y2, RGB, line=[0, 0, 0]):\n",
    "    dx, dy = x2-x1, y2-y1\n",
    "    steep = abs(dx) < abs(dy)\n",
    "    \n",
    "    if steep:\n",
    "        x1, y1, x2, y2 = y1, x1, y2, x2\n",
    "    if x2 < x1:\n",
    "        x1, x2, y1, y2 = x2, x1, y2, y1\n",
    "    \n",
    "    dx, dy = x2-x1, y2-y1\n",
    "    gradient = dy/dx\n",
    "    intery = y1 + _rfpart(x1) * gradient\n",
    "    \n",
    "    xend = _round(x1)\n",
    "    yend = y1 + gradient * (xend - x1)\n",
    "    \n",
    "    xgap = _rfpart(x1 + 0.5)\n",
    "    xpxl1 = xend \n",
    "    ypxl1 = int(np.floor(yend))\n",
    "    \n",
    "    if steep:\n",
    "        RGB = putpixel(RGB, xpxl1, ypxl1, line, _rfpart(yend) * xgap)\n",
    "        RGB = putpixel(RGB, xpxl1, ypxl1+1, line, _fpart(yend) * xgap)\n",
    "        \n",
    "        intery = yend + gradient\n",
    "        xend = _round(x2)\n",
    "        yend = y2 + gradient * (xend - x2)\n",
    "        xgap = _fpart(x2 + 0.5)\n",
    "        xpxl2 = xend \n",
    "        ypxl2 = int(np.floor(yend))\n",
    "        \n",
    "        RGB = putpixel(RGB, xpxl2, ypxl2, line, _rfpart(yend) * xgap)\n",
    "        RGB = putpixel(RGB, xpxl2, ypxl2+1, line, _fpart(yend) * xgap)\n",
    "        \n",
    "        for x in range(xpxl1 + 1, xpxl2):\n",
    "            RGB = putpixel(RGB, x, int(np.floor(intery)), line, _rfpart(intery) * xgap)\n",
    "            RGB = putpixel(RGB, x, int(np.floor(intery))+1, line, _fpart(intery) * xgap)\n",
    "            intery = intery + gradient\n",
    "        \n",
    "    else:\n",
    "        RGB = putpixel(RGB, ypxl1, xpxl1, line, _rfpart(yend) * xgap)\n",
    "        RGB = putpixel(RGB, ypxl1+1, xpxl1, line, _fpart(yend) * xgap)\n",
    "        \n",
    "        intery = yend + gradient\n",
    "        xend = _round(x2)\n",
    "        yend = y2 + gradient * (xend - x2)\n",
    "        xgap = _fpart(x2 + 0.5)\n",
    "        xpxl2 = xend \n",
    "        ypxl2 = int(np.floor(yend))\n",
    "        \n",
    "        RGB = putpixel(RGB, ypxl2, xpxl2, line, _rfpart(yend) * xgap)\n",
    "        RGB = putpixel(RGB, ypxl2+1, xpxl2, line, _fpart(yend) * xgap)\n",
    "        \n",
    "        for x in range (xpxl1 + 1, xpxl2):\n",
    "            RGB = putpixel(RGB, int(np.floor(intery)), x, line, _rfpart(intery) * xgap)\n",
    "            RGB = putpixel(RGB, int(np.floor(intery))+1, x, line, _fpart(intery) * xgap)\n",
    "\n",
    "            intery = intery + gradient\n",
    "    \n",
    "    return RGB"
   ]
  },
  {
   "cell_type": "code",
   "execution_count": 3,
   "metadata": {},
   "outputs": [],
   "source": [
    "def lineS(x1, y1, x2, y2, RGB):\n",
    "    if (x1 == x2 and y1 == y2):\n",
    "        RGB[x1, y1] = 0\n",
    "        return RGB\n",
    "    if abs(x2 - x1) > abs(y2 - x1):\n",
    "        if x2 < x1:\n",
    "            x1, x2 = x2, x1\n",
    "            y1, y2 = y2, y1\n",
    "        a = (y2 - y1)/(x2-x1)\n",
    "        for x in range(x1, x2+1):\n",
    "            y = y1 + a*(x-x1)\n",
    "            RGB[int(y), x] = 0\n",
    "    else:   \n",
    "        if y2 < y1:\n",
    "            x1, x2 = x2, x1\n",
    "            y1, y2 = y2, y1\n",
    "        a = (x2 - x1)/(y2-y1)\n",
    "        for y in range(y1, y2+1):\n",
    "            x = x1 + a*(y-y1)\n",
    "            RGB[y, int(x)] = 0\n",
    "            \n",
    "    return RGB"
   ]
  },
  {
   "cell_type": "code",
   "execution_count": 4,
   "metadata": {},
   "outputs": [],
   "source": [
    "def quadrilateral(m, n, P1, P2, P3, P4, fill=0):\n",
    "    assert isinstance(m, int)\n",
    "    assert isinstance(n, int)\n",
    "    assert isinstance(P1, (list, tuple))\n",
    "    assert isinstance(P2, (list, tuple))\n",
    "    assert isinstance(P3, (list, tuple))\n",
    "    assert isinstance(P4, (list, tuple))\n",
    "\n",
    "    # klepsydra/kokarda? \n",
    "    if intersect(P1, P2, P3, P4) is True:\n",
    "        # przecinajace sie krawedzie\n",
    "        return 0\n",
    "    \n",
    "    RGB=np.zeros((m, n, 3), dtype = np.uint8)\n",
    "    RGB[:,:] = 255\n",
    "\n",
    "    # linie\n",
    "    RGB = lineXWColor(P1[0], P1[1], P2[0], P2[1], RGB)\n",
    "    RGB = lineXWColor(P2[0], P2[1], P3[0], P3[1], RGB)\n",
    "    RGB = lineXWColor(P3[0], P3[1], P4[0], P4[1], RGB)\n",
    "    RGB = lineXWColor(P4[0], P4[1], P1[0], P1[1], RGB)\n",
    "    \n",
    "    if fill == 1:\n",
    "        # czworokat na dwa trojkaty, wykorzystuje wzor Herona\n",
    "        RGB = fill_it(P1, P2, P3, P4, RGB, m, n)\n",
    "        \n",
    "        # uzupelnia braki\n",
    "        RGB = lineS(P1[0], P1[1], P3[0], P3[1], RGB)\n",
    "    \n",
    "    return RGB\n",
    "\n",
    "\n",
    "def heron(a, b, c):\n",
    "    aa = math.sqrt((b[0] - a[0])**2 + (b[1] - a[1])**2)\n",
    "    bb = math.sqrt((c[0] - b[0])**2 + (c[1] - b[1])**2)\n",
    "    cc = math.sqrt((a[0] - c[0])**2 + (a[1] - c[1])**2)\n",
    "    \n",
    "    p = (aa + bb + cc)/2\n",
    "    P = math.sqrt(p * (p-aa) * (p-bb) * (p-cc))\n",
    "    \n",
    "    return P\n",
    "\n",
    "\n",
    "def fill_it(P1, P2, P3, P4, RGB, m, n):\n",
    "    for xx in range(m):\n",
    "            for yy in range(n):\n",
    "                try:\n",
    "                    P_ABC1 = heron(P1, P2, P3)\n",
    "                    P_ABQ1 = heron(P1, P2, [xx, yy])\n",
    "                    P_AQC1 = heron(P1, [xx, yy], P3)\n",
    "                    P_QBC1 = heron([xx, yy], P2, P3)\n",
    "\n",
    "                    P_Q1 = P_ABQ1 + P_AQC1 + P_QBC1\n",
    "\n",
    "                    P_ABC2 = heron(P1, P3, P4)\n",
    "                    P_ABQ2 = heron(P1, P3, [xx, yy])\n",
    "                    P_AQC2 = heron(P1, [xx, yy], P4)\n",
    "                    P_QBC2 = heron([xx, yy], P3, P4)\n",
    "\n",
    "                    P_Q2 = P_ABQ2 + P_AQC2 + P_QBC2\n",
    "                    \n",
    "                    if not P_ABC1+0.5 < P_Q1:\n",
    "                        RGB[yy, xx] = 0\n",
    "                    \n",
    "                    if not P_ABC2+0.5 < P_Q2:\n",
    "                        RGB[yy, xx] = 0\n",
    "                    \n",
    "                except ValueError:\n",
    "                    continue\n",
    "    \n",
    "    return RGB\n",
    "\n",
    "\n",
    "def direction(A, B, C):\n",
    "    return (C[1]-A[1]) * (B[0]-A[0]) > (B[1]-A[1]) * (C[0]-A[0])\n",
    "\n",
    "\n",
    "def intersect(A, B, C, D):\n",
    "    # A<->B, C<->D\n",
    "    return direction(A, C, D) != direction(B, C, D) and direction(A, B, C) != direction(A, B, D)\n",
    "\n",
    "def plotted(data, filename, show=True):\n",
    "    assert isinstance(filename, str)\n",
    "    \n",
    "    if data is 0:\n",
    "        return None\n",
    "    \n",
    "    plt.imshow(data, interpolation='none')\n",
    "    plt.imsave(filename, data, format='png')\n",
    "\n",
    "    if show:\n",
    "        plt.show()\n"
   ]
  },
  {
   "cell_type": "code",
   "execution_count": 5,
   "metadata": {},
   "outputs": [
    {
     "data": {
      "image/png": "[encoded data removed]",
      "text/plain": [
       "<Figure size 432x288 with 1 Axes>"
      ]
     },
     "metadata": {},
     "output_type": "display_data"
    }
   ],
   "source": [
    "data1 = quadrilateral(400, 250, [1, 50], [160, 110], [100, 190], [50, 200], 1)\n",
    "plotted(data1, 'proba1.png')"
   ]
  },
  {
   "cell_type": "code",
   "execution_count": 6,
   "metadata": {},
   "outputs": [
    {
     "data": {
      "image/png": "[encoded data removed]",
      "text/plain": [
       "<Figure size 432x288 with 1 Axes>"
      ]
     },
     "metadata": {},
     "output_type": "display_data"
    }
   ],
   "source": [
    "data2 = quadrilateral(300, 300, [40, 120], [100, 100], [100, 200], [40, 200], 0)\n",
    "plotted(data2, 'proba2.png')"
   ]
  },
  {
   "cell_type": "code",
   "execution_count": 7,
   "metadata": {},
   "outputs": [
    {
     "data": {
      "image/png": "[encoded data removed]",
      "text/plain": [
       "<Figure size 432x288 with 1 Axes>"
      ]
     },
     "metadata": {},
     "output_type": "display_data"
    }
   ],
   "source": [
    "data3 = quadrilateral(100, 100, [20, 20], [80, 20], [80, 60], [20, 40], 1)\n",
    "plotted(data3, 'proba3.png')"
   ]
  },
  {
   "cell_type": "code",
   "execution_count": 8,
   "metadata": {},
   "outputs": [
    {
     "data": {
      "image/png": "[encoded data removed]",
      "text/plain": [
       "<Figure size 432x288 with 1 Axes>"
      ]
     },
     "metadata": {},
     "output_type": "display_data"
    }
   ],
   "source": [
    "data4 = quadrilateral(250, 250, [50, 100], [100, 100], [100, 200], [50, 200], 1)\n",
    "plotted(data4, 'proba4.png')"
   ]
  },
  {
   "cell_type": "code",
   "execution_count": 9,
   "metadata": {},
   "outputs": [
    {
     "name": "stdout",
     "output_type": "stream",
     "text": [
      "0\n"
     ]
    }
   ],
   "source": [
    "kokarda = quadrilateral(300, 300, [40, 120], [110, 220], [90, 100], [30, 200], 0)\n",
    "plotted(kokarda, 'kokarda.png')\n",
    "print(kokarda)"
   ]
  },
  {
   "cell_type": "code",
   "execution_count": 10,
   "metadata": {},
   "outputs": [
    {
     "name": "stdout",
     "output_type": "stream",
     "text": [
      "0\n"
     ]
    }
   ],
   "source": [
    "klepsydra = quadrilateral(200, 200, [50, 50], [140, 80], [50, 100], [120, 40], 0)\n",
    "plotted(klepsydra, 'klepsydra.png')\n",
    "print(klepsydra)"
   ]
  },
  {
   "cell_type": "code",
   "execution_count": 11,
   "metadata": {},
   "outputs": [
    {
     "data": {
      "image/png": "[encoded data removed]",
      "text/plain": [
       "<Figure size 432x288 with 1 Axes>"
      ]
     },
     "metadata": {},
     "output_type": "display_data"
    }
   ],
   "source": [
    "falsepositive_dla_a = quadrilateral(100, 100, [20, 30], [60, 60], [62, 58], [22, 28], 1)\n",
    "plotted(falsepositive_dla_a, 'a.png')"
   ]
  },
  {
   "cell_type": "code",
   "execution_count": 12,
   "metadata": {},
   "outputs": [
    {
     "data": {
      "image/png": "[encoded data removed]",
      "text/plain": [
       "<Figure size 432x288 with 1 Axes>"
      ]
     },
     "metadata": {},
     "output_type": "display_data"
    }
   ],
   "source": [
    "nowy = quadrilateral(200, 200, (36, 44), (46, 194), (53, 187), (43, 37), 1)\n",
    "plotted(nowy, 'nowy.png')"
   ]
  },
  {
   "cell_type": "code",
   "execution_count": 15,
   "metadata": {},
   "outputs": [
    {
     "data": {
      "image/png": "[encoded data removed]",
      "text/plain": [
       "<Figure size 432x288 with 1 Axes>"
      ]
     },
     "metadata": {},
     "output_type": "display_data"
    }
   ],
   "source": [
    "nowy2 = quadrilateral(50, 50, (1, 3), (9, 6), (9, 4), (1, 1), 1)\n",
    "plotted(nowy, 'nowy.png')"
   ]
  },
  {
   "cell_type": "code",
   "execution_count": null,
   "metadata": {},
   "outputs": [],
   "source": []
  }
 ],
 "metadata": {
  "kernelspec": {
   "display_name": "Python 3",
   "language": "python",
   "name": "python3"
  },
  "language_info": {
   "codemirror_mode": {
    "name": "ipython",
    "version": 3
   },
   "file_extension": ".py",
   "mimetype": "text/x-python",
   "name": "python",
   "nbconvert_exporter": "python",
   "pygments_lexer": "ipython3",
   "version": "3.6.7"
  }
 },
 "nbformat": 4,
 "nbformat_minor": 2
}
