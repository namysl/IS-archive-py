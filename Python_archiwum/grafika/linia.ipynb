{
 "cells": [
  {
   "cell_type": "code",
   "execution_count": 1,
   "metadata": {},
   "outputs": [],
   "source": [
    "import numpy as np\n",
    "import matplotlib.pyplot as plt\n",
    "import math\n",
    "import time\n",
    "import random"
   ]
  },
  {
   "cell_type": "code",
   "execution_count": 2,
   "metadata": {},
   "outputs": [],
   "source": [
    "def plotted(data, filename, show=True):\n",
    "    assert isinstance(filename, str)\n",
    "    \n",
    "    plt.imshow(data, interpolation='none')\n",
    "    plt.imsave(filename, data, format='png')\n",
    "\n",
    "    if show:\n",
    "        plt.show()"
   ]
  },
  {
   "cell_type": "code",
   "execution_count": 3,
   "metadata": {},
   "outputs": [],
   "source": [
    "def lineS(x1, y1, x2, y2, RGB):\n",
    "    if (x1 == x2 and y1 == y2):\n",
    "        RGB[x1, y1] = 0\n",
    "        return RGB\n",
    "    if abs(x2 - x1) > abs(y2 - x1):\n",
    "        if x2 < x1:\n",
    "            x1, x2 = x2, x1\n",
    "            y1, y2 = y2, y1\n",
    "        a = (y2 - y1)/(x2-x1)\n",
    "        for x in range(x1, x2+1):\n",
    "            y = y1 + a*(x-x1)\n",
    "            RGB[int(y), x] = 0\n",
    "    else:   \n",
    "        if y2 < y1:\n",
    "            x1, x2 = x2, x1\n",
    "            y1, y2 = y2, y1\n",
    "        a = (x2 - x1)/(y2-y1)\n",
    "        for y in range(y1, y2+1):\n",
    "            x = x1 + a*(y-y1)\n",
    "            RGB[y, int(x)] = 0\n",
    "    return RGB"
   ]
  },
  {
   "cell_type": "code",
   "execution_count": 4,
   "metadata": {},
   "outputs": [],
   "source": [
    "def linePZ(P1, P2, d, RGB):\n",
    "    assert isinstance(d, int)\n",
    "    assert d > 0\n",
    "    assert isinstance(P1, (list, tuple))\n",
    "    assert isinstance(P2, (list, tuple))\n",
    "    assert P1[0] > 0 and P1[0] < RGB.shape[1]\n",
    "    assert P1[1] > 0 and P1[1] < RGB.shape[0]\n",
    "    assert P2[0] > 0 and P2[0] < RGB.shape[1]\n",
    "    assert P2[1] > 0 and P2[1] < RGB.shape[0]\n",
    "    \n",
    "    if d == 1:\n",
    "        lineS(P1[0], P1[1], P2[0], P2[1], RGB)\n",
    "    \n",
    "    elif d == 2:\n",
    "        d = d-1\n",
    "        a = linear_value_of_a(P1, P2)\n",
    "        check_a_and_draw(a, d, P1, P2, RGB)\n",
    "    \n",
    "    else:\n",
    "        a = linear_value_of_a(P1, P2)\n",
    "        d_copy = d-1\n",
    "        check_a_and_draw(a, d_copy, P1, P2, RGB)\n",
    "        \n",
    "    return RGB\n",
    "\n",
    "\n",
    "def heron(a, b, c):\n",
    "    # recycling z wielokatu\n",
    "    aa = math.sqrt((b[0] - a[0])**2 + (b[1] - a[1])**2)\n",
    "    bb = math.sqrt((c[0] - b[0])**2 + (c[1] - b[1])**2)\n",
    "    cc = math.sqrt((a[0] - c[0])**2 + (a[1] - c[1])**2)\n",
    "    \n",
    "    p = (aa + bb + cc)/2\n",
    "    P = math.sqrt(p * (p-aa) * (p-bb) * (p-cc))\n",
    "    \n",
    "    return P\n",
    "\n",
    "\n",
    "def fill_it(P1, P2, P3, P4, RGB, m, n):\n",
    "    # recycling z wielokatu\n",
    "    for xx in range(m):\n",
    "            for yy in range(n):\n",
    "                try:\n",
    "                    P_ABC1 = heron(P1, P2, P3)\n",
    "                    P_ABQ1 = heron(P1, P2, [xx, yy])\n",
    "                    P_AQC1 = heron(P1, [xx, yy], P3)\n",
    "                    P_QBC1 = heron([xx, yy], P2, P3)\n",
    "\n",
    "                    P_Q1 = P_ABQ1 + P_AQC1 + P_QBC1\n",
    "\n",
    "                    P_ABC2 = heron(P1, P3, P4)\n",
    "                    P_ABQ2 = heron(P1, P3, [xx, yy])\n",
    "                    P_AQC2 = heron(P1, [xx, yy], P4)\n",
    "                    P_QBC2 = heron([xx, yy], P3, P4)\n",
    "\n",
    "                    P_Q2 = P_ABQ2 + P_AQC2 + P_QBC2\n",
    "                    \n",
    "                    if not P_ABC1+0.5 < P_Q1:\n",
    "                        RGB[yy, xx] = 0\n",
    "                    \n",
    "                    if not P_ABC2+0.5 < P_Q2:\n",
    "                        RGB[yy, xx] = 0\n",
    "                    \n",
    "                except ValueError:\n",
    "                    continue\n",
    "        \n",
    "    return RGB\n",
    "\n",
    "\n",
    "def linear_value_of_a(Pa, Pb):\n",
    "    try:\n",
    "        a = (Pb[1] - Pa[1]) / (Pb[0] - Pa[0])\n",
    "    except ZeroDivisionError:\n",
    "        a = 1\n",
    "        \n",
    "    return np.sign(a)\n",
    "\n",
    "\n",
    "def check_a_and_draw(a, d, P1, P2, RGB):\n",
    "    print(a)\n",
    "    m = np.shape(RGB)[1]\n",
    "    n = np.shape(RGB)[0]\n",
    "    if a == 0:\n",
    "        # pozioma\n",
    "        A = P1[0], P1[1]\n",
    "        B = P2[0], P2[1]\n",
    "        C = P2[0], P2[1]-d\n",
    "        D = P1[0], P1[1]-d\n",
    "\n",
    "        # przekatna na wszelki wypadek\n",
    "        lineS(A[0], A[1], C[0], C[1], RGB)\n",
    "        # wypelnienie\n",
    "        RGB = fill_it(A, B, C, D, RGB, m, n)\n",
    "\n",
    "    elif a == 1:\n",
    "        if P1[0] == P2[0]:\n",
    "            # pionowa\n",
    "            A = P1[0], P1[1]\n",
    "            B = P1[0]+d, P1[1]\n",
    "            C = P2[0]+d, P2[1]\n",
    "            D = P2[0], P2[1]\n",
    "\n",
    "            # przekatna\n",
    "            lineS(A[0], A[1], C[0], C[1], RGB)\n",
    "            # wypelnienie\n",
    "            RGB = fill_it(A, B, C, D, RGB, m, n)\n",
    "\n",
    "        else:\n",
    "            # rosnaca\n",
    "            A = P1[0], P1[1]\n",
    "            B = P2[0], P2[1]\n",
    "            C = P2[0]+d, P2[1]-d\n",
    "            D = P1[0]+d, P1[1]-d\n",
    "\n",
    "            # wypelnienie\n",
    "            RGB = fill_it(A, B, C, D, RGB, m, n)\n",
    "\n",
    "    else:  # a = -1\n",
    "        # malejaca\n",
    "        A = P1[0], P1[1]\n",
    "        B = P2[0], P2[1]\n",
    "        C = P2[0]-d, P2[1]-d\n",
    "        D = P1[0]-d, P1[1]-d    \n",
    "\n",
    "        # wypelnienie\n",
    "        RGB = fill_it(A, B, C, D, RGB, m, n)\n",
    "        \n",
    "    return RGB"
   ]
  },
  {
   "cell_type": "code",
   "execution_count": 5,
   "metadata": {},
   "outputs": [],
   "source": [
    "width = 9"
   ]
  },
  {
   "cell_type": "code",
   "execution_count": 6,
   "metadata": {},
   "outputs": [
    {
     "name": "stdout",
     "output_type": "stream",
     "text": [
      "1.0\n"
     ]
    },
    {
     "data": {
      "image/png": "[encoded data removed]",
      "text/plain": [
       "<Figure size 432x288 with 1 Axes>"
      ]
     },
     "metadata": {},
     "output_type": "display_data"
    }
   ],
   "source": [
    "RGB=np.zeros((200, 200, 3), dtype = np.uint8)\n",
    "RGB[:,:] = 255\n",
    "\n",
    "data1 = linePZ([35, 25], [150, 99], width, RGB)\n",
    "plotted(data1, 'datax1.png')"
   ]
  },
  {
   "cell_type": "code",
   "execution_count": 7,
   "metadata": {},
   "outputs": [
    {
     "name": "stdout",
     "output_type": "stream",
     "text": [
      "-1.0\n"
     ]
    },
    {
     "data": {
      "image/png": "[encoded data removed]",
      "text/plain": [
       "<Figure size 432x288 with 1 Axes>"
      ]
     },
     "metadata": {},
     "output_type": "display_data"
    }
   ],
   "source": [
    "RGB=np.zeros((200, 200, 3), dtype = np.uint8)\n",
    "RGB[:,:] = 255\n",
    "\n",
    "data2 = linePZ([25, 100], [100, 25], width, RGB)\n",
    "plotted(data2, 'datax2.png')"
   ]
  },
  {
   "cell_type": "code",
   "execution_count": 8,
   "metadata": {},
   "outputs": [
    {
     "name": "stdout",
     "output_type": "stream",
     "text": [
      "0.0\n"
     ]
    },
    {
     "data": {
      "image/png": "[encoded data removed]",
      "text/plain": [
       "<Figure size 432x288 with 1 Axes>"
      ]
     },
     "metadata": {},
     "output_type": "display_data"
    }
   ],
   "source": [
    "RGB=np.zeros((200, 200, 3), dtype = np.uint8)\n",
    "RGB[:,:] = 255\n",
    "\n",
    "data3 = linePZ([20, 20], [99, 20], width, RGB)\n",
    "plotted(data3, 'datax3.png')"
   ]
  },
  {
   "cell_type": "code",
   "execution_count": 9,
   "metadata": {},
   "outputs": [
    {
     "name": "stdout",
     "output_type": "stream",
     "text": [
      "1\n"
     ]
    },
    {
     "data": {
      "image/png": "[encoded data removed]",
      "text/plain": [
       "<Figure size 432x288 with 1 Axes>"
      ]
     },
     "metadata": {},
     "output_type": "display_data"
    }
   ],
   "source": [
    "RGB=np.zeros((200, 200, 3), dtype = np.uint8)\n",
    "RGB[:,:] = 255\n",
    "\n",
    "data4 = linePZ([20, 40], [20, 80], width, RGB)\n",
    "plotted(data4, 'datax4.png')"
   ]
  },
  {
   "cell_type": "code",
   "execution_count": 10,
   "metadata": {},
   "outputs": [
    {
     "name": "stdout",
     "output_type": "stream",
     "text": [
      "1.0\n"
     ]
    },
    {
     "data": {
      "image/png": "[encoded data removed]",
      "text/plain": [
       "<Figure size 432x288 with 1 Axes>"
      ]
     },
     "metadata": {},
     "output_type": "display_data"
    }
   ],
   "source": [
    "RGB=np.zeros((200, 200, 3), dtype = np.uint8)\n",
    "RGB[:,:] = 255\n",
    "\n",
    "data5 = linePZ([1, 40], [50, 190], width, RGB)\n",
    "plotted(data5, 'datax5.png')"
   ]
  },
  {
   "cell_type": "code",
   "execution_count": 11,
   "metadata": {},
   "outputs": [
    {
     "name": "stdout",
     "output_type": "stream",
     "text": [
      "1.0\n"
     ]
    },
    {
     "data": {
      "image/png": "[encoded data removed]",
      "text/plain": [
       "<Figure size 432x288 with 1 Axes>"
      ]
     },
     "metadata": {},
     "output_type": "display_data"
    }
   ],
   "source": [
    "RGB=np.zeros((200, 200, 3), dtype = np.uint8)\n",
    "RGB[:,:] = 255\n",
    "\n",
    "data6 = linePZ([25, 185], [199, 199], width, RGB)\n",
    "plotted(data6, 'datax6.png')"
   ]
  },
  {
   "cell_type": "code",
   "execution_count": 12,
   "metadata": {},
   "outputs": [],
   "source": [
    "# Antialiasing"
   ]
  },
  {
   "cell_type": "code",
   "execution_count": 13,
   "metadata": {},
   "outputs": [],
   "source": [
    "def _fpart(x):\n",
    "    return x - int(x)\n",
    "\n",
    " \n",
    "def _rfpart(x):\n",
    "    return 1.0 - _fpart(x)\n",
    "\n",
    " \n",
    "def _round(x):\n",
    "    return int(np.floor(x+0.5))\n",
    "\n",
    "\n",
    "def putpixel(data, x, y, color, alpha=1.0):\n",
    "    x = int(x)\n",
    "    y = int(y)\n",
    "    bg = data[y][x]\n",
    "    \n",
    "    if(alpha>1.0):\n",
    "        alpha=1.\n",
    "\n",
    "    color2 = [0.0, 0.0, 0.0]\n",
    "    color2[0] = alpha * color[0] + (1.0 - alpha) * bg[0]\n",
    "    color2[1] = alpha * color[1] + (1.0 - alpha) * bg[1]\n",
    "    color2[2] = alpha * color[2] + (1.0 - alpha) * bg[2]\n",
    "    data[x, y] = color2\n",
    "    \n",
    "    return data\n",
    "\n",
    "\n",
    "def lineXW(x1, y1, x2, y2, RGB, line=[0, 0, 0]):\n",
    "    dx, dy = x2-x1, y2-y1\n",
    "    steep = abs(dx) < abs(dy)\n",
    "    \n",
    "    if steep:\n",
    "        x1, y1, x2, y2 = y1, x1, y2, x2\n",
    "    if x2 < x1:\n",
    "        x1, x2, y1, y2 = x2, x1, y2, y1\n",
    "    \n",
    "    dx, dy = x2-x1, y2-y1\n",
    "    gradient = dy/dx\n",
    "    intery = y1 + _rfpart(x1) * gradient\n",
    "    \n",
    "    xend = _round(x1)\n",
    "    yend = y1 + gradient * (xend - x1)\n",
    "    \n",
    "    xgap = _rfpart(x1 + 0.5)\n",
    "    xpxl1 = xend \n",
    "    ypxl1 = int(np.floor(yend))\n",
    "    \n",
    "    if steep:\n",
    "        RGB = putpixel(RGB, xpxl1, ypxl1, line, _rfpart(yend) * xgap)\n",
    "        RGB = putpixel(RGB, xpxl1, ypxl1+1, line, _fpart(yend) * xgap)\n",
    "        \n",
    "        intery = yend + gradient\n",
    "        xend = _round(x2)\n",
    "        yend = y2 + gradient * (xend - x2)\n",
    "        xgap = _fpart(x2 + 0.5)\n",
    "        xpxl2 = xend \n",
    "        ypxl2 = int(np.floor(yend))\n",
    "        \n",
    "        RGB = putpixel(RGB, xpxl2, ypxl2, line, _rfpart(yend) * xgap)\n",
    "        RGB = putpixel(RGB, xpxl2, ypxl2+1, line, _fpart(yend) * xgap)\n",
    "        \n",
    "        for x in range(xpxl1 + 1, xpxl2):\n",
    "            RGB = putpixel(RGB, x, int(np.floor(intery)), line, _rfpart(intery) * xgap)\n",
    "            RGB = putpixel(RGB, x, int(np.floor(intery))+1, line, _fpart(intery) * xgap)\n",
    "            intery = intery + gradient\n",
    "        \n",
    "    else:\n",
    "        RGB = putpixel(RGB, ypxl1, xpxl1, line, _rfpart(yend) * xgap)\n",
    "        RGB = putpixel(RGB, ypxl1+1, xpxl1, line, _fpart(yend) * xgap)\n",
    "        \n",
    "        intery = yend + gradient\n",
    "        xend = _round(x2)\n",
    "        yend = y2 + gradient * (xend - x2)\n",
    "        xgap = _fpart(x2 + 0.5)\n",
    "        xpxl2 = xend \n",
    "        ypxl2 = int(np.floor(yend))\n",
    "        \n",
    "        RGB = putpixel(RGB, ypxl2, xpxl2, line, _rfpart(yend) * xgap)\n",
    "        RGB = putpixel(RGB, ypxl2+1, xpxl2, line, _fpart(yend) * xgap)\n",
    "        \n",
    "        for x in range (xpxl1 + 1, xpxl2):\n",
    "            RGB = putpixel(RGB, int(np.floor(intery)), x, line, _rfpart(intery) * xgap)\n",
    "            RGB = putpixel(RGB, int(np.floor(intery))+1, x, line, _fpart(intery) * xgap)\n",
    "\n",
    "            intery = intery + gradient\n",
    "    \n",
    "    return RGB"
   ]
  },
  {
   "cell_type": "code",
   "execution_count": 14,
   "metadata": {},
   "outputs": [],
   "source": [
    "def linePZA(P1, P2, d, RGB):\n",
    "    assert isinstance(d, int)\n",
    "    assert d > 0\n",
    "    assert isinstance(P1, (list, tuple))\n",
    "    assert isinstance(P2, (list, tuple))\n",
    "    assert P1[0] > 0 and P1[0] < RGB.shape[1]\n",
    "    assert P1[1] > 0 and P1[1] < RGB.shape[0]\n",
    "    assert P2[0] > 0 and P2[0] < RGB.shape[1]\n",
    "    assert P2[1] > 0 and P2[1] < RGB.shape[0]\n",
    "    \n",
    "    if d == 1:\n",
    "        lineXW(P1[0], P1[1], P2[0], P2[1], RGB)\n",
    "    \n",
    "    elif d == 2:\n",
    "        d = d-1\n",
    "        a = linear_value_of_a(P1, P2)\n",
    "        check_a_and_draw2(a, d, P1, P2, RGB)\n",
    "\n",
    "    else:\n",
    "        a = linear_value_of_a(P1, P2)\n",
    "        d_copy = d-1\n",
    "        check_a_and_draw2(a, d_copy, P1, P2, RGB)\n",
    "        \n",
    "    return RGB"
   ]
  },
  {
   "cell_type": "code",
   "execution_count": 15,
   "metadata": {},
   "outputs": [],
   "source": [
    "def xw(A, B, C, D, RGB):\n",
    "    A = check(A, RGB)\n",
    "    B = check(B, RGB)\n",
    "    C = check(C, RGB)\n",
    "    D = check(D, RGB)\n",
    "\n",
    "    RGB = lineXW(A[0], A[1], B[0], B[1], RGB)\n",
    "    RGB = lineXW(B[0], B[1], C[0], C[1], RGB)\n",
    "    RGB = lineXW(C[0], C[1], D[0], D[1], RGB)\n",
    "    RGB = lineXW(D[0], D[1], A[0], A[1], RGB)\n",
    "    \n",
    "    return RGB\n",
    "\n",
    "\n",
    "def check(pair, RGB):\n",
    "    if pair[0] > RGB.shape[1]-3:\n",
    "        pair[0] = RGB.shape[1] - 2\n",
    "    \n",
    "    if pair[1] > RGB.shape[0]-3:\n",
    "        pair[1] = RGB.shape[0] - 2\n",
    "\n",
    "    return pair\n",
    "\n",
    "\n",
    "def check_a_and_draw2(a, d, P1, P2, RGB):\n",
    "    # recycling z LinePZ\n",
    "    m = np.shape(RGB)[1]\n",
    "    n = np.shape(RGB)[0]\n",
    "    \n",
    "    if a == 0:\n",
    "        # pozioma\n",
    "        A = P1[0], P1[1]\n",
    "        B = P2[0], P2[1]\n",
    "        C = P2[0], P2[1]-d\n",
    "        D = P1[0], P1[1]-d\n",
    "\n",
    "        # przekatna na wszelki wypadek\n",
    "        lineS(A[0], A[1], C[0], C[1], RGB)\n",
    "        # wypelnienie\n",
    "        RGB = fill_it(A, B, C, D, RGB, m, n)\n",
    "\n",
    "    elif a == 1:\n",
    "        if P1[0] == P2[0]:\n",
    "            # pionowa\n",
    "            A = P1[0], P1[1]\n",
    "            B = P1[0]+d, P1[1]\n",
    "            C = P2[0]+d, P2[1]\n",
    "            D = P2[0], P2[1]\n",
    "\n",
    "            # przekatna\n",
    "            lineS(A[0], A[1], C[0], C[1], RGB)\n",
    "            # wypelnienie\n",
    "            RGB = fill_it(A, B, C, D, RGB, m, n)\n",
    "\n",
    "        else:\n",
    "            # rosnaca\n",
    "            A = [P1[0], P1[1]]\n",
    "            B = [P2[0], P2[1]]\n",
    "            C = [P2[0]+d, P2[1]-d]\n",
    "            D = [P1[0]+d, P1[1]-d]\n",
    "\n",
    "            # krawedzie\n",
    "            RGB = xw(A, B, C, D, RGB)\n",
    "            # wypelnienie\n",
    "            RGB = fill_it(A, B, C, D, RGB, m, n)\n",
    "\n",
    "    else:  # a = -1\n",
    "        # malejaca\n",
    "        A = [P1[0], P1[1]]\n",
    "        B = [P2[0], P2[1]]\n",
    "        C = [P2[0]-d, P2[1]-d]\n",
    "        D = [P1[0]-d, P1[1]-d]\n",
    "\n",
    "        # krawedzie\n",
    "        RGB = xw(A, B, C, D, RGB)\n",
    "        # wypelnienie\n",
    "        RGB = fill_it(A, B, C, D, RGB, m, n)\n",
    "        \n",
    "    return RGB"
   ]
  },
  {
   "cell_type": "code",
   "execution_count": 16,
   "metadata": {},
   "outputs": [
    {
     "data": {
      "image/png": "[encoded data removed]",
      "text/plain": [
       "<Figure size 432x288 with 1 Axes>"
      ]
     },
     "metadata": {},
     "output_type": "display_data"
    }
   ],
   "source": [
    "RGB=np.zeros((200, 200, 3), dtype = np.uint8)\n",
    "RGB[:,:] = 255\n",
    "\n",
    "data1a = linePZA([35, 25], [150, 99], width, RGB)\n",
    "plotted(data1a, 'datax1a.png')"
   ]
  },
  {
   "cell_type": "code",
   "execution_count": 17,
   "metadata": {},
   "outputs": [
    {
     "data": {
      "image/png": "[encoded data removed]",
      "text/plain": [
       "<Figure size 432x288 with 1 Axes>"
      ]
     },
     "metadata": {},
     "output_type": "display_data"
    }
   ],
   "source": [
    "RGB=np.zeros((200, 200, 3), dtype = np.uint8)\n",
    "RGB[:,:] = 255\n",
    "\n",
    "data2a = linePZA([25, 100], [100, 25], width, RGB)\n",
    "plotted(data2a, 'datax2a.png')"
   ]
  },
  {
   "cell_type": "code",
   "execution_count": 18,
   "metadata": {},
   "outputs": [
    {
     "data": {
      "image/png": "[encoded data removed]",
      "text/plain": [
       "<Figure size 432x288 with 1 Axes>"
      ]
     },
     "metadata": {},
     "output_type": "display_data"
    }
   ],
   "source": [
    "RGB=np.zeros((200, 200, 3), dtype = np.uint8)\n",
    "RGB[:,:] = 255\n",
    "\n",
    "data5a = linePZA([15, 60], [50, 190], width, RGB)\n",
    "plotted(data5a, 'datax5a.png')"
   ]
  },
  {
   "cell_type": "code",
   "execution_count": 19,
   "metadata": {},
   "outputs": [
    {
     "name": "stdout",
     "output_type": "stream",
     "text": [
      "d = 1 wynik: 0.001885056495666504\n",
      "d = 2 wynik: 0.73022962808609\n",
      "d = 3 wynik: 0.7295762658119201\n",
      "d = 4 wynik: 0.7263092279434205\n",
      "d = 5 wynik: 0.7242486834526062\n",
      "d = 6 wynik: 0.7246821761131287\n",
      "d = 7 wynik: 0.7302393674850464\n",
      "d = 8 wynik: 0.7332929372787476\n",
      "d = 9 wynik: 0.730848228931427\n",
      "d = 10 wynik: 0.7294721484184266\n"
     ]
    }
   ],
   "source": [
    "# porownanie dla d = [1, 10]\n",
    "\n",
    "wyniki = []\n",
    "\n",
    "for d in range(1, 11):\n",
    "    wyniki_proba = []\n",
    "    for proba in range(20):\n",
    "        RGB=np.zeros((200, 200, 3), dtype = np.uint8)\n",
    "        RGB[:,:] = 255\n",
    "\n",
    "        P1 = random.randint(10, 190), random.randint(10, 190)\n",
    "        P2 = random.randint(10, 190), random.randint(10, 190)\n",
    "    \n",
    "        try:\n",
    "            start = time.time()\n",
    "            linePZA(P1, P2, d, RGB)\n",
    "            end = time.time()\n",
    "            wynik = end - start\n",
    "            \n",
    "            #print('d:', d, 'proba:', proba+1, 'wynik:', wynik)\n",
    "            wyniki_proba.append(wynik)\n",
    "        except ZeroDivisionError:\n",
    "            continue\n",
    "    \n",
    "    wyniki.append(np.mean(wyniki_proba))\n",
    "\n",
    "for d in range(10):\n",
    "    print('d =', d+1, 'wynik:', wyniki[d])"
   ]
  },
  {
   "cell_type": "code",
   "execution_count": null,
   "metadata": {},
   "outputs": [],
   "source": []
  },
  {
   "cell_type": "code",
   "execution_count": null,
   "metadata": {},
   "outputs": [],
   "source": []
  }
 ],
 "metadata": {
  "kernelspec": {
   "display_name": "Python 3",
   "language": "python",
   "name": "python3"
  },
  "language_info": {
   "codemirror_mode": {
    "name": "ipython",
    "version": 3
   },
   "file_extension": ".py",
   "mimetype": "text/x-python",
   "name": "python",
   "nbconvert_exporter": "python",
   "pygments_lexer": "ipython3",
   "version": "3.6.7"
  }
 },
 "nbformat": 4,
 "nbformat_minor": 2
}
